{
 "cells": [
  {
   "cell_type": "code",
   "execution_count": 1,
   "metadata": {
    "collapsed": false
   },
   "outputs": [],
   "source": [
    "# Useful starting lines\n",
    "%matplotlib inline\n",
    "import numpy as np\n",
    "import matplotlib.pyplot as plt\n",
    "%load_ext autoreload\n",
    "%autoreload 2"
   ]
  },
  {
   "cell_type": "markdown",
   "metadata": {},
   "source": [
    "## Load the training data into feature matrix, class labels, and event ids:"
   ]
  },
  {
   "cell_type": "code",
   "execution_count": 25,
   "metadata": {
    "collapsed": false
   },
   "outputs": [],
   "source": [
    "from proj1_helpers import *\n",
    "DATA_TRAIN_PATH = '../data/train.csv'\n",
    "y, tX, ids = load_csv_data(DATA_TRAIN_PATH)"
   ]
  },
  {
   "cell_type": "markdown",
   "metadata": {},
   "source": [
    "## Standardize training data"
   ]
  },
  {
   "cell_type": "code",
   "execution_count": 28,
   "metadata": {
    "collapsed": false
   },
   "outputs": [],
   "source": [
    "from helpers import *\n",
    "\n",
    "tX_norm, mean_, std_ = standardize(tX)"
   ]
  },
  {
   "cell_type": "markdown",
   "metadata": {},
   "source": [
    "## Implementation of ML methods"
   ]
  },
  {
   "cell_type": "markdown",
   "metadata": {},
   "source": [
    "### Linear regression - gradient descent"
   ]
  },
  {
   "cell_type": "code",
   "execution_count": 29,
   "metadata": {
    "collapsed": true
   },
   "outputs": [],
   "source": [
    "from costs import *\n",
    "\n",
    "def compute_gradient(y, tx, w):\n",
    "    # error\n",
    "    e = y - tx.dot(w)\n",
    "    \n",
    "    # gradient\n",
    "    gradient = - np.mean(np.transpose(tx).dot(e))\n",
    "    \n",
    "    return gradient"
   ]
  },
  {
   "cell_type": "code",
   "execution_count": 23,
   "metadata": {
    "collapsed": true
   },
   "outputs": [],
   "source": [
    "def least_squares_GD(y, tx, gamma, max_iters):    \n",
    "    print(\"least_squares_GD(y, tx, gamma, max_iters):\\n\")\n",
    "\n",
    "    # Define parameters to store w and loss\n",
    "    w_temp = np.random.rand(tx.shape[1],1) # initialization of the weight\n",
    "    ws = [w_temp]\n",
    "    losses = []\n",
    "    \n",
    "    for n_iter in range(max_iters):\n",
    "        # compute gradient and loss\n",
    "        grad = compute_gradient(y, tx, w_temp)\n",
    "        loss = compute_loss(y, tx, w_temp)\n",
    "        \n",
    "        # update w by gradient\n",
    "        w_temp = w_temp - gamma*grad\n",
    "        \n",
    "        # store w and loss\n",
    "        ws.append(np.copy(w_temp))\n",
    "        losses.append(loss)\n",
    "\n",
    "    return losses, ws"
   ]
  },
  {
   "cell_type": "markdown",
   "metadata": {},
   "source": [
    "### Linear regression - stochastic gradient descent"
   ]
  },
  {
   "cell_type": "code",
   "execution_count": 6,
   "metadata": {
    "collapsed": true
   },
   "outputs": [],
   "source": [
    "def compute_stoch_gradient(y, tx, w):\n",
    "    B = 35 # size of the batch\n",
    "    sum = 0\n",
    "    for minibatch_y, minibatch_tx in batch_iter(y, tx, B):\n",
    "        sum += compute_gradient(minibatch_y, minibatch_tx, w)\n",
    "\n",
    "    return sum / B"
   ]
  },
  {
   "cell_type": "code",
   "execution_count": 7,
   "metadata": {
    "collapsed": true
   },
   "outputs": [],
   "source": [
    "def least_squares_SGD(y, tx, gamma, max_iters):\n",
    "    print(\"\\n\\n\\nleast_squares_SGD(y, tx, gamma, max_iters):\\n\")\n",
    "    \n",
    "    # Define parameters to store w and loss\n",
    "    w_temp = np.random.rand(tx.shape[1],1) # initialization of the weight\n",
    "    ws = [w_temp]\n",
    "    losses = []\n",
    "\n",
    "    for n_iter in range(max_iters):\n",
    "        # compute gradient and loss\n",
    "        grad = compute_stoch_gradient(y, tx, w_temp)\n",
    "        loss = compute_loss(y, tx, w_temp)\n",
    "\n",
    "        # update w by gradient\n",
    "        w_temp = w_temp - gamma*grad\n",
    "        \n",
    "        # store w and loss\n",
    "        ws.append(np.copy(w_temp))\n",
    "        losses.append(loss)\n",
    "        \n",
    "    return losses, ws"
   ]
  },
  {
   "cell_type": "markdown",
   "metadata": {},
   "source": [
    "### Least squares"
   ]
  },
  {
   "cell_type": "code",
   "execution_count": 8,
   "metadata": {
    "collapsed": true
   },
   "outputs": [],
   "source": [
    "def least_squares(y, tx):\n",
    "    print(\"\\n\\n\\nleast_squares(y, tx):\\n\")\n",
    "\n",
    "    # Compute optimum weight\n",
    "    tx_transpose = np.transpose(tx)\n",
    "    A = tx_transpose.dot(tx)\n",
    "    b = tx_transpose.dot(y)\n",
    "    w_opt = np.linalg.solve(A,b)\n",
    "    \n",
    "    # Compute loss\n",
    "    loss = compute_loss(y, tx, w_opt)\n",
    "        \n",
    "    return loss, w_opt # returns loss, and optimal weights"
   ]
  },
  {
   "cell_type": "markdown",
   "metadata": {},
   "source": [
    "### Ridge regression"
   ]
  },
  {
   "cell_type": "code",
   "execution_count": 9,
   "metadata": {
    "collapsed": true
   },
   "outputs": [],
   "source": [
    "def ridge_regression(y, tx, lambda_):\n",
    "    print(\"\\n\\n\\nridge_regression(y, tx, lambda_):\\n\")\n",
    "    \n",
    "    # Initiation variables\n",
    "    lamb_ = 2*len(y)*lambda_ \n",
    "\n",
    "    # Compute optimum weight\n",
    "    tx_transpose = np.transpose(tx)\n",
    "    A = np.dot(tx_transpose,tx) + lamb_*np.eye(tx.shape[1])\n",
    "    b = tx_transpose.dot(y)\n",
    "    w_opt = np.linalg.solve(A,b)\n",
    "    \n",
    "    # Compute loss\n",
    "    loss = compute_loss(y, tx, w_opt)\n",
    "    \n",
    "    return loss, w_opt # returns mse, and optimal weights"
   ]
  },
  {
   "cell_type": "markdown",
   "metadata": {},
   "source": [
    "### Logistic regression"
   ]
  },
  {
   "cell_type": "code",
   "execution_count": 10,
   "metadata": {
    "collapsed": true
   },
   "outputs": [],
   "source": [
    "def sigmoid(t):\n",
    "    return 1/(1+np.exp(-t))"
   ]
  },
  {
   "cell_type": "code",
   "execution_count": 11,
   "metadata": {
    "collapsed": true
   },
   "outputs": [],
   "source": [
    "def learning_by_gradient_descent(y, tx, w, gamma):\n",
    "    # compute the loss\n",
    "    N = tx.shape[0]\n",
    "    l1 = tx.dot(w) + np.log(np.ones((N,1))+np.exp(-tx.dot(w)))\n",
    "    l2 = y*(tx.dot(w))\n",
    "    loss = np.ones((1,N)).dot(l1-l2)\n",
    "    \n",
    "    # compute the gradient\n",
    "    grad = np.transpose(tx).dot(sigmoid(tx.dot(w))-y)\n",
    "    \n",
    "    # update w\n",
    "    w = w - gamma*grad\n",
    "\n",
    "    return loss, w"
   ]
  },
  {
   "cell_type": "code",
   "execution_count": 18,
   "metadata": {
    "collapsed": false
   },
   "outputs": [],
   "source": [
    "def logistic_regression(y, tx, gamma, max_iters):\n",
    "    print(\"\\n\\n\\nlogistic_regression(y, tx, gamma, max_iters):\\n\")\n",
    "\n",
    "    # init parameters\n",
    "    threshold = 1e-8\n",
    "    ws = np.random.rand(tx.shape[1],1) # initialization of the weight\n",
    "    losses = []\n",
    "\n",
    "    # start the logistic regression\n",
    "    print(\"Start iteration\")\n",
    "    for iter in range(max_iters):\n",
    "        # get loss and update w.\n",
    "        loss, ws = learning_by_gradient_descent(y, tx, ws, gamma)\n",
    "        # log info\n",
    "        if iter % 1000 == 0:\n",
    "            print(\"Current iteration={i}:\\nLoss={l}\\nw={w}\\n\".format(i=iter, l=loss, w=ws))        # converge criteria\n",
    "        losses.append(loss)\n",
    "        if len(losses) > 1 and np.abs(losses[-1] - losses[-2]) < threshold:\n",
    "            break\n",
    "    \n",
    "    return losses, ws"
   ]
  },
  {
   "cell_type": "markdown",
   "metadata": {},
   "source": [
    "### Regularized logistic regression"
   ]
  },
  {
   "cell_type": "code",
   "execution_count": null,
   "metadata": {
    "collapsed": true
   },
   "outputs": [],
   "source": []
  },
  {
   "cell_type": "code",
   "execution_count": null,
   "metadata": {
    "collapsed": true
   },
   "outputs": [],
   "source": []
  },
  {
   "cell_type": "markdown",
   "metadata": {},
   "source": [
    "## Cross-validation"
   ]
  },
  {
   "cell_type": "code",
   "execution_count": 13,
   "metadata": {
    "collapsed": true
   },
   "outputs": [],
   "source": [
    "def build_k_indices(y, k_fold, seed):\n",
    "    \"\"\"build k indices for k-fold.\"\"\"\n",
    "    num_row = len(y)\n",
    "    interval = int(num_row / k_fold)\n",
    "    np.random.seed(seed)\n",
    "    indices = np.random.permutation(num_row)\n",
    "    k_indices = [indices[k * interval: (k + 1) * interval]\n",
    "                 for k in range(k_fold)]\n",
    "    \n",
    "    return np.array(k_indices)\n",
    "\n",
    "\n",
    "def cross_validation(y, x, k_indices, k, lambda_, degree):\n",
    "    \"\"\"return the loss of ridge regression.\"\"\"\n",
    "    # get k'th subgroup in test, others in train:\n",
    "    x_test = x[k_indices[k]]\n",
    "    y_test = y[k_indices[k]]\n",
    "    \n",
    "    tr_indices = np.delete(k_indices, k, axis=0)\n",
    "    x_tr = np.delete(x, k, axis=0)\n",
    "    y_tr = np.delete(y, k, axis=0)\n",
    "    \n",
    "    # form train and test data with polynomial basis function\n",
    "    poly_x_tr = build_poly(x_tr, degree)\n",
    "    poly_x_test = build_poly(x_test, degree)\n",
    "    \n",
    "    # calcualte weight and loss through least square.\n",
    "    loss_tr, weight_tr = ridge_regression(y_tr, poly_x_tr, lambda_)\n",
    "    loss_test, weight_te = ridge_regression(y_test, poly_x_test, lambda_)\n",
    "    \n",
    "    return loss_tr, loss_te, weight_tr, weight_te"
   ]
  },
  {
   "cell_type": "markdown",
   "metadata": {},
   "source": [
    "## Bias-Variance Decomposition"
   ]
  },
  {
   "cell_type": "code",
   "execution_count": null,
   "metadata": {
    "collapsed": true
   },
   "outputs": [],
   "source": []
  },
  {
   "cell_type": "markdown",
   "metadata": {},
   "source": [
    "## Training"
   ]
  },
  {
   "cell_type": "code",
   "execution_count": null,
   "metadata": {
    "collapsed": true
   },
   "outputs": [],
   "source": [
    "# Linear regression - gradient descent\n",
    "max_iters_GD = 20\n",
    "gamma_GD = 0.01\n",
    "loss_GD, w_opt_GD = least_squares_GD(y, tX_norm, gamma_GD, max_iters_GD)\n",
    "#print(\"loss_GD={loss}\\nw_GD={w}\\n\\n\".format(loss=loss_GD, w=w_opt_GD))\n",
    "print(\"loss_GD={loss}\\n\".format(loss=loss_GD))"
   ]
  },
  {
   "cell_type": "code",
   "execution_count": null,
   "metadata": {
    "collapsed": false
   },
   "outputs": [
    {
     "name": "stdout",
     "output_type": "stream",
     "text": [
      "least_squares_GD(y, tx, gamma, max_iters):\n",
      "\n",
      "loss_GD=[0.5, 2934324.4504658584, 993393051101075.88, 3.3630565940215787e+23, 1.1385372227091689e+32, 3.85443114397373e+40, 1.3048883380626845e+49, 4.4176001884847573e+57, 1.4955449333139153e+66, 5.0630535859518226e+74, 1.7140582702130618e+83, 5.8028138628389914e+91, 1.9644984836233621e+100, 6.6506601510570848e+108, 2.2515303938172329e+117, 7.6223848447240705e+125, 2.5805003956697863e+134, 8.7360877569190555e+142, 2.9575360431898649e+151, 1.0012513255535271e+160]\n",
      "\n",
      "\n",
      "\n",
      "\n",
      "least_squares_SGD(y, tx, gamma, max_iters):\n",
      "\n"
     ]
    }
   ],
   "source": [
    "# Linear regression - stochastic gradient descent\n",
    "max_iters_SGD = 20\n",
    "gamma_SGD = 0.01\n",
    "loss_SGD, w_opt_SGD = least_squares_SGD(y, tX_norm, gamma_SGD, max_iters_SGD)\n",
    "#print(\"loss_SGD={loss}\\nw_SGD={w}\\n\".format(loss=loss_SGD, w=w_opt_SGD))\n",
    "print(\"loss_SGD={loss}\\n\".format(loss=loss_SGD))"
   ]
  },
  {
   "cell_type": "code",
   "execution_count": null,
   "metadata": {
    "collapsed": true
   },
   "outputs": [],
   "source": [
    "# Least squares\n",
    "loss_leastSquares, weights_leastSquares = least_squares(y, tX_norm)\n",
    "#print(\"loss_leastSquares={loss}\\nweights_leastSquares={w}\\n\".format(loss=loss_leastSquares, w=weights_leastSquares))\n",
    "print(\"loss_leastSquares={loss}\\n\".format(loss=loss_leastSquares))"
   ]
  },
  {
   "cell_type": "code",
   "execution_count": null,
   "metadata": {
    "collapsed": true
   },
   "outputs": [],
   "source": [
    "# Ridge regression\n",
    "lambda_RR = 2\n",
    "loss_RR, weights_RR = ridge_regression(y, tX_norm, lambda_RR)\n",
    "#print(\"loss_RR={loss}\\weights_RR={w}\\n\".format(loss=loss_ridgeRegression, w=weights_ridgeRegression))\n",
    "print(\"loss_RR={loss}\\n\".format(loss=loss_RR))"
   ]
  },
  {
   "cell_type": "code",
   "execution_count": null,
   "metadata": {
    "collapsed": true
   },
   "outputs": [],
   "source": [
    "\"\"\"# Logistic regression\n",
    "max_iters_LogR = 10\n",
    "gamma_LogR = 0.01\n",
    "loss_LogR, weights_LogR = logistic_regression(y, tX_norm, gamma_LogR, max_iters_LogR)\n",
    "#print(\"loss_LogR={loss}\\weights_LogR={w}\\n\".format(loss=loss_LogR, w=weights_LogR))\n",
    "print(\"loss_LogR={loss}\\n\".format(loss=loss_LogR))\"\"\""
   ]
  },
  {
   "cell_type": "code",
   "execution_count": null,
   "metadata": {
    "collapsed": true
   },
   "outputs": [],
   "source": [
    "# Regularized logistic regression"
   ]
  },
  {
   "cell_type": "markdown",
   "metadata": {},
   "source": [
    "## Generate predictions and save ouput in csv format for submission:"
   ]
  },
  {
   "cell_type": "code",
   "execution_count": null,
   "metadata": {
    "collapsed": false
   },
   "outputs": [],
   "source": [
    "DATA_TEST_PATH = '../data/test.csv' # TODO: download train data and supply path here \n",
    "_, tX_test, ids_test = load_csv_data(DATA_TEST_PATH)"
   ]
  },
  {
   "cell_type": "code",
   "execution_count": null,
   "metadata": {
    "collapsed": false
   },
   "outputs": [],
   "source": [
    "OUTPUT_PATH = '../data/dataSubmission.csv' # TODO: fill in desired name of output file for submission\n",
    "y_pred = predict_labels(weights, tX_test)\n",
    "create_csv_submission(ids_test, y_pred, OUTPUT_PATH)"
   ]
  }
 ],
 "metadata": {
  "anaconda-cloud": {},
  "kernelspec": {
   "display_name": "Python [Root]",
   "language": "python",
   "name": "Python [Root]"
  },
  "language_info": {
   "codemirror_mode": {
    "name": "ipython",
    "version": 3
   },
   "file_extension": ".py",
   "mimetype": "text/x-python",
   "name": "python",
   "nbconvert_exporter": "python",
   "pygments_lexer": "ipython3",
   "version": "3.5.2"
  }
 },
 "nbformat": 4,
 "nbformat_minor": 0
}
