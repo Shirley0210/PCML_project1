{
 "cells": [
  {
   "cell_type": "code",
   "execution_count": 1,
   "metadata": {
    "collapsed": false
   },
   "outputs": [],
   "source": [
    "# Useful starting lines\n",
    "%matplotlib inline\n",
    "import numpy as np\n",
    "import matplotlib.pyplot as plt\n",
    "%load_ext autoreload\n",
    "%autoreload 2"
   ]
  },
  {
   "cell_type": "markdown",
   "metadata": {},
   "source": [
    "# Load the training data into feature matrix, class labels, and event ids:"
   ]
  },
  {
   "cell_type": "code",
   "execution_count": 2,
   "metadata": {
    "collapsed": false
   },
   "outputs": [],
   "source": [
    "from proj1_helpers import *\n",
    "DATA_TRAIN_PATH = '../data/train.csv'\n",
    "y, tX, ids = load_csv_data(DATA_TRAIN_PATH)"
   ]
  },
  {
   "cell_type": "code",
   "execution_count": 3,
   "metadata": {
    "collapsed": false
   },
   "outputs": [
    {
     "data": {
      "text/plain": [
       "(250000, 30)"
      ]
     },
     "execution_count": 3,
     "metadata": {},
     "output_type": "execute_result"
    }
   ],
   "source": [
    "tX.shape"
   ]
  },
  {
   "cell_type": "markdown",
   "metadata": {},
   "source": [
    "## Cleaning data set"
   ]
  },
  {
   "cell_type": "code",
   "execution_count": 4,
   "metadata": {
    "collapsed": false
   },
   "outputs": [],
   "source": [
    "from helpers import *\n",
    "\n",
    "def clean_data(tx):\n",
    "    nbrRows = tx.shape[0]\n",
    "    nbrColunms = tx.shape[1]\n",
    "    tx_temp = np.zeros((nbrRows,nbrColunms))\n",
    "    \n",
    "    for columnID in range(nbrColunms):\n",
    "        currentColumn = tx[:,columnID]\n",
    "\n",
    "        nanIndices = np.where(currentColumn == -999)\n",
    "        tempColumm = np.delete(currentColumn, nanIndices, axis=0)\n",
    "        \n",
    "        # replace -999 values with mean\n",
    "        #mean = np.mean(tempColumm)\n",
    "        #currentColumn[nanIndices] = mean\n",
    "\n",
    "        # replace -999 values with median\n",
    "        median = np.median(tempColumm)\n",
    "        currentColumn[nanIndices] = median\n",
    "        \n",
    "        tx_temp[:,columnID] = currentColumn\n",
    "\n",
    "    tx_cleaned, mean_, std_ = standardize(tx_temp)\n",
    "        \n",
    "    return tx_cleaned"
   ]
  },
  {
   "cell_type": "code",
   "execution_count": 5,
   "metadata": {
    "collapsed": false
   },
   "outputs": [],
   "source": [
    "tX_cleaned = clean_data(tX)"
   ]
  },
  {
   "cell_type": "markdown",
   "metadata": {},
   "source": [
    "## Prediction"
   ]
  },
  {
   "cell_type": "code",
   "execution_count": 6,
   "metadata": {
    "collapsed": true
   },
   "outputs": [],
   "source": [
    "def split_data(y, x, seed=1):\n",
    "    \"\"\"split the dataset based on the split ratio.\"\"\"\n",
    "    # set seed\n",
    "    np.random.seed(seed)\n",
    "    \n",
    "    # set mask\n",
    "    ratio = 0.7\n",
    "    msk = np.random.rand(len(y)) < ratio\n",
    "    \n",
    "    # training data set\n",
    "    x_tr = x[msk]\n",
    "    y_tr = y[msk]\n",
    "    \n",
    "    # test data set\n",
    "    x_test = x[~msk]\n",
    "    y_test = y[~msk]\n",
    "    \n",
    "    return x_tr, x_test, y_tr, y_test"
   ]
  },
  {
   "cell_type": "code",
   "execution_count": 7,
   "metadata": {
    "collapsed": false
   },
   "outputs": [],
   "source": [
    "def prediction(y, tx, gamma, lambda_, max_iters, method):\n",
    "    # split data\n",
    "    x_tr, x_test, y_tr, y_test = split_data(y, tx)\n",
    "    \n",
    "    # training\n",
    "    loss = 0\n",
    "    weights = []\n",
    "    if method == 1:\n",
    "        loss, weights = least_squares_GD(y_tr, x_tr, gamma, max_iters)\n",
    "    elif method == 2:\n",
    "        loss, weights = least_squares_SGD(y_tr, x_tr, gamma, max_iters)\n",
    "    elif method == 3:\n",
    "        loss, weights = least_squares(y_tr, x_tr)\n",
    "    elif method == 4:\n",
    "        loss, weights = ridge_regression(y_tr, x_tr, lambda_)\n",
    "    elif method == 5:\n",
    "        loss, weights = logistic_regression(y_tr, x_tr, gamma, max_iters)\n",
    "    else:\n",
    "        loss, weights = reg_logistic_regression(y_tr, x_tr, lambda_, gamma, max_iters)\n",
    "        \n",
    "    # compute prediction\n",
    "    y_pred = predict_labels(weights, x_test)    \n",
    "    \n",
    "    # accuracy of the prediction\n",
    "    N = y_test.shape[0]\n",
    "    pred = np.sum(y_pred == y_test)/N\n",
    "        \n",
    "    return pred"
   ]
  },
  {
   "cell_type": "markdown",
   "metadata": {},
   "source": [
    "# Implementation of ML methods"
   ]
  },
  {
   "cell_type": "markdown",
   "metadata": {},
   "source": [
    "## Linear regression - gradient descent"
   ]
  },
  {
   "cell_type": "code",
   "execution_count": 8,
   "metadata": {
    "collapsed": true
   },
   "outputs": [],
   "source": [
    "from costs import *\n",
    "\n",
    "def compute_gradient(y, tx, w):\n",
    "    # error\n",
    "    e = y - tx.dot(w)\n",
    "    \n",
    "    # gradient \n",
    "    N=y.shape[0]\n",
    "    gradient = - np.transpose(tx).dot(e)/N\n",
    "    \n",
    "    return gradient"
   ]
  },
  {
   "cell_type": "code",
   "execution_count": 9,
   "metadata": {
    "collapsed": true
   },
   "outputs": [],
   "source": [
    "def least_squares_GD(y, tx, gamma, max_iters):\n",
    "    # Define parameters to store w and loss\n",
    "    w_init = np.zeros(tx.shape[1]) # initialization of the weight\n",
    "    ws = [w_init]\n",
    "    w_temp = w_init\n",
    "    losses = []\n",
    "    \n",
    "    for n_iter in range(max_iters):\n",
    "        # compute gradient and loss\n",
    "        grad = compute_gradient(y, tx, w_temp)\n",
    "        loss = compute_loss(y, tx, w_temp)\n",
    "        \n",
    "        # update w by gradient\n",
    "        w_temp -= gamma*grad\n",
    "        \n",
    "        # store w and loss\n",
    "        ws.append(np.copy(w_temp))\n",
    "        losses.append(loss)\n",
    "\n",
    "    return losses, ws[-1]"
   ]
  },
  {
   "cell_type": "markdown",
   "metadata": {},
   "source": [
    "### Training"
   ]
  },
  {
   "cell_type": "code",
   "execution_count": 10,
   "metadata": {
    "collapsed": false
   },
   "outputs": [
    {
     "name": "stdout",
     "output_type": "stream",
     "text": [
      "\n",
      "weights_GD:\n",
      " [ -3.13111489e-03   2.47634036e-04  -3.29791393e-03  -1.29920711e-04\n",
      "   1.77654650e-03   1.89639194e-03   1.97165872e-03  -1.70751341e-03\n",
      "   1.41399486e-04  -1.60263082e-04   1.40353212e-03  -1.83498821e-03\n",
      "   2.53646192e-03   1.63714600e-03   2.19609861e-03  -9.09083521e-06\n",
      "  -4.16941769e-05  -3.05818690e-04   1.37716246e-05   3.89579620e-05\n",
      "   1.88739443e-04   6.98964757e-05   1.23781974e-03   1.22455469e-03\n",
      "   1.05283667e-03   6.66937883e-07   8.29890589e-06   1.91011203e-04\n",
      "   5.53901786e-06  -3.28339782e-05   1.22353906e-03] \n",
      "\n",
      "pred_GD =  0.698416503523\n"
     ]
    }
   ],
   "source": [
    "max_iters_GD = 100\n",
    "gamma_GD = 1.0e-4\n",
    "method = 1\n",
    "\n",
    "loss_GD, weights_GD = least_squares_GD(y, tX_cleaned, gamma_GD, max_iters_GD)\n",
    "pred_GD = prediction(y, tX_cleaned, gamma_GD, 0, max_iters_GD, method)\n",
    "\n",
    "print(\"\\nweights_GD:\\n\",weights_GD,\"\\n\")\n",
    "print(\"pred_GD = \", pred_GD)"
   ]
  },
  {
   "cell_type": "markdown",
   "metadata": {},
   "source": [
    "## Linear regression - stochastic gradient descent"
   ]
  },
  {
   "cell_type": "code",
   "execution_count": 11,
   "metadata": {
    "collapsed": true
   },
   "outputs": [],
   "source": [
    "def compute_stoch_gradient(y, tx, w):\n",
    "    B = 35 # size of the batch\n",
    "    sum = 0\n",
    "    for minibatch_y, minibatch_tx in batch_iter(y, tx, B):\n",
    "        sum += compute_gradient(minibatch_y, minibatch_tx, w)\n",
    "\n",
    "    return sum / B"
   ]
  },
  {
   "cell_type": "code",
   "execution_count": 12,
   "metadata": {
    "collapsed": true
   },
   "outputs": [],
   "source": [
    "def least_squares_SGD(y, tx, gamma, max_iters):    \n",
    "    # Define parameters to store w and loss\n",
    "    w_init = np.zeros(tx.shape[1]) # initialization of the weight\n",
    "    ws = [w_init]\n",
    "    w_temp = w_init\n",
    "    losses = []\n",
    "\n",
    "    for n_iter in range(max_iters):\n",
    "        # compute gradient and loss\n",
    "        grad = compute_stoch_gradient(y, tx, w_temp)\n",
    "        loss = compute_loss(y, tx, w_temp)\n",
    "\n",
    "        # update w by gradient\n",
    "        w_temp -= gamma*grad\n",
    "        \n",
    "        # store w and loss\n",
    "        ws.append(np.copy(w_temp))\n",
    "        losses.append(loss)\n",
    "        \n",
    "    return losses, ws[-1]"
   ]
  },
  {
   "cell_type": "markdown",
   "metadata": {},
   "source": [
    "### Training"
   ]
  },
  {
   "cell_type": "code",
   "execution_count": 13,
   "metadata": {
    "collapsed": false
   },
   "outputs": [
    {
     "name": "stdout",
     "output_type": "stream",
     "text": [
      "\n",
      "weights_SGD:\n",
      " [ -2.74638145e-01   1.60274052e-03  -1.95033071e-01  -3.37329259e-02\n",
      "   5.45739079e-02   4.78355801e-02   5.10627558e-02  -2.67122450e-02\n",
      "   9.53312660e-02  -3.39904324e-02   2.12236919e-02  -7.98159738e-02\n",
      "   1.18977961e-01   6.47392730e-02   1.14147909e-01  -1.29029434e-03\n",
      "  -2.55569329e-03   3.84243810e-02  -5.05299418e-04   2.57878683e-03\n",
      "   2.50419205e-04   2.34648500e-03  -2.10050744e-03   3.35893033e-03\n",
      "  -1.87064285e-03   1.23228641e-04   5.73741615e-04  -3.18989034e-02\n",
      "   1.28898969e-03  -1.23166355e-03  -9.69651176e-03] \n",
      "\n",
      "pred_SGD =  0.729513764034\n"
     ]
    }
   ],
   "source": [
    "max_iters_SGD = 100\n",
    "gamma_SGD = 1.0e-4\n",
    "method = 2\n",
    "\n",
    "loss_SGD, weights_SGD = least_squares_SGD(y, tX_cleaned, gamma_SGD, max_iters_SGD)\n",
    "print(\"\\nweights_SGD:\\n\",weights_SGD,\"\\n\")\n",
    "\n",
    "pred_SGD = prediction(y, tX_cleaned, gamma_SGD, 0, max_iters_SGD, method)\n",
    "print(\"pred_SGD = \", pred_SGD)"
   ]
  },
  {
   "cell_type": "markdown",
   "metadata": {},
   "source": [
    "## Least squares"
   ]
  },
  {
   "cell_type": "code",
   "execution_count": 14,
   "metadata": {
    "collapsed": true
   },
   "outputs": [],
   "source": [
    "def least_squares(y, tx):\n",
    "    # Compute optimum weight\n",
    "    tx_transpose = np.transpose(tx)\n",
    "    A = tx_transpose.dot(tx)\n",
    "    b = tx_transpose.dot(y)\n",
    "    w_opt = np.linalg.solve(A,b)\n",
    "    \n",
    "    # Compute loss\n",
    "    loss = compute_loss(y, tx, w_opt)\n",
    "        \n",
    "    return loss, w_opt # returns loss, and optimal weights"
   ]
  },
  {
   "cell_type": "markdown",
   "metadata": {},
   "source": [
    "### Training"
   ]
  },
  {
   "cell_type": "code",
   "execution_count": 15,
   "metadata": {
    "collapsed": false
   },
   "outputs": [
    {
     "name": "stdout",
     "output_type": "stream",
     "text": [
      "\n",
      "weights_LeastS:\n",
      " [ -3.14664000e-01   1.22272262e-02  -2.53066586e-01  -2.63456197e-01\n",
      "   1.29243443e-02   1.92805216e-02   1.04114629e-01   7.14391075e-03\n",
      "   2.80223055e-01  -2.77613512e-02  -3.20624220e+02  -1.87675501e-01\n",
      "   1.20153160e-01   7.45926202e-02   6.22887642e+01  -8.00284516e-04\n",
      "  -8.11540969e-04   6.14298446e+01  -6.52146078e-04   2.55788779e-03\n",
      "   1.00389486e-01   9.43326693e-04  -4.78438667e-02   5.46733536e-02\n",
      "  -3.73249556e-02   5.84626551e-04   2.49121190e-04  -1.82119811e-02\n",
      "   1.51617614e-03  -1.61520956e-03   2.71558175e+02] \n",
      "\n",
      "pred_LeastS =  0.746147801883\n"
     ]
    }
   ],
   "source": [
    "method = 3\n",
    "\n",
    "loss_LeastS, weights_LeastS = least_squares(y, tX_cleaned)\n",
    "print(\"\\nweights_LeastS:\\n\",weights_LeastS,\"\\n\")\n",
    "\n",
    "pred_LeastS = prediction(y, tX_cleaned, 0, 0, 0, method)\n",
    "print(\"pred_LeastS = \", pred_LeastS)"
   ]
  },
  {
   "cell_type": "markdown",
   "metadata": {},
   "source": [
    "## Ridge regression"
   ]
  },
  {
   "cell_type": "code",
   "execution_count": 16,
   "metadata": {
    "collapsed": true
   },
   "outputs": [],
   "source": [
    "def ridge_regression(y, tx, lambda_):    \n",
    "    # Initiation variables\n",
    "    lamb_ = 2*len(y)*lambda_\n",
    "    \n",
    "    # Compute optimum weight\n",
    "    tx_transpose = np.transpose(tx)\n",
    "    A = np.dot(tx_transpose,tx) + lamb_*np.eye(tx.shape[1])\n",
    "    b = tx_transpose.dot(y)\n",
    "    w_opt = np.linalg.solve(A,b)\n",
    "    \n",
    "    # Compute loss\n",
    "    loss = compute_loss(y, tx, w_opt)\n",
    "    \n",
    "    return loss, w_opt # returns mse, and optimal weights"
   ]
  },
  {
   "cell_type": "markdown",
   "metadata": {},
   "source": [
    "### Training"
   ]
  },
  {
   "cell_type": "code",
   "execution_count": 28,
   "metadata": {
    "collapsed": false
   },
   "outputs": [
    {
     "name": "stdout",
     "output_type": "stream",
     "text": [
      "\n",
      "weights_RR:\n",
      " [ -6.29328000e-02   3.92207695e-03  -5.57484587e-02  -2.34782240e-03\n",
      "   2.07312588e-02   2.51082306e-02   2.40525833e-02  -2.09190262e-02\n",
      "   1.26030461e-02  -7.87099153e-03   1.27481195e-02  -2.95635675e-02\n",
      "   3.83846442e-02   2.39936008e-02   3.35578838e-02  -2.55836514e-04\n",
      "  -8.13934838e-04  -3.82291506e-03   5.71152754e-05   7.30465092e-04\n",
      "  -2.76716941e-03   1.04514791e-03   9.55063769e-03   1.06616720e-02\n",
      "   7.75571805e-03   1.28865676e-05   1.04631150e-04  -4.52908849e-03\n",
      "   1.87095227e-04  -4.63448317e-04   8.23629627e-03] \n",
      "\n",
      "pred_RR =  0.71382529599\n"
     ]
    }
   ],
   "source": [
    "lambda_RR = 2\n",
    "method = 4\n",
    "\n",
    "loss_RR, weights_RR = ridge_regression(y, tX_cleaned, lambda_RR)\n",
    "print(\"\\nweights_RR:\\n\",weights_RR,\"\\n\")\n",
    "\n",
    "pred_RR = prediction(y, tX_cleaned, 0, lambda_RR, 0, method)\n",
    "print(\"pred_RR = \", pred_RR)"
   ]
  },
  {
   "cell_type": "markdown",
   "metadata": {},
   "source": [
    "## Logistic regression"
   ]
  },
  {
   "cell_type": "code",
   "execution_count": 29,
   "metadata": {
    "collapsed": true
   },
   "outputs": [],
   "source": [
    "def sigmoid(t):\n",
    "    return 1/(1+np.exp(-t))"
   ]
  },
  {
   "cell_type": "code",
   "execution_count": 30,
   "metadata": {
    "collapsed": false
   },
   "outputs": [],
   "source": [
    "def learning_by_gradient_descent(y, tx, w, gamma):\n",
    "    # compute the loss\n",
    "    N = tx.shape[0]\n",
    "    l1 = tx.dot(w) + np.log(np.ones((N))+np.exp(-tx.dot(w)))\n",
    "    l2 = y*(tx.dot(w))\n",
    "    loss = (np.ones((1,N)).dot(l1-l2))[0]\n",
    "    \n",
    "    # compute the gradient\n",
    "    grad = np.transpose(tx).dot(sigmoid(tx.dot(w))-y)\n",
    "    \n",
    "    # update w\n",
    "    w = w - gamma*grad\n",
    "\n",
    "    return loss, w"
   ]
  },
  {
   "cell_type": "code",
   "execution_count": 31,
   "metadata": {
    "collapsed": false
   },
   "outputs": [],
   "source": [
    "def logistic_regression(y, tx, gamma, max_iters):\n",
    "    # init parameters\n",
    "    threshold = 1e-8\n",
    "    w_temp = np.zeros(tx.shape[1]) # initialization of the weight\n",
    "    ws = [w_temp]\n",
    "    losses = [8000]\n",
    "\n",
    "    # start the logistic regression\n",
    "    for iter in range(max_iters):        \n",
    "        # get loss and update w.\n",
    "        loss, w_temp = learning_by_gradient_descent(y, tx, w_temp, gamma)\n",
    "        \n",
    "        # store w and loss\n",
    "        ws.append(np.copy(w_temp))\n",
    "        losses.append(loss)\n",
    "        \n",
    "        # converge criteria\n",
    "        if len(losses) > 1 and np.abs(losses[-1] - losses[-2]) < threshold:\n",
    "            break\n",
    "    \n",
    "    return losses, ws[-1]"
   ]
  },
  {
   "cell_type": "markdown",
   "metadata": {},
   "source": [
    "### Training"
   ]
  },
  {
   "cell_type": "code",
   "execution_count": 34,
   "metadata": {
    "collapsed": false,
    "scrolled": false
   },
   "outputs": [
    {
     "name": "stderr",
     "output_type": "stream",
     "text": [
      "/Users/jeannoel/anaconda/lib/python3.5/site-packages/ipykernel/__main__.py:4: RuntimeWarning: overflow encountered in exp\n",
      "/Users/jeannoel/anaconda/lib/python3.5/site-packages/ipykernel/__main__.py:2: RuntimeWarning: overflow encountered in exp\n",
      "  from ipykernel import kernelapp as app\n",
      "/Users/jeannoel/anaconda/lib/python3.5/site-packages/ipykernel/__main__.py:18: RuntimeWarning: invalid value encountered in double_scalars\n"
     ]
    },
    {
     "name": "stdout",
     "output_type": "stream",
     "text": [
      "\n",
      "weights_LogR:\n",
      " [ -1.13508270e+02   6.50912498e-01  -5.22266414e+01  -3.07049847e+00\n",
      "   1.41374308e+01   8.87152410e+00   9.74793611e+00  -6.88183593e+00\n",
      "   1.85676153e+01  -5.09178200e+00   4.99574484e+00  -2.38045254e+01\n",
      "   3.08866176e+01   1.09625279e+01   1.96436876e+01  -2.22938126e-01\n",
      "  -6.11348279e-01  -3.12927753e+00   5.81765039e-02   3.12223291e-01\n",
      "  -7.51870802e+00   5.69856646e-01   3.28048636e+00   4.10475885e+00\n",
      "   2.00464918e+00   4.55253298e-03   1.15724245e-01  -4.66537008e+00\n",
      "   1.48646888e-01  -2.13247224e-01   2.11017015e+00] \n",
      "\n",
      "pred_LogR =  0.714584415411\n"
     ]
    }
   ],
   "source": [
    "max_iters_LogR = 1000\n",
    "gamma_LogR = 1.0e-6\n",
    "method = 5\n",
    "\n",
    "loss_LogR, weights_LogR = logistic_regression(y, tX_cleaned, gamma_LogR, max_iters_LogR)\n",
    "print(\"\\nweights_LogR:\\n\",weights_LogR,\"\\n\")\n",
    "\n",
    "pred_LogR = prediction(y, tX_cleaned, gamma_LogR, 0, max_iters_LogR, method)\n",
    "print(\"pred_LogR = \", pred_LogR)"
   ]
  },
  {
   "cell_type": "markdown",
   "metadata": {},
   "source": [
    "## Regularized logistic regression"
   ]
  },
  {
   "cell_type": "code",
   "execution_count": null,
   "metadata": {
    "collapsed": true
   },
   "outputs": [],
   "source": [
    "## Regularized logistic regression"
   ]
  },
  {
   "cell_type": "markdown",
   "metadata": {},
   "source": [
    "### Training"
   ]
  },
  {
   "cell_type": "code",
   "execution_count": null,
   "metadata": {
    "collapsed": true
   },
   "outputs": [],
   "source": [
    "#max_iters_RLogR = 1000\n",
    "#lambda_RLogR = 1.0e-2\n",
    "#gamma_RLogR = 1.0e-8\n",
    "#loss_RLogR, weights_RLogR = reg_logistic_regression(y, tX_cleaned, lambda_RLogR, gamma_RLogR, max_iters_RLogR)\n",
    "#print(\"loss_RLogR={loss}\\n\".format(loss=loss_RLogR))\n",
    "#print(\"weights_RLogR={w}\".format(w=weights_RLogR[-1]))"
   ]
  },
  {
   "cell_type": "markdown",
   "metadata": {},
   "source": [
    "### Cross-validation"
   ]
  },
  {
   "cell_type": "code",
   "execution_count": 16,
   "metadata": {
    "collapsed": true
   },
   "outputs": [],
   "source": [
    "def build_k_indices(y, k_fold, seed):\n",
    "    \"\"\"build k indices for k-fold.\"\"\"\n",
    "    num_row = len(y)\n",
    "    interval = int(num_row / k_fold)\n",
    "    np.random.seed(seed)\n",
    "    indices = np.random.permutation(num_row)\n",
    "    k_indices = [indices[k * interval: (k + 1) * interval]\n",
    "                 for k in range(k_fold)]\n",
    "    \n",
    "    return np.array(k_indices)\n",
    "\n",
    "\n",
    "def cross_validation(y, x, k_indices, k, lambda_, degree):\n",
    "    \"\"\"return the loss of ridge regression.\"\"\"\n",
    "    # get k'th subgroup in test, others in train:\n",
    "    x_test = x[k_indices[k]]\n",
    "    y_test = y[k_indices[k]]\n",
    "    \n",
    "    tr_indices = np.delete(k_indices, k, axis=0)\n",
    "    x_tr = np.delete(x, k, axis=0)\n",
    "    y_tr = np.delete(y, k, axis=0)\n",
    "    \n",
    "    # form train and test data with polynomial basis function\n",
    "    poly_x_tr = build_poly(x_tr, degree)\n",
    "    poly_x_test = build_poly(x_test, degree)\n",
    "    \n",
    "    # calcualte weight and loss through least square.\n",
    "    loss_tr, weight_tr = ridge_regression(y_tr, poly_x_tr, lambda_)\n",
    "    loss_test, weight_te = ridge_regression(y_test, poly_x_test, lambda_)\n",
    "    \n",
    "    return loss_tr, loss_te, weight_tr, weight_te"
   ]
  },
  {
   "cell_type": "markdown",
   "metadata": {},
   "source": [
    "### Bias-Variance Decomposition"
   ]
  },
  {
   "cell_type": "code",
   "execution_count": null,
   "metadata": {
    "collapsed": true
   },
   "outputs": [],
   "source": []
  },
  {
   "cell_type": "markdown",
   "metadata": {},
   "source": [
    "# Generate predictions and save ouput in csv format for submission:"
   ]
  },
  {
   "cell_type": "code",
   "execution_count": 19,
   "metadata": {
    "collapsed": false
   },
   "outputs": [],
   "source": [
    "DATA_TEST_PATH = '../data/test.csv' \n",
    "_, tX_test, ids_test = load_csv_data(DATA_TEST_PATH)"
   ]
  },
  {
   "cell_type": "code",
   "execution_count": null,
   "metadata": {
    "collapsed": true
   },
   "outputs": [],
   "source": [
    "OUTPUT_PATH = '../data/dataSubmission_GR.csv' \n",
    "y_pred = predict_labels(weights_GD[-1], tX_test)\n",
    "create_csv_submission(ids_test, y_pred, OUTPUT_PATH)"
   ]
  },
  {
   "cell_type": "code",
   "execution_count": null,
   "metadata": {
    "collapsed": true
   },
   "outputs": [],
   "source": [
    "OUTPUT_PATH = '../data/dataSubmission_SGD.csv' \n",
    "y_pred = predict_labels(weights_SGD[-1], tX_test)\n",
    "create_csv_submission(ids_test, y_pred, OUTPUT_PATH)"
   ]
  },
  {
   "cell_type": "code",
   "execution_count": null,
   "metadata": {
    "collapsed": true
   },
   "outputs": [],
   "source": [
    "OUTPUT_PATH = '../data/dataSubmission_LS.csv' \n",
    "y_pred = predict_labels(weights_LeastS, tX_test)\n",
    "create_csv_submission(ids_test, y_pred, OUTPUT_PATH)"
   ]
  },
  {
   "cell_type": "code",
   "execution_count": 43,
   "metadata": {
    "collapsed": false
   },
   "outputs": [],
   "source": [
    "OUTPUT_PATH = '../data/dataSubmission_RR.csv' \n",
    "y_pred = predict_labels(weights_RR, tX_test)\n",
    "create_csv_submission(ids_test, y_pred, OUTPUT_PATH)"
   ]
  },
  {
   "cell_type": "code",
   "execution_count": 40,
   "metadata": {
    "collapsed": false
   },
   "outputs": [],
   "source": [
    "OUTPUT_PATH = '../data/dataSubmission_LogR.csv' \n",
    "y_pred = predict_labels(weights_LogR[-1], tX_test)\n",
    "create_csv_submission(ids_test, y_pred, OUTPUT_PATH)"
   ]
  },
  {
   "cell_type": "code",
   "execution_count": null,
   "metadata": {
    "collapsed": true
   },
   "outputs": [],
   "source": [
    "OUTPUT_PATH = '../data/dataSubmission_RLogR.csv' \n",
    "y_pred = predict_labels(weights_RLogR[-1], tX_test)\n",
    "create_csv_submission(ids_test, y_pred, OUTPUT_PATH)"
   ]
  }
 ],
 "metadata": {
  "anaconda-cloud": {},
  "kernelspec": {
   "display_name": "Python [Root]",
   "language": "python",
   "name": "Python [Root]"
  },
  "language_info": {
   "codemirror_mode": {
    "name": "ipython",
    "version": 3
   },
   "file_extension": ".py",
   "mimetype": "text/x-python",
   "name": "python",
   "nbconvert_exporter": "python",
   "pygments_lexer": "ipython3",
   "version": "3.5.2"
  }
 },
 "nbformat": 4,
 "nbformat_minor": 0
}
