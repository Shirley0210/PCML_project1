{
 "cells": [
  {
   "cell_type": "markdown",
   "metadata": {},
   "source": [
    "# PROJECT 1: Higgs Boson"
   ]
  },
  {
   "cell_type": "code",
   "execution_count": 1,
   "metadata": {
    "collapsed": false
   },
   "outputs": [],
   "source": [
    "# Useful starting lines\n",
    "%matplotlib inline\n",
    "import numpy as np\n",
    "import matplotlib.pyplot as plt\n",
    "%load_ext autoreload\n",
    "%autoreload 2\n",
    "\n",
    "# Library only used for observing the data in a more visual way.\n",
    "import pandas as pd"
   ]
  },
  {
   "cell_type": "code",
   "execution_count": 2,
   "metadata": {
    "collapsed": false
   },
   "outputs": [],
   "source": [
    "# Imports our methods\n",
    "import methods as md\n",
    "\n",
    "from helpers import *"
   ]
  },
  {
   "cell_type": "code",
   "execution_count": 3,
   "metadata": {
    "collapsed": true
   },
   "outputs": [],
   "source": [
    "from proj1_helpers import *\n",
    "DATA_TRAIN_PATH = '../data/train.csv'\n",
    "y, tX, ids = load_csv_data(DATA_TRAIN_PATH)"
   ]
  },
  {
   "cell_type": "code",
   "execution_count": 6,
   "metadata": {
    "collapsed": false,
    "scrolled": true
   },
   "outputs": [
    {
     "data": {
      "text/plain": [
       "(250000, 30)"
      ]
     },
     "execution_count": 6,
     "metadata": {},
     "output_type": "execute_result"
    }
   ],
   "source": [
    "tX_cleaned, medians_training = md.clean_data(tX)\n",
    "tX_cleaned.shape"
   ]
  },
  {
   "cell_type": "code",
   "execution_count": 35,
   "metadata": {
    "collapsed": false
   },
   "outputs": [
    {
     "data": {
      "text/plain": [
       "(250000, 31)"
      ]
     },
     "execution_count": 35,
     "metadata": {},
     "output_type": "execute_result"
    }
   ],
   "source": [
    "# normalized data set\n",
    "tX_stand, mean_training, std_training = standardize(tX_cleaned)\n",
    "tX_stand.shape"
   ]
  },
  {
   "cell_type": "markdown",
   "metadata": {},
   "source": [
    "# Prediction"
   ]
  },
  {
   "cell_type": "code",
   "execution_count": 7,
   "metadata": {
    "collapsed": true
   },
   "outputs": [],
   "source": [
    "def split_data(y, x, seed=1):\n",
    "    \"\"\"split the dataset based on the split ratio.\"\"\"\n",
    "    # set seed\n",
    "    np.random.seed(seed)\n",
    "    \n",
    "    # set mask\n",
    "    ratio = 0.7\n",
    "    msk = np.random.rand(len(y)) < ratio\n",
    "    \n",
    "    # training data set\n",
    "    x_tr = x[msk]\n",
    "    y_tr = y[msk]\n",
    "    \n",
    "    # test data set\n",
    "    x_test = x[~msk]\n",
    "    y_test = y[~msk]\n",
    "    \n",
    "    return x_tr, x_test, y_tr, y_test"
   ]
  },
  {
   "cell_type": "code",
   "execution_count": 8,
   "metadata": {
    "collapsed": true
   },
   "outputs": [],
   "source": [
    "def cross_validation(y, tX, gamma, lambda_, max_iters, method):\n",
    "    # split data\n",
    "    x_tr, x_test, y_tr, y_test = split_data(y, tX)\n",
    "    \n",
    "    # training\n",
    "    loss = 0\n",
    "    weights = []\n",
    "    if method == 1:\n",
    "        loss, weights = md.least_squares_GD(y_tr, x_tr, gamma, max_iters)\n",
    "    elif method == 2:\n",
    "        loss, weights = md.least_squares_SGD(y_tr, x_tr, gamma, max_iters)\n",
    "    elif method == 3:\n",
    "        loss, weights = md.least_squares(y_tr, x_tr)\n",
    "    elif method == 4:\n",
    "        loss, weights = md.ridge_regression(y_tr, x_tr, lambda_)\n",
    "    elif method == 5:\n",
    "        loss, weights = md.logistic_regression(y_tr, x_tr, gamma, max_iters)\n",
    "    else:\n",
    "        loss, weights = md.reg_logistic_regression(y_tr, x_tr, lambda_, gamma, max_iters)\n",
    "        \n",
    "    # compute prediction\n",
    "    y_pred = predict_labels(weights, x_test)    \n",
    "    \n",
    "    # accuracy of the prediction\n",
    "    N = y_test.shape[0]\n",
    "    pred = np.sum(y_pred == y_test)/N\n",
    "        \n",
    "    return pred"
   ]
  },
  {
   "cell_type": "markdown",
   "metadata": {},
   "source": [
    "# Training and testing in local"
   ]
  },
  {
   "cell_type": "code",
   "execution_count": 10,
   "metadata": {
    "collapsed": false
   },
   "outputs": [
    {
     "name": "stderr",
     "output_type": "stream",
     "text": [
      "/Users/davidrivollet/anaconda/lib/python3.5/site-packages/ipykernel/__main__.py:3: VisibleDeprecationWarning: using a non-integer number instead of an integer will result in an error in the future\n",
      "  app.launch_new_instance()\n",
      "/Users/davidrivollet/anaconda/lib/python3.5/site-packages/ipykernel/__main__.py:4: VisibleDeprecationWarning: using a non-integer number instead of an integer will result in an error in the future\n",
      "/Users/davidrivollet/anaconda/lib/python3.5/site-packages/ipykernel/__main__.py:6: VisibleDeprecationWarning: using a non-integer number instead of an integer will result in an error in the future\n",
      "/Users/davidrivollet/anaconda/lib/python3.5/site-packages/ipykernel/__main__.py:7: VisibleDeprecationWarning: using a non-integer number instead of an integer will result in an error in the future\n",
      "/Users/davidrivollet/anaconda/lib/python3.5/site-packages/ipykernel/__main__.py:9: VisibleDeprecationWarning: using a non-integer number instead of an integer will result in an error in the future\n",
      "/Users/davidrivollet/anaconda/lib/python3.5/site-packages/ipykernel/__main__.py:10: VisibleDeprecationWarning: using a non-integer number instead of an integer will result in an error in the future\n"
     ]
    }
   ],
   "source": [
    "N = y.shape[0]\n",
    "\n",
    "y1 = y[:N/2].copy()\n",
    "y2 = y[N/2:].copy()\n",
    "\n",
    "tX1 = tX_stand[:N/2, :].copy()\n",
    "tX2 = tX_stand[N/2:, :].copy()\n",
    "\n",
    "ids1 = ids[:N/2].copy()\n",
    "ids2 = ids[N/2:].copy()"
   ]
  },
  {
   "cell_type": "markdown",
   "metadata": {},
   "source": [
    "### Linear regression - gradient descent"
   ]
  },
  {
   "cell_type": "code",
   "execution_count": 11,
   "metadata": {
    "collapsed": false
   },
   "outputs": [
    {
     "name": "stdout",
     "output_type": "stream",
     "text": [
      "\n",
      "weights_GD:\n",
      " [ -6.34201555e-06   4.63147996e-07  -6.70261634e-06  -3.27068464e-07\n",
      "   3.67348572e-06   3.79811110e-06   4.00409550e-06  -3.44840608e-06\n",
      "   1.75768474e-07  -2.54605629e-07   2.94478373e-06  -3.74736341e-06\n",
      "   5.18586995e-06   3.29776178e-06   4.50395291e-06  -5.27806052e-08\n",
      "  -6.95413922e-08  -6.22203163e-07   5.92352522e-08   4.65440484e-08\n",
      "   4.30992542e-07   1.45799184e-07   2.61351359e-06   2.53523167e-06\n",
      "   2.23962043e-06  -5.51348327e-08   6.45409265e-09   4.83417431e-07\n",
      "   2.25987779e-08  -8.64344460e-08   2.58647892e-06] \n",
      "\n",
      "pred_GD =  0.69626081171\n"
     ]
    }
   ],
   "source": [
    "max_iters_GD_test = 2000\n",
    "gamma_GD_test = 1.0e-8\n",
    "method = 1\n",
    "\n",
    "loss_GD_test, weights_GD_test = md.least_squares_GD(y1, tX1, gamma_GD_test, max_iters_GD_test)\n",
    "pred_GD_test = prediction(y1, tX1, gamma_GD_test, 0, max_iters_GD_test, method)\n",
    "\n",
    "print(\"\\nweights_GD:\\n\", weights_GD_test,\"\\n\")\n",
    "print(\"pred_GD = \", pred_GD_test)"
   ]
  },
  {
   "cell_type": "code",
   "execution_count": 12,
   "metadata": {
    "collapsed": false
   },
   "outputs": [
    {
     "data": {
      "text/plain": [
       "69.5264"
      ]
     },
     "execution_count": 12,
     "metadata": {},
     "output_type": "execute_result"
    }
   ],
   "source": [
    "y_pred_GD_test = predict_labels(weights_GD_test, tX2)\n",
    "n_correct_GD = np.count_nonzero((y_pred_GD_test - y2) == 0)\n",
    "perc_correct_GD = n_correct_GD/(N/2) * 100\n",
    "perc_correct_GD"
   ]
  },
  {
   "cell_type": "markdown",
   "metadata": {},
   "source": [
    "### Linear regression - stochastic gradient descent"
   ]
  },
  {
   "cell_type": "code",
   "execution_count": 13,
   "metadata": {
    "collapsed": false
   },
   "outputs": [
    {
     "name": "stdout",
     "output_type": "stream",
     "text": [
      "\n",
      "weights_SGD:\n",
      " [ -1.61772300e-04   1.18117996e-05  -1.70914219e-04  -8.33369212e-06\n",
      "   9.35964518e-05   9.68181373e-05   1.02045998e-04  -8.78940266e-05\n",
      "   4.55053020e-06  -6.53449611e-06   7.50036370e-05  -9.55582248e-05\n",
      "   1.32203211e-04   8.40763252e-05   1.14821961e-04  -1.34808065e-06\n",
      "  -1.77371751e-06  -1.58793165e-05   1.50834034e-06   1.18840745e-06\n",
      "   1.09337929e-05   3.71777015e-06   6.65580926e-05   6.45738495e-05\n",
      "   5.70321977e-05  -1.40777014e-06   1.63962388e-07   1.22653064e-05\n",
      "   5.75975108e-07  -2.20532438e-06   6.58604698e-05] \n",
      "\n",
      "pred_SGD =  0.69628742515\n"
     ]
    }
   ],
   "source": [
    "max_iters_SGD_test = 500\n",
    "gamma_SGD_test = 1.0e-8\n",
    "method = 2\n",
    "\n",
    "loss_SGD_test, weights_SGD_test = md.least_squares_SGD(y1, tX1, gamma_SGD_test, max_iters_SGD_test)\n",
    "print(\"\\nweights_SGD:\\n\", weights_SGD_test,\"\\n\")\n",
    "\n",
    "pred_SGD_test = prediction(y1, tX1, gamma_SGD_test, 0, max_iters_SGD_test, method)\n",
    "print(\"pred_SGD = \", pred_SGD_test)"
   ]
  },
  {
   "cell_type": "code",
   "execution_count": 14,
   "metadata": {
    "collapsed": false
   },
   "outputs": [
    {
     "data": {
      "text/plain": [
       "69.53200000000001"
      ]
     },
     "execution_count": 14,
     "metadata": {},
     "output_type": "execute_result"
    }
   ],
   "source": [
    "y_pred_SGD_test = predict_labels(weights_SGD_test, tX2)\n",
    "n_correct_SGD = np.count_nonzero((y_pred_SGD_test - y2) == 0)\n",
    "perc_correct_SGD = n_correct_SGD/(N/2) * 100\n",
    "perc_correct_SGD"
   ]
  },
  {
   "cell_type": "markdown",
   "metadata": {},
   "source": [
    "### Least squares"
   ]
  },
  {
   "cell_type": "code",
   "execution_count": 15,
   "metadata": {
    "collapsed": false
   },
   "outputs": [
    {
     "name": "stdout",
     "output_type": "stream",
     "text": [
      "\n",
      "weights_LeastS:\n",
      " [ -3.14910327e-01   7.62737682e-03  -2.52323185e-01  -2.59519952e-01\n",
      "   7.57394818e-03   1.57894698e-02   1.02355109e-01   5.27204438e-03\n",
      "   2.77845134e-01  -2.67068079e-02  -4.88895802e+02  -1.86884374e-01\n",
      "   1.22185338e-01   7.57227103e-02   9.48871392e+01  -3.97835288e-03\n",
      "  -2.96661612e-03   9.35204438e+01   2.06881217e-03   4.91517942e-04\n",
      "   1.00187795e-01  -6.91976557e-04  -4.78042520e-02   4.60743288e-02\n",
      "  -3.94640067e-02   1.59092057e-03  -2.84035309e-03  -2.20283190e-02\n",
      "  -3.69745737e-04  -3.08936596e-03   4.14117624e+02] \n",
      "\n",
      "pred_LeastS =  0.747624750499\n"
     ]
    }
   ],
   "source": [
    "method = 3\n",
    "\n",
    "loss_LeastS_test, weights_LeastS_test = md.least_squares(y1, tX1)\n",
    "print(\"\\nweights_LeastS:\\n\", weights_LeastS_test,\"\\n\")\n",
    "\n",
    "pred_LeastS_test = prediction(y1, tX1, 0, 0, 0, method)\n",
    "print(\"pred_LeastS = \", pred_LeastS_test)"
   ]
  },
  {
   "cell_type": "code",
   "execution_count": 16,
   "metadata": {
    "collapsed": false
   },
   "outputs": [
    {
     "data": {
      "text/plain": [
       "74.4256"
      ]
     },
     "execution_count": 16,
     "metadata": {},
     "output_type": "execute_result"
    }
   ],
   "source": [
    "y_pred_LS_test = predict_labels(weights_LeastS_test, tX2)\n",
    "n_correct_LS = np.count_nonzero((y_pred_LS_test - y2) == 0)\n",
    "perc_correct_LS = n_correct_LS/(N/2) * 100\n",
    "perc_correct_LS"
   ]
  },
  {
   "cell_type": "markdown",
   "metadata": {},
   "source": [
    "### Ridge regression"
   ]
  },
  {
   "cell_type": "code",
   "execution_count": 17,
   "metadata": {
    "collapsed": false
   },
   "outputs": [
    {
     "name": "stdout",
     "output_type": "stream",
     "text": [
      "\n",
      "weights_RR:\n",
      " [ -5.85962811e-03  -5.85962609e-03  -5.85962609e-03  -5.85962609e-03\n",
      "  -5.85962609e-03  -5.85962609e-03  -5.85962609e-03  -5.85962609e-03\n",
      "  -5.85962609e-03  -5.85962609e-03  -5.85962609e-03  -5.85962609e-03\n",
      "  -5.85962609e-03  -5.85962609e-03  -5.85962609e-03  -5.85962609e-03\n",
      "  -5.85962609e-03  -5.85962609e-03  -5.85962609e-03  -5.85962609e-03\n",
      "  -5.85962609e-03  -5.85962609e-03  -5.85962609e-03  -5.85962609e-03\n",
      "  -5.85962597e-03  -5.85962597e-03  -5.85962597e-03  -5.85962597e-03\n",
      "  -5.85962597e-03  -5.85962597e-03  -5.85962597e-03  -5.85962597e-03\n",
      "   2.49953324e-02  -5.59050938e-02   1.31477675e-02   1.37304984e-02\n",
      "   2.72241269e-03   3.38051817e-03  -4.38090762e-03   1.80824623e-02\n",
      "  -5.03409352e-03   1.41155686e-02  -3.33809738e-02   1.90516274e-02\n",
      "   5.03380674e-03   4.14616799e-02  -2.94487294e-04  -5.33443193e-04\n",
      "   3.07302255e-04   7.85677711e-04   1.94683102e-04  -5.96970525e-03\n",
      "   4.91920337e-04   9.50432638e-03   1.15743411e-03   1.26043622e-02\n",
      "  -6.58298034e-04   4.62153819e-05   4.90696996e-03  -5.81894114e-05\n",
      "  -3.79907286e-04   7.11350816e-03  -5.85962627e-03  -4.32389482e-02\n",
      "   1.25166990e-02  -3.50531530e-02   1.19187496e-02   6.27754310e-03\n",
      "   5.56998823e-03   2.10827666e-03  -7.92594514e-03  -1.58409105e-03\n",
      "  -6.20938366e-03   1.65403791e-02   2.94315298e-03   1.15983282e-03\n",
      "  -5.16949459e-03  -7.28973560e-03  -3.90043677e-03   1.12835926e-03\n",
      "  -1.01394582e-02  -3.79797138e-03   1.75206489e-02  -3.91318392e-03\n",
      "  -1.01257413e-02  -2.52714386e-03  -6.60423452e-03   6.72138884e-03\n",
      "  -3.85444502e-03  -1.97351133e-03   2.94407424e-03  -1.29047346e-03\n",
      "  -3.26245087e-03  -5.85962627e-03  -2.01174860e-03  -3.11792809e-02\n",
      "   2.21800053e-03   1.18012752e-02   3.40468836e-03   2.77899519e-03\n",
      "  -2.70506051e-03   1.58388047e-02   2.39680216e-03   7.89706160e-03\n",
      "  -1.62221546e-02   1.91787213e-02   7.25577590e-03   1.51803499e-02\n",
      "  -2.58054283e-04  -1.47653874e-04   6.34071595e-03   3.36983444e-04\n",
      "   1.02480517e-04  -7.98741050e-03   1.64418394e-04   6.98578396e-03\n",
      "   1.13945923e-03   5.86341935e-03  -8.69354605e-04  -5.22214058e-04\n",
      "  -7.30480958e-05   3.61227979e-05  -8.80153526e-04  -2.66291574e-03\n",
      "  -5.85962627e-03   2.16987711e-03   9.02971445e-03   3.85399485e-04\n",
      "   6.13036457e-04   4.86131699e-03  -7.34006671e-04  -2.14474034e-04\n",
      "  -1.53714425e-02  -3.22688325e-04  -1.17318172e-03   3.17529823e-03\n",
      "   7.36151214e-03   3.64201867e-03  -4.63305822e-03  -8.90683105e-03\n",
      "  -3.20484536e-03  -1.68417024e-03  -1.17951917e-02  -3.10130666e-03\n",
      "   1.27830209e-03  -3.04440551e-03  -5.50965626e-03  -2.67658519e-03\n",
      "  -2.58840415e-03   1.56925602e-02  -4.70161341e-03   5.09453643e-05\n",
      "   4.48920700e-03  -2.30199030e-03   4.63966341e-04  -5.85962627e-03\n",
      "  -2.24114437e-04  -7.90456334e-04  -3.58937639e-05  -5.13601332e-04\n",
      "  -2.59614925e-03   5.26611518e-05   6.15943737e-05   1.33945958e-03\n",
      "   1.64230594e-05   2.10910534e-05  -2.13743123e-04   2.16963771e-02\n",
      "   1.65905188e-03   4.47262530e-04  -2.73040318e-04  -5.22065746e-05\n",
      "   1.35226028e-04   2.05985115e-04  -3.15831369e-04  -9.24130621e-05\n",
      "   2.55128407e-04   9.96727259e-04   9.07242008e-04   3.33240485e-04\n",
      "   2.73729973e-04   7.81054870e-05  -3.42155333e-06  -1.00521349e-05\n",
      "   7.43631863e-05  -1.56321794e-05  -5.85962627e-03   6.58043546e-06\n",
      "   2.12863773e-05   7.59983179e-07   3.49931166e-05   2.97757368e-04\n",
      "  -1.17286237e-06   3.98984180e-07   6.90635351e-04  -2.82080234e-07\n",
      "   1.77982469e-06   4.65390793e-06   1.25636034e-02  -7.32204215e-04\n",
      "  -1.36614162e-05  -9.87538666e-04  -5.15913990e-04  -3.40895059e-06\n",
      "  -2.67898707e-03  -9.39271135e-04   2.32785715e-06  -3.88128200e-04\n",
      "  -5.19689880e-05  -3.11518592e-03  -1.28012230e-05  -1.22683053e-03\n",
      "   5.64711305e-04   5.99413157e-08  -2.51159019e-04   2.07886935e-04\n",
      "   4.79121902e-07] \n",
      "\n",
      "pred_RR for degree  6  =  0.754783765802\n"
     ]
    }
   ],
   "source": [
    "degree_RR_test = 6\n",
    "\n",
    "tX1_poly = md.build_poly(tX1, degree_RR_test)\n",
    "tX2_poly = md.build_poly(tX2, degree_RR_test)\n",
    "\n",
    "lambda_RR_test = 1\n",
    "method = 4\n",
    "\n",
    "loss_RR_test, weights_RR_test = md.ridge_regression(y1, tX1_poly, lambda_RR_test)\n",
    "print(\"\\nweights_RR:\\n\", weights_RR_test,\"\\n\")\n",
    "\n",
    "pred_RR_test = prediction(y1, tX1_poly, 0, lambda_RR_test, 0, method)\n",
    "print(\"pred_RR for degree \", str(degree_RR_test), \" = \", pred_RR_test)"
   ]
  },
  {
   "cell_type": "code",
   "execution_count": 18,
   "metadata": {
    "collapsed": false
   },
   "outputs": [
    {
     "data": {
      "text/plain": [
       "75.4368"
      ]
     },
     "execution_count": 18,
     "metadata": {},
     "output_type": "execute_result"
    }
   ],
   "source": [
    "y_pred_RR_test = predict_labels(weights_RR_test, tX2_poly)\n",
    "n_correct_RR = np.count_nonzero((y_pred_RR_test - y2) == 0)\n",
    "perc_correct_RR = n_correct_RR/(N/2) * 100\n",
    "perc_correct_RR"
   ]
  },
  {
   "cell_type": "markdown",
   "metadata": {},
   "source": [
    "### Logistic regression"
   ]
  },
  {
   "cell_type": "code",
   "execution_count": 19,
   "metadata": {
    "collapsed": false
   },
   "outputs": [
    {
     "name": "stdout",
     "output_type": "stream",
     "text": [
      "\n",
      "weights_LogR:\n",
      " [ -2.03635186e-02   5.63757510e-04  -8.37827539e-03  -4.30020688e-04\n",
      "   4.54063123e-03   4.71836965e-03   4.95212904e-03  -4.29015511e-03\n",
      "   2.27608782e-04  -3.49101097e-04   3.61728771e-03  -4.64732208e-03\n",
      "   6.44505736e-03   4.09146094e-03   5.59748243e-03  -5.49977535e-05\n",
      "  -7.45166784e-05  -7.61494860e-04   9.07708095e-05   5.06966567e-05\n",
      "   5.01695930e-04   1.90156976e-04   3.22003540e-03   3.10025844e-03\n",
      "   2.76262061e-03  -5.21554312e-05   1.66056710e-05   5.50035604e-04\n",
      "   2.29911616e-05  -7.99036941e-05   3.16167309e-03] \n",
      "\n",
      "pred_LogR =  0.697857618097\n"
     ]
    }
   ],
   "source": [
    "max_iters_LogR_test = 2000\n",
    "gamma_LogR_test = 1.0e-10\n",
    "method = 5\n",
    "\n",
    "loss_LogR_test, weights_LogR_test = md.logistic_regression(y1, tX1, gamma_LogR_test, max_iters_LogR_test)\n",
    "print(\"\\nweights_LogR:\\n\", weights_LogR_test,\"\\n\")\n",
    "\n",
    "pred_LogR_test = prediction(y1, tX1, gamma_LogR_test, 0, max_iters_LogR_test, method)\n",
    "print(\"pred_LogR = \", pred_LogR_test)"
   ]
  },
  {
   "cell_type": "code",
   "execution_count": 20,
   "metadata": {
    "collapsed": false
   },
   "outputs": [
    {
     "data": {
      "text/plain": [
       "69.3352"
      ]
     },
     "execution_count": 20,
     "metadata": {},
     "output_type": "execute_result"
    }
   ],
   "source": [
    "y_pred_LogR_test = predict_labels(weights_LogR_test, tX2)\n",
    "n_correct_LogR = np.count_nonzero((y_pred_LogR_test - y2) == 0)\n",
    "perc_correct_LogR = n_correct_LogR/(N/2) * 100\n",
    "perc_correct_LogR"
   ]
  },
  {
   "cell_type": "markdown",
   "metadata": {},
   "source": [
    "### Regularized logistic regression"
   ]
  },
  {
   "cell_type": "code",
   "execution_count": 21,
   "metadata": {
    "collapsed": false
   },
   "outputs": [
    {
     "name": "stdout",
     "output_type": "stream",
     "text": [
      "\n",
      "weights_RLogR:\n",
      " [ -1.62046862e+00   3.51383433e-02  -5.86015913e-01  -2.64797315e-02\n",
      "   1.93956381e-01   2.32837575e-01   2.29611750e-01  -1.98127802e-01\n",
      "   1.41611305e-01  -8.62186426e-02   1.08153609e-01  -3.16539297e-01\n",
      "   3.83674154e-01   2.28095363e-01   3.40292042e-01  -6.00004313e-03\n",
      "  -7.19278047e-03  -5.68262549e-02   4.56611039e-03   4.19330193e-03\n",
      "  -5.42266885e-02   1.07124829e-02   8.14839989e-02   8.37697784e-02\n",
      "   6.66957048e-02  -1.96636552e-03  -9.11400802e-04  -5.57491272e-02\n",
      "   8.31075590e-04  -3.70952943e-03   6.26558331e-02] \n",
      "\n",
      "pred_RLogR =  0.705123087159\n"
     ]
    }
   ],
   "source": [
    "max_iters_RLogR_test = 1000\n",
    "lambda_RLogR_test = 1.0e-8\n",
    "gamma_RLogR_test = 2.0e-8\n",
    "method = 5\n",
    "\n",
    "loss_RLogR_test, weights_RLogR_test = md.reg_logistic_regression(y1, tX1, gamma_RLogR_test, lambda_RLogR_test, max_iters_RLogR_test)\n",
    "print(\"\\nweights_RLogR:\\n\", weights_RLogR_test,\"\\n\")\n",
    "\n",
    "pred_RLogR_test = prediction(y1, tX1, gamma_RLogR_test, lambda_RLogR_test, max_iters_RLogR_test, 6)\n",
    "print(\"pred_RLogR = \", pred_RLogR_test)"
   ]
  },
  {
   "cell_type": "code",
   "execution_count": 22,
   "metadata": {
    "collapsed": false
   },
   "outputs": [
    {
     "data": {
      "text/plain": [
       "70.46480000000001"
      ]
     },
     "execution_count": 22,
     "metadata": {},
     "output_type": "execute_result"
    }
   ],
   "source": [
    "y_pred_RLogR_test = predict_labels(weights_RLogR_test, tX2)\n",
    "n_correct_RLogR = np.count_nonzero((y_pred_RLogR_test - y2) == 0)\n",
    "perc_correct_RLogR = n_correct_RLogR/(N/2) * 100\n",
    "perc_correct_RLogR"
   ]
  },
  {
   "cell_type": "markdown",
   "metadata": {},
   "source": [
    "# Training on the entire data set, separating data by JET values"
   ]
  },
  {
   "cell_type": "markdown",
   "metadata": {},
   "source": [
    "### Dividing by JET"
   ]
  },
  {
   "cell_type": "code",
   "execution_count": 66,
   "metadata": {
    "collapsed": false
   },
   "outputs": [
    {
     "name": "stderr",
     "output_type": "stream",
     "text": [
      "/Users/davidrivollet/anaconda/lib/python3.5/site-packages/numpy/core/_methods.py:59: RuntimeWarning: Mean of empty slice.\n",
      "  warnings.warn(\"Mean of empty slice.\", RuntimeWarning)\n"
     ]
    }
   ],
   "source": [
    "tX_jet0, indexes_jet0, tX_jet1, indexes_jet1, tX_jet2, indexes_jet2, tX_jet3, indexes_jet3 = md.separating_by_jet(tX)\n",
    "y_jet0 = y[indexes_jet0]\n",
    "y_jet1 = y[indexes_jet1]\n",
    "y_jet2 = y[indexes_jet2]\n",
    "y_jet3 = y[indexes_jet3]\n",
    "tX_cleaned_jet0, medians_jet0 = md.clean_data(tX_jet0)\n",
    "tX_cleaned_jet1, medians_jet1  = md.clean_data(tX_jet1)\n",
    "tX_cleaned_jet2, medians_jet2 = md.clean_data(tX_jet2)\n",
    "tX_cleaned_jet3, medians_jet3 = md.clean_data(tX_jet3)\n",
    "\n",
    "tX_reformed_jet0, means_jet0, stds_jet0 = md.standardize(tX_cleaned_jet0)\n",
    "tX_reformed_jet1, means_jet1, stds_jet1 = md.standardize(tX_cleaned_jet1)\n",
    "tX_reformed_jet2, means_jet2, stds_jet2 = md.standardize(tX_cleaned_jet2)\n",
    "tX_reformed_jet3, means_jet3, stds_jet3 = md.standardize(tX_cleaned_jet3)"
   ]
  },
  {
   "cell_type": "code",
   "execution_count": 67,
   "metadata": {
    "collapsed": false
   },
   "outputs": [
    {
     "data": {
      "text/plain": [
       "(99913, 21)"
      ]
     },
     "execution_count": 67,
     "metadata": {},
     "output_type": "execute_result"
    }
   ],
   "source": [
    "tX_reformed_jet0.shape"
   ]
  },
  {
   "cell_type": "code",
   "execution_count": 68,
   "metadata": {
    "collapsed": false
   },
   "outputs": [
    {
     "data": {
      "text/plain": [
       "(77544, 24)"
      ]
     },
     "execution_count": 68,
     "metadata": {},
     "output_type": "execute_result"
    }
   ],
   "source": [
    "tX_reformed_jet1.shape"
   ]
  },
  {
   "cell_type": "code",
   "execution_count": 69,
   "metadata": {
    "collapsed": false
   },
   "outputs": [
    {
     "data": {
      "text/plain": [
       "(50379, 31)"
      ]
     },
     "execution_count": 69,
     "metadata": {},
     "output_type": "execute_result"
    }
   ],
   "source": [
    "tX_reformed_jet2.shape"
   ]
  },
  {
   "cell_type": "code",
   "execution_count": 70,
   "metadata": {
    "collapsed": false
   },
   "outputs": [
    {
     "data": {
      "text/plain": [
       "(22164, 31)"
      ]
     },
     "execution_count": 70,
     "metadata": {},
     "output_type": "execute_result"
    }
   ],
   "source": [
    "tX_reformed_jet3.shape"
   ]
  },
  {
   "cell_type": "markdown",
   "metadata": {},
   "source": [
    "### Training"
   ]
  },
  {
   "cell_type": "code",
   "execution_count": 103,
   "metadata": {
    "collapsed": true
   },
   "outputs": [],
   "source": [
    "lambdas = [1e-10, 2e-10, 3e-10, 4e-10, 5e-10, 6e-10, 7e-10, 8e-10, 9e-10, 1e-9, 1e-8, 1e-7, 1e-6, 1e-5, 1e-4, 1e-3, 1e-2, 1e-1, 1, 10]\n",
    "degrees = range(0, 11)"
   ]
  },
  {
   "cell_type": "markdown",
   "metadata": {},
   "source": [
    "### JET == 0.0"
   ]
  },
  {
   "cell_type": "code",
   "execution_count": 102,
   "metadata": {
    "collapsed": false
   },
   "outputs": [
    {
     "name": "stdout",
     "output_type": "stream",
     "text": [
      "prediction jet0 =  0.825135333823  with lambda:  1e-10  degree:  2\n",
      "prediction jet0 =  0.825135333823  with lambda:  2e-10  degree:  2\n",
      "prediction jet0 =  0.825135333823  with lambda:  3e-10  degree:  2\n",
      "prediction jet0 =  0.825135333823  with lambda:  4e-10  degree:  2\n",
      "prediction jet0 =  0.825135333823  with lambda:  5e-10  degree:  2\n",
      "prediction jet0 =  0.825135333823  with lambda:  6e-10  degree:  2\n",
      "prediction jet0 =  0.825135333823  with lambda:  7e-10  degree:  2\n",
      "prediction jet0 =  0.825135333823  with lambda:  8e-10  degree:  2\n",
      "prediction jet0 =  0.825135333823  with lambda:  9e-10  degree:  2\n",
      "prediction jet0 =  0.825135333823  with lambda:  1e-09  degree:  2\n",
      "prediction jet0 =  0.825135333823  with lambda:  1e-08  degree:  2\n",
      "prediction jet0 =  0.825168749582  with lambda:  1e-07  degree:  2\n",
      "prediction jet0 =  0.825135333823  with lambda:  1e-06  degree:  2\n",
      "prediction jet0 =  0.825135333823  with lambda:  1e-05  degree:  2\n",
      "prediction jet0 =  0.825035086547  with lambda:  0.0001  degree:  2\n",
      "prediction jet0 =  0.824366771369  with lambda:  0.001  degree:  2\n",
      "prediction jet0 =  0.824132861057  with lambda:  0.01  degree:  2\n",
      "prediction jet0 =  0.822996725256  with lambda:  0.1  degree:  2\n",
      "prediction jet0 =  0.830247944931  with lambda:  1e-10  degree:  3\n",
      "prediction jet0 =  0.83028136069  with lambda:  2e-10  degree:  3\n",
      "prediction jet0 =  0.83028136069  with lambda:  3e-10  degree:  3\n",
      "prediction jet0 =  0.830247944931  with lambda:  4e-10  degree:  3\n",
      "prediction jet0 =  0.83028136069  with lambda:  5e-10  degree:  3\n",
      "prediction jet0 =  0.830314776449  with lambda:  6e-10  degree:  3\n",
      "prediction jet0 =  0.830181113413  with lambda:  7e-10  degree:  3\n",
      "prediction jet0 =  0.830247944931  with lambda:  8e-10  degree:  3\n",
      "prediction jet0 =  0.830314776449  with lambda:  9e-10  degree:  3\n",
      "prediction jet0 =  0.83028136069  with lambda:  1e-09  degree:  3\n",
      "prediction jet0 =  0.830247944931  with lambda:  1e-08  degree:  3\n",
      "prediction jet0 =  0.830247944931  with lambda:  1e-07  degree:  3\n",
      "prediction jet0 =  0.83028136069  with lambda:  1e-06  degree:  3\n",
      "prediction jet0 =  0.830247944931  with lambda:  1e-05  degree:  3\n",
      "prediction jet0 =  0.83028136069  with lambda:  0.0001  degree:  3\n",
      "prediction jet0 =  0.82998061886  with lambda:  0.001  degree:  3\n",
      "prediction jet0 =  0.829512798236  with lambda:  0.01  degree:  3\n",
      "prediction jet0 =  0.824801176235  with lambda:  0.1  degree:  3\n",
      "prediction jet0 =  0.821559847624  with lambda:  1  degree:  3\n",
      "prediction jet0 =  0.828811067299  with lambda:  6e-10  degree:  4\n",
      "prediction jet0 =  0.833756599612  with lambda:  1e-08  degree:  4\n",
      "prediction jet0 =  0.833389026265  with lambda:  1e-07  degree:  4\n",
      "prediction jet0 =  0.833389026265  with lambda:  1e-06  degree:  4\n",
      "prediction jet0 =  0.83382343113  with lambda:  1e-05  degree:  4\n",
      "prediction jet0 =  0.833622936577  with lambda:  0.0001  degree:  4\n",
      "prediction jet0 =  0.832921205641  with lambda:  0.001  degree:  4\n",
      "prediction jet0 =  0.831283833456  with lambda:  0.01  degree:  4\n",
      "prediction jet0 =  0.827407605427  with lambda:  0.1  degree:  4\n",
      "prediction jet0 =  0.823865534986  with lambda:  1  degree:  4\n",
      "prediction jet0 =  0.822896477979  with lambda:  10  degree:  4\n",
      "prediction jet0 =  0.837031343982  with lambda:  1e-10  degree:  5\n",
      "prediction jet0 =  0.820056138475  with lambda:  3e-10  degree:  5\n",
      "prediction jet0 =  0.833589520818  with lambda:  7e-10  degree:  5\n",
      "prediction jet0 =  0.836964512464  with lambda:  0.0001  degree:  5\n",
      "prediction jet0 =  0.836663770634  with lambda:  0.001  degree:  5\n",
      "prediction jet0 =  0.833288778988  with lambda:  0.01  degree:  5\n",
      "prediction jet0 =  0.830983091626  with lambda:  0.1  degree:  5\n",
      "prediction jet0 =  0.82967987703  with lambda:  1  degree:  5\n",
      "prediction jet0 =  0.829746708548  with lambda:  10  degree:  5\n",
      "prediction jet0 =  0.835928623939  with lambda:  1  degree:  6\n",
      "prediction jet0 =  0.830080866136  with lambda:  10  degree:  6\n"
     ]
    },
    {
     "ename": "LinAlgError",
     "evalue": "Singular matrix",
     "output_type": "error",
     "traceback": [
      "\u001b[0;31m---------------------------------------------------------------------------\u001b[0m",
      "\u001b[0;31mLinAlgError\u001b[0m                               Traceback (most recent call last)",
      "\u001b[0;32m<ipython-input-102-5b4c70d04c86>\u001b[0m in \u001b[0;36m<module>\u001b[0;34m()\u001b[0m\n\u001b[1;32m     13\u001b[0m         \u001b[0mtX_poly_jet0\u001b[0m \u001b[0;34m=\u001b[0m \u001b[0mmd\u001b[0m\u001b[0;34m.\u001b[0m\u001b[0mbuild_poly\u001b[0m\u001b[0;34m(\u001b[0m\u001b[0mtX_reformed_jet0\u001b[0m\u001b[0;34m,\u001b[0m \u001b[0mdeg\u001b[0m\u001b[0;34m)\u001b[0m\u001b[0;34m\u001b[0m\u001b[0m\n\u001b[1;32m     14\u001b[0m \u001b[0;34m\u001b[0m\u001b[0m\n\u001b[0;32m---> 15\u001b[0;31m         \u001b[0mloss_jet0\u001b[0m\u001b[0;34m,\u001b[0m \u001b[0mweights_jet0\u001b[0m \u001b[0;34m=\u001b[0m \u001b[0mmd\u001b[0m\u001b[0;34m.\u001b[0m\u001b[0mridge_regression\u001b[0m\u001b[0;34m(\u001b[0m\u001b[0my_jet0\u001b[0m\u001b[0;34m,\u001b[0m \u001b[0mtX_poly_jet0\u001b[0m\u001b[0;34m,\u001b[0m \u001b[0mlam\u001b[0m\u001b[0;34m)\u001b[0m\u001b[0;34m\u001b[0m\u001b[0m\n\u001b[0m\u001b[1;32m     16\u001b[0m         \u001b[0;31m# print(\"\\nweights_RR:\\n\", weights_jet0,\"\\n\")\u001b[0m\u001b[0;34m\u001b[0m\u001b[0;34m\u001b[0m\u001b[0m\n\u001b[1;32m     17\u001b[0m \u001b[0;34m\u001b[0m\u001b[0m\n",
      "\u001b[0;32m/Users/davidrivollet/Programmation/PCML_project1/methods.py\u001b[0m in \u001b[0;36mridge_regression\u001b[0;34m(y, tX_poly, lambda_)\u001b[0m\n\u001b[1;32m    258\u001b[0m     \u001b[0mA\u001b[0m \u001b[0;34m=\u001b[0m \u001b[0mnp\u001b[0m\u001b[0;34m.\u001b[0m\u001b[0mdot\u001b[0m\u001b[0;34m(\u001b[0m\u001b[0mnp\u001b[0m\u001b[0;34m.\u001b[0m\u001b[0mtranspose\u001b[0m\u001b[0;34m(\u001b[0m\u001b[0mtX_poly\u001b[0m\u001b[0;34m)\u001b[0m\u001b[0;34m,\u001b[0m \u001b[0mtX_poly\u001b[0m\u001b[0;34m)\u001b[0m \u001b[0;34m+\u001b[0m \u001b[0mlamb_\u001b[0m\u001b[0;34m*\u001b[0m\u001b[0mnp\u001b[0m\u001b[0;34m.\u001b[0m\u001b[0meye\u001b[0m\u001b[0;34m(\u001b[0m\u001b[0mtX_poly\u001b[0m\u001b[0;34m.\u001b[0m\u001b[0mshape\u001b[0m\u001b[0;34m[\u001b[0m\u001b[0;36m1\u001b[0m\u001b[0;34m]\u001b[0m\u001b[0;34m)\u001b[0m\u001b[0;34m\u001b[0m\u001b[0m\n\u001b[1;32m    259\u001b[0m     \u001b[0mb\u001b[0m \u001b[0;34m=\u001b[0m \u001b[0mnp\u001b[0m\u001b[0;34m.\u001b[0m\u001b[0mtranspose\u001b[0m\u001b[0;34m(\u001b[0m\u001b[0mtX_poly\u001b[0m\u001b[0;34m)\u001b[0m\u001b[0;34m.\u001b[0m\u001b[0mdot\u001b[0m\u001b[0;34m(\u001b[0m\u001b[0my\u001b[0m\u001b[0;34m)\u001b[0m\u001b[0;34m\u001b[0m\u001b[0m\n\u001b[0;32m--> 260\u001b[0;31m     \u001b[0mw_opt\u001b[0m \u001b[0;34m=\u001b[0m \u001b[0mnp\u001b[0m\u001b[0;34m.\u001b[0m\u001b[0mlinalg\u001b[0m\u001b[0;34m.\u001b[0m\u001b[0msolve\u001b[0m\u001b[0;34m(\u001b[0m\u001b[0mA\u001b[0m\u001b[0;34m,\u001b[0m\u001b[0mb\u001b[0m\u001b[0;34m)\u001b[0m\u001b[0;34m\u001b[0m\u001b[0m\n\u001b[0m\u001b[1;32m    261\u001b[0m \u001b[0;34m\u001b[0m\u001b[0m\n\u001b[1;32m    262\u001b[0m     \u001b[0;31m# Compute loss\u001b[0m\u001b[0;34m\u001b[0m\u001b[0;34m\u001b[0m\u001b[0m\n",
      "\u001b[0;32m/Users/davidrivollet/anaconda/lib/python3.5/site-packages/numpy/linalg/linalg.py\u001b[0m in \u001b[0;36msolve\u001b[0;34m(a, b)\u001b[0m\n\u001b[1;32m    382\u001b[0m     \u001b[0msignature\u001b[0m \u001b[0;34m=\u001b[0m \u001b[0;34m'DD->D'\u001b[0m \u001b[0;32mif\u001b[0m \u001b[0misComplexType\u001b[0m\u001b[0;34m(\u001b[0m\u001b[0mt\u001b[0m\u001b[0;34m)\u001b[0m \u001b[0;32melse\u001b[0m \u001b[0;34m'dd->d'\u001b[0m\u001b[0;34m\u001b[0m\u001b[0m\n\u001b[1;32m    383\u001b[0m     \u001b[0mextobj\u001b[0m \u001b[0;34m=\u001b[0m \u001b[0mget_linalg_error_extobj\u001b[0m\u001b[0;34m(\u001b[0m\u001b[0m_raise_linalgerror_singular\u001b[0m\u001b[0;34m)\u001b[0m\u001b[0;34m\u001b[0m\u001b[0m\n\u001b[0;32m--> 384\u001b[0;31m     \u001b[0mr\u001b[0m \u001b[0;34m=\u001b[0m \u001b[0mgufunc\u001b[0m\u001b[0;34m(\u001b[0m\u001b[0ma\u001b[0m\u001b[0;34m,\u001b[0m \u001b[0mb\u001b[0m\u001b[0;34m,\u001b[0m \u001b[0msignature\u001b[0m\u001b[0;34m=\u001b[0m\u001b[0msignature\u001b[0m\u001b[0;34m,\u001b[0m \u001b[0mextobj\u001b[0m\u001b[0;34m=\u001b[0m\u001b[0mextobj\u001b[0m\u001b[0;34m)\u001b[0m\u001b[0;34m\u001b[0m\u001b[0m\n\u001b[0m\u001b[1;32m    385\u001b[0m \u001b[0;34m\u001b[0m\u001b[0m\n\u001b[1;32m    386\u001b[0m     \u001b[0;32mreturn\u001b[0m \u001b[0mwrap\u001b[0m\u001b[0;34m(\u001b[0m\u001b[0mr\u001b[0m\u001b[0;34m.\u001b[0m\u001b[0mastype\u001b[0m\u001b[0;34m(\u001b[0m\u001b[0mresult_t\u001b[0m\u001b[0;34m,\u001b[0m \u001b[0mcopy\u001b[0m\u001b[0;34m=\u001b[0m\u001b[0;32mFalse\u001b[0m\u001b[0;34m)\u001b[0m\u001b[0;34m)\u001b[0m\u001b[0;34m\u001b[0m\u001b[0m\n",
      "\u001b[0;32m/Users/davidrivollet/anaconda/lib/python3.5/site-packages/numpy/linalg/linalg.py\u001b[0m in \u001b[0;36m_raise_linalgerror_singular\u001b[0;34m(err, flag)\u001b[0m\n\u001b[1;32m     88\u001b[0m \u001b[0;34m\u001b[0m\u001b[0m\n\u001b[1;32m     89\u001b[0m \u001b[0;32mdef\u001b[0m \u001b[0m_raise_linalgerror_singular\u001b[0m\u001b[0;34m(\u001b[0m\u001b[0merr\u001b[0m\u001b[0;34m,\u001b[0m \u001b[0mflag\u001b[0m\u001b[0;34m)\u001b[0m\u001b[0;34m:\u001b[0m\u001b[0;34m\u001b[0m\u001b[0m\n\u001b[0;32m---> 90\u001b[0;31m     \u001b[0;32mraise\u001b[0m \u001b[0mLinAlgError\u001b[0m\u001b[0;34m(\u001b[0m\u001b[0;34m\"Singular matrix\"\u001b[0m\u001b[0;34m)\u001b[0m\u001b[0;34m\u001b[0m\u001b[0m\n\u001b[0m\u001b[1;32m     91\u001b[0m \u001b[0;34m\u001b[0m\u001b[0m\n\u001b[1;32m     92\u001b[0m \u001b[0;32mdef\u001b[0m \u001b[0m_raise_linalgerror_nonposdef\u001b[0m\u001b[0;34m(\u001b[0m\u001b[0merr\u001b[0m\u001b[0;34m,\u001b[0m \u001b[0mflag\u001b[0m\u001b[0;34m)\u001b[0m\u001b[0;34m:\u001b[0m\u001b[0;34m\u001b[0m\u001b[0m\n",
      "\u001b[0;31mLinAlgError\u001b[0m: Singular matrix"
     ]
    }
   ],
   "source": [
    "pred_jet0_VEC = np.zeros((len(lambdas)*len(degrees), 1))\n",
    "i = 0\n",
    "\n",
    "method = 4\n",
    "\n",
    "tX_reformed_jet0 = tX_cleaned_jet0.copy()\n",
    "w0 = np.ones([1,tX_reformed_jet0.shape[0]])\n",
    "tX_reformed_jet0 = np.insert(tX_reformed_jet0, 0, w0, axis=1)\n",
    "\n",
    "for deg in degrees:\n",
    "    for lam in lambdas:\n",
    "\n",
    "        tX_poly_jet0 = md.build_poly(tX_reformed_jet0, deg)\n",
    "\n",
    "        loss_jet0, weights_jet0 = md.ridge_regression(y_jet0, tX_poly_jet0, lam)\n",
    "        # print(\"\\nweights_RR:\\n\", weights_jet0,\"\\n\")\n",
    "\n",
    "        pred_jet0 = prediction(y_jet0, tX_poly_jet0, 0, lam, 0, method)\n",
    "        pred_jet0_VEC[i] = pred_jet0\n",
    "        i = i + 1\n",
    "        if pred_jet0 > 0.82 :\n",
    "            print(\"prediction jet0 = \", pred_jet0, \" with lambda: \", str(lam), \" degree: \", str(deg))"
   ]
  },
  {
   "cell_type": "code",
   "execution_count": 104,
   "metadata": {
    "collapsed": false
   },
   "outputs": [
    {
     "name": "stdout",
     "output_type": "stream",
     "text": [
      "pred_RR =  0.83028136069\n"
     ]
    }
   ],
   "source": [
    "lambda_jet0 = 3e-10\n",
    "method = 4\n",
    "\n",
    "degree_jet0 = 3\n",
    "\n",
    "tX_reformed_jet0 = tX_cleaned_jet0.copy()\n",
    "w0 = np.ones([1,tX_reformed_jet0.shape[0]])\n",
    "tX_reformed_jet0 = np.insert(tX_reformed_jet0, 0, w0, axis=1)\n",
    "\n",
    "tX_poly_jet0 = md.build_poly(tX_reformed_jet0, degree_jet0)\n",
    "\n",
    "loss_jet0, weights_jet0 = md.ridge_regression(y_jet0, tX_poly_jet0, lambda_jet0)\n",
    "# print(\"\\nweights_RR:\\n\", weights_jet0,\"\\n\")\n",
    "\n",
    "pred_jet0 = prediction(y_jet0, tX_poly_jet0, 0, lambda_jet0, 0, method)\n",
    "print(\"pred_RR = \", pred_jet0)"
   ]
  },
  {
   "cell_type": "markdown",
   "metadata": {},
   "source": [
    "### JET == 1.0"
   ]
  },
  {
   "cell_type": "code",
   "execution_count": 79,
   "metadata": {
    "collapsed": false
   },
   "outputs": [
    {
     "name": "stdout",
     "output_type": "stream",
     "text": [
      "prediction jet1 =  0.790634558222  with lambda:  1e-10  degree:  7\n",
      "prediction jet1 =  0.790548399604  with lambda:  2e-10  degree:  7\n",
      "prediction jet1 =  0.790548399604  with lambda:  3e-10  degree:  7\n",
      "prediction jet1 =  0.790548399604  with lambda:  4e-10  degree:  7\n",
      "prediction jet1 =  0.790505320295  with lambda:  5e-10  degree:  7\n",
      "prediction jet1 =  0.790505320295  with lambda:  6e-10  degree:  7\n",
      "prediction jet1 =  0.790462240986  with lambda:  7e-10  degree:  7\n",
      "prediction jet1 =  0.790505320295  with lambda:  8e-10  degree:  7\n",
      "prediction jet1 =  0.790505320295  with lambda:  9e-10  degree:  7\n",
      "prediction jet1 =  0.790505320295  with lambda:  1e-09  degree:  7\n",
      "prediction jet1 =  0.790462240986  with lambda:  1e-08  degree:  7\n",
      "prediction jet1 =  0.790462240986  with lambda:  1e-07  degree:  7\n",
      "prediction jet1 =  0.790462240986  with lambda:  1e-06  degree:  7\n",
      "prediction jet1 =  0.790548399604  with lambda:  1e-05  degree:  7\n",
      "prediction jet1 =  0.790634558222  with lambda:  0.001  degree:  7\n",
      "prediction jet1 =  0.796837978719  with lambda:  1e-10  degree:  8\n",
      "prediction jet1 =  0.796881058028  with lambda:  2e-10  degree:  8\n",
      "prediction jet1 =  0.796924137337  with lambda:  3e-10  degree:  8\n",
      "prediction jet1 =  0.796924137337  with lambda:  4e-10  degree:  8\n",
      "prediction jet1 =  0.796967216646  with lambda:  5e-10  degree:  8\n",
      "prediction jet1 =  0.796924137337  with lambda:  6e-10  degree:  8\n",
      "prediction jet1 =  0.796924137337  with lambda:  7e-10  degree:  8\n",
      "prediction jet1 =  0.796924137337  with lambda:  8e-10  degree:  8\n",
      "prediction jet1 =  0.796967216646  with lambda:  9e-10  degree:  8\n",
      "prediction jet1 =  0.796924137337  with lambda:  1e-09  degree:  8\n",
      "prediction jet1 =  0.796924137337  with lambda:  1e-08  degree:  8\n",
      "prediction jet1 =  0.796881058028  with lambda:  1e-07  degree:  8\n",
      "prediction jet1 =  0.796967216646  with lambda:  1e-06  degree:  8\n",
      "prediction jet1 =  0.796708740792  with lambda:  1e-05  degree:  8\n",
      "prediction jet1 =  0.796536423556  with lambda:  0.001  degree:  8\n",
      "prediction jet1 =  0.794554775341  with lambda:  0.01  degree:  8\n",
      "prediction jet1 =  0.799767371731  with lambda:  1e-10  degree:  9\n",
      "prediction jet1 =  0.79981045104  with lambda:  2e-10  degree:  9\n",
      "prediction jet1 =  0.799853530349  with lambda:  3e-10  degree:  9\n",
      "prediction jet1 =  0.799939688967  with lambda:  4e-10  degree:  9\n",
      "prediction jet1 =  0.800327402748  with lambda:  5e-10  degree:  9\n",
      "prediction jet1 =  0.79981045104  with lambda:  6e-10  degree:  9\n",
      "prediction jet1 =  0.799896609658  with lambda:  7e-10  degree:  9\n",
      "prediction jet1 =  0.799982768276  with lambda:  8e-10  degree:  9\n",
      "prediction jet1 =  0.799982768276  with lambda:  9e-10  degree:  9\n",
      "prediction jet1 =  0.799982768276  with lambda:  1e-09  degree:  9\n",
      "prediction jet1 =  0.799939688967  with lambda:  1e-08  degree:  9\n",
      "prediction jet1 =  0.799939688967  with lambda:  1e-07  degree:  9\n",
      "prediction jet1 =  0.800025847585  with lambda:  1e-06  degree:  9\n",
      "prediction jet1 =  0.800112006203  with lambda:  1e-05  degree:  9\n",
      "prediction jet1 =  0.799767371731  with lambda:  0.001  degree:  9\n",
      "prediction jet1 =  0.798130357989  with lambda:  0.01  degree:  9\n",
      "prediction jet1 =  0.799896609658  with lambda:  1e-10  degree:  10\n",
      "prediction jet1 =  0.800112006203  with lambda:  2e-10  degree:  10\n",
      "prediction jet1 =  0.799078102787  with lambda:  3e-10  degree:  10\n",
      "prediction jet1 =  0.799551975186  with lambda:  4e-10  degree:  10\n",
      "prediction jet1 =  0.799595054495  with lambda:  5e-10  degree:  10\n",
      "prediction jet1 =  0.799336578641  with lambda:  6e-10  degree:  10\n",
      "prediction jet1 =  0.798819626933  with lambda:  7e-10  degree:  10\n",
      "prediction jet1 =  0.799078102787  with lambda:  8e-10  degree:  10\n",
      "prediction jet1 =  0.799293499332  with lambda:  9e-10  degree:  10\n",
      "prediction jet1 =  0.799638133804  with lambda:  1e-09  degree:  10\n",
      "prediction jet1 =  0.800413561366  with lambda:  1e-07  degree:  10\n",
      "prediction jet1 =  0.800327402748  with lambda:  1e-06  degree:  10\n",
      "prediction jet1 =  0.800499719984  with lambda:  1e-05  degree:  10\n",
      "prediction jet1 =  0.800413561366  with lambda:  0.001  degree:  10\n",
      "prediction jet1 =  0.799121182096  with lambda:  0.01  degree:  10\n",
      "prediction jet1 =  0.800327402748  with lambda:  1e-10  degree:  11\n",
      "prediction jet1 =  0.800025847585  with lambda:  2e-10  degree:  11\n",
      "prediction jet1 =  0.80024124413  with lambda:  3e-10  degree:  11\n",
      "prediction jet1 =  0.798388833843  with lambda:  4e-10  degree:  11\n",
      "prediction jet1 =  0.800456640675  with lambda:  6e-10  degree:  11\n",
      "prediction jet1 =  0.797914961444  with lambda:  7e-10  degree:  11\n",
      "prediction jet1 =  0.797096454573  with lambda:  8e-10  degree:  11\n",
      "prediction jet1 =  0.798345754534  with lambda:  1e-07  degree:  11\n",
      "prediction jet1 =  0.800499719984  with lambda:  1e-06  degree:  11\n",
      "prediction jet1 =  0.800628957912  with lambda:  1e-05  degree:  11\n",
      "prediction jet1 =  0.800499719984  with lambda:  0.001  degree:  11\n",
      "prediction jet1 =  0.799035023478  with lambda:  0.01  degree:  11\n",
      "prediction jet1 =  0.800887433766  with lambda:  1e-10  degree:  12\n",
      "prediction jet1 =  0.791926937492  with lambda:  2e-10  degree:  12\n",
      "prediction jet1 =  0.801361306165  with lambda:  3e-10  degree:  12\n",
      "prediction jet1 =  0.802739844053  with lambda:  5e-10  degree:  12\n",
      "prediction jet1 =  0.802826002671  with lambda:  6e-10  degree:  12\n",
      "prediction jet1 =  0.798733468315  with lambda:  8e-10  degree:  12\n",
      "prediction jet1 =  0.801705940637  with lambda:  9e-10  degree:  12\n",
      "prediction jet1 =  0.800112006203  with lambda:  1e-09  degree:  12\n",
      "prediction jet1 =  0.799078102787  with lambda:  1e-08  degree:  12\n",
      "prediction jet1 =  0.800585878603  with lambda:  1e-07  degree:  12\n",
      "prediction jet1 =  0.801619782019  with lambda:  1e-06  degree:  12\n",
      "prediction jet1 =  0.800585878603  with lambda:  1e-05  degree:  12\n",
      "prediction jet1 =  0.799121182096  with lambda:  0.001  degree:  12\n",
      "prediction jet1 =  0.799853530349  with lambda:  0.01  degree:  12\n",
      "prediction jet1 =  0.790763796149  with lambda:  1e-10  degree:  13\n",
      "prediction jet1 =  0.794382458105  with lambda:  2e-10  degree:  13\n",
      "prediction jet1 =  0.797354930427  with lambda:  5e-10  degree:  13\n",
      "prediction jet1 =  0.793219316762  with lambda:  8e-10  degree:  13\n",
      "prediction jet1 =  0.80243828889  with lambda:  1e-06  degree:  13\n",
      "prediction jet1 =  0.801188988929  with lambda:  1e-05  degree:  13\n",
      "prediction jet1 =  0.798733468315  with lambda:  0.001  degree:  13\n",
      "prediction jet1 =  0.800456640675  with lambda:  0.01  degree:  13\n"
     ]
    }
   ],
   "source": [
    "pred_jet1_VEC = np.zeros((len(lambdas)*len(degrees), 1))\n",
    "i = 0\n",
    "\n",
    "method = 4\n",
    "\n",
    "tX_reformed_jet0 = tX_cleaned_jet0.copy()\n",
    "w0 = np.ones([1,tX_reformed_jet0.shape[0]])\n",
    "tX_reformed_jet0 = np.insert(tX_reformed_jet0, 0, w0, axis=1)\n",
    "\n",
    "for deg in degrees:\n",
    "    for lam in lambdas:\n",
    "\n",
    "        tX_poly_jet1 = md.build_poly(tX_reformed_jet1, deg)\n",
    "\n",
    "        loss_jet1, weights_jet1 = md.ridge_regression(y_jet1, tX_poly_jet1, lam)\n",
    "        # print(\"\\nweights_RR:\\n\", weights_jet0,\"\\n\")\n",
    "\n",
    "        pred_jet1 = prediction(y_jet1, tX_poly_jet1, 0, lam, 0, method)\n",
    "        pred_jet1_VEC[i] = pred_jet1\n",
    "        i = i + 1\n",
    "        if pred_jet1 > 0.8 :\n",
    "            print(\"prediction jet1 = \", pred_jet1, \" with lambda: \", str(lam), \" degree: \", str(deg))"
   ]
  },
  {
   "cell_type": "code",
   "execution_count": 112,
   "metadata": {
    "collapsed": false
   },
   "outputs": [
    {
     "name": "stdout",
     "output_type": "stream",
     "text": [
      "pred_RR =  0.802826002671\n"
     ]
    }
   ],
   "source": [
    "lambda_jet1 = 3e-10\n",
    "method = 4\n",
    "\n",
    "degree_jet1 = 9\n",
    "\n",
    "tX_reformed_jet1 = tX_cleaned_jet1.copy()\n",
    "w0 = np.ones([1,tX_reformed_jet1.shape[0]])\n",
    "tX_reformed_jet1 = np.insert(tX_reformed_jet1, 0, w0, axis=1)\n",
    "\n",
    "tX_poly_jet1 = md.build_poly(tX_reformed_jet1, degree_jet1)\n",
    "\n",
    "loss_jet1, weights_jet1 = md.ridge_regression(y_jet1, tX_poly_jet1, lambda_jet1)\n",
    "# print(\"\\nweights_RR:\\n\", weights_jet2,\"\\n\")\n",
    "\n",
    "pred_jet2 = prediction(y_jet1, tX_poly_jet1, 0, lambda_jet1, 0, method)\n",
    "print(\"pred_RR = \", pred_jet1)"
   ]
  },
  {
   "cell_type": "markdown",
   "metadata": {},
   "source": [
    "### JET == 2.0"
   ]
  },
  {
   "cell_type": "code",
   "execution_count": 81,
   "metadata": {
    "collapsed": false
   },
   "outputs": [
    {
     "name": "stdout",
     "output_type": "stream",
     "text": [
      "prediction jet1 =  0.805863235392  with lambda:  1e-10  degree:  4\n",
      "prediction jet1 =  0.805863235392  with lambda:  2e-10  degree:  4\n",
      "prediction jet1 =  0.805796909199  with lambda:  3e-10  degree:  4\n",
      "prediction jet1 =  0.805730583007  with lambda:  4e-10  degree:  4\n",
      "prediction jet1 =  0.805730583007  with lambda:  5e-10  degree:  4\n",
      "prediction jet1 =  0.805730583007  with lambda:  6e-10  degree:  4\n",
      "prediction jet1 =  0.805730583007  with lambda:  7e-10  degree:  4\n",
      "prediction jet1 =  0.805796909199  with lambda:  8e-10  degree:  4\n",
      "prediction jet1 =  0.805796909199  with lambda:  9e-10  degree:  4\n",
      "prediction jet1 =  0.805796909199  with lambda:  1e-09  degree:  4\n",
      "prediction jet1 =  0.805531604431  with lambda:  1e-08  degree:  4\n",
      "prediction jet1 =  0.805664256815  with lambda:  1e-07  degree:  4\n",
      "prediction jet1 =  0.805531604431  with lambda:  1e-06  degree:  4\n",
      "prediction jet1 =  0.805597930623  with lambda:  1e-05  degree:  4\n",
      "prediction jet1 =  0.80672547589  with lambda:  0.001  degree:  4\n",
      "prediction jet1 =  0.807521390197  with lambda:  0.01  degree:  4\n",
      "prediction jet1 =  0.800888770976  with lambda:  0.1  degree:  4\n",
      "prediction jet1 =  0.806791802083  with lambda:  1e-10  degree:  5\n",
      "prediction jet1 =  0.806791802083  with lambda:  2e-10  degree:  5\n",
      "prediction jet1 =  0.806791802083  with lambda:  3e-10  degree:  5\n",
      "prediction jet1 =  0.806791802083  with lambda:  4e-10  degree:  5\n",
      "prediction jet1 =  0.806791802083  with lambda:  5e-10  degree:  5\n",
      "prediction jet1 =  0.806858128275  with lambda:  6e-10  degree:  5\n",
      "prediction jet1 =  0.806858128275  with lambda:  7e-10  degree:  5\n",
      "prediction jet1 =  0.806924454467  with lambda:  8e-10  degree:  5\n",
      "prediction jet1 =  0.806924454467  with lambda:  9e-10  degree:  5\n",
      "prediction jet1 =  0.806924454467  with lambda:  1e-09  degree:  5\n",
      "prediction jet1 =  0.807123433044  with lambda:  1e-08  degree:  5\n",
      "prediction jet1 =  0.80732241162  with lambda:  1e-07  degree:  5\n",
      "prediction jet1 =  0.80732241162  with lambda:  1e-06  degree:  5\n",
      "prediction jet1 =  0.807388737813  with lambda:  1e-05  degree:  5\n",
      "prediction jet1 =  0.807587716389  with lambda:  0.001  degree:  5\n",
      "prediction jet1 =  0.807786694966  with lambda:  0.01  degree:  5\n",
      "prediction jet1 =  0.810638721231  with lambda:  1e-10  degree:  6\n",
      "prediction jet1 =  0.810638721231  with lambda:  2e-10  degree:  6\n",
      "prediction jet1 =  0.810638721231  with lambda:  3e-10  degree:  6\n",
      "prediction jet1 =  0.810638721231  with lambda:  4e-10  degree:  6\n",
      "prediction jet1 =  0.810638721231  with lambda:  5e-10  degree:  6\n",
      "prediction jet1 =  0.810572395039  with lambda:  6e-10  degree:  6\n",
      "prediction jet1 =  0.810572395039  with lambda:  7e-10  degree:  6\n",
      "prediction jet1 =  0.810572395039  with lambda:  8e-10  degree:  6\n",
      "prediction jet1 =  0.810638721231  with lambda:  9e-10  degree:  6\n",
      "prediction jet1 =  0.810705047423  with lambda:  1e-09  degree:  6\n",
      "prediction jet1 =  0.810837699808  with lambda:  1e-08  degree:  6\n",
      "prediction jet1 =  0.810837699808  with lambda:  1e-07  degree:  6\n",
      "prediction jet1 =  0.810970352192  with lambda:  1e-06  degree:  6\n",
      "prediction jet1 =  0.811036678384  with lambda:  1e-05  degree:  6\n",
      "prediction jet1 =  0.810373416462  with lambda:  0.001  degree:  6\n",
      "prediction jet1 =  0.810572395039  with lambda:  0.01  degree:  6\n",
      "prediction jet1 =  0.802745904358  with lambda:  0.1  degree:  6\n",
      "prediction jet1 =  0.818730516681  with lambda:  1e-10  degree:  7\n",
      "prediction jet1 =  0.818664190489  with lambda:  2e-10  degree:  7\n",
      "prediction jet1 =  0.818664190489  with lambda:  3e-10  degree:  7\n",
      "prediction jet1 =  0.818664190489  with lambda:  4e-10  degree:  7\n",
      "prediction jet1 =  0.818664190489  with lambda:  5e-10  degree:  7\n",
      "prediction jet1 =  0.818664190489  with lambda:  6e-10  degree:  7\n",
      "prediction jet1 =  0.818664190489  with lambda:  7e-10  degree:  7\n",
      "prediction jet1 =  0.818664190489  with lambda:  8e-10  degree:  7\n",
      "prediction jet1 =  0.818664190489  with lambda:  9e-10  degree:  7\n",
      "prediction jet1 =  0.818664190489  with lambda:  1e-09  degree:  7\n",
      "prediction jet1 =  0.818597864297  with lambda:  1e-08  degree:  7\n",
      "prediction jet1 =  0.818796842873  with lambda:  1e-07  degree:  7\n",
      "prediction jet1 =  0.819062147642  with lambda:  1e-06  degree:  7\n",
      "prediction jet1 =  0.819261126219  with lambda:  1e-05  degree:  7\n",
      "prediction jet1 =  0.820720302447  with lambda:  0.001  degree:  7\n",
      "prediction jet1 =  0.819128473834  with lambda:  0.01  degree:  7\n",
      "prediction jet1 =  0.809378523579  with lambda:  0.1  degree:  7\n",
      "prediction jet1 =  0.828148835975  with lambda:  1e-10  degree:  8\n",
      "prediction jet1 =  0.828215162168  with lambda:  2e-10  degree:  8\n",
      "prediction jet1 =  0.828215162168  with lambda:  3e-10  degree:  8\n",
      "prediction jet1 =  0.828215162168  with lambda:  4e-10  degree:  8\n",
      "prediction jet1 =  0.828215162168  with lambda:  5e-10  degree:  8\n",
      "prediction jet1 =  0.828215162168  with lambda:  6e-10  degree:  8\n",
      "prediction jet1 =  0.828215162168  with lambda:  7e-10  degree:  8\n",
      "prediction jet1 =  0.828215162168  with lambda:  8e-10  degree:  8\n",
      "prediction jet1 =  0.828215162168  with lambda:  9e-10  degree:  8\n",
      "prediction jet1 =  0.828215162168  with lambda:  1e-09  degree:  8\n",
      "prediction jet1 =  0.828414140744  with lambda:  1e-08  degree:  8\n",
      "prediction jet1 =  0.828347814552  with lambda:  1e-07  degree:  8\n",
      "prediction jet1 =  0.828613119321  with lambda:  1e-06  degree:  8\n",
      "prediction jet1 =  0.828613119321  with lambda:  1e-05  degree:  8\n",
      "prediction jet1 =  0.828679445513  with lambda:  0.001  degree:  8\n",
      "prediction jet1 =  0.825164157326  with lambda:  0.01  degree:  8\n",
      "prediction jet1 =  0.810041785501  with lambda:  0.1  degree:  8\n",
      "prediction jet1 =  0.830669231279  with lambda:  1e-10  degree:  9\n",
      "prediction jet1 =  0.831398819394  with lambda:  2e-10  degree:  9\n",
      "prediction jet1 =  0.831664124163  with lambda:  3e-10  degree:  9\n",
      "prediction jet1 =  0.832393712277  with lambda:  4e-10  degree:  9\n",
      "prediction jet1 =  0.832990648007  with lambda:  5e-10  degree:  9\n",
      "prediction jet1 =  0.830204947934  with lambda:  6e-10  degree:  9\n",
      "prediction jet1 =  0.832393712277  with lambda:  7e-10  degree:  9\n",
      "prediction jet1 =  0.821184585793  with lambda:  8e-10  degree:  9\n",
      "prediction jet1 =  0.829077402666  with lambda:  9e-10  degree:  9\n",
      "prediction jet1 =  0.818067254759  with lambda:  1e-09  degree:  9\n",
      "prediction jet1 =  0.830536578895  with lambda:  1e-08  degree:  9\n",
      "prediction jet1 =  0.830801883664  with lambda:  1e-07  degree:  9\n",
      "prediction jet1 =  0.830735557472  with lambda:  1e-06  degree:  9\n",
      "prediction jet1 =  0.830868209856  with lambda:  1e-05  degree:  9\n",
      "prediction jet1 =  0.830138621742  with lambda:  0.001  degree:  9\n",
      "prediction jet1 =  0.826026397825  with lambda:  0.01  degree:  9\n",
      "prediction jet1 =  0.810771373615  with lambda:  0.1  degree:  9\n",
      "prediction jet1 =  0.830271274126  with lambda:  1e-10  degree:  10\n",
      "prediction jet1 =  0.825429462095  with lambda:  2e-10  degree:  10\n",
      "prediction jet1 =  0.805730583007  with lambda:  3e-10  degree:  10\n",
      "prediction jet1 =  0.830005969357  with lambda:  4e-10  degree:  10\n",
      "prediction jet1 =  0.830403926511  with lambda:  1e-08  degree:  10\n",
      "prediction jet1 =  0.830801883664  with lambda:  1e-07  degree:  10\n",
      "prediction jet1 =  0.83100086224  with lambda:  1e-06  degree:  10\n",
      "prediction jet1 =  0.831133514625  with lambda:  1e-05  degree:  10\n",
      "prediction jet1 =  0.83100086224  with lambda:  0.001  degree:  10\n",
      "prediction jet1 =  0.826689659747  with lambda:  0.01  degree:  10\n",
      "prediction jet1 =  0.811567287922  with lambda:  0.1  degree:  10\n",
      "prediction jet1 =  0.830337600318  with lambda:  1e-06  degree:  11\n",
      "prediction jet1 =  0.830403926511  with lambda:  1e-05  degree:  11\n",
      "prediction jet1 =  0.830403926511  with lambda:  0.001  degree:  11\n",
      "prediction jet1 =  0.826689659747  with lambda:  0.01  degree:  11\n",
      "prediction jet1 =  0.811103004577  with lambda:  0.1  degree:  11\n",
      "prediction jet1 =  0.813623399881  with lambda:  1e-10  degree:  12\n",
      "prediction jet1 =  0.815613185647  with lambda:  6e-10  degree:  12\n",
      "prediction jet1 =  0.831332493202  with lambda:  1e-05  degree:  12\n",
      "prediction jet1 =  0.830005969357  with lambda:  0.001  degree:  12\n",
      "prediction jet1 =  0.828148835975  with lambda:  0.01  degree:  12\n",
      "prediction jet1 =  0.812230549844  with lambda:  0.1  degree:  12\n",
      "prediction jet1 =  0.819725409564  with lambda:  2e-10  degree:  13\n",
      "prediction jet1 =  0.811832592691  with lambda:  6e-10  degree:  13\n",
      "prediction jet1 =  0.831199840817  with lambda:  9e-10  degree:  13\n",
      "prediction jet1 =  0.832062081316  with lambda:  1e-09  degree:  13\n",
      "prediction jet1 =  0.825363135902  with lambda:  1e-06  degree:  13\n",
      "prediction jet1 =  0.823240697752  with lambda:  1e-05  degree:  13\n",
      "prediction jet1 =  0.821582542946  with lambda:  0.01  degree:  13\n",
      "prediction jet1 =  0.812562180805  with lambda:  0.1  degree:  13\n"
     ]
    }
   ],
   "source": [
    "pred_jet2_VEC = np.zeros((len(lambdas)*len(degrees), 1))\n",
    "i = 0\n",
    "\n",
    "method = 4\n",
    "\n",
    "#tX_reformed_jet0 = tX_cleaned_jet0.copy()\n",
    "#w0 = np.ones([1,tX_reformed_jet0.shape[0]])\n",
    "#tX_reformed_jet0 = np.insert(tX_reformed_jet0, 0, w0, axis=1)\n",
    "\n",
    "for deg in degrees:\n",
    "    for lam in lambdas:\n",
    "\n",
    "        tX_poly_jet2 = md.build_poly(tX_reformed_jet2, deg)\n",
    "\n",
    "        loss_jet2, weights_jet2 = md.ridge_regression(y_jet2, tX_poly_jet2, lam)\n",
    "        # print(\"\\nweights_RR:\\n\", weights_jet0,\"\\n\")\n",
    "\n",
    "        pred_jet2 = prediction(y_jet2, tX_poly_jet2, 0, lam, 0, method)\n",
    "        pred_jet2_VEC[i] = pred_jet2\n",
    "        i = i + 1\n",
    "        if pred_jet2 > 0.83 :\n",
    "            print(\"prediction jet1 = \", pred_jet2, \" with lambda: \", str(lam), \" degree: \", str(deg))"
   ]
  },
  {
   "cell_type": "code",
   "execution_count": 111,
   "metadata": {
    "collapsed": false
   },
   "outputs": [
    {
     "name": "stdout",
     "output_type": "stream",
     "text": [
      "pred_RR =  0.830735557472\n"
     ]
    }
   ],
   "source": [
    "#lambda_jet2 = 1e-10\n",
    "lambda_jet2 = 8e-10\n",
    "method = 4\n",
    "\n",
    "#degree_jet2 = 9\n",
    "degree_jet2 = 9\n",
    "\n",
    "tX_reformed_jet2 = tX_cleaned_jet2.copy()\n",
    "w0 = np.ones([1,tX_reformed_jet2.shape[0]])\n",
    "tX_reformed_jet2 = np.insert(tX_reformed_jet2, 0, w0, axis=1)\n",
    "\n",
    "tX_poly_jet2 = md.build_poly(tX_reformed_jet2, degree_jet2)\n",
    "\n",
    "loss_jet2, weights_jet2 = md.ridge_regression(y_jet2, tX_poly_jet2, lambda_jet2)\n",
    "# print(\"\\nweights_RR:\\n\", weights_jet2,\"\\n\")\n",
    "\n",
    "pred_jet2 = prediction(y_jet2, tX_poly_jet2, 0, lambda_jet2, 0, method)\n",
    "\n",
    "print(\"pred_RR = \", pred_jet2)"
   ]
  },
  {
   "cell_type": "markdown",
   "metadata": {},
   "source": [
    "### JET == 3.0"
   ]
  },
  {
   "cell_type": "code",
   "execution_count": 84,
   "metadata": {
    "collapsed": false
   },
   "outputs": [
    {
     "name": "stdout",
     "output_type": "stream",
     "text": [
      "prediction jet1 =  0.823854306613  with lambda:  1e-10  degree:  8\n",
      "prediction jet1 =  0.823705030602  with lambda:  2e-10  degree:  8\n",
      "prediction jet1 =  0.823705030602  with lambda:  3e-10  degree:  8\n",
      "prediction jet1 =  0.823705030602  with lambda:  4e-10  degree:  8\n",
      "prediction jet1 =  0.823705030602  with lambda:  5e-10  degree:  8\n",
      "prediction jet1 =  0.823705030602  with lambda:  6e-10  degree:  8\n",
      "prediction jet1 =  0.823705030602  with lambda:  7e-10  degree:  8\n",
      "prediction jet1 =  0.823705030602  with lambda:  8e-10  degree:  8\n",
      "prediction jet1 =  0.823705030602  with lambda:  9e-10  degree:  8\n",
      "prediction jet1 =  0.823705030602  with lambda:  1e-09  degree:  8\n",
      "prediction jet1 =  0.824152858636  with lambda:  1e-08  degree:  8\n",
      "prediction jet1 =  0.824152858636  with lambda:  1e-07  degree:  8\n",
      "prediction jet1 =  0.824451410658  with lambda:  1e-06  degree:  8\n",
      "prediction jet1 =  0.82460068667  with lambda:  1e-05  degree:  8\n",
      "prediction jet1 =  0.825347066726  with lambda:  0.0001  degree:  8\n",
      "prediction jet1 =  0.824749962681  with lambda:  0.001  degree:  8\n",
      "prediction jet1 =  0.820271682341  with lambda:  0.01  degree:  8\n",
      "prediction jet1 =  0.82907896701  with lambda:  1e-10  degree:  9\n",
      "prediction jet1 =  0.828929690999  with lambda:  2e-10  degree:  9\n",
      "prediction jet1 =  0.82907896701  with lambda:  3e-10  degree:  9\n",
      "prediction jet1 =  0.828929690999  with lambda:  4e-10  degree:  9\n",
      "prediction jet1 =  0.828929690999  with lambda:  5e-10  degree:  9\n",
      "prediction jet1 =  0.828929690999  with lambda:  6e-10  degree:  9\n",
      "prediction jet1 =  0.828929690999  with lambda:  7e-10  degree:  9\n",
      "prediction jet1 =  0.828929690999  with lambda:  8e-10  degree:  9\n",
      "prediction jet1 =  0.828929690999  with lambda:  9e-10  degree:  9\n",
      "prediction jet1 =  0.828929690999  with lambda:  1e-09  degree:  9\n",
      "prediction jet1 =  0.82907896701  with lambda:  1e-08  degree:  9\n",
      "prediction jet1 =  0.829526795044  with lambda:  1e-07  degree:  9\n",
      "prediction jet1 =  0.828929690999  with lambda:  1e-06  degree:  9\n",
      "prediction jet1 =  0.82907896701  with lambda:  1e-05  degree:  9\n",
      "prediction jet1 =  0.829228243021  with lambda:  0.0001  degree:  9\n",
      "prediction jet1 =  0.829825347067  with lambda:  0.001  degree:  9\n",
      "prediction jet1 =  0.824003582624  with lambda:  0.01  degree:  9\n",
      "prediction jet1 =  0.82907896701  with lambda:  1e-07  degree:  10\n",
      "prediction jet1 =  0.829228243021  with lambda:  1e-06  degree:  10\n",
      "prediction jet1 =  0.829377519033  with lambda:  1e-05  degree:  10\n",
      "prediction jet1 =  0.827436930885  with lambda:  0.0001  degree:  10\n",
      "prediction jet1 =  0.828631138976  with lambda:  0.001  degree:  10\n",
      "prediction jet1 =  0.82460068667  with lambda:  0.01  degree:  10\n",
      "prediction jet1 =  0.829676071055  with lambda:  1e-06  degree:  11\n",
      "prediction jet1 =  0.829974623078  with lambda:  1e-05  degree:  11\n",
      "prediction jet1 =  0.831765935214  with lambda:  0.0001  degree:  11\n",
      "prediction jet1 =  0.830571727123  with lambda:  0.001  degree:  11\n",
      "prediction jet1 =  0.825197790715  with lambda:  0.01  degree:  11\n",
      "prediction jet1 =  0.832064487237  with lambda:  1e-05  degree:  12\n",
      "prediction jet1 =  0.827735482908  with lambda:  0.0001  degree:  12\n",
      "prediction jet1 =  0.832512315271  with lambda:  0.001  degree:  12\n",
      "prediction jet1 =  0.822510822511  with lambda:  0.01  degree:  12\n",
      "prediction jet1 =  0.827436930885  with lambda:  2e-10  degree:  13\n",
      "prediction jet1 =  0.836542767577  with lambda:  4e-10  degree:  13\n",
      "prediction jet1 =  0.833855799373  with lambda:  8e-10  degree:  13\n",
      "prediction jet1 =  0.824003582624  with lambda:  1e-07  degree:  13\n",
      "prediction jet1 =  0.836990595611  with lambda:  0.0001  degree:  13\n",
      "prediction jet1 =  0.832064487237  with lambda:  0.001  degree:  13\n",
      "prediction jet1 =  0.820420958352  with lambda:  0.01  degree:  13\n"
     ]
    }
   ],
   "source": [
    "pred_jet3_VEC = np.zeros((len(lambdas)*len(degrees), 1))\n",
    "i = 0\n",
    "\n",
    "method = 4\n",
    "\n",
    "#tX_reformed_jet0 = tX_cleaned_jet0.copy()\n",
    "#w0 = np.ones([1,tX_reformed_jet0.shape[0]])\n",
    "#tX_reformed_jet0 = np.insert(tX_reformed_jet0, 0, w0, axis=1)\n",
    "\n",
    "for deg in degrees:\n",
    "    for lam in lambdas:\n",
    "\n",
    "        tX_poly_jet3 = md.build_poly(tX_reformed_jet3, deg)\n",
    "\n",
    "        loss_jet3, weights_jet3 = md.ridge_regression(y_jet3, tX_poly_jet3, lam)\n",
    "        # print(\"\\nweights_RR:\\n\", weights_jet0,\"\\n\")\n",
    "\n",
    "        pred_jet3 = prediction(y_jet3, tX_poly_jet3, 0, lam, 0, method)\n",
    "        pred_jet3_VEC[i] = pred_jet3\n",
    "        i = i + 1\n",
    "        if pred_jet2 > 0.79 :\n",
    "            print(\"prediction jet1 = \", pred_jet2, \" with lambda: \", str(lam), \" degree: \", str(deg))"
   ]
  },
  {
   "cell_type": "code",
   "execution_count": 110,
   "metadata": {
    "collapsed": false
   },
   "outputs": [
    {
     "name": "stdout",
     "output_type": "stream",
     "text": [
      "pred_RR =  0.830571727123\n"
     ]
    }
   ],
   "source": [
    "#lambda_jet3 = 1e-7\n",
    "lambda_jet3 = 1e-7\n",
    "method = 4\n",
    "\n",
    "#degree_jet3 = 10\n",
    "degree_jet3 = 10\n",
    "\n",
    "tX_reformed_jet3 = tX_cleaned_jet3.copy()\n",
    "w0 = np.ones([1,tX_reformed_jet3.shape[0]])\n",
    "tX_reformed_jet3 = np.insert(tX_reformed_jet3, 0, w0, axis=1)\n",
    "\n",
    "tX_poly_jet3 = md.build_poly(tX_reformed_jet3, degree_jet3)\n",
    "\n",
    "loss_jet3, weights_jet3 = md.ridge_regression(y_jet3, tX_poly_jet3, lambda_jet3)\n",
    "# print(\"\\nweights_RR:\\n\", weights_jet3,\"\\n\")\n",
    "\n",
    "pred_jet3 = prediction(y_jet3, tX_poly_jet3, 0, lambda_jet3, 0, method)\n",
    "print(\"pred_RR = \", pred_jet3)"
   ]
  },
  {
   "cell_type": "markdown",
   "metadata": {},
   "source": [
    "## Making the submission file"
   ]
  },
  {
   "cell_type": "code",
   "execution_count": 86,
   "metadata": {
    "collapsed": false
   },
   "outputs": [
    {
     "data": {
      "text/plain": [
       "(568238, 30)"
      ]
     },
     "execution_count": 86,
     "metadata": {},
     "output_type": "execute_result"
    }
   ],
   "source": [
    "DATA_TEST_PATH = '../data/test.csv' \n",
    "_, tX_test, ids_test = load_csv_data(DATA_TEST_PATH)\n",
    "tX_test.shape"
   ]
  },
  {
   "cell_type": "code",
   "execution_count": 87,
   "metadata": {
    "collapsed": false
   },
   "outputs": [],
   "source": [
    "tX_test_jet0, indexes_test_jet0, tX_test_jet1, indexes_test_jet1, tX_test_jet2, indexes_test_jet2, tX_test_jet3, indexes_test_jet3 = md.separating_by_jet(tX_test)\n",
    "\n",
    "tX_test_cleaned_jet0, _ = md.clean_data(tX_test_jet0, medians_jet0)\n",
    "tX_test_cleaned_jet1, _ = md.clean_data(tX_test_jet1, medians_jet1)\n",
    "tX_test_cleaned_jet2, _ = md.clean_data(tX_test_jet2, medians_jet2)\n",
    "tX_test_cleaned_jet3, _ = md.clean_data(tX_test_jet3, medians_jet3)"
   ]
  },
  {
   "cell_type": "code",
   "execution_count": 88,
   "metadata": {
    "collapsed": true
   },
   "outputs": [],
   "source": [
    "tX_test_reformed_jet0, _, _ = md.standardize(tX_test_cleaned_jet0, means_jet0, stds_jet0)\n",
    "\n",
    "tX_test_reformed_jet1, _, _ = md.standardize(tX_test_cleaned_jet1, means_jet1, stds_jet1)\n",
    "\n",
    "tX_test_reformed_jet2, _, _ = md.standardize(tX_test_cleaned_jet2, means_jet2, stds_jet2)\n",
    "\n",
    "tX_test_reformed_jet3, _, _ = md.standardize(tX_test_cleaned_jet3, means_jet3, stds_jet3)"
   ]
  },
  {
   "cell_type": "code",
   "execution_count": 89,
   "metadata": {
    "collapsed": true
   },
   "outputs": [],
   "source": [
    "tX_test_poly_jet0 = md.build_poly(tX_test_reformed_jet0, degree_jet0)\n",
    "tX_test_poly_jet1 = md.build_poly(tX_test_reformed_jet1, degree_jet1)\n",
    "tX_test_poly_jet2 = md.build_poly(tX_test_reformed_jet2, degree_jet2)\n",
    "tX_test_poly_jet3 = md.build_poly(tX_test_reformed_jet3, degree_jet3)"
   ]
  },
  {
   "cell_type": "code",
   "execution_count": 90,
   "metadata": {
    "collapsed": true
   },
   "outputs": [],
   "source": [
    "y_pred_jet0 = predict_labels(weights_jet0, tX_test_poly_jet0)\n",
    "y_pred_jet1 = predict_labels(weights_jet1, tX_test_poly_jet1)\n",
    "y_pred_jet2 = predict_labels(weights_jet2, tX_test_poly_jet2)\n",
    "y_pred_jet3 = predict_labels(weights_jet3, tX_test_poly_jet3)"
   ]
  },
  {
   "cell_type": "code",
   "execution_count": 91,
   "metadata": {
    "collapsed": true
   },
   "outputs": [],
   "source": [
    "y_pred_final = np.ones((tX_test.shape[0], 1))\n",
    "a = 0\n",
    "b = 0\n",
    "c = 0\n",
    "d = 0\n",
    "for i in range(0, y_pred_final.shape[0]):\n",
    "    if indexes_test_jet0[i] == True:\n",
    "        y_pred_final[i] = y_pred_jet0[a]\n",
    "        a = a + 1\n",
    "    if indexes_test_jet1[i] == True:\n",
    "        y_pred_final[i] = y_pred_jet1[b]\n",
    "        b = b + 1\n",
    "    if indexes_test_jet2[i] == True:\n",
    "        y_pred_final[i] = y_pred_jet2[c]\n",
    "        c = c + 1\n",
    "    if indexes_test_jet3[i] == True:\n",
    "        y_pred_final[i] = y_pred_jet3[d]\n",
    "        d = d + 1"
   ]
  },
  {
   "cell_type": "code",
   "execution_count": 92,
   "metadata": {
    "collapsed": false
   },
   "outputs": [
    {
     "data": {
      "text/plain": [
       "(568238, 1)"
      ]
     },
     "execution_count": 92,
     "metadata": {},
     "output_type": "execute_result"
    }
   ],
   "source": [
    "y_pred_final.shape"
   ]
  },
  {
   "cell_type": "code",
   "execution_count": 93,
   "metadata": {
    "collapsed": true
   },
   "outputs": [],
   "source": [
    "OUTPUT_PATH = '../data/dataSubmission_JET_RR.csv' \n",
    "create_csv_submission(ids_test, y_pred_final, OUTPUT_PATH)"
   ]
  },
  {
   "cell_type": "code",
   "execution_count": 99,
   "metadata": {
    "collapsed": false
   },
   "outputs": [
    {
     "data": {
      "text/plain": [
       "<module 'run' from '/Users/davidrivollet/Programmation/PCML_project1/run.py'>"
      ]
     },
     "execution_count": 99,
     "metadata": {},
     "output_type": "execute_result"
    }
   ],
   "source": [
    "import run\n",
    "run"
   ]
  },
  {
   "cell_type": "code",
   "execution_count": null,
   "metadata": {
    "collapsed": true
   },
   "outputs": [],
   "source": []
  }
 ],
 "metadata": {
  "kernelspec": {
   "display_name": "Python [Root]",
   "language": "python",
   "name": "Python [Root]"
  },
  "language_info": {
   "codemirror_mode": {
    "name": "ipython",
    "version": 3
   },
   "file_extension": ".py",
   "mimetype": "text/x-python",
   "name": "python",
   "nbconvert_exporter": "python",
   "pygments_lexer": "ipython3",
   "version": "3.5.2"
  }
 },
 "nbformat": 4,
 "nbformat_minor": 0
}
