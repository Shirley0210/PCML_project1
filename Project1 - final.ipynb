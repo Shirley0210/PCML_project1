{
 "cells": [
  {
   "cell_type": "markdown",
   "metadata": {},
   "source": [
    "# PROJECT 1: Higgs Boson"
   ]
  },
  {
   "cell_type": "code",
   "execution_count": 1,
   "metadata": {
    "collapsed": true
   },
   "outputs": [],
   "source": [
    "# Useful starting lines\n",
    "%matplotlib inline\n",
    "import numpy as np\n",
    "import matplotlib.pyplot as plt\n",
    "%load_ext autoreload\n",
    "%autoreload 2\n",
    "\n",
    "# Library only used for observing the data in a more visual way.\n",
    "import pandas as pd"
   ]
  },
  {
   "cell_type": "code",
   "execution_count": 60,
   "metadata": {
    "collapsed": true
   },
   "outputs": [],
   "source": [
    "# Imports our methods\n",
    "import methods as md\n",
    "\n",
    "from helpers import *"
   ]
  },
  {
   "cell_type": "code",
   "execution_count": 2,
   "metadata": {
    "collapsed": true
   },
   "outputs": [],
   "source": [
    "from proj1_helpers import *\n",
    "DATA_TRAIN_PATH = '../data/train.csv'\n",
    "y, tX, ids = load_csv_data(DATA_TRAIN_PATH)"
   ]
  },
  {
   "cell_type": "code",
   "execution_count": 62,
   "metadata": {
    "collapsed": false
   },
   "outputs": [
    {
     "ename": "ValueError",
     "evalue": "too many values to unpack (expected 4)",
     "output_type": "error",
     "traceback": [
      "\u001b[0;31m---------------------------------------------------------------------------\u001b[0m",
      "\u001b[0;31mValueError\u001b[0m                                Traceback (most recent call last)",
      "\u001b[0;32m<ipython-input-62-459b786432b8>\u001b[0m in \u001b[0;36m<module>\u001b[0;34m()\u001b[0m\n\u001b[0;32m----> 1\u001b[0;31m \u001b[0mtX_cleaned\u001b[0m\u001b[0;34m,\u001b[0m \u001b[0mmedians\u001b[0m\u001b[0;34m,\u001b[0m \u001b[0mmeans\u001b[0m\u001b[0;34m,\u001b[0m \u001b[0mstds\u001b[0m \u001b[0;34m=\u001b[0m \u001b[0mmd\u001b[0m\u001b[0;34m.\u001b[0m\u001b[0mclean_data\u001b[0m\u001b[0;34m(\u001b[0m\u001b[0mtX\u001b[0m\u001b[0;34m)\u001b[0m\u001b[0;34m\u001b[0m\u001b[0m\n\u001b[0m\u001b[1;32m      2\u001b[0m \u001b[0mtX_cleaned\u001b[0m\u001b[0;34m.\u001b[0m\u001b[0mshape\u001b[0m\u001b[0;34m\u001b[0m\u001b[0m\n",
      "\u001b[0;31mValueError\u001b[0m: too many values to unpack (expected 4)"
     ]
    }
   ],
   "source": [
    "tX_cleaned, medians, means, stds = md.clean_data(tX)\n",
    "tX_cleaned.shape"
   ]
  },
  {
   "cell_type": "code",
   "execution_count": 8,
   "metadata": {
    "collapsed": false
   },
   "outputs": [
    {
     "data": {
      "text/plain": [
       "(250000, 31)"
      ]
     },
     "execution_count": 8,
     "metadata": {},
     "output_type": "execute_result"
    }
   ],
   "source": [
    "# normalized data set\n",
    "tX_stand, mean_training, std_training = standardize(tX_cleaned)\n",
    "tX_stand.shape"
   ]
  },
  {
   "cell_type": "markdown",
   "metadata": {},
   "source": [
    "# Prediction"
   ]
  },
  {
   "cell_type": "code",
   "execution_count": 10,
   "metadata": {
    "collapsed": true
   },
   "outputs": [],
   "source": [
    "def split_data(y, x, seed=1):\n",
    "    \"\"\"split the dataset based on the split ratio.\"\"\"\n",
    "    # set seed\n",
    "    np.random.seed(seed)\n",
    "    \n",
    "    # set mask\n",
    "    ratio = 0.7\n",
    "    msk = np.random.rand(len(y)) < ratio\n",
    "    \n",
    "    # training data set\n",
    "    x_tr = x[msk]\n",
    "    y_tr = y[msk]\n",
    "    \n",
    "    # test data set\n",
    "    x_test = x[~msk]\n",
    "    y_test = y[~msk]\n",
    "    \n",
    "    return x_tr, x_test, y_tr, y_test"
   ]
  },
  {
   "cell_type": "code",
   "execution_count": 14,
   "metadata": {
    "collapsed": true
   },
   "outputs": [],
   "source": [
    "def prediction(y, tX, gamma, lambda_, max_iters, method):\n",
    "    # split data\n",
    "    x_tr, x_test, y_tr, y_test = split_data(y, tX)\n",
    "    \n",
    "    # training\n",
    "    loss = 0\n",
    "    weights = []\n",
    "    if method == 1:\n",
    "        loss, weights = md.least_squares_GD(y_tr, x_tr, gamma, max_iters)\n",
    "    elif method == 2:\n",
    "        loss, weights = md.least_squares_SGD(y_tr, x_tr, gamma, max_iters)\n",
    "    elif method == 3:\n",
    "        loss, weights = md.least_squares(y_tr, x_tr)\n",
    "    elif method == 4:\n",
    "        loss, weights = md.ridge_regression(y_tr, x_tr, lambda_)\n",
    "    elif method == 5:\n",
    "        loss, weights = md.logistic_regression(y_tr, x_tr, gamma, max_iters)\n",
    "    else:\n",
    "        loss, weights = md.reg_logistic_regression(y_tr, x_tr, lambda_, gamma, max_iters)\n",
    "        \n",
    "    # compute prediction\n",
    "    y_pred = predict_labels(weights, x_test)    \n",
    "    \n",
    "    # accuracy of the prediction\n",
    "    N = y_test.shape[0]\n",
    "    pred = np.sum(y_pred == y_test)/N\n",
    "        \n",
    "    return pred"
   ]
  },
  {
   "cell_type": "markdown",
   "metadata": {},
   "source": [
    "# Training and testing in local"
   ]
  },
  {
   "cell_type": "code",
   "execution_count": 9,
   "metadata": {
    "collapsed": false
   },
   "outputs": [
    {
     "name": "stderr",
     "output_type": "stream",
     "text": [
      "/Users/davidrivollet/anaconda/lib/python3.5/site-packages/ipykernel/__main__.py:3: VisibleDeprecationWarning: using a non-integer number instead of an integer will result in an error in the future\n",
      "  app.launch_new_instance()\n",
      "/Users/davidrivollet/anaconda/lib/python3.5/site-packages/ipykernel/__main__.py:4: VisibleDeprecationWarning: using a non-integer number instead of an integer will result in an error in the future\n",
      "/Users/davidrivollet/anaconda/lib/python3.5/site-packages/ipykernel/__main__.py:6: VisibleDeprecationWarning: using a non-integer number instead of an integer will result in an error in the future\n",
      "/Users/davidrivollet/anaconda/lib/python3.5/site-packages/ipykernel/__main__.py:7: VisibleDeprecationWarning: using a non-integer number instead of an integer will result in an error in the future\n",
      "/Users/davidrivollet/anaconda/lib/python3.5/site-packages/numpy/core/numeric.py:190: VisibleDeprecationWarning: using a non-integer number instead of an integer will result in an error in the future\n",
      "  a = empty(shape, dtype, order)\n",
      "/Users/davidrivollet/anaconda/lib/python3.5/site-packages/ipykernel/__main__.py:13: VisibleDeprecationWarning: using a non-integer number instead of an integer will result in an error in the future\n",
      "/Users/davidrivollet/anaconda/lib/python3.5/site-packages/ipykernel/__main__.py:14: VisibleDeprecationWarning: using a non-integer number instead of an integer will result in an error in the future\n"
     ]
    }
   ],
   "source": [
    "N = y.shape[0]\n",
    "\n",
    "y1 = y[:N/2].copy()\n",
    "y2 = y[N/2:].copy()\n",
    "\n",
    "tX1 = tX_cleaned[:N/2, :].copy()\n",
    "tX2 = tX_cleaned[N/2:, :].copy()\n",
    "\n",
    "w0 = np.ones([1,N/2])\n",
    "tX1 = np.insert(tX1, 0, w0, axis=1)\n",
    "tX2 = np.insert(tX2, 0, w0, axis=1)\n",
    "\n",
    "ids1 = ids[:N/2].copy()\n",
    "ids2 = ids[N/2:].copy()"
   ]
  },
  {
   "cell_type": "markdown",
   "metadata": {},
   "source": [
    "### Linear regression - gradient descent"
   ]
  },
  {
   "cell_type": "code",
   "execution_count": 15,
   "metadata": {
    "collapsed": false
   },
   "outputs": [
    {
     "name": "stdout",
     "output_type": "stream",
     "text": [
      "\n",
      "weights_GD:\n",
      " [ -3.54470631e-06  -3.77995796e-04  -4.07834465e-04  -2.84403949e-04\n",
      "   7.29105520e-05  -4.05523964e-06   3.90119510e-05  -5.58156576e-06\n",
      "  -8.41863412e-06  -6.39807247e-05  -1.19121662e-04  -8.12715948e-06\n",
      "   6.99826358e-06  -8.97777865e-07  -2.55889995e-05  -2.22441277e-08\n",
      "  -9.61758493e-08  -1.67152057e-04   1.53747843e-07  -8.08538501e-08\n",
      "  -1.16166926e-04   3.03126011e-07  -3.03064005e-04  -4.06487739e-07\n",
      "  -1.32458131e-04  -7.73419375e-08   9.22489231e-08  -1.61670240e-04\n",
      "   6.52819501e-08  -8.90173351e-08   7.36194363e-05] \n",
      "\n",
      "pred_GD =  0.657165668663\n"
     ]
    }
   ],
   "source": [
    "max_iters_GD_test = 2000\n",
    "gamma_GD_test = 1.0e-8\n",
    "method = 1\n",
    "\n",
    "loss_GD_test, weights_GD_test = md.least_squares_GD(y1, tX1, gamma_GD_test, max_iters_GD_test)\n",
    "pred_GD_test = prediction(y1, tX1, gamma_GD_test, 0, max_iters_GD_test, method)\n",
    "\n",
    "print(\"\\nweights_GD:\\n\", weights_GD_test,\"\\n\")\n",
    "print(\"pred_GD = \", pred_GD_test)"
   ]
  },
  {
   "cell_type": "code",
   "execution_count": 16,
   "metadata": {
    "collapsed": false
   },
   "outputs": [
    {
     "data": {
      "text/plain": [
       "65.6112"
      ]
     },
     "execution_count": 16,
     "metadata": {},
     "output_type": "execute_result"
    }
   ],
   "source": [
    "y_pred_GD_test = predict_labels(weights_GD_test, tX2)\n",
    "n_correct_GD = np.count_nonzero((y_pred_GD_test - y2) == 0)\n",
    "perc_correct_GD = n_correct_GD/(N/2) * 100\n",
    "perc_correct_GD"
   ]
  },
  {
   "cell_type": "markdown",
   "metadata": {},
   "source": [
    "### Linear regression - stochastic gradient descent"
   ]
  },
  {
   "cell_type": "code",
   "execution_count": 17,
   "metadata": {
    "collapsed": false
   },
   "outputs": [
    {
     "name": "stdout",
     "output_type": "stream",
     "text": [
      "\n",
      "weights_SGD:\n",
      " [ -2.67098353e-05  -4.31735155e-04  -4.64078907e-03  -6.23668959e-04\n",
      "   1.60196097e-03  -1.78633798e-05   6.00538469e-04  -6.07985820e-05\n",
      "  -2.96660350e-05  -6.34888970e-04   5.29729827e-04  -9.51717238e-05\n",
      "   1.07362097e-04  -8.24166309e-07   1.17033232e-03  -1.48473365e-06\n",
      "  -4.31060619e-06  -1.02153542e-03   1.70310500e-06   9.65104093e-07\n",
      "  -9.09251607e-04   4.43525146e-06  -6.00991490e-04  -9.96426647e-07\n",
      "  -9.30440833e-04  -6.11963086e-07   4.41518864e-07  -1.47041694e-03\n",
      "   5.33445006e-07  -1.70304414e-06   3.80933875e-04] \n",
      "\n",
      "pred_SGD =  0.688063872255\n"
     ]
    }
   ],
   "source": [
    "max_iters_SGD_test = 500\n",
    "gamma_SGD_test = 1.0e-8\n",
    "method = 2\n",
    "\n",
    "loss_SGD_test, weights_SGD_test = md.least_squares_SGD(y1, tX1, gamma_SGD_test, max_iters_SGD_test)\n",
    "print(\"\\nweights_SGD:\\n\", weights_SGD_test,\"\\n\")\n",
    "\n",
    "pred_SGD_test = prediction(y1, tX1, gamma_SGD_test, 0, max_iters_SGD_test, method)\n",
    "print(\"pred_SGD = \", pred_SGD_test)"
   ]
  },
  {
   "cell_type": "code",
   "execution_count": 19,
   "metadata": {
    "collapsed": false
   },
   "outputs": [
    {
     "data": {
      "text/plain": [
       "68.976"
      ]
     },
     "execution_count": 19,
     "metadata": {},
     "output_type": "execute_result"
    }
   ],
   "source": [
    "y_pred_SGD_test = predict_labels(weights_SGD_test, tX2)\n",
    "n_correct_SGD = np.count_nonzero((y_pred_SGD_test - y2) == 0)\n",
    "perc_correct_SGD = n_correct_SGD/(N/2) * 100\n",
    "perc_correct_SGD"
   ]
  },
  {
   "cell_type": "markdown",
   "metadata": {},
   "source": [
    "### Least squares"
   ]
  },
  {
   "cell_type": "code",
   "execution_count": 20,
   "metadata": {
    "collapsed": false
   },
   "outputs": [
    {
     "name": "stdout",
     "output_type": "stream",
     "text": [
      "\n",
      "weights_LeastS:\n",
      " [ -1.16074033e+00   1.44296347e-04  -7.13890244e-03  -6.35632610e-03\n",
      "   1.18983305e-04   1.66537567e-02   4.56475343e-04   2.70567148e-03\n",
      "   3.54887909e-01  -1.19904231e-03  -4.22515836e+00  -2.21232683e-01\n",
      "   1.02368577e-01   3.52579962e-01   4.23358426e+00  -3.27685587e-03\n",
      "  -1.63291643e-03   4.23825620e+00   1.63545099e-03   2.70568868e-04\n",
      "   3.04571909e-03  -3.81839093e-04  -3.77901455e-04   4.71385100e-02\n",
      "  -8.23199214e-04   1.15058943e-03  -2.02148685e-03  -1.23809562e-03\n",
      "  -3.37838817e-04  -3.15646992e-03   4.22484938e+00] \n",
      "\n",
      "pred_LeastS =  0.747624750499\n"
     ]
    }
   ],
   "source": [
    "method = 3\n",
    "\n",
    "loss_LeastS_test, weights_LeastS_test = md.least_squares(y1, tX1)\n",
    "print(\"\\nweights_LeastS:\\n\", weights_LeastS_test,\"\\n\")\n",
    "\n",
    "pred_LeastS_test = prediction(y1, tX1, 0, 0, 0, method)\n",
    "print(\"pred_LeastS = \", pred_LeastS_test)"
   ]
  },
  {
   "cell_type": "code",
   "execution_count": 21,
   "metadata": {
    "collapsed": false
   },
   "outputs": [
    {
     "data": {
      "text/plain": [
       "74.4256"
      ]
     },
     "execution_count": 21,
     "metadata": {},
     "output_type": "execute_result"
    }
   ],
   "source": [
    "y_pred_LS_test = predict_labels(weights_LeastS_test, tX2)\n",
    "n_correct_LS = np.count_nonzero((y_pred_LS_test - y2) == 0)\n",
    "perc_correct_LS = n_correct_LS/(N/2) * 100\n",
    "perc_correct_LS"
   ]
  },
  {
   "cell_type": "markdown",
   "metadata": {},
   "source": [
    "### Ridge regression"
   ]
  },
  {
   "cell_type": "code",
   "execution_count": 25,
   "metadata": {
    "collapsed": false
   },
   "outputs": [
    {
     "name": "stdout",
     "output_type": "stream",
     "text": [
      "\n",
      "weights_RR:\n",
      " [ -3.86969953e+08   1.50486309e+10  -1.30113548e+08   2.35420823e+09\n",
      "  -1.41596648e+10  -3.01106458e+09   1.45020186e+09  -1.16522803e+09\n",
      "  -1.56390486e-05  -1.56390486e-05  -1.56390486e-05  -1.56390486e-05\n",
      "  -1.56390486e-05  -1.56390486e-05  -1.56390486e-05  -1.56390486e-05\n",
      "  -1.56390486e-05  -1.56390486e-05  -1.56390486e-05  -1.56390486e-05\n",
      "  -1.56390486e-05  -1.56390486e-05  -1.56390486e-05  -1.56390486e-05\n",
      "  -1.56395411e-05  -1.56395411e-05  -1.56395411e-05  -1.56395411e-05\n",
      "  -1.56395411e-05  -1.56395411e-05  -1.56395411e-05  -1.56395411e-05\n",
      "  -2.43006108e-05  -1.01446704e-03  -8.71629450e-04  -2.72787078e-03\n",
      "  -6.37547391e-05  -1.90323208e-03  -5.98123167e-04   3.98496044e-04\n",
      "   2.69121805e-04  -3.58214457e-04  -6.39801866e-05   8.66204293e-04\n",
      "   7.44524620e-04  -5.81688437e-04  -1.52705165e-04  -1.11487588e-04\n",
      "  -3.12430511e-04   5.23437497e-05   6.86315054e-05  -3.27494985e-03\n",
      "   6.49369349e-05  -7.92239809e-04  -4.60714929e-05  -1.19120665e-04\n",
      "  -9.97277553e-05   1.94390407e-05  -2.20581692e-04  -5.26954903e-06\n",
      "  -5.14454239e-05  -4.54017511e-04  -1.56084761e-05  -2.70509757e-03\n",
      "   2.81246026e-04   8.12014942e-04   5.36010757e-05  -6.79517320e-05\n",
      "  -2.01355919e-05  -6.08496689e-05   8.58056746e-04  -7.15311695e-05\n",
      "   2.06067871e-04  -1.72491886e-04   5.79465791e-04   7.94305946e-04\n",
      "  -1.53942091e-03  -2.42781207e-04  -6.99171822e-05   3.60745410e-04\n",
      "  -7.07623454e-04  -4.40693244e-05   4.04955547e-05  -1.04032287e-04\n",
      "   7.70094336e-05  -1.86056155e-05   4.67020763e-04   8.48527945e-04\n",
      "   1.43078799e-05  -2.59489429e-03   4.46997809e-04  -9.79716825e-05\n",
      "  -6.89204616e-04  -1.55930486e-05   6.76677392e-05  -1.60794065e-05\n",
      "  -1.78616557e-05  -3.45594526e-07   2.25367534e-05   1.24791121e-07\n",
      "  -2.08067337e-03   1.34889438e-03   1.31775262e-06  -9.32022793e-07\n",
      "  -2.43364751e-04   1.30220636e-03   7.86122916e-04   9.81979698e-05\n",
      "  -2.58908946e-04  -2.09379704e-04  -3.73803200e-05   1.88310761e-05\n",
      "   9.44363064e-05  -2.03240391e-07   1.17682616e-04  -1.02273440e-06\n",
      "  -3.92284392e-05  -9.38588978e-06  -2.01258641e-04   6.01603911e-05\n",
      "   1.31654413e-04  -6.22831230e-05  -4.59799800e-05   1.01944166e-05\n",
      "  -1.55899189e-05  -7.30112847e-07   2.50761215e-07   1.63166219e-07\n",
      "   1.28163466e-09   2.98543979e-04  -3.15477068e-10   8.10396679e-07\n",
      "   1.75474492e-03  -7.56192292e-09   1.30979948e-09  -1.52318497e-04\n",
      "   7.42579469e-04   7.45774135e-04  -2.84729736e-06  -6.30859917e-04\n",
      "  -8.92384092e-05   9.54724451e-07  -1.27996787e-03  -6.94811613e-05\n",
      "   8.18835387e-10  -2.21927149e-04   6.92279428e-09  -3.79759958e-05\n",
      "   9.05762592e-08   1.95829738e-03  -1.27645136e-06  -2.88978442e-06\n",
      "   1.10976980e-03  -2.10196293e-04  -8.15717057e-08  -1.55898609e-05\n",
      "   4.41045129e-09  -1.70389062e-09  -8.15195354e-10  -3.06056010e-12\n",
      "   8.21263466e-04   4.50634080e-13   4.54803519e-05   1.82228135e-03\n",
      "   1.59132458e-11   3.12943969e-12   6.81099318e-05   1.69219912e-03\n",
      "   7.17308223e-04   4.57675439e-08  -3.38391646e-04  -2.58417397e-04\n",
      "  -1.25335410e-08  -2.94666143e-05   1.21595384e-04  -2.65636947e-12\n",
      "   1.52982523e-04  -2.84472100e-11  -3.73968256e-05  -5.09523657e-10\n",
      "  -4.60764896e-04   9.04122712e-05   3.57630110e-08  -1.65041781e-04\n",
      "  -5.91716463e-05   3.97106606e-10  -1.55898434e-05  -1.65398923e-11\n",
      "   4.81874629e-12   2.47071610e-12   4.33883164e-15   1.32906147e-03\n",
      "  -4.02877956e-16  -1.06850405e-06   1.26797201e-03  -6.03137016e-15\n",
      "  -1.40127686e-14   3.62845543e-05   8.45780462e-04   6.84494155e-04\n",
      "  -4.53163986e-10  -1.16173715e-03  -9.00460221e-05   9.89302198e-11\n",
      "  -1.96713090e-03   7.42136920e-06   4.49620392e-15  -2.43067132e-04\n",
      "   7.51050932e-14  -4.04578844e-05   1.77900816e-12   2.40276484e-03\n",
      "  -2.59559460e-05  -2.75289890e-10   1.60283424e-03  -2.77927795e-04\n",
      "  -1.24362970e-12  -1.55898432e-05   4.04186301e-14   3.51185119e-15\n",
      "  -4.74503054e-15  -3.34515272e-18   8.25118124e-04   2.35567048e-19\n",
      "  -3.76907356e-07   7.23682620e-05  -1.34097555e-17   1.79024228e-17\n",
      "  -2.31051798e-05   1.95313722e-03   6.56982814e-04   2.90999100e-12\n",
      "  -2.71708527e-04   1.73134416e-04  -4.99148560e-13  -5.14535032e-05\n",
      "   2.36443478e-05  -7.73631338e-19  -1.95290809e-04  -1.30708674e-16\n",
      "  -4.47360991e-05  -3.90288033e-15   1.13674913e-04  -2.56455060e-05\n",
      "   1.37783347e-12   3.29487765e-05  -9.46679988e-05   2.57528989e-15\n",
      "  -1.55898432e-05  -6.55072158e-17  -6.65276046e-17   5.82207352e-18\n",
      "   2.05989462e-21  -1.16748382e-03  -9.13777040e-23   1.13347971e-08\n",
      "  -6.83871274e-04   7.63889487e-21  -1.29122714e-21   4.86912208e-06\n",
      "   8.46784365e-04   6.32246281e-04  -1.23587441e-14  -1.26427492e-03\n",
      "   5.60332899e-05   1.64337510e-15  -1.97886930e-03   6.06398764e-05\n",
      "  -6.57156799e-21   1.31009412e-04   1.51010637e-19  -4.38849115e-05\n",
      "   5.20207073e-18  -4.42577625e-04   3.42069257e-05  -4.55296024e-15\n",
      "  -2.83408728e-04   1.08273651e-04  -3.55202856e-18  -1.55898432e-05\n",
      "   6.98551448e-20   2.07539791e-19  -4.45133485e-21  -1.58307640e-24\n",
      "   4.10757653e-04   2.32766864e-26   1.44905386e-09   1.08883293e-04\n",
      "  -3.77270385e-25  -2.01039185e-23  -5.16863396e-07   1.68657333e-03\n",
      "   6.10032576e-04   3.44825121e-17   1.84903506e-04  -2.87197706e-05\n",
      "  -3.50115354e-18   1.47450511e-05  -1.28233784e-05   5.83050947e-24\n",
      "   4.16610190e-05  -1.14334857e-22  -4.12230050e-05  -3.70100299e-21\n",
      "  -8.44654250e-06  -8.92292384e-06   9.84329531e-18  -1.95697546e-06\n",
      "   2.58957467e-05   3.21991271e-21  -1.55898432e-05  -4.71045951e-23\n",
      "  -3.19556384e-22   1.96910313e-24   2.53196560e-28  -6.63584516e-05\n",
      "  -3.73658520e-30  -4.03670012e-11   5.09343842e-05  -2.56331385e-28\n",
      "   2.20821504e-26   2.97780522e-08   6.04864939e-04   5.90008160e-04\n",
      "  -6.07959683e-20   4.89451153e-04  -1.05621825e-05   4.62882875e-21\n",
      "   7.89536851e-04  -1.36367616e-05  -3.24475524e-29  -1.92854896e-05\n",
      "   5.43876668e-26  -6.32965510e-05   6.61940862e-25   2.68408016e-05\n",
      "  -7.04720420e-06  -1.33760485e-20   1.66768412e-05  -1.62728050e-05\n",
      "  -1.83835199e-24  -1.55898432e-05   1.82046442e-26   2.52666393e-25\n",
      "  -4.18009226e-28   2.11978461e-31   5.18951190e-06   3.42272325e-34\n",
      "  -2.18921214e-12  -1.53778971e-05   2.28701146e-32  -9.98798570e-30\n",
      "  -8.88811399e-10  -1.31469010e-04   5.71868159e-04   6.14205116e-23\n",
      "  -2.33899534e-05   1.41118356e-06  -3.42950245e-24  -1.12280866e-06\n",
      "   9.13091039e-07  -5.01247401e-31  -2.43495688e-06  -1.47116660e-29\n",
      "  -1.09338596e-04   7.35894038e-28   2.03699276e-07   1.15204196e-06\n",
      "   1.03555155e-23   3.48358791e-08  -1.61675467e-06   5.98195316e-28\n",
      "  -1.55898432e-05  -3.07201838e-30  -8.19137293e-29   2.15571163e-32\n",
      "  -7.63411042e-35  -1.59737397e-07  -1.36198874e-38   5.04038914e-14\n",
      "   1.13163487e-06  -8.42378330e-35   1.71535285e-33   1.07789891e-11\n",
      "  -1.68651666e-04   5.55353025e-04  -2.70953725e-26  -4.32785429e-05\n",
      "   6.08999657e-07   1.07866626e-27  -7.09151561e-05   7.51733094e-07\n",
      "   1.22648689e-34   8.76095923e-07   1.72234395e-33   4.53278354e-05\n",
      "  -3.45995676e-31  -5.41959118e-07   3.86304044e-07  -3.48058666e-27\n",
      "  -3.29849075e-07   8.71731253e-07  -8.44437125e-32] \n",
      "\n",
      "pred_RR for degree  12  =  0.815089820359\n"
     ]
    }
   ],
   "source": [
    "degree_RR_test = 12\n",
    "\n",
    "tX1_poly = md.build_poly(tX1, degree_RR_test)\n",
    "tX2_poly = md.build_poly(tX2, degree_RR_test)\n",
    "\n",
    "lambda_RR_test = 5\n",
    "method = 4\n",
    "\n",
    "loss_RR_test, weights_RR_test = md.ridge_regression(y1, tX1_poly, lambda_RR_test)\n",
    "print(\"\\nweights_RR:\\n\", weights_RR_test,\"\\n\")\n",
    "\n",
    "pred_RR_test = prediction(y1, tX1_poly, 0, lambda_RR_test, 0, method)\n",
    "print(\"pred_RR for degree \", str(degree_RR_test), \" = \", pred_RR_test)"
   ]
  },
  {
   "cell_type": "code",
   "execution_count": 26,
   "metadata": {
    "collapsed": false
   },
   "outputs": [
    {
     "data": {
      "text/plain": [
       "81.444"
      ]
     },
     "execution_count": 26,
     "metadata": {},
     "output_type": "execute_result"
    }
   ],
   "source": [
    "y_pred_RR_test = predict_labels(weights_RR_test, tX2_poly)\n",
    "n_correct_RR = np.count_nonzero((y_pred_RR_test - y2) == 0)\n",
    "perc_correct_RR = n_correct_RR/(N/2) * 100\n",
    "perc_correct_RR"
   ]
  },
  {
   "cell_type": "markdown",
   "metadata": {},
   "source": [
    "### Logistic regression"
   ]
  },
  {
   "cell_type": "code",
   "execution_count": 28,
   "metadata": {
    "collapsed": false
   },
   "outputs": [
    {
     "name": "stdout",
     "output_type": "stream",
     "text": [
      "\n",
      "weights_LogR:\n",
      " [ -7.93971123e-03  -9.25427112e-01  -6.87095681e-01  -6.61222434e-01\n",
      "  -1.67225941e-01  -1.29103044e-02  -1.00695125e+00  -5.13309675e-03\n",
      "  -1.86704410e-02  -1.57261061e-01  -8.31681534e-01  -1.53710195e-02\n",
      "   8.75789549e-03  -2.72906766e-03  -1.81113730e-01   7.07021183e-06\n",
      "  -9.30049190e-05  -3.87601218e-01   2.48637077e-04  -2.40084245e-04\n",
      "  -3.13451695e-01   4.10680696e-04  -1.25211521e+00  -4.67453228e-03\n",
      "  -4.78044443e-01  -7.96808619e-05   1.75176394e-04  -3.92081664e-01\n",
      "   1.14565931e-04  -9.08258862e-05  -2.62966530e-01] \n",
      "\n",
      "pred_LogR =  0.657165668663\n"
     ]
    }
   ],
   "source": [
    "max_iters_LogR_test = 2000\n",
    "gamma_LogR_test = 1.0e-10\n",
    "method = 5\n",
    "\n",
    "loss_LogR_test, weights_LogR_test = md.logistic_regression(y1, tX1, gamma_LogR_test, max_iters_LogR_test)\n",
    "print(\"\\nweights_LogR:\\n\", weights_LogR_test,\"\\n\")\n",
    "\n",
    "pred_LogR_test = prediction(y1, tX1, gamma_LogR_test, 0, max_iters_LogR_test, method)\n",
    "print(\"pred_LogR = \", pred_LogR_test)"
   ]
  },
  {
   "cell_type": "code",
   "execution_count": null,
   "metadata": {
    "collapsed": true
   },
   "outputs": [],
   "source": [
    "y_pred_LogR_test = predict_labels(weights_LogR_test, tX2)\n",
    "n_correct_LogR = np.count_nonzero((y_pred_LogR_test - y2) == 0)\n",
    "perc_correct_LogR = n_correct_LogR/(N/2) * 100\n",
    "perc_correct_LogR"
   ]
  },
  {
   "cell_type": "markdown",
   "metadata": {},
   "source": [
    "### Regularized logistic regression"
   ]
  },
  {
   "cell_type": "code",
   "execution_count": null,
   "metadata": {
    "collapsed": true
   },
   "outputs": [],
   "source": [
    "max_iters_RLogR_test = 1000\n",
    "lambda_RLogR_test = 1.0e-8\n",
    "gamma_RLogR_test = 1.0e-10\n",
    "method = 5\n",
    "\n",
    "loss_RLogR_test, weights_RLogR_test = md.reg_logistic_regression(y1, tX1, gamma_RLogR_test, lambda_RLogR_test, max_iters_RLogR_test)\n",
    "print(\"\\nweights_RLogR:\\n\", weights_RLogR_test,\"\\n\")\n",
    "\n",
    "pred_RLogR_test = prediction(y1, tX1, gamma_RLogR_test, lambda_RLogR_test, max_iters_RLogR_test, 6)\n",
    "print(\"pred_RLogR = \", pred_RLogR_test)"
   ]
  },
  {
   "cell_type": "code",
   "execution_count": null,
   "metadata": {
    "collapsed": true
   },
   "outputs": [],
   "source": [
    "y_pred_RLogR_test = predict_labels(weights_RLogR_test, tX2)\n",
    "n_correct_RLogR = np.count_nonzero((y_pred_RLogR_test - y2) == 0)\n",
    "perc_correct_RLogR = n_correct_RLogR/(N/2) * 100\n",
    "perc_correct_RLogR"
   ]
  },
  {
   "cell_type": "markdown",
   "metadata": {},
   "source": [
    "# Training on the entire data set, separating data by JET values"
   ]
  },
  {
   "cell_type": "markdown",
   "metadata": {},
   "source": [
    "### Dividing by JET"
   ]
  },
  {
   "cell_type": "code",
   "execution_count": 32,
   "metadata": {
    "collapsed": false
   },
   "outputs": [
    {
     "name": "stderr",
     "output_type": "stream",
     "text": [
      "/Users/davidrivollet/anaconda/lib/python3.5/site-packages/numpy/core/_methods.py:59: RuntimeWarning: Mean of empty slice.\n",
      "  warnings.warn(\"Mean of empty slice.\", RuntimeWarning)\n"
     ]
    }
   ],
   "source": [
    "tX_jet0, indexes_jet0, tX_jet1, indexes_jet1, tX_jet2, indexes_jet2, tX_jet3, indexes_jet3 = md.separating_by_jet(tX)\n",
    "y_jet0 = y[indexes_jet0]\n",
    "y_jet1 = y[indexes_jet1]\n",
    "y_jet2 = y[indexes_jet2]\n",
    "y_jet3 = y[indexes_jet3]\n",
    "tX_cleaned_jet0 = md.clean_data(tX_jet0)\n",
    "tX_cleaned_jet1 = md.clean_data(tX_jet1)\n",
    "tX_cleaned_jet2 = md.clean_data(tX_jet2)\n",
    "tX_cleaned_jet3 = md.clean_data(tX_jet3)"
   ]
  },
  {
   "cell_type": "code",
   "execution_count": 33,
   "metadata": {
    "collapsed": false
   },
   "outputs": [
    {
     "data": {
      "text/plain": [
       "(99913, 20)"
      ]
     },
     "execution_count": 33,
     "metadata": {},
     "output_type": "execute_result"
    }
   ],
   "source": [
    "tX_cleaned_jet0.shape"
   ]
  },
  {
   "cell_type": "code",
   "execution_count": 34,
   "metadata": {
    "collapsed": false
   },
   "outputs": [
    {
     "data": {
      "text/plain": [
       "(77544, 23)"
      ]
     },
     "execution_count": 34,
     "metadata": {},
     "output_type": "execute_result"
    }
   ],
   "source": [
    "tX_cleaned_jet1.shape"
   ]
  },
  {
   "cell_type": "code",
   "execution_count": 35,
   "metadata": {
    "collapsed": false
   },
   "outputs": [
    {
     "data": {
      "text/plain": [
       "(50379, 30)"
      ]
     },
     "execution_count": 35,
     "metadata": {},
     "output_type": "execute_result"
    }
   ],
   "source": [
    "tX_cleaned_jet2.shape"
   ]
  },
  {
   "cell_type": "code",
   "execution_count": 36,
   "metadata": {
    "collapsed": false
   },
   "outputs": [
    {
     "data": {
      "text/plain": [
       "(22164, 30)"
      ]
     },
     "execution_count": 36,
     "metadata": {},
     "output_type": "execute_result"
    }
   ],
   "source": [
    "tX_cleaned_jet3.shape"
   ]
  },
  {
   "cell_type": "markdown",
   "metadata": {},
   "source": [
    "### Training"
   ]
  },
  {
   "cell_type": "markdown",
   "metadata": {},
   "source": [
    "### JET == 0.0"
   ]
  },
  {
   "cell_type": "code",
   "execution_count": 39,
   "metadata": {
    "collapsed": false
   },
   "outputs": [
    {
     "name": "stdout",
     "output_type": "stream",
     "text": [
      "pred_RR =  0.830314776449\n"
     ]
    }
   ],
   "source": [
    "lambda_jet0 = 6e-10\n",
    "method = 4\n",
    "\n",
    "degree_jet0 = 3\n",
    "\n",
    "tX_reformed_jet0 = tX_cleaned_jet0.copy()\n",
    "w0 = np.ones([1,tX_reformed_jet0.shape[0]])\n",
    "tX_reformed_jet0 = np.insert(tX_reformed_jet0, 0, w0, axis=1)\n",
    "\n",
    "tX_poly_jet0 = md.build_poly(tX_reformed_jet0, degree_jet0)\n",
    "\n",
    "loss_jet0, weights_jet0 = md.ridge_regression(y_jet0, tX_poly_jet0, lambda_jet0)\n",
    "# print(\"\\nweights_RR:\\n\", weights_jet0,\"\\n\")\n",
    "\n",
    "pred_jet0 = prediction(y_jet0, tX_poly_jet0, 0, lambda_jet0, 0, method)\n",
    "print(\"pred_RR = \", pred_jet0)"
   ]
  },
  {
   "cell_type": "markdown",
   "metadata": {},
   "source": [
    "### JET == 1.0"
   ]
  },
  {
   "cell_type": "code",
   "execution_count": 43,
   "metadata": {
    "collapsed": false
   },
   "outputs": [
    {
     "name": "stdout",
     "output_type": "stream",
     "text": [
      "pred_RR =  0.800585878603\n"
     ]
    }
   ],
   "source": [
    "lambda_jet1 = 3e-10\n",
    "method = 4\n",
    "\n",
    "degree_jet1 = 9\n",
    "\n",
    "tX_reformed_jet1 = tX_cleaned_jet1.copy()\n",
    "w0 = np.ones([1,tX_reformed_jet1.shape[0]])\n",
    "tX_reformed_jet1 = np.insert(tX_reformed_jet1, 0, w0, axis=1)\n",
    "\n",
    "tX_poly_jet1 = md.build_poly(tX_reformed_jet1, degree_jet1)\n",
    "\n",
    "loss_jet1, weights_jet1 = md.ridge_regression(y_jet1, tX_poly_jet1, lambda_jet1)\n",
    "# print(\"\\nweights_RR:\\n\", weights_jet1,\"\\n\")\n",
    "\n",
    "pred_jet1 = prediction(y_jet1, tX_poly_jet1, 0, lambda_jet1, 0, method)\n",
    "print(\"pred_RR = \", pred_jet1)"
   ]
  },
  {
   "cell_type": "markdown",
   "metadata": {},
   "source": [
    "### JET == 2.0"
   ]
  },
  {
   "cell_type": "code",
   "execution_count": 42,
   "metadata": {
    "collapsed": false
   },
   "outputs": [
    {
     "name": "stdout",
     "output_type": "stream",
     "text": [
      "pred_RR =  0.830735557472\n"
     ]
    }
   ],
   "source": [
    "lambda_jet2 = 8e-10\n",
    "method = 4\n",
    "\n",
    "degree_jet2 = 9\n",
    "\n",
    "tX_reformed_jet2 = tX_cleaned_jet2.copy()\n",
    "w0 = np.ones([1,tX_reformed_jet2.shape[0]])\n",
    "tX_reformed_jet2 = np.insert(tX_reformed_jet2, 0, w0, axis=1)\n",
    "\n",
    "tX_poly_jet2 = md.build_poly(tX_reformed_jet2, degree_jet2)\n",
    "\n",
    "loss_jet2, weights_jet2 = md.ridge_regression(y_jet2, tX_poly_jet2, lambda_jet2)\n",
    "# print(\"\\nweights_RR:\\n\", weights_jet2,\"\\n\")\n",
    "\n",
    "pred_jet2 = prediction(y_jet2, tX_poly_jet2, 0, lambda_jet2, 0, method)\n",
    "\n",
    "print(\"pred_RR = \", pred_jet2)"
   ]
  },
  {
   "cell_type": "markdown",
   "metadata": {},
   "source": [
    "### JET == 3.0"
   ]
  },
  {
   "cell_type": "code",
   "execution_count": 45,
   "metadata": {
    "collapsed": false
   },
   "outputs": [
    {
     "name": "stdout",
     "output_type": "stream",
     "text": [
      "pred_RR =  0.830571727123\n"
     ]
    }
   ],
   "source": [
    "lambda_jet3 = 1e-7\n",
    "method = 4\n",
    "\n",
    "degree_jet3 = 10\n",
    "\n",
    "tX_reformed_jet3 = tX_cleaned_jet3.copy()\n",
    "w0 = np.ones([1,tX_reformed_jet3.shape[0]])\n",
    "tX_reformed_jet3 = np.insert(tX_reformed_jet3, 0, w0, axis=1)\n",
    "\n",
    "tX_poly_jet3 = md.build_poly(tX_reformed_jet3, degree_jet3)\n",
    "\n",
    "loss_jet3, weights_jet3 = md.ridge_regression(y_jet3, tX_poly_jet3, lambda_jet3)\n",
    "# print(\"\\nweights_RR:\\n\", weights_jet3,\"\\n\")\n",
    "\n",
    "pred_jet3 = prediction(y_jet3, tX_poly_jet3, 0, lambda_jet3, 0, method)\n",
    "print(\"pred_RR = \", pred_jet3)"
   ]
  },
  {
   "cell_type": "markdown",
   "metadata": {},
   "source": [
    "## Making the submission file"
   ]
  },
  {
   "cell_type": "code",
   "execution_count": 46,
   "metadata": {
    "collapsed": false
   },
   "outputs": [
    {
     "data": {
      "text/plain": [
       "(568238, 30)"
      ]
     },
     "execution_count": 46,
     "metadata": {},
     "output_type": "execute_result"
    }
   ],
   "source": [
    "DATA_TEST_PATH = '../data/test.csv' \n",
    "_, tX_test, ids_test = load_csv_data(DATA_TEST_PATH)\n",
    "tX_test.shape"
   ]
  },
  {
   "cell_type": "code",
   "execution_count": 48,
   "metadata": {
    "collapsed": false
   },
   "outputs": [
    {
     "name": "stderr",
     "output_type": "stream",
     "text": [
      "/Users/davidrivollet/anaconda/lib/python3.5/site-packages/numpy/core/_methods.py:59: RuntimeWarning: Mean of empty slice.\n",
      "  warnings.warn(\"Mean of empty slice.\", RuntimeWarning)\n"
     ]
    }
   ],
   "source": [
    "tX_test_jet0, indexes_test_jet0, tX_test_jet1, indexes_test_jet1, tX_test_jet2, indexes_test_jet2, tX_test_jet3, indexes_test_jet3 = md.separating_by_jet(tX_test)\n",
    "\n",
    "tX_test_cleaned_jet0 = md.clean_data(tX_test_jet0)\n",
    "tX_test_cleaned_jet1 = md.clean_data(tX_test_jet1)\n",
    "tX_test_cleaned_jet2 = md.clean_data(tX_test_jet2)\n",
    "tX_test_cleaned_jet3 = md.clean_data(tX_test_jet3)"
   ]
  },
  {
   "cell_type": "code",
   "execution_count": 49,
   "metadata": {
    "collapsed": true
   },
   "outputs": [],
   "source": [
    "tX_test_reformed_jet0 = tX_test_cleaned_jet0.copy()\n",
    "w0 = np.ones([1,tX_test_reformed_jet0.shape[0]])\n",
    "tX_test_reformed_jet0 = np.insert(tX_test_reformed_jet0, 0, w0, axis=1)\n",
    "\n",
    "tX_test_reformed_jet1 = tX_test_cleaned_jet1.copy()\n",
    "w0 = np.ones([1,tX_test_reformed_jet1.shape[0]])\n",
    "tX_test_reformed_jet1 = np.insert(tX_test_reformed_jet1, 0, w0, axis=1)\n",
    "\n",
    "tX_test_reformed_jet2 = tX_test_cleaned_jet2.copy()\n",
    "w0 = np.ones([1,tX_test_reformed_jet2.shape[0]])\n",
    "tX_test_reformed_jet2 = np.insert(tX_test_reformed_jet2, 0, w0, axis=1)\n",
    "\n",
    "tX_test_reformed_jet3 = tX_test_cleaned_jet3.copy()\n",
    "w0 = np.ones([1,tX_test_reformed_jet3.shape[0]])\n",
    "tX_test_reformed_jet3 = np.insert(tX_test_reformed_jet3, 0, w0, axis=1)"
   ]
  },
  {
   "cell_type": "code",
   "execution_count": 50,
   "metadata": {
    "collapsed": true
   },
   "outputs": [],
   "source": [
    "tX_test_poly_jet0 = md.build_poly(tX_test_reformed_jet0, degree_jet0)\n",
    "tX_test_poly_jet1 = md.build_poly(tX_test_reformed_jet1, degree_jet1)\n",
    "tX_test_poly_jet2 = md.build_poly(tX_test_reformed_jet2, degree_jet2)\n",
    "tX_test_poly_jet3 = md.build_poly(tX_test_reformed_jet3, degree_jet3)"
   ]
  },
  {
   "cell_type": "code",
   "execution_count": 51,
   "metadata": {
    "collapsed": true
   },
   "outputs": [],
   "source": [
    "y_pred_jet0 = predict_labels(weights_jet0, tX_test_poly_jet0)\n",
    "y_pred_jet1 = predict_labels(weights_jet1, tX_test_poly_jet1)\n",
    "y_pred_jet2 = predict_labels(weights_jet2, tX_test_poly_jet2)\n",
    "y_pred_jet3 = predict_labels(weights_jet3, tX_test_poly_jet3)"
   ]
  },
  {
   "cell_type": "code",
   "execution_count": 52,
   "metadata": {
    "collapsed": true
   },
   "outputs": [],
   "source": [
    "y_pred_final = np.ones((tX_test.shape[0], 1))\n",
    "a = 0\n",
    "b = 0\n",
    "c = 0\n",
    "d = 0\n",
    "for i in range(0, y_pred_final.shape[0]):\n",
    "    if indexes_test_jet0[i] == True:\n",
    "        y_pred_final[i] = y_pred_jet0[a]\n",
    "        a = a + 1\n",
    "    if indexes_test_jet1[i] == True:\n",
    "        y_pred_final[i] = y_pred_jet1[b]\n",
    "        b = b + 1\n",
    "    if indexes_test_jet2[i] == True:\n",
    "        y_pred_final[i] = y_pred_jet2[c]\n",
    "        c = c + 1\n",
    "    if indexes_test_jet3[i] == True:\n",
    "        y_pred_final[i] = y_pred_jet3[d]\n",
    "        d = d + 1"
   ]
  },
  {
   "cell_type": "code",
   "execution_count": 53,
   "metadata": {
    "collapsed": false
   },
   "outputs": [
    {
     "data": {
      "text/plain": [
       "(568238, 1)"
      ]
     },
     "execution_count": 53,
     "metadata": {},
     "output_type": "execute_result"
    }
   ],
   "source": [
    "y_pred_final.shape"
   ]
  },
  {
   "cell_type": "code",
   "execution_count": 54,
   "metadata": {
    "collapsed": true
   },
   "outputs": [],
   "source": [
    "OUTPUT_PATH = '../data/dataSubmission_JET_RR.csv' \n",
    "create_csv_submission(ids_test, y_pred_final, OUTPUT_PATH)"
   ]
  },
  {
   "cell_type": "code",
   "execution_count": null,
   "metadata": {
    "collapsed": true
   },
   "outputs": [],
   "source": []
  }
 ],
 "metadata": {
  "kernelspec": {
   "display_name": "Python [Root]",
   "language": "python",
   "name": "Python [Root]"
  },
  "language_info": {
   "codemirror_mode": {
    "name": "ipython",
    "version": 3
   },
   "file_extension": ".py",
   "mimetype": "text/x-python",
   "name": "python",
   "nbconvert_exporter": "python",
   "pygments_lexer": "ipython3",
   "version": "3.5.2"
  }
 },
 "nbformat": 4,
 "nbformat_minor": 0
}
