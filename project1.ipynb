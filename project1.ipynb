{
 "cells": [
  {
   "cell_type": "markdown",
   "metadata": {},
   "source": [
    "# PROJECT 1: Higgs Boson"
   ]
  },
  {
   "cell_type": "markdown",
   "metadata": {},
   "source": [
    "First, we import the usual import needed."
   ]
  },
  {
   "cell_type": "code",
   "execution_count": 453,
   "metadata": {
    "collapsed": false
   },
   "outputs": [
    {
     "name": "stdout",
     "output_type": "stream",
     "text": [
      "The autoreload extension is already loaded. To reload it, use:\n",
      "  %reload_ext autoreload\n"
     ]
    }
   ],
   "source": [
    "# Useful starting lines\n",
    "%matplotlib inline\n",
    "import numpy as np\n",
    "import matplotlib.pyplot as plt\n",
    "%load_ext autoreload\n",
    "%autoreload 2\n",
    "\n",
    "# Library only used for observing the data in a more visual way.\n",
    "import pandas as pd\n",
    "\n",
    "import methods as md"
   ]
  },
  {
   "cell_type": "markdown",
   "metadata": {},
   "source": [
    "# Load the training data into feature matrix, class labels, and event ids:"
   ]
  },
  {
   "cell_type": "markdown",
   "metadata": {},
   "source": [
    "Let's import the data:"
   ]
  },
  {
   "cell_type": "code",
   "execution_count": 2,
   "metadata": {
    "collapsed": false
   },
   "outputs": [],
   "source": [
    "from proj1_helpers import *\n",
    "DATA_TRAIN_PATH = '../data/train.csv'\n",
    "y, tX, ids = load_csv_data(DATA_TRAIN_PATH)"
   ]
  },
  {
   "cell_type": "code",
   "execution_count": 3,
   "metadata": {
    "collapsed": false
   },
   "outputs": [
    {
     "data": {
      "text/plain": [
       "(250000, 30)"
      ]
     },
     "execution_count": 3,
     "metadata": {},
     "output_type": "execute_result"
    }
   ],
   "source": [
    "tX.shape"
   ]
  },
  {
   "cell_type": "markdown",
   "metadata": {},
   "source": [
    "We store the data in a pandas DataFrame to see more easily how they look like, but we are not going to use this specific library for other reasons."
   ]
  },
  {
   "cell_type": "code",
   "execution_count": 4,
   "metadata": {
    "collapsed": false
   },
   "outputs": [
    {
     "data": {
      "text/html": [
       "<div>\n",
       "<table border=\"1\" class=\"dataframe\">\n",
       "  <thead>\n",
       "    <tr style=\"text-align: right;\">\n",
       "      <th></th>\n",
       "      <th>labels</th>\n",
       "      <th>0</th>\n",
       "      <th>1</th>\n",
       "      <th>2</th>\n",
       "      <th>3</th>\n",
       "      <th>4</th>\n",
       "      <th>5</th>\n",
       "      <th>6</th>\n",
       "      <th>7</th>\n",
       "      <th>8</th>\n",
       "      <th>...</th>\n",
       "      <th>20</th>\n",
       "      <th>21</th>\n",
       "      <th>22</th>\n",
       "      <th>23</th>\n",
       "      <th>24</th>\n",
       "      <th>25</th>\n",
       "      <th>26</th>\n",
       "      <th>27</th>\n",
       "      <th>28</th>\n",
       "      <th>29</th>\n",
       "    </tr>\n",
       "    <tr>\n",
       "      <th>ids</th>\n",
       "      <th></th>\n",
       "      <th></th>\n",
       "      <th></th>\n",
       "      <th></th>\n",
       "      <th></th>\n",
       "      <th></th>\n",
       "      <th></th>\n",
       "      <th></th>\n",
       "      <th></th>\n",
       "      <th></th>\n",
       "      <th></th>\n",
       "      <th></th>\n",
       "      <th></th>\n",
       "      <th></th>\n",
       "      <th></th>\n",
       "      <th></th>\n",
       "      <th></th>\n",
       "      <th></th>\n",
       "      <th></th>\n",
       "      <th></th>\n",
       "      <th></th>\n",
       "    </tr>\n",
       "  </thead>\n",
       "  <tbody>\n",
       "    <tr>\n",
       "      <th>100000</th>\n",
       "      <td>1.0</td>\n",
       "      <td>138.470</td>\n",
       "      <td>51.655</td>\n",
       "      <td>97.827</td>\n",
       "      <td>27.980</td>\n",
       "      <td>0.910</td>\n",
       "      <td>124.711</td>\n",
       "      <td>2.666</td>\n",
       "      <td>3.064</td>\n",
       "      <td>41.928</td>\n",
       "      <td>...</td>\n",
       "      <td>-0.277</td>\n",
       "      <td>258.733</td>\n",
       "      <td>2.0</td>\n",
       "      <td>67.435</td>\n",
       "      <td>2.150</td>\n",
       "      <td>0.444</td>\n",
       "      <td>46.062</td>\n",
       "      <td>1.240</td>\n",
       "      <td>-2.475</td>\n",
       "      <td>113.497</td>\n",
       "    </tr>\n",
       "    <tr>\n",
       "      <th>100001</th>\n",
       "      <td>-1.0</td>\n",
       "      <td>160.937</td>\n",
       "      <td>68.768</td>\n",
       "      <td>103.235</td>\n",
       "      <td>48.146</td>\n",
       "      <td>-999.000</td>\n",
       "      <td>-999.000</td>\n",
       "      <td>-999.000</td>\n",
       "      <td>3.473</td>\n",
       "      <td>2.078</td>\n",
       "      <td>...</td>\n",
       "      <td>-1.916</td>\n",
       "      <td>164.546</td>\n",
       "      <td>1.0</td>\n",
       "      <td>46.226</td>\n",
       "      <td>0.725</td>\n",
       "      <td>1.158</td>\n",
       "      <td>-999.000</td>\n",
       "      <td>-999.000</td>\n",
       "      <td>-999.000</td>\n",
       "      <td>46.226</td>\n",
       "    </tr>\n",
       "    <tr>\n",
       "      <th>100002</th>\n",
       "      <td>-1.0</td>\n",
       "      <td>-999.000</td>\n",
       "      <td>162.172</td>\n",
       "      <td>125.953</td>\n",
       "      <td>35.635</td>\n",
       "      <td>-999.000</td>\n",
       "      <td>-999.000</td>\n",
       "      <td>-999.000</td>\n",
       "      <td>3.148</td>\n",
       "      <td>9.336</td>\n",
       "      <td>...</td>\n",
       "      <td>-2.186</td>\n",
       "      <td>260.414</td>\n",
       "      <td>1.0</td>\n",
       "      <td>44.251</td>\n",
       "      <td>2.053</td>\n",
       "      <td>-2.028</td>\n",
       "      <td>-999.000</td>\n",
       "      <td>-999.000</td>\n",
       "      <td>-999.000</td>\n",
       "      <td>44.251</td>\n",
       "    </tr>\n",
       "    <tr>\n",
       "      <th>100003</th>\n",
       "      <td>-1.0</td>\n",
       "      <td>143.905</td>\n",
       "      <td>81.417</td>\n",
       "      <td>80.943</td>\n",
       "      <td>0.414</td>\n",
       "      <td>-999.000</td>\n",
       "      <td>-999.000</td>\n",
       "      <td>-999.000</td>\n",
       "      <td>3.310</td>\n",
       "      <td>0.414</td>\n",
       "      <td>...</td>\n",
       "      <td>0.060</td>\n",
       "      <td>86.062</td>\n",
       "      <td>0.0</td>\n",
       "      <td>-999.000</td>\n",
       "      <td>-999.000</td>\n",
       "      <td>-999.000</td>\n",
       "      <td>-999.000</td>\n",
       "      <td>-999.000</td>\n",
       "      <td>-999.000</td>\n",
       "      <td>0.000</td>\n",
       "    </tr>\n",
       "    <tr>\n",
       "      <th>100004</th>\n",
       "      <td>-1.0</td>\n",
       "      <td>175.864</td>\n",
       "      <td>16.915</td>\n",
       "      <td>134.805</td>\n",
       "      <td>16.405</td>\n",
       "      <td>-999.000</td>\n",
       "      <td>-999.000</td>\n",
       "      <td>-999.000</td>\n",
       "      <td>3.891</td>\n",
       "      <td>16.405</td>\n",
       "      <td>...</td>\n",
       "      <td>-0.871</td>\n",
       "      <td>53.131</td>\n",
       "      <td>0.0</td>\n",
       "      <td>-999.000</td>\n",
       "      <td>-999.000</td>\n",
       "      <td>-999.000</td>\n",
       "      <td>-999.000</td>\n",
       "      <td>-999.000</td>\n",
       "      <td>-999.000</td>\n",
       "      <td>0.000</td>\n",
       "    </tr>\n",
       "    <tr>\n",
       "      <th>100005</th>\n",
       "      <td>-1.0</td>\n",
       "      <td>89.744</td>\n",
       "      <td>13.550</td>\n",
       "      <td>59.149</td>\n",
       "      <td>116.344</td>\n",
       "      <td>2.636</td>\n",
       "      <td>284.584</td>\n",
       "      <td>-0.540</td>\n",
       "      <td>1.362</td>\n",
       "      <td>61.619</td>\n",
       "      <td>...</td>\n",
       "      <td>2.237</td>\n",
       "      <td>282.849</td>\n",
       "      <td>3.0</td>\n",
       "      <td>90.547</td>\n",
       "      <td>-2.412</td>\n",
       "      <td>-0.653</td>\n",
       "      <td>56.165</td>\n",
       "      <td>0.224</td>\n",
       "      <td>3.106</td>\n",
       "      <td>193.660</td>\n",
       "    </tr>\n",
       "    <tr>\n",
       "      <th>100006</th>\n",
       "      <td>1.0</td>\n",
       "      <td>148.754</td>\n",
       "      <td>28.862</td>\n",
       "      <td>107.782</td>\n",
       "      <td>106.130</td>\n",
       "      <td>0.733</td>\n",
       "      <td>158.359</td>\n",
       "      <td>0.113</td>\n",
       "      <td>2.941</td>\n",
       "      <td>2.545</td>\n",
       "      <td>...</td>\n",
       "      <td>-1.443</td>\n",
       "      <td>294.074</td>\n",
       "      <td>2.0</td>\n",
       "      <td>123.010</td>\n",
       "      <td>0.864</td>\n",
       "      <td>1.450</td>\n",
       "      <td>56.867</td>\n",
       "      <td>0.131</td>\n",
       "      <td>-2.767</td>\n",
       "      <td>179.877</td>\n",
       "    </tr>\n",
       "    <tr>\n",
       "      <th>100007</th>\n",
       "      <td>1.0</td>\n",
       "      <td>154.916</td>\n",
       "      <td>10.418</td>\n",
       "      <td>94.714</td>\n",
       "      <td>29.169</td>\n",
       "      <td>-999.000</td>\n",
       "      <td>-999.000</td>\n",
       "      <td>-999.000</td>\n",
       "      <td>2.897</td>\n",
       "      <td>1.526</td>\n",
       "      <td>...</td>\n",
       "      <td>-1.761</td>\n",
       "      <td>187.299</td>\n",
       "      <td>1.0</td>\n",
       "      <td>30.638</td>\n",
       "      <td>-0.715</td>\n",
       "      <td>-1.724</td>\n",
       "      <td>-999.000</td>\n",
       "      <td>-999.000</td>\n",
       "      <td>-999.000</td>\n",
       "      <td>30.638</td>\n",
       "    </tr>\n",
       "  </tbody>\n",
       "</table>\n",
       "<p>8 rows × 31 columns</p>\n",
       "</div>"
      ],
      "text/plain": [
       "        labels        0        1        2        3        4        5        6  \\\n",
       "ids                                                                             \n",
       "100000     1.0  138.470   51.655   97.827   27.980    0.910  124.711    2.666   \n",
       "100001    -1.0  160.937   68.768  103.235   48.146 -999.000 -999.000 -999.000   \n",
       "100002    -1.0 -999.000  162.172  125.953   35.635 -999.000 -999.000 -999.000   \n",
       "100003    -1.0  143.905   81.417   80.943    0.414 -999.000 -999.000 -999.000   \n",
       "100004    -1.0  175.864   16.915  134.805   16.405 -999.000 -999.000 -999.000   \n",
       "100005    -1.0   89.744   13.550   59.149  116.344    2.636  284.584   -0.540   \n",
       "100006     1.0  148.754   28.862  107.782  106.130    0.733  158.359    0.113   \n",
       "100007     1.0  154.916   10.418   94.714   29.169 -999.000 -999.000 -999.000   \n",
       "\n",
       "            7       8   ...        20       21   22       23       24  \\\n",
       "ids                     ...                                             \n",
       "100000  3.064  41.928   ...    -0.277  258.733  2.0   67.435    2.150   \n",
       "100001  3.473   2.078   ...    -1.916  164.546  1.0   46.226    0.725   \n",
       "100002  3.148   9.336   ...    -2.186  260.414  1.0   44.251    2.053   \n",
       "100003  3.310   0.414   ...     0.060   86.062  0.0 -999.000 -999.000   \n",
       "100004  3.891  16.405   ...    -0.871   53.131  0.0 -999.000 -999.000   \n",
       "100005  1.362  61.619   ...     2.237  282.849  3.0   90.547   -2.412   \n",
       "100006  2.941   2.545   ...    -1.443  294.074  2.0  123.010    0.864   \n",
       "100007  2.897   1.526   ...    -1.761  187.299  1.0   30.638   -0.715   \n",
       "\n",
       "             25       26       27       28       29  \n",
       "ids                                                  \n",
       "100000    0.444   46.062    1.240   -2.475  113.497  \n",
       "100001    1.158 -999.000 -999.000 -999.000   46.226  \n",
       "100002   -2.028 -999.000 -999.000 -999.000   44.251  \n",
       "100003 -999.000 -999.000 -999.000 -999.000    0.000  \n",
       "100004 -999.000 -999.000 -999.000 -999.000    0.000  \n",
       "100005   -0.653   56.165    0.224    3.106  193.660  \n",
       "100006    1.450   56.867    0.131   -2.767  179.877  \n",
       "100007   -1.724 -999.000 -999.000 -999.000   30.638  \n",
       "\n",
       "[8 rows x 31 columns]"
      ]
     },
     "execution_count": 4,
     "metadata": {},
     "output_type": "execute_result"
    }
   ],
   "source": [
    "df = pd.concat([pd.DataFrame({'labels': y, 'ids': ids}), pd.DataFrame(tX)], axis=1)\n",
    "df_indexed = df.set_index(['ids'])\n",
    "df_indexed.head(8)"
   ]
  },
  {
   "cell_type": "markdown",
   "metadata": {},
   "source": [
    "We observed that many entries are filled by the value *-999*, which represent a lack of information. Theses values disturb our statistical calculations. Therefore it is very useful to clean the data before performing any further computations."
   ]
  },
  {
   "cell_type": "markdown",
   "metadata": {},
   "source": [
    "## Cleaning data set"
   ]
  },
  {
   "cell_type": "markdown",
   "metadata": {},
   "source": [
    "Let's define a function that take as input the matrix of the different features *tX* for all the samples and return the same matrix matrix after some cleaning have been performed.\n",
    "\n",
    "In order to *\"clean\"* our data, we are first going to replace the *-999* values by the mean of the features on all the sample for which we have an information. With this process, we preserve our statistical result of the influence of theses outliers."
   ]
  },
  {
   "cell_type": "code",
   "execution_count": 5,
   "metadata": {
    "collapsed": false
   },
   "outputs": [],
   "source": [
    "from helpers import *\n",
    "\n",
    "def clean_data(tx):\n",
    "    nbrRows = tx.shape[0]\n",
    "    nbrColunms = tx.shape[1]\n",
    "    tx_temp = np.zeros((nbrRows,nbrColunms))\n",
    "    modified_columns = [False] * nbrColunms\n",
    "    \n",
    "    for columnID in range(nbrColunms):\n",
    "        currentColumn = tx[:,columnID].copy()\n",
    "        \n",
    "        # extract indices with -999 values\n",
    "        nanIndices = []\n",
    "\n",
    "        for rowID in range(nbrRows):\n",
    "            if currentColumn[rowID] == -999.000:\n",
    "                nanIndices.append(rowID)\n",
    "                modified_columns[columnID] = True\n",
    "        \n",
    "        tempColumm = np.delete(currentColumn, nanIndices, axis=0)\n",
    "\n",
    "        # replace -999 values with median\n",
    "        median = np.median(tempColumm)\n",
    "        currentColumn[nanIndices] = median\n",
    "         \n",
    "        tx_temp[:,columnID] = currentColumn\n",
    "        \n",
    "    return tx_temp, modified_columns"
   ]
  },
  {
   "cell_type": "code",
   "execution_count": 6,
   "metadata": {
    "collapsed": false
   },
   "outputs": [
    {
     "data": {
      "text/plain": [
       "(250000, 30)"
      ]
     },
     "execution_count": 6,
     "metadata": {},
     "output_type": "execute_result"
    }
   ],
   "source": [
    "tX_cleaned, modified_columns = clean_data(tX)\n",
    "tX_cleaned.shape"
   ]
  },
  {
   "cell_type": "markdown",
   "metadata": {},
   "source": [
    "We can observe that we replaced correctly the values -999 with the median of each collumn."
   ]
  },
  {
   "cell_type": "code",
   "execution_count": 7,
   "metadata": {
    "collapsed": false
   },
   "outputs": [
    {
     "data": {
      "text/html": [
       "<div>\n",
       "<table border=\"1\" class=\"dataframe\">\n",
       "  <thead>\n",
       "    <tr style=\"text-align: right;\">\n",
       "      <th></th>\n",
       "      <th>labels</th>\n",
       "      <th>0</th>\n",
       "      <th>1</th>\n",
       "      <th>2</th>\n",
       "      <th>3</th>\n",
       "      <th>4</th>\n",
       "      <th>5</th>\n",
       "      <th>6</th>\n",
       "      <th>7</th>\n",
       "      <th>8</th>\n",
       "      <th>...</th>\n",
       "      <th>20</th>\n",
       "      <th>21</th>\n",
       "      <th>22</th>\n",
       "      <th>23</th>\n",
       "      <th>24</th>\n",
       "      <th>25</th>\n",
       "      <th>26</th>\n",
       "      <th>27</th>\n",
       "      <th>28</th>\n",
       "      <th>29</th>\n",
       "    </tr>\n",
       "    <tr>\n",
       "      <th>ids</th>\n",
       "      <th></th>\n",
       "      <th></th>\n",
       "      <th></th>\n",
       "      <th></th>\n",
       "      <th></th>\n",
       "      <th></th>\n",
       "      <th></th>\n",
       "      <th></th>\n",
       "      <th></th>\n",
       "      <th></th>\n",
       "      <th></th>\n",
       "      <th></th>\n",
       "      <th></th>\n",
       "      <th></th>\n",
       "      <th></th>\n",
       "      <th></th>\n",
       "      <th></th>\n",
       "      <th></th>\n",
       "      <th></th>\n",
       "      <th></th>\n",
       "      <th></th>\n",
       "    </tr>\n",
       "  </thead>\n",
       "  <tbody>\n",
       "    <tr>\n",
       "      <th>100000</th>\n",
       "      <td>1.0</td>\n",
       "      <td>138.470</td>\n",
       "      <td>51.655</td>\n",
       "      <td>97.827</td>\n",
       "      <td>27.980</td>\n",
       "      <td>0.910</td>\n",
       "      <td>124.711</td>\n",
       "      <td>2.666</td>\n",
       "      <td>3.064</td>\n",
       "      <td>41.928</td>\n",
       "      <td>...</td>\n",
       "      <td>-0.277</td>\n",
       "      <td>258.733</td>\n",
       "      <td>2.0</td>\n",
       "      <td>67.435</td>\n",
       "      <td>2.150</td>\n",
       "      <td>0.444</td>\n",
       "      <td>46.062</td>\n",
       "      <td>1.240</td>\n",
       "      <td>-2.475</td>\n",
       "      <td>113.497</td>\n",
       "    </tr>\n",
       "    <tr>\n",
       "      <th>100001</th>\n",
       "      <td>-1.0</td>\n",
       "      <td>160.937</td>\n",
       "      <td>68.768</td>\n",
       "      <td>103.235</td>\n",
       "      <td>48.146</td>\n",
       "      <td>2.107</td>\n",
       "      <td>225.885</td>\n",
       "      <td>-0.244</td>\n",
       "      <td>3.473</td>\n",
       "      <td>2.078</td>\n",
       "      <td>...</td>\n",
       "      <td>-1.916</td>\n",
       "      <td>164.546</td>\n",
       "      <td>1.0</td>\n",
       "      <td>46.226</td>\n",
       "      <td>0.725</td>\n",
       "      <td>1.158</td>\n",
       "      <td>47.902</td>\n",
       "      <td>-0.010</td>\n",
       "      <td>-0.002</td>\n",
       "      <td>46.226</td>\n",
       "    </tr>\n",
       "    <tr>\n",
       "      <th>100002</th>\n",
       "      <td>-1.0</td>\n",
       "      <td>112.406</td>\n",
       "      <td>162.172</td>\n",
       "      <td>125.953</td>\n",
       "      <td>35.635</td>\n",
       "      <td>2.107</td>\n",
       "      <td>225.885</td>\n",
       "      <td>-0.244</td>\n",
       "      <td>3.148</td>\n",
       "      <td>9.336</td>\n",
       "      <td>...</td>\n",
       "      <td>-2.186</td>\n",
       "      <td>260.414</td>\n",
       "      <td>1.0</td>\n",
       "      <td>44.251</td>\n",
       "      <td>2.053</td>\n",
       "      <td>-2.028</td>\n",
       "      <td>47.902</td>\n",
       "      <td>-0.010</td>\n",
       "      <td>-0.002</td>\n",
       "      <td>44.251</td>\n",
       "    </tr>\n",
       "    <tr>\n",
       "      <th>100003</th>\n",
       "      <td>-1.0</td>\n",
       "      <td>143.905</td>\n",
       "      <td>81.417</td>\n",
       "      <td>80.943</td>\n",
       "      <td>0.414</td>\n",
       "      <td>2.107</td>\n",
       "      <td>225.885</td>\n",
       "      <td>-0.244</td>\n",
       "      <td>3.310</td>\n",
       "      <td>0.414</td>\n",
       "      <td>...</td>\n",
       "      <td>0.060</td>\n",
       "      <td>86.062</td>\n",
       "      <td>0.0</td>\n",
       "      <td>65.561</td>\n",
       "      <td>0.000</td>\n",
       "      <td>-0.033</td>\n",
       "      <td>47.902</td>\n",
       "      <td>-0.010</td>\n",
       "      <td>-0.002</td>\n",
       "      <td>0.000</td>\n",
       "    </tr>\n",
       "    <tr>\n",
       "      <th>100004</th>\n",
       "      <td>-1.0</td>\n",
       "      <td>175.864</td>\n",
       "      <td>16.915</td>\n",
       "      <td>134.805</td>\n",
       "      <td>16.405</td>\n",
       "      <td>2.107</td>\n",
       "      <td>225.885</td>\n",
       "      <td>-0.244</td>\n",
       "      <td>3.891</td>\n",
       "      <td>16.405</td>\n",
       "      <td>...</td>\n",
       "      <td>-0.871</td>\n",
       "      <td>53.131</td>\n",
       "      <td>0.0</td>\n",
       "      <td>65.561</td>\n",
       "      <td>0.000</td>\n",
       "      <td>-0.033</td>\n",
       "      <td>47.902</td>\n",
       "      <td>-0.010</td>\n",
       "      <td>-0.002</td>\n",
       "      <td>0.000</td>\n",
       "    </tr>\n",
       "    <tr>\n",
       "      <th>100005</th>\n",
       "      <td>-1.0</td>\n",
       "      <td>89.744</td>\n",
       "      <td>13.550</td>\n",
       "      <td>59.149</td>\n",
       "      <td>116.344</td>\n",
       "      <td>2.636</td>\n",
       "      <td>284.584</td>\n",
       "      <td>-0.540</td>\n",
       "      <td>1.362</td>\n",
       "      <td>61.619</td>\n",
       "      <td>...</td>\n",
       "      <td>2.237</td>\n",
       "      <td>282.849</td>\n",
       "      <td>3.0</td>\n",
       "      <td>90.547</td>\n",
       "      <td>-2.412</td>\n",
       "      <td>-0.653</td>\n",
       "      <td>56.165</td>\n",
       "      <td>0.224</td>\n",
       "      <td>3.106</td>\n",
       "      <td>193.660</td>\n",
       "    </tr>\n",
       "    <tr>\n",
       "      <th>100006</th>\n",
       "      <td>1.0</td>\n",
       "      <td>148.754</td>\n",
       "      <td>28.862</td>\n",
       "      <td>107.782</td>\n",
       "      <td>106.130</td>\n",
       "      <td>0.733</td>\n",
       "      <td>158.359</td>\n",
       "      <td>0.113</td>\n",
       "      <td>2.941</td>\n",
       "      <td>2.545</td>\n",
       "      <td>...</td>\n",
       "      <td>-1.443</td>\n",
       "      <td>294.074</td>\n",
       "      <td>2.0</td>\n",
       "      <td>123.010</td>\n",
       "      <td>0.864</td>\n",
       "      <td>1.450</td>\n",
       "      <td>56.867</td>\n",
       "      <td>0.131</td>\n",
       "      <td>-2.767</td>\n",
       "      <td>179.877</td>\n",
       "    </tr>\n",
       "    <tr>\n",
       "      <th>100007</th>\n",
       "      <td>1.0</td>\n",
       "      <td>154.916</td>\n",
       "      <td>10.418</td>\n",
       "      <td>94.714</td>\n",
       "      <td>29.169</td>\n",
       "      <td>2.107</td>\n",
       "      <td>225.885</td>\n",
       "      <td>-0.244</td>\n",
       "      <td>2.897</td>\n",
       "      <td>1.526</td>\n",
       "      <td>...</td>\n",
       "      <td>-1.761</td>\n",
       "      <td>187.299</td>\n",
       "      <td>1.0</td>\n",
       "      <td>30.638</td>\n",
       "      <td>-0.715</td>\n",
       "      <td>-1.724</td>\n",
       "      <td>47.902</td>\n",
       "      <td>-0.010</td>\n",
       "      <td>-0.002</td>\n",
       "      <td>30.638</td>\n",
       "    </tr>\n",
       "  </tbody>\n",
       "</table>\n",
       "<p>8 rows × 31 columns</p>\n",
       "</div>"
      ],
      "text/plain": [
       "        labels        0        1        2        3      4        5      6  \\\n",
       "ids                                                                         \n",
       "100000     1.0  138.470   51.655   97.827   27.980  0.910  124.711  2.666   \n",
       "100001    -1.0  160.937   68.768  103.235   48.146  2.107  225.885 -0.244   \n",
       "100002    -1.0  112.406  162.172  125.953   35.635  2.107  225.885 -0.244   \n",
       "100003    -1.0  143.905   81.417   80.943    0.414  2.107  225.885 -0.244   \n",
       "100004    -1.0  175.864   16.915  134.805   16.405  2.107  225.885 -0.244   \n",
       "100005    -1.0   89.744   13.550   59.149  116.344  2.636  284.584 -0.540   \n",
       "100006     1.0  148.754   28.862  107.782  106.130  0.733  158.359  0.113   \n",
       "100007     1.0  154.916   10.418   94.714   29.169  2.107  225.885 -0.244   \n",
       "\n",
       "            7       8   ...        20       21   22       23     24     25  \\\n",
       "ids                     ...                                                  \n",
       "100000  3.064  41.928   ...    -0.277  258.733  2.0   67.435  2.150  0.444   \n",
       "100001  3.473   2.078   ...    -1.916  164.546  1.0   46.226  0.725  1.158   \n",
       "100002  3.148   9.336   ...    -2.186  260.414  1.0   44.251  2.053 -2.028   \n",
       "100003  3.310   0.414   ...     0.060   86.062  0.0   65.561  0.000 -0.033   \n",
       "100004  3.891  16.405   ...    -0.871   53.131  0.0   65.561  0.000 -0.033   \n",
       "100005  1.362  61.619   ...     2.237  282.849  3.0   90.547 -2.412 -0.653   \n",
       "100006  2.941   2.545   ...    -1.443  294.074  2.0  123.010  0.864  1.450   \n",
       "100007  2.897   1.526   ...    -1.761  187.299  1.0   30.638 -0.715 -1.724   \n",
       "\n",
       "            26     27     28       29  \n",
       "ids                                    \n",
       "100000  46.062  1.240 -2.475  113.497  \n",
       "100001  47.902 -0.010 -0.002   46.226  \n",
       "100002  47.902 -0.010 -0.002   44.251  \n",
       "100003  47.902 -0.010 -0.002    0.000  \n",
       "100004  47.902 -0.010 -0.002    0.000  \n",
       "100005  56.165  0.224  3.106  193.660  \n",
       "100006  56.867  0.131 -2.767  179.877  \n",
       "100007  47.902 -0.010 -0.002   30.638  \n",
       "\n",
       "[8 rows x 31 columns]"
      ]
     },
     "execution_count": 7,
     "metadata": {},
     "output_type": "execute_result"
    }
   ],
   "source": [
    "df_cleaned = pd.concat([pd.DataFrame({'labels': y, 'ids': ids}), pd.DataFrame(tX_cleaned)], axis=1)\n",
    "df_cleaned_indexed = df_cleaned.set_index(['ids'])\n",
    "df_cleaned_indexed.head(8)"
   ]
  },
  {
   "cell_type": "markdown",
   "metadata": {},
   "source": [
    "We can aslo check which columns have been filled and which ones have not been modified."
   ]
  },
  {
   "cell_type": "code",
   "execution_count": 8,
   "metadata": {
    "collapsed": false
   },
   "outputs": [
    {
     "data": {
      "text/plain": [
       "[True,\n",
       " False,\n",
       " False,\n",
       " False,\n",
       " True,\n",
       " True,\n",
       " True,\n",
       " False,\n",
       " False,\n",
       " False,\n",
       " False,\n",
       " False,\n",
       " True,\n",
       " False,\n",
       " False,\n",
       " False,\n",
       " False,\n",
       " False,\n",
       " False,\n",
       " False,\n",
       " False,\n",
       " False,\n",
       " False,\n",
       " True,\n",
       " True,\n",
       " True,\n",
       " True,\n",
       " True,\n",
       " True,\n",
       " False]"
      ]
     },
     "execution_count": 8,
     "metadata": {},
     "output_type": "execute_result"
    }
   ],
   "source": [
    "modified_columns"
   ]
  },
  {
   "cell_type": "markdown",
   "metadata": {},
   "source": [
    "Let's also standardize our data:"
   ]
  },
  {
   "cell_type": "code",
   "execution_count": 9,
   "metadata": {
    "collapsed": false
   },
   "outputs": [
    {
     "data": {
      "text/plain": [
       "(250000, 31)"
      ]
     },
     "execution_count": 9,
     "metadata": {},
     "output_type": "execute_result"
    }
   ],
   "source": [
    "# normalized data set\n",
    "tX_stand, mean_training, std_training = standardize(tX_cleaned)\n",
    "tX_stand.shape"
   ]
  },
  {
   "cell_type": "code",
   "execution_count": 10,
   "metadata": {
    "collapsed": false
   },
   "outputs": [
    {
     "data": {
      "text/html": [
       "<div>\n",
       "<table border=\"1\" class=\"dataframe\">\n",
       "  <thead>\n",
       "    <tr style=\"text-align: right;\">\n",
       "      <th></th>\n",
       "      <th>labels</th>\n",
       "      <th>0</th>\n",
       "      <th>1</th>\n",
       "      <th>2</th>\n",
       "      <th>3</th>\n",
       "      <th>4</th>\n",
       "      <th>5</th>\n",
       "      <th>6</th>\n",
       "      <th>7</th>\n",
       "      <th>8</th>\n",
       "      <th>...</th>\n",
       "      <th>21</th>\n",
       "      <th>22</th>\n",
       "      <th>23</th>\n",
       "      <th>24</th>\n",
       "      <th>25</th>\n",
       "      <th>26</th>\n",
       "      <th>27</th>\n",
       "      <th>28</th>\n",
       "      <th>29</th>\n",
       "      <th>30</th>\n",
       "    </tr>\n",
       "    <tr>\n",
       "      <th>ids</th>\n",
       "      <th></th>\n",
       "      <th></th>\n",
       "      <th></th>\n",
       "      <th></th>\n",
       "      <th></th>\n",
       "      <th></th>\n",
       "      <th></th>\n",
       "      <th></th>\n",
       "      <th></th>\n",
       "      <th></th>\n",
       "      <th></th>\n",
       "      <th></th>\n",
       "      <th></th>\n",
       "      <th></th>\n",
       "      <th></th>\n",
       "      <th></th>\n",
       "      <th></th>\n",
       "      <th></th>\n",
       "      <th></th>\n",
       "      <th></th>\n",
       "      <th></th>\n",
       "    </tr>\n",
       "  </thead>\n",
       "  <tbody>\n",
       "    <tr>\n",
       "      <th>100000</th>\n",
       "      <td>1.0</td>\n",
       "      <td>1.0</td>\n",
       "      <td>0.341522</td>\n",
       "      <td>0.068332</td>\n",
       "      <td>0.407680</td>\n",
       "      <td>-0.469966</td>\n",
       "      <td>-1.353339</td>\n",
       "      <td>-0.640013</td>\n",
       "      <td>1.579473</td>\n",
       "      <td>0.882478</td>\n",
       "      <td>...</td>\n",
       "      <td>-0.147267</td>\n",
       "      <td>0.386847</td>\n",
       "      <td>1.044402</td>\n",
       "      <td>-0.202115</td>\n",
       "      <td>1.556350</td>\n",
       "      <td>0.330677</td>\n",
       "      <td>-0.262878</td>\n",
       "      <td>1.142622</td>\n",
       "      <td>-2.526840</td>\n",
       "      <td>0.412510</td>\n",
       "    </tr>\n",
       "    <tr>\n",
       "      <th>100001</th>\n",
       "      <td>-1.0</td>\n",
       "      <td>1.0</td>\n",
       "      <td>0.766558</td>\n",
       "      <td>0.552505</td>\n",
       "      <td>0.540136</td>\n",
       "      <td>-0.153167</td>\n",
       "      <td>-0.090817</td>\n",
       "      <td>-0.188805</td>\n",
       "      <td>0.086029</td>\n",
       "      <td>1.404888</td>\n",
       "      <td>...</td>\n",
       "      <td>-1.051683</td>\n",
       "      <td>-0.357719</td>\n",
       "      <td>0.021305</td>\n",
       "      <td>-0.644524</td>\n",
       "      <td>0.525758</td>\n",
       "      <td>0.838833</td>\n",
       "      <td>-0.159461</td>\n",
       "      <td>0.000489</td>\n",
       "      <td>-0.000124</td>\n",
       "      <td>-0.273820</td>\n",
       "    </tr>\n",
       "    <tr>\n",
       "      <th>100002</th>\n",
       "      <td>-1.0</td>\n",
       "      <td>1.0</td>\n",
       "      <td>-0.151562</td>\n",
       "      <td>3.195156</td>\n",
       "      <td>1.096560</td>\n",
       "      <td>-0.349710</td>\n",
       "      <td>-0.090817</td>\n",
       "      <td>-0.188805</td>\n",
       "      <td>0.086029</td>\n",
       "      <td>0.989770</td>\n",
       "      <td>...</td>\n",
       "      <td>-1.200672</td>\n",
       "      <td>0.400135</td>\n",
       "      <td>0.021305</td>\n",
       "      <td>-0.685722</td>\n",
       "      <td>1.486197</td>\n",
       "      <td>-1.428652</td>\n",
       "      <td>-0.159461</td>\n",
       "      <td>0.000489</td>\n",
       "      <td>-0.000124</td>\n",
       "      <td>-0.293970</td>\n",
       "    </tr>\n",
       "    <tr>\n",
       "      <th>100003</th>\n",
       "      <td>-1.0</td>\n",
       "      <td>1.0</td>\n",
       "      <td>0.444343</td>\n",
       "      <td>0.910379</td>\n",
       "      <td>-0.005853</td>\n",
       "      <td>-0.903016</td>\n",
       "      <td>-0.090817</td>\n",
       "      <td>-0.188805</td>\n",
       "      <td>0.086029</td>\n",
       "      <td>1.196690</td>\n",
       "      <td>...</td>\n",
       "      <td>0.038692</td>\n",
       "      <td>-0.978149</td>\n",
       "      <td>-1.001792</td>\n",
       "      <td>-0.241206</td>\n",
       "      <td>0.001422</td>\n",
       "      <td>-0.008805</td>\n",
       "      <td>-0.159461</td>\n",
       "      <td>0.000489</td>\n",
       "      <td>-0.000124</td>\n",
       "      <td>-0.745439</td>\n",
       "    </tr>\n",
       "    <tr>\n",
       "      <th>100004</th>\n",
       "      <td>-1.0</td>\n",
       "      <td>1.0</td>\n",
       "      <td>1.048950</td>\n",
       "      <td>-0.914556</td>\n",
       "      <td>1.313369</td>\n",
       "      <td>-0.651804</td>\n",
       "      <td>-0.090817</td>\n",
       "      <td>-0.188805</td>\n",
       "      <td>0.086029</td>\n",
       "      <td>1.938794</td>\n",
       "      <td>...</td>\n",
       "      <td>-0.475042</td>\n",
       "      <td>-1.238475</td>\n",
       "      <td>-1.001792</td>\n",
       "      <td>-0.241206</td>\n",
       "      <td>0.001422</td>\n",
       "      <td>-0.008805</td>\n",
       "      <td>-0.159461</td>\n",
       "      <td>0.000489</td>\n",
       "      <td>-0.000124</td>\n",
       "      <td>-0.745439</td>\n",
       "    </tr>\n",
       "    <tr>\n",
       "      <th>100005</th>\n",
       "      <td>-1.0</td>\n",
       "      <td>1.0</td>\n",
       "      <td>-0.580287</td>\n",
       "      <td>-1.009761</td>\n",
       "      <td>-0.539646</td>\n",
       "      <td>0.918192</td>\n",
       "      <td>0.467139</td>\n",
       "      <td>0.072976</td>\n",
       "      <td>-0.065881</td>\n",
       "      <td>-1.291464</td>\n",
       "      <td>...</td>\n",
       "      <td>1.239982</td>\n",
       "      <td>0.577488</td>\n",
       "      <td>2.067499</td>\n",
       "      <td>0.279989</td>\n",
       "      <td>-1.742991</td>\n",
       "      <td>-0.450060</td>\n",
       "      <td>0.304958</td>\n",
       "      <td>0.214296</td>\n",
       "      <td>3.175385</td>\n",
       "      <td>1.230371</td>\n",
       "    </tr>\n",
       "    <tr>\n",
       "      <th>100006</th>\n",
       "      <td>1.0</td>\n",
       "      <td>1.0</td>\n",
       "      <td>0.536077</td>\n",
       "      <td>-0.576543</td>\n",
       "      <td>0.651504</td>\n",
       "      <td>0.757735</td>\n",
       "      <td>-1.540028</td>\n",
       "      <td>-0.489952</td>\n",
       "      <td>0.269245</td>\n",
       "      <td>0.725371</td>\n",
       "      <td>...</td>\n",
       "      <td>-0.790677</td>\n",
       "      <td>0.666224</td>\n",
       "      <td>1.044402</td>\n",
       "      <td>0.957151</td>\n",
       "      <td>0.626286</td>\n",
       "      <td>1.046650</td>\n",
       "      <td>0.344414</td>\n",
       "      <td>0.129322</td>\n",
       "      <td>-2.825182</td>\n",
       "      <td>1.089751</td>\n",
       "    </tr>\n",
       "    <tr>\n",
       "      <th>100007</th>\n",
       "      <td>1.0</td>\n",
       "      <td>1.0</td>\n",
       "      <td>0.652651</td>\n",
       "      <td>-1.098374</td>\n",
       "      <td>0.331435</td>\n",
       "      <td>-0.451288</td>\n",
       "      <td>-0.090817</td>\n",
       "      <td>-0.188805</td>\n",
       "      <td>0.086029</td>\n",
       "      <td>0.669171</td>\n",
       "      <td>...</td>\n",
       "      <td>-0.966153</td>\n",
       "      <td>-0.177852</td>\n",
       "      <td>0.021305</td>\n",
       "      <td>-0.969682</td>\n",
       "      <td>-0.515682</td>\n",
       "      <td>-1.212294</td>\n",
       "      <td>-0.159461</td>\n",
       "      <td>0.000489</td>\n",
       "      <td>-0.000124</td>\n",
       "      <td>-0.432856</td>\n",
       "    </tr>\n",
       "  </tbody>\n",
       "</table>\n",
       "<p>8 rows × 32 columns</p>\n",
       "</div>"
      ],
      "text/plain": [
       "        labels    0         1         2         3         4         5  \\\n",
       "ids                                                                     \n",
       "100000     1.0  1.0  0.341522  0.068332  0.407680 -0.469966 -1.353339   \n",
       "100001    -1.0  1.0  0.766558  0.552505  0.540136 -0.153167 -0.090817   \n",
       "100002    -1.0  1.0 -0.151562  3.195156  1.096560 -0.349710 -0.090817   \n",
       "100003    -1.0  1.0  0.444343  0.910379 -0.005853 -0.903016 -0.090817   \n",
       "100004    -1.0  1.0  1.048950 -0.914556  1.313369 -0.651804 -0.090817   \n",
       "100005    -1.0  1.0 -0.580287 -1.009761 -0.539646  0.918192  0.467139   \n",
       "100006     1.0  1.0  0.536077 -0.576543  0.651504  0.757735 -1.540028   \n",
       "100007     1.0  1.0  0.652651 -1.098374  0.331435 -0.451288 -0.090817   \n",
       "\n",
       "               6         7         8    ...           21        22        23  \\\n",
       "ids                                     ...                                    \n",
       "100000 -0.640013  1.579473  0.882478    ...    -0.147267  0.386847  1.044402   \n",
       "100001 -0.188805  0.086029  1.404888    ...    -1.051683 -0.357719  0.021305   \n",
       "100002 -0.188805  0.086029  0.989770    ...    -1.200672  0.400135  0.021305   \n",
       "100003 -0.188805  0.086029  1.196690    ...     0.038692 -0.978149 -1.001792   \n",
       "100004 -0.188805  0.086029  1.938794    ...    -0.475042 -1.238475 -1.001792   \n",
       "100005  0.072976 -0.065881 -1.291464    ...     1.239982  0.577488  2.067499   \n",
       "100006 -0.489952  0.269245  0.725371    ...    -0.790677  0.666224  1.044402   \n",
       "100007 -0.188805  0.086029  0.669171    ...    -0.966153 -0.177852  0.021305   \n",
       "\n",
       "              24        25        26        27        28        29        30  \n",
       "ids                                                                           \n",
       "100000 -0.202115  1.556350  0.330677 -0.262878  1.142622 -2.526840  0.412510  \n",
       "100001 -0.644524  0.525758  0.838833 -0.159461  0.000489 -0.000124 -0.273820  \n",
       "100002 -0.685722  1.486197 -1.428652 -0.159461  0.000489 -0.000124 -0.293970  \n",
       "100003 -0.241206  0.001422 -0.008805 -0.159461  0.000489 -0.000124 -0.745439  \n",
       "100004 -0.241206  0.001422 -0.008805 -0.159461  0.000489 -0.000124 -0.745439  \n",
       "100005  0.279989 -1.742991 -0.450060  0.304958  0.214296  3.175385  1.230371  \n",
       "100006  0.957151  0.626286  1.046650  0.344414  0.129322 -2.825182  1.089751  \n",
       "100007 -0.969682 -0.515682 -1.212294 -0.159461  0.000489 -0.000124 -0.432856  \n",
       "\n",
       "[8 rows x 32 columns]"
      ]
     },
     "execution_count": 10,
     "metadata": {},
     "output_type": "execute_result"
    }
   ],
   "source": [
    "df_stand = pd.concat([pd.DataFrame({'labels': y, 'ids': ids}), pd.DataFrame(tX_stand)], axis=1)\n",
    "df_stand_indexed = df_stand.set_index(['ids'])\n",
    "df_stand_indexed.head(8)"
   ]
  },
  {
   "cell_type": "markdown",
   "metadata": {},
   "source": [
    "## Prediction"
   ]
  },
  {
   "cell_type": "code",
   "execution_count": 11,
   "metadata": {
    "collapsed": true
   },
   "outputs": [],
   "source": [
    "def split_data(y, x, seed=1):\n",
    "    \"\"\"split the dataset based on the split ratio.\"\"\"\n",
    "    # set seed\n",
    "    np.random.seed(seed)\n",
    "    \n",
    "    # set mask\n",
    "    ratio = 0.7\n",
    "    msk = np.random.rand(len(y)) < ratio\n",
    "    \n",
    "    # training data set\n",
    "    x_tr = x[msk]\n",
    "    y_tr = y[msk]\n",
    "    \n",
    "    # test data set\n",
    "    x_test = x[~msk]\n",
    "    y_test = y[~msk]\n",
    "    \n",
    "    return x_tr, x_test, y_tr, y_test"
   ]
  },
  {
   "cell_type": "code",
   "execution_count": 12,
   "metadata": {
    "collapsed": false
   },
   "outputs": [],
   "source": [
    "def prediction(y, tX, gamma, lambda_, max_iters, method):\n",
    "    # split data\n",
    "    x_tr, x_test, y_tr, y_test = split_data(y, tX)\n",
    "    \n",
    "    # training\n",
    "    loss = 0\n",
    "    weights = []\n",
    "    if method == 1:\n",
    "        loss, weights = least_squares_GD(y_tr, x_tr, gamma, max_iters)\n",
    "    elif method == 2:\n",
    "        loss, weights = least_squares_SGD(y_tr, x_tr, gamma, max_iters)\n",
    "    elif method == 3:\n",
    "        loss, weights = least_squares(y_tr, x_tr)\n",
    "    elif method == 4:\n",
    "        loss, weights = ridge_regression(y_tr, x_tr, lambda_)\n",
    "    elif method == 5:\n",
    "        loss, weights = logistic_regression(y_tr, x_tr, gamma, max_iters)\n",
    "    else:\n",
    "        loss, weights = reg_logistic_regression(y_tr, x_tr, lambda_, gamma, max_iters)\n",
    "        \n",
    "    # compute prediction\n",
    "    y_pred = predict_labels(weights, x_test)    \n",
    "    \n",
    "    # accuracy of the prediction\n",
    "    N = y_test.shape[0]\n",
    "    pred = np.sum(y_pred == y_test)/N\n",
    "        \n",
    "    return pred"
   ]
  },
  {
   "cell_type": "markdown",
   "metadata": {},
   "source": [
    "# Implementation of ML methods"
   ]
  },
  {
   "cell_type": "markdown",
   "metadata": {},
   "source": [
    "## Linear regression - gradient descent"
   ]
  },
  {
   "cell_type": "code",
   "execution_count": 13,
   "metadata": {
    "collapsed": true
   },
   "outputs": [],
   "source": [
    "from costs import *\n",
    "\n",
    "def compute_gradient(y, tX, w):\n",
    "    # error\n",
    "    e = y - tX.dot(w)\n",
    "    \n",
    "    # gradient \n",
    "    N=y.shape[0]\n",
    "    gradient = - np.transpose(tX).dot(e)/N\n",
    "    \n",
    "    return gradient"
   ]
  },
  {
   "cell_type": "code",
   "execution_count": 14,
   "metadata": {
    "collapsed": true
   },
   "outputs": [],
   "source": [
    "def least_squares_GD(y, tX, gamma, max_iters):\n",
    "    # init parameters\n",
    "    threshold = 1e-10\n",
    "    w_init = np.zeros(tX.shape[1])\n",
    "    ws = [w_init]\n",
    "    w_temp = w_init\n",
    "    losses = [8000]\n",
    "    \n",
    "    for n_iter in range(max_iters):\n",
    "        # compute gradient and loss\n",
    "        grad = compute_gradient(y, tX, w_temp)\n",
    "        loss = compute_loss(y, tX, w_temp)\n",
    "        \n",
    "        # update w by gradient\n",
    "        w_temp -= gamma*grad\n",
    "        \n",
    "        # store w and loss\n",
    "        ws.append(np.copy(w_temp))\n",
    "        losses.append(loss)\n",
    "        \n",
    "        # converge criteria\n",
    "        if len(losses) > 1 and np.abs(losses[-1] - losses[-2]) < threshold:\n",
    "            break\n",
    "\n",
    "    return losses, ws[-1]"
   ]
  },
  {
   "cell_type": "markdown",
   "metadata": {},
   "source": [
    "## Linear regression - stochastic gradient descent"
   ]
  },
  {
   "cell_type": "code",
   "execution_count": 15,
   "metadata": {
    "collapsed": true
   },
   "outputs": [],
   "source": [
    "def compute_stoch_gradient(y, tX, w):\n",
    "    B = 35 # size of the batch\n",
    "    sum = 0\n",
    "    for minibatch_y, minibatch_tX in batch_iter(y, tX, B):\n",
    "        sum += compute_gradient(minibatch_y, minibatch_tX, w)\n",
    "\n",
    "    return sum / B"
   ]
  },
  {
   "cell_type": "code",
   "execution_count": 16,
   "metadata": {
    "collapsed": true
   },
   "outputs": [],
   "source": [
    "def least_squares_SGD(y, tX, gamma, max_iters):    \n",
    "    # init parameters\n",
    "    threshold = 1e-8\n",
    "    w_init = np.zeros(tX.shape[1])\n",
    "    ws = [w_init]\n",
    "    w_temp = w_init\n",
    "    losses = [8000]\n",
    "\n",
    "    for n_iter in range(max_iters):\n",
    "        # compute gradient and loss\n",
    "        grad = compute_stoch_gradient(y, tX, w_temp)\n",
    "        loss = compute_loss(y, tX, w_temp)\n",
    "\n",
    "        # update w by gradient\n",
    "        w_temp -= gamma*grad\n",
    "        \n",
    "        # store w and loss\n",
    "        ws.append(np.copy(w_temp))\n",
    "        losses.append(loss)\n",
    "        \n",
    "    # converge criteria\n",
    "        if len(losses) > 1 and np.abs(losses[-1] - losses[-2]) < threshold:\n",
    "            break\n",
    "        \n",
    "    return losses, ws[-1]"
   ]
  },
  {
   "cell_type": "markdown",
   "metadata": {},
   "source": [
    "## Least squares"
   ]
  },
  {
   "cell_type": "code",
   "execution_count": 17,
   "metadata": {
    "collapsed": true
   },
   "outputs": [],
   "source": [
    "def least_squares(y, tX):\n",
    "    # Compute optimum weight\n",
    "    tX_transpose = np.transpose(tX)\n",
    "    A = tX_transpose.dot(tX)\n",
    "    b = tX_transpose.dot(y)\n",
    "    w_opt = np.linalg.solve(A,b)\n",
    "    \n",
    "    # Compute loss\n",
    "    loss = compute_loss(y, tX, w_opt)\n",
    "        \n",
    "    return loss, w_opt # returns loss, and optimal weights"
   ]
  },
  {
   "cell_type": "markdown",
   "metadata": {},
   "source": [
    "## Ridge regression"
   ]
  },
  {
   "cell_type": "code",
   "execution_count": 100,
   "metadata": {
    "collapsed": true
   },
   "outputs": [],
   "source": [
    "def build_poly(x, degree):\n",
    "    poly = np.ones(x.shape)\n",
    "    \n",
    "    for m in range(1, degree+1):\n",
    "        poly = np.c_[poly, np.power(x, m)]\n",
    "    \n",
    "    #poly = np.c_[poly, np.absolute(np.sqrt(x))]\n",
    "   \n",
    "    return poly"
   ]
  },
  {
   "cell_type": "code",
   "execution_count": 101,
   "metadata": {
    "collapsed": true
   },
   "outputs": [],
   "source": [
    "def ridge_regression(y, tX_poly, lambda_):    \n",
    "    # Initiation variables\n",
    "    lamb_ = 2*len(y)*lambda_\n",
    "    \n",
    "    # Compute optimum weight\n",
    "    A = np.dot(np.transpose(tX_poly), tX_poly) + lamb_*np.eye(tX_poly.shape[1])\n",
    "    b = np.transpose(tX_poly).dot(y)\n",
    "    w_opt = np.linalg.solve(A,b)\n",
    "    \n",
    "    # Compute loss\n",
    "    loss = compute_loss(y, tX_poly, w_opt)\n",
    "    \n",
    "    return loss, w_opt # returns mse, and optimal weights"
   ]
  },
  {
   "cell_type": "markdown",
   "metadata": {},
   "source": [
    "## Logistic regression"
   ]
  },
  {
   "cell_type": "code",
   "execution_count": 44,
   "metadata": {
    "collapsed": true
   },
   "outputs": [],
   "source": [
    "def sigmoid(t):\n",
    "    temp = 1+np.exp(-t)\n",
    "    return 1/(temp)"
   ]
  },
  {
   "cell_type": "code",
   "execution_count": 45,
   "metadata": {
    "collapsed": false
   },
   "outputs": [],
   "source": [
    "def learning_by_gradient_descent(y, tX, w, gamma, lambda_):\n",
    "    # Initiation variables\n",
    "    lamb_ = 2*len(y)*lambda_\n",
    "    \n",
    "    # compute the loss\n",
    "    N = tX.shape[0]\n",
    "    l1 = tX.dot(w) + np.log(np.ones((N))+np.exp(-tX.dot(w)))\n",
    "    l2 = y*(tX.dot(w))\n",
    "    loss = (np.ones((1,N)).dot(l1-l2))[0]\n",
    "    \n",
    "    # compute the gradient\n",
    "    grad = np.transpose(tX).dot(sigmoid(tX.dot(w))-y) + lamb_*w.dot(w)\n",
    "    \n",
    "    # update w\n",
    "    w -= gamma*grad\n",
    "\n",
    "    return loss, w"
   ]
  },
  {
   "cell_type": "code",
   "execution_count": 46,
   "metadata": {
    "collapsed": false
   },
   "outputs": [],
   "source": [
    "def logistic_regression(y, tX, gamma, max_iters):\n",
    "    # init parameters\n",
    "    threshold = 1e-8\n",
    "    w_temp = np.zeros(tX.shape[1]) # initialization of the weight\n",
    "    ws = [w_temp]\n",
    "    losses = [8000]\n",
    "\n",
    "    # start the logistic regression\n",
    "    for iter in range(max_iters):        \n",
    "        # get loss and update w.\n",
    "        loss, w_temp = learning_by_gradient_descent(y, tX, w_temp, gamma, 0)\n",
    "        \n",
    "        # store w and loss\n",
    "        ws.append(np.copy(w_temp))\n",
    "        losses.append(loss)\n",
    "        \n",
    "        # converge criteria\n",
    "        if len(losses) > 1 and np.abs(losses[-1] - losses[-2]) < threshold:\n",
    "            break\n",
    "    \n",
    "    return losses, ws[-1]"
   ]
  },
  {
   "cell_type": "markdown",
   "metadata": {},
   "source": [
    "## Regularized logistic regression"
   ]
  },
  {
   "cell_type": "code",
   "execution_count": 89,
   "metadata": {
    "collapsed": true
   },
   "outputs": [],
   "source": [
    "def reg_logistic_regression(y, tX, gamma, lambda_, max_iters):\n",
    "    # init parameters\n",
    "    threshold = 1e-8\n",
    "    w_temp = np.zeros(tX.shape[1]) # initialization of the weight\n",
    "    ws = [w_temp]\n",
    "    losses = [8000]\n",
    "\n",
    "    # start the logistic regression\n",
    "    for iter in range(max_iters):        \n",
    "        # get loss and update w.\n",
    "        loss, w_temp = learning_by_gradient_descent(y, tX, w_temp, gamma, lambda_)\n",
    "        \n",
    "        # store w and loss\n",
    "        ws.append(np.copy(w_temp))\n",
    "        losses.append(loss)\n",
    "        \n",
    "        # converge criteria\n",
    "        if len(losses) > 1 and np.abs(losses[-1] - losses[-2]) < threshold:\n",
    "            break\n",
    "    \n",
    "    return losses, ws[-1]"
   ]
  },
  {
   "cell_type": "markdown",
   "metadata": {},
   "source": [
    "### Cross-validation"
   ]
  },
  {
   "cell_type": "code",
   "execution_count": 25,
   "metadata": {
    "collapsed": true
   },
   "outputs": [],
   "source": [
    "def build_k_indices(y, k_fold, seed):\n",
    "    \"\"\"build k indices for k-fold.\"\"\"\n",
    "    num_row = len(y)\n",
    "    interval = int(num_row / k_fold)\n",
    "    np.random.seed(seed)\n",
    "    indices = np.random.permutation(num_row)\n",
    "    k_indices = [indices[k * interval: (k + 1) * interval]\n",
    "                 for k in range(k_fold)]\n",
    "    \n",
    "    return np.array(k_indices)\n",
    "\n",
    "\n",
    "def cross_validation(y, x, k_indices, k, lambda_, degree):\n",
    "    \"\"\"return the loss of ridge regression.\"\"\"\n",
    "    # get k'th subgroup in test, others in train:\n",
    "    x_test = x[k_indices[k]]\n",
    "    y_test = y[k_indices[k]]\n",
    "    \n",
    "    tr_indices = np.delete(k_indices, k, axis=0)\n",
    "    x_tr = np.delete(x, k, axis=0)\n",
    "    y_tr = np.delete(y, k, axis=0)\n",
    "    \n",
    "    # form train and test data with polynomial basis function\n",
    "    poly_x_tr = build_poly(x_tr, degree)\n",
    "    poly_x_test = build_poly(x_test, degree)\n",
    "    \n",
    "    # calcualte weight and loss through least square.\n",
    "    loss_tr, weight_tr = ridge_regression(y_tr, poly_x_tr, lambda_)\n",
    "    loss_test, weight_te = ridge_regression(y_test, poly_x_test, lambda_)\n",
    "    \n",
    "    return loss_tr, loss_te, weight_tr, weight_te"
   ]
  },
  {
   "cell_type": "markdown",
   "metadata": {},
   "source": [
    "### Bias-Variance Decomposition"
   ]
  },
  {
   "cell_type": "code",
   "execution_count": null,
   "metadata": {
    "collapsed": true
   },
   "outputs": [],
   "source": []
  },
  {
   "cell_type": "markdown",
   "metadata": {},
   "source": [
    "# Training"
   ]
  },
  {
   "cell_type": "markdown",
   "metadata": {},
   "source": [
    "## Train on half of our training set and test the model on the other half:"
   ]
  },
  {
   "cell_type": "markdown",
   "metadata": {},
   "source": [
    "First let's divide our data in two part:"
   ]
  },
  {
   "cell_type": "code",
   "execution_count": 432,
   "metadata": {
    "collapsed": false
   },
   "outputs": [
    {
     "name": "stderr",
     "output_type": "stream",
     "text": [
      "/Users/davidrivollet/anaconda/lib/python3.5/site-packages/ipykernel/__main__.py:3: VisibleDeprecationWarning: using a non-integer number instead of an integer will result in an error in the future\n",
      "  app.launch_new_instance()\n",
      "/Users/davidrivollet/anaconda/lib/python3.5/site-packages/ipykernel/__main__.py:4: VisibleDeprecationWarning: using a non-integer number instead of an integer will result in an error in the future\n",
      "/Users/davidrivollet/anaconda/lib/python3.5/site-packages/ipykernel/__main__.py:6: VisibleDeprecationWarning: using a non-integer number instead of an integer will result in an error in the future\n",
      "/Users/davidrivollet/anaconda/lib/python3.5/site-packages/ipykernel/__main__.py:7: VisibleDeprecationWarning: using a non-integer number instead of an integer will result in an error in the future\n",
      "/Users/davidrivollet/anaconda/lib/python3.5/site-packages/numpy/core/numeric.py:190: VisibleDeprecationWarning: using a non-integer number instead of an integer will result in an error in the future\n",
      "  a = empty(shape, dtype, order)\n",
      "/Users/davidrivollet/anaconda/lib/python3.5/site-packages/ipykernel/__main__.py:13: VisibleDeprecationWarning: using a non-integer number instead of an integer will result in an error in the future\n",
      "/Users/davidrivollet/anaconda/lib/python3.5/site-packages/ipykernel/__main__.py:14: VisibleDeprecationWarning: using a non-integer number instead of an integer will result in an error in the future\n"
     ]
    }
   ],
   "source": [
    "N = y.shape[0]\n",
    "\n",
    "y1 = y[:N/2].copy()\n",
    "y2 = y[N/2:].copy()\n",
    "\n",
    "tX1 = tX_cleaned[:N/2, :].copy()\n",
    "tX2 = tX_cleaned[N/2:, :].copy()\n",
    "\n",
    "w0 = np.ones([1,N/2])\n",
    "tX1 = np.insert(tX1, 0, w0, axis=1)\n",
    "tX2 = np.insert(tX2, 0, w0, axis=1)\n",
    "\n",
    "ids1 = ids[:N/2].copy()\n",
    "ids2 = ids[N/2:].copy()"
   ]
  },
  {
   "cell_type": "markdown",
   "metadata": {},
   "source": [
    "### Linear regression - gradient descent"
   ]
  },
  {
   "cell_type": "code",
   "execution_count": 34,
   "metadata": {
    "collapsed": false
   },
   "outputs": [
    {
     "name": "stdout",
     "output_type": "stream",
     "text": [
      "\n",
      "weights_GD:\n",
      " [ -7.02181144e-06  -6.76675669e-04  -8.97777621e-04  -5.23192467e-04\n",
      "   2.57001876e-04  -7.23174466e-06   2.64585418e-04  -1.25179752e-05\n",
      "  -1.61558759e-05  -1.24443507e-04  -5.14468323e-05  -1.73979905e-05\n",
      "   1.66560497e-05  -1.55670651e-06   7.19400927e-06  -7.40805407e-08\n",
      "  -2.81217008e-07  -3.21900711e-04   3.46775238e-07  -1.22571171e-07\n",
      "  -2.17271338e-04   7.12554648e-07  -4.05208168e-04   3.29750958e-07\n",
      "  -2.11976201e-04  -1.71803251e-07   1.87877644e-07  -3.17364813e-04\n",
      "   1.33344399e-07  -2.20120610e-07   2.63259972e-04] \n",
      "\n",
      "pred_GD =  0.670099800399\n"
     ]
    }
   ],
   "source": [
    "max_iters_GD_test = 2000\n",
    "gamma_GD_test = 1.0e-8\n",
    "method = 1\n",
    "\n",
    "loss_GD_test, weights_GD_test = least_squares_GD(y1, tX1, gamma_GD_test, max_iters_GD_test)\n",
    "pred_GD_test = prediction(y1, tX1, gamma_GD_test, 0, max_iters_GD_test, method)\n",
    "\n",
    "print(\"\\nweights_GD:\\n\",weights_GD_test,\"\\n\")\n",
    "print(\"pred_GD = \", pred_GD_test)"
   ]
  },
  {
   "cell_type": "code",
   "execution_count": 35,
   "metadata": {
    "collapsed": false
   },
   "outputs": [
    {
     "data": {
      "text/plain": [
       "67.0248"
      ]
     },
     "execution_count": 35,
     "metadata": {},
     "output_type": "execute_result"
    }
   ],
   "source": [
    "y_pred_GD_test = predict_labels(weights_GD_test, tX2)\n",
    "n_correct_GD = np.count_nonzero((y_pred_GD_test - y2) == 0)\n",
    "perc_correct_GD = n_correct_GD/(N/2) * 100\n",
    "perc_correct_GD"
   ]
  },
  {
   "cell_type": "markdown",
   "metadata": {},
   "source": [
    "### Linear regression - stochastic gradient descent"
   ]
  },
  {
   "cell_type": "code",
   "execution_count": 37,
   "metadata": {
    "collapsed": false
   },
   "outputs": [
    {
     "name": "stdout",
     "output_type": "stream",
     "text": [
      "\n",
      "weights_SGD:\n",
      " [ -3.75046095e-05   1.40705033e-04  -6.44799833e-03  -4.50093212e-04\n",
      "   2.12750846e-03  -1.85823047e-05   6.30237753e-04  -9.42820546e-05\n",
      "  -2.04482715e-05  -8.98834444e-04   8.45356531e-04  -1.46466146e-04\n",
      "   1.71564204e-04   3.27632594e-06   2.17281745e-03  -3.22683260e-06\n",
      "  -8.82613457e-06  -1.20860000e-03   2.20461637e-06   2.63886386e-06\n",
      "  -1.05067113e-03   6.44749522e-06  -6.17323081e-04  -9.37945950e-06\n",
      "  -1.37941055e-03  -6.67551307e-07   3.06851103e-07  -2.13627821e-03\n",
      "   7.14567462e-07  -2.98916776e-06  -1.18859167e-04] \n",
      "\n",
      "pred_SGD =  0.69623419827\n"
     ]
    }
   ],
   "source": [
    "max_iters_SGD_test = 500\n",
    "gamma_SGD_test = 1.0e-8\n",
    "method = 2\n",
    "\n",
    "loss_SGD_test, weights_SGD_test = least_squares_SGD(y1, tX1, gamma_SGD_test, max_iters_SGD_test)\n",
    "print(\"\\nweights_SGD:\\n\",weights_SGD_test,\"\\n\")\n",
    "\n",
    "pred_SGD_test = prediction(y1, tX1, gamma_SGD_test, 0, max_iters_SGD_test, method)\n",
    "print(\"pred_SGD = \", pred_SGD_test)"
   ]
  },
  {
   "cell_type": "code",
   "execution_count": 38,
   "metadata": {
    "collapsed": false
   },
   "outputs": [
    {
     "data": {
      "text/plain": [
       "70.2272"
      ]
     },
     "execution_count": 38,
     "metadata": {},
     "output_type": "execute_result"
    }
   ],
   "source": [
    "y_pred_SGD_test = predict_labels(weights_SGD_test, tX2)\n",
    "n_correct_SGD = np.count_nonzero((y_pred_SGD_test - y2) == 0)\n",
    "perc_correct_SGD = n_correct_SGD/(N/2) * 100\n",
    "perc_correct_SGD"
   ]
  },
  {
   "cell_type": "markdown",
   "metadata": {},
   "source": [
    "### Least squares"
   ]
  },
  {
   "cell_type": "code",
   "execution_count": 39,
   "metadata": {
    "collapsed": false
   },
   "outputs": [
    {
     "name": "stdout",
     "output_type": "stream",
     "text": [
      "\n",
      "weights_LeastS:\n",
      " [ -1.16074033e+00   1.44296347e-04  -7.13890244e-03  -6.35632610e-03\n",
      "   1.18983305e-04   1.66537567e-02   4.56475343e-04   2.70567148e-03\n",
      "   3.54887909e-01  -1.19904231e-03  -4.22515836e+00  -2.21232683e-01\n",
      "   1.02368577e-01   3.52579962e-01   4.23358426e+00  -3.27685587e-03\n",
      "  -1.63291643e-03   4.23825620e+00   1.63545099e-03   2.70568868e-04\n",
      "   3.04571909e-03  -3.81839093e-04  -3.77901455e-04   4.71385100e-02\n",
      "  -8.23199214e-04   1.15058943e-03  -2.02148685e-03  -1.23809562e-03\n",
      "  -3.37838817e-04  -3.15646992e-03   4.22484938e+00] \n",
      "\n",
      "pred_LeastS =  0.747624750499\n"
     ]
    }
   ],
   "source": [
    "method = 3\n",
    "\n",
    "loss_LeastS_test, weights_LeastS_test = least_squares(y1, tX1)\n",
    "print(\"\\nweights_LeastS:\\n\",weights_LeastS_test,\"\\n\")\n",
    "\n",
    "pred_LeastS_test = prediction(y1, tX1, 0, 0, 0, method)\n",
    "print(\"pred_LeastS = \", pred_LeastS_test)"
   ]
  },
  {
   "cell_type": "code",
   "execution_count": 40,
   "metadata": {
    "collapsed": false
   },
   "outputs": [
    {
     "data": {
      "text/plain": [
       "74.4256"
      ]
     },
     "execution_count": 40,
     "metadata": {},
     "output_type": "execute_result"
    }
   ],
   "source": [
    "y_pred_LS_test = predict_labels(weights_LeastS_test, tX2)\n",
    "n_correct_LS = np.count_nonzero((y_pred_LS_test - y2) == 0)\n",
    "perc_correct_LS = n_correct_LS/(N/2) * 100\n",
    "perc_correct_LS"
   ]
  },
  {
   "cell_type": "markdown",
   "metadata": {},
   "source": [
    "### Ridge regression"
   ]
  },
  {
   "cell_type": "code",
   "execution_count": 102,
   "metadata": {
    "collapsed": false,
    "scrolled": true
   },
   "outputs": [
    {
     "name": "stdout",
     "output_type": "stream",
     "text": [
      "\n",
      "weights_RR:\n",
      " [ -4.85618666e+08   1.46604323e+09   2.45597904e+06  -8.30305735e+08\n",
      "  -6.18084754e+07  -9.67732014e+07   1.84997277e+07  -1.24928535e+07\n",
      "  -2.70981877e-04  -2.70981877e-04  -2.70981877e-04  -2.70981877e-04\n",
      "  -2.70981877e-04  -2.70981877e-04  -2.70981877e-04  -2.70981877e-04\n",
      "  -2.70981877e-04  -2.70981877e-04  -2.70981877e-04  -2.70981877e-04\n",
      "  -2.70981877e-04  -2.70981877e-04  -2.70981877e-04  -2.70981877e-04\n",
      "  -2.70982966e-04  -2.70982966e-04  -2.70982966e-04  -2.70982966e-04\n",
      "  -2.70982966e-04  -2.70982966e-04  -2.70982966e-04  -2.70982966e-04\n",
      "  -7.68945536e-03  -2.08207528e-03  -4.79139626e-03  -3.42676624e-03\n",
      "  -4.26766364e-04  -8.74550129e-03  -7.18849120e-04   1.26432434e-04\n",
      "  -2.33864898e-04  -7.20819274e-03  -4.46489216e-04   1.00147101e-03\n",
      "   7.11221470e-04  -2.30821056e-03  -1.38912141e-04  -9.67043325e-05\n",
      "  -2.65842173e-03   1.74589155e-05   6.76899702e-05  -4.99416690e-03\n",
      "   2.52089926e-05  -6.76571641e-03  -1.62681692e-04  -3.78544631e-03\n",
      "  -1.50592983e-04   4.99741696e-05  -3.33356446e-03   1.72821195e-05\n",
      "  -6.48371365e-05  -2.24628878e-03  -2.70982480e-04  -8.96089713e-04\n",
      "   2.15396596e-04   6.28824442e-04   7.42338694e-05  -5.81077756e-04\n",
      "   3.51774576e-05   5.44383444e-05   6.44469067e-04  -4.19804495e-05\n",
      "  -1.44264177e-04  -8.39163817e-04   3.97810226e-04   8.22236951e-04\n",
      "  -2.94587886e-04  -5.72466892e-04  -3.22657283e-04  -1.15015763e-03\n",
      "  -1.16894055e-03  -3.18029488e-04   8.05629010e-05  -3.37982165e-04\n",
      "   7.46966151e-05  -1.79143855e-04  -1.06593410e-06   1.21109563e-03\n",
      "  -1.80736581e-04  -4.40639461e-03   6.28708310e-04  -1.33054966e-04\n",
      "   3.80499421e-04  -2.70983351e-04   2.18967331e-05  -1.34804393e-05\n",
      "  -1.15203322e-05  -6.72818803e-07  -5.71477941e-04  -7.21826583e-08\n",
      "  -1.92112431e-03   1.30735536e-03   7.51445780e-07   1.54333027e-06\n",
      "  -1.23002675e-03   1.46100772e-03   8.27984981e-04   5.16089862e-05\n",
      "  -2.28716873e-04  -1.20903168e-04   5.83849940e-05  -1.99365975e-05\n",
      "   1.29979804e-04  -3.58869577e-07  -1.37045159e-05  -3.09372894e-07\n",
      "  -2.11086422e-04   4.14243966e-07  -2.53191084e-04   1.05801131e-04\n",
      "   1.51923092e-04   3.65041493e-06  -1.08633628e-04  -3.53456916e-06\n",
      "  -2.70983467e-04  -2.01659289e-07   2.23026684e-07   8.84381218e-08\n",
      "   3.36530807e-09  -1.09205411e-04   8.74396924e-11   4.70628831e-05\n",
      "   1.96345421e-03  -3.90381786e-09  -8.10092415e-09  -8.92513072e-04\n",
      "   5.67776417e-04   8.04651114e-04  -1.42051745e-06  -1.11244137e-03\n",
      "  -3.88834565e-04  -1.11025034e-06  -2.06473293e-03  -4.00767575e-04\n",
      "   3.11882565e-11  -4.60979179e-04   3.50631274e-10  -2.72014502e-04\n",
      "  -6.27029586e-09   2.94378672e-03  -3.08619062e-04  -2.25128818e-06\n",
      "   1.53916780e-03  -2.89342124e-04   1.78901244e-08  -2.70983466e-04\n",
      "   9.64128910e-10  -1.72259553e-09  -3.61591435e-10  -9.29732853e-12\n",
      "   9.25604196e-04  -6.66973675e-14   2.58957581e-05   2.08197437e-03\n",
      "   6.58708549e-12   2.38413408e-11   7.91632190e-04   1.88567345e-03\n",
      "   7.73912574e-04   1.83479590e-08  -2.04496857e-04  -2.11898735e-05\n",
      "   1.12820753e-08  -7.14088363e-05   1.96113402e-04   3.52145528e-12\n",
      "  -1.43389249e-04   1.06081245e-12  -3.84969751e-04   4.48626777e-11\n",
      "  -5.59516767e-05   1.92707106e-04   1.82048494e-08  -6.15277788e-05\n",
      "  -1.75237460e-04  -5.45355104e-11  -2.70983466e-04  -2.66723493e-12\n",
      "   7.35651661e-12   8.63817142e-13   1.32245314e-14   1.41925622e-03\n",
      "   3.28432784e-17  -1.59200298e-06   8.26508492e-04  -1.04021080e-15\n",
      "  -4.20101722e-14  -2.25789592e-04   6.71036527e-04   7.42754253e-04\n",
      "  -1.32833990e-10  -1.49165316e-03  -2.38988147e-04  -6.74204983e-11\n",
      "  -2.57652763e-03  -1.75381754e-04  -7.28451489e-15  -2.80725367e-04\n",
      "  -4.10059929e-15  -5.84195422e-04  -1.77696727e-13   8.60285583e-04\n",
      "  -3.64400729e-04  -8.72690085e-11   5.80358101e-04  -4.21731403e-04\n",
      "   1.03770751e-13  -2.70983466e-04   4.42631153e-15  -1.84044461e-14\n",
      "  -1.24302973e-15  -7.72973332e-18  -8.90546930e-04  -1.03924958e-20\n",
      "  -8.47977415e-08  -1.32053015e-03   1.94078225e-18   4.52340149e-17\n",
      "   3.19183849e-05   2.16862367e-03   7.13515703e-04   5.68681769e-13\n",
      "   1.80548030e-04   1.59012893e-05   2.43377418e-13  -3.77595379e-05\n",
      "  -6.15189487e-05   2.94841389e-18   4.56482800e-05   5.92771774e-18\n",
      "  -9.03136950e-04   4.08095501e-16   1.17473792e-05  -1.39070431e-04\n",
      "   2.54139359e-13   9.01652654e-06   2.66381091e-05  -1.23474439e-16\n",
      "  -2.70983466e-04  -4.34329342e-18   2.68442616e-17   1.05940986e-18\n",
      "   2.89472990e-23   1.70691298e-04   2.03351157e-24   9.17186286e-09\n",
      "   3.49633855e-04  -8.97325195e-21  -2.91086541e-20  -2.39688933e-06\n",
      "   6.96894830e-04   6.86808147e-04  -1.42805782e-15  -7.59560512e-05\n",
      "   4.87032774e-05  -5.20461234e-16  -5.85045551e-05   4.89768145e-05\n",
      "  -6.50665915e-22   7.59861969e-05  -4.42903776e-21  -1.30089222e-03\n",
      "  -5.38082767e-19  -1.18547222e-04   7.40939197e-05  -4.40564609e-16\n",
      "  -7.13097909e-05   6.94083674e-05   8.88787338e-20  -2.70983466e-04\n",
      "   2.32110750e-21  -2.11291284e-20  -4.91954734e-22   4.36921756e-25\n",
      "  -1.24447410e-05  -2.23081711e-28   1.64961698e-11  -2.59035472e-05\n",
      "  -2.84325314e-24   1.02633031e-23   9.10615859e-08   1.86213577e-03\n",
      "   6.62623168e-04   1.94303235e-18  -3.10760228e-05  -1.57962520e-06\n",
      "   6.05729786e-19   7.05334514e-06   3.79655803e-06   3.67540569e-24\n",
      "  -3.26760686e-06   1.69269822e-24  -1.37404361e-03   3.76128572e-22\n",
      "  -3.54313415e-07   1.29086708e-05   4.17438500e-19  -3.27258845e-07\n",
      "  -6.48670748e-07  -3.52507193e-23  -2.70983466e-04  -5.20373431e-25\n",
      "   6.93196208e-24   9.58094000e-26   4.51071977e-28   2.50573753e-07\n",
      "   1.04523048e-32  -1.27513017e-11  -2.91416084e-07  -1.47613663e-27\n",
      "  -1.52262648e-27  -1.37312580e-09   5.64142821e-04   6.40740620e-04\n",
      "  -1.10507644e-21   4.66072780e-05  -2.19658667e-06  -2.95158731e-22\n",
      "   7.22459324e-05  -3.09928667e-06   1.73865398e-27  -4.60177068e-06\n",
      "  -2.61363318e-28   6.31542568e-04  -1.07518402e-25   3.62801213e-06\n",
      "  -3.75017976e-06  -1.66221952e-22   2.01407833e-06  -2.43896495e-06\n",
      "   5.89203715e-27] \n",
      "\n",
      "pred_RR for degree  10  =  0.809394544245\n"
     ]
    },
    {
     "data": {
      "text/plain": [
       "80.4136"
      ]
     },
     "execution_count": 102,
     "metadata": {},
     "output_type": "execute_result"
    }
   ],
   "source": [
    "degree_RR_test = 10\n",
    "\n",
    "tX1_poly = build_poly(tX1, degree_RR_test)\n",
    "tX2_poly = build_poly(tX2, degree_RR_test)\n",
    "\n",
    "lambda_RR_test = 5\n",
    "method = 4\n",
    "\n",
    "loss_RR_test, weights_RR_test = ridge_regression(y1, tX1_poly, lambda_RR_test)\n",
    "print(\"\\nweights_RR:\\n\",weights_RR_test,\"\\n\")\n",
    "\n",
    "pred_RR_test = prediction(y1, tX1_poly, 0, lambda_RR_test, 0, method)\n",
    "print(\"pred_RR for degree \", str(degree_RR_test), \" = \", pred_RR_test)\n",
    "\n",
    "\n",
    "y_pred_RR_test = predict_labels(weights_RR_test, tX2_poly)\n",
    "n_correct_RR = np.count_nonzero((y_pred_RR_test - y2) == 0)\n",
    "perc_correct_RR = n_correct_RR/(N/2) * 100\n",
    "perc_correct_RR"
   ]
  },
  {
   "cell_type": "code",
   "execution_count": 148,
   "metadata": {
    "collapsed": false,
    "scrolled": true
   },
   "outputs": [
    {
     "name": "stdout",
     "output_type": "stream",
     "text": [
      "pred_RR for degree  0  =  0.657165668663\n",
      "pred_RR on testing set for degree  0  =  65.6112 %\n",
      "pred_RR for degree  1  =  0.733546240852\n",
      "pred_RR on testing set for degree  1  =  73.0224 %\n",
      "pred_RR for degree  2  =  0.74876912841\n",
      "pred_RR on testing set for degree  2  =  74.6928 %\n",
      "pred_RR for degree  3  =  0.759015302728\n",
      "pred_RR on testing set for degree  3  =  75.7112 %\n",
      "pred_RR for degree  4  =  0.768622754491\n",
      "pred_RR on testing set for degree  4  =  76.80799999999999 %\n",
      "pred_RR for degree  5  =  0.77870924817\n",
      "pred_RR on testing set for degree  5  =  77.9576 %\n",
      "pred_RR for degree  6  =  0.791137724551\n",
      "pred_RR on testing set for degree  6  =  79.1112 %\n",
      "pred_RR for degree  7  =  0.480958083832\n",
      "pred_RR on testing set for degree  7  =  71.1 %\n",
      "pred_RR for degree  8  =  0.801809713906\n",
      "pred_RR on testing set for degree  8  =  80.0224 %\n",
      "pred_RR for degree  9  =  0.671856287425\n",
      "pred_RR on testing set for degree  9  =  75.0232 %\n",
      "pred_RR for degree  10  =  0.809394544245\n",
      "pred_RR on testing set for degree  10  =  80.4136 %\n",
      "pred_RR for degree  11  =  0.643459747172\n",
      "pred_RR on testing set for degree  11  =  81.2832 %\n",
      "pred_RR for degree  12  =  0.815089820359\n",
      "pred_RR on testing set for degree  12  =  81.444 %\n",
      "pred_RR for degree  13  =  0.814770459082\n",
      "pred_RR on testing set for degree  13  =  81.2696 %\n",
      "pred_RR for degree  14  =  0.795821689953\n",
      "pred_RR on testing set for degree  14  =  57.2832 %\n",
      "pred_RR for degree  15  =  0.783206919494\n",
      "pred_RR on testing set for degree  15  =  76.16159999999999 %\n",
      "pred_RR for degree  16  =  0.804843646041\n",
      "pred_RR on testing set for degree  16  =  65.8256 %\n",
      "pred_RR for degree  17  =  0.794011976048\n",
      "pred_RR on testing set for degree  17  =  76.14800000000001 %\n",
      "pred_RR for degree  18  =  0.632787757818\n",
      "pred_RR on testing set for degree  18  =  56.90880000000001 %\n",
      "pred_RR for degree  19  =  0.614291417166\n",
      "pred_RR on testing set for degree  19  =  76.6048 %\n"
     ]
    }
   ],
   "source": [
    "pred_RR_test_VEC = np.zeros(20)\n",
    "perc_correct_RR_VEC = np.zeros(20)\n",
    "\n",
    "degrees = range(0,20)\n",
    "\n",
    "for degree_RR_test in degrees:\n",
    "\n",
    "    tX1_poly = build_poly(tX1, degree_RR_test)\n",
    "    tX2_poly = build_poly(tX2, degree_RR_test)\n",
    "\n",
    "    lambda_RR_test = 5\n",
    "    method = 4\n",
    "\n",
    "    loss_RR_test, weights_RR_test = ridge_regression(y1, tX1_poly, lambda_RR_test)\n",
    "\n",
    "    pred_RR_test = prediction(y1, tX1_poly, 0, lambda_RR_test, 0, method)\n",
    "    print(\"pred_RR for degree \", str(degree_RR_test), \" = \", pred_RR_test)\n",
    "\n",
    "    pred_RR_test_VEC[degree_RR_test] = pred_RR_test*100\n",
    "\n",
    "    y_pred_RR_test = predict_labels(weights_RR_test, tX2_poly)\n",
    "    n_correct_RR = np.count_nonzero((y_pred_RR_test - y2) == 0)\n",
    "    \n",
    "    perc_correct_RR = n_correct_RR/(N/2) * 100\n",
    "    \n",
    "    perc_correct_RR_VEC[degree_RR_test] = perc_correct_RR\n",
    "    \n",
    "    print(\"pred_RR on testing set for degree \", str(degree_RR_test), \" = \", perc_correct_RR, \"%\")"
   ]
  },
  {
   "cell_type": "code",
   "execution_count": 87,
   "metadata": {
    "collapsed": false
   },
   "outputs": [
    {
     "data": {
      "image/png": "[encoded data removed]",
      "text/plain": [
       "<matplotlib.figure.Figure at 0x192e3cf28>"
      ]
     },
     "metadata": {},
     "output_type": "display_data"
    }
   ],
   "source": [
    "p = plt.plot(degrees, pred_RR_test_VEC, degrees, perc_correct_RR_VEC)\n",
    "plt.title(\"Percentage of correct prediction in function of polynomial degree\") \n",
    "plt.xlabel('Polynomial degree')\n",
    "plt.ylabel('Correct prediction (%)')\n",
    "plt.legend(p, [\"On training set\", \"On testing set\"], bbox_to_anchor=(1.5, 1))\n",
    "plt.ylim([0, 100])\n",
    "plt.show()"
   ]
  },
  {
   "cell_type": "markdown",
   "metadata": {},
   "source": [
    "We observe that with a 7 or more degree polynomial, we are overfitting."
   ]
  },
  {
   "cell_type": "markdown",
   "metadata": {},
   "source": [
    "### Logistic regression"
   ]
  },
  {
   "cell_type": "code",
   "execution_count": 51,
   "metadata": {
    "collapsed": false
   },
   "outputs": [
    {
     "name": "stdout",
     "output_type": "stream",
     "text": [
      "\n",
      "weights_LogR:\n",
      " [ -7.93971123e-03  -9.25427112e-01  -6.87095681e-01  -6.61222434e-01\n",
      "  -1.67225941e-01  -1.29103044e-02  -1.00695125e+00  -5.13309675e-03\n",
      "  -1.86704410e-02  -1.57261061e-01  -8.31681534e-01  -1.53710195e-02\n",
      "   8.75789549e-03  -2.72906766e-03  -1.81113730e-01   7.07021183e-06\n",
      "  -9.30049190e-05  -3.87601218e-01   2.48637077e-04  -2.40084245e-04\n",
      "  -3.13451695e-01   4.10680696e-04  -1.25211521e+00  -4.67453228e-03\n",
      "  -4.78044443e-01  -7.96808619e-05   1.75176394e-04  -3.92081664e-01\n",
      "   1.14565931e-04  -9.08258862e-05  -2.62966530e-01] \n",
      "\n",
      "pred_LogR =  0.657165668663\n"
     ]
    }
   ],
   "source": [
    "max_iters_LogR_test = 2000\n",
    "gamma_LogR_test = 1.0e-10\n",
    "method = 5\n",
    "\n",
    "loss_LogR_test, weights_LogR_test = logistic_regression(y1, tX1, gamma_LogR_test, max_iters_LogR_test)\n",
    "print(\"\\nweights_LogR:\\n\",weights_LogR_test,\"\\n\")\n",
    "\n",
    "pred_LogR_test = prediction(y1, tX1, gamma_LogR_test, 0, max_iters_LogR_test, method)\n",
    "print(\"pred_LogR = \", pred_LogR_test)"
   ]
  },
  {
   "cell_type": "code",
   "execution_count": 52,
   "metadata": {
    "collapsed": false
   },
   "outputs": [
    {
     "data": {
      "text/plain": [
       "65.6112"
      ]
     },
     "execution_count": 52,
     "metadata": {},
     "output_type": "execute_result"
    }
   ],
   "source": [
    "y_pred_LogR_test = predict_labels(weights_LogR_test, tX2)\n",
    "n_correct_LogR = np.count_nonzero((y_pred_LogR_test - y2) == 0)\n",
    "perc_correct_LogR = n_correct_LogR/(N/2) * 100\n",
    "perc_correct_LogR"
   ]
  },
  {
   "cell_type": "markdown",
   "metadata": {},
   "source": [
    "### Regularized logistic regression"
   ]
  },
  {
   "cell_type": "code",
   "execution_count": 91,
   "metadata": {
    "collapsed": false
   },
   "outputs": [
    {
     "name": "stdout",
     "output_type": "stream",
     "text": [
      "\n",
      "weights_RLogR:\n",
      " [ -3.97591135e-03  -4.63417801e-01  -3.43851231e-01  -3.31086769e-01\n",
      "  -8.38949357e-02  -6.46798583e-03  -5.04951374e-01  -2.56499077e-03\n",
      "  -9.34990276e-03  -7.87331013e-02  -4.16658730e-01  -7.69410972e-03\n",
      "   4.38058657e-03  -1.36723968e-03  -9.07765961e-02   3.62428974e-06\n",
      "  -4.64316411e-05  -1.94069099e-01   1.24478454e-04  -1.20333767e-04\n",
      "  -1.56955876e-01   2.05426874e-04  -6.27166821e-01  -2.34213240e-03\n",
      "  -2.39448596e-01  -3.98241840e-05   8.77391719e-05  -1.96338684e-01\n",
      "   5.73464088e-05  -4.53979083e-05  -1.31813007e-01] \n",
      "\n",
      "pred_RLogR =  0.657165668663\n"
     ]
    }
   ],
   "source": [
    "max_iters_RLogR_test = 1000\n",
    "lambda_RLogR_test = 1.0e-8\n",
    "gamma_RLogR_test = 1.0e-10\n",
    "method = 5\n",
    "\n",
    "loss_RLogR_test, weights_RLogR_test = reg_logistic_regression(y1, tX1, gamma_RLogR_test, lambda_RLogR_test, max_iters_RLogR_test)\n",
    "print(\"\\nweights_RLogR:\\n\", weights_RLogR_test,\"\\n\")\n",
    "\n",
    "pred_RLogR_test = prediction(y1, tX1, gamma_RLogR_test, lambda_RLogR_test, max_iters_RLogR_test, 6)\n",
    "print(\"pred_RLogR = \", pred_RLogR_test)"
   ]
  },
  {
   "cell_type": "code",
   "execution_count": 92,
   "metadata": {
    "collapsed": false
   },
   "outputs": [
    {
     "data": {
      "text/plain": [
       "65.6112"
      ]
     },
     "execution_count": 92,
     "metadata": {},
     "output_type": "execute_result"
    }
   ],
   "source": [
    "y_pred_RLogR_test = predict_labels(weights_RLogR_test, tX2)\n",
    "n_correct_RLogR = np.count_nonzero((y_pred_RLogR_test - y2) == 0)\n",
    "perc_correct_RLogR = n_correct_RLogR/(N/2) * 100\n",
    "perc_correct_RLogR"
   ]
  },
  {
   "cell_type": "markdown",
   "metadata": {},
   "source": [
    "## Training on the entire training set"
   ]
  },
  {
   "cell_type": "markdown",
   "metadata": {},
   "source": [
    "### Linear regression - gradient descent"
   ]
  },
  {
   "cell_type": "code",
   "execution_count": null,
   "metadata": {
    "collapsed": true
   },
   "outputs": [],
   "source": [
    "max_iters_GD = 5000\n",
    "gamma_GD = 1.0e-8\n",
    "method = 1\n",
    "\n",
    "loss_GD, weights_GD = least_squares_GD(y, tX_stand, gamma_GD, max_iters_GD)\n",
    "pred_GD = prediction(y, tX_stand, gamma_GD, 0, max_iters_GD, method)\n",
    "\n",
    "print(\"\\nweights_GD:\\n\",weights_GD,\"\\n\")\n",
    "print(\"pred_GD = \", pred_GD)"
   ]
  },
  {
   "cell_type": "markdown",
   "metadata": {},
   "source": [
    "### Linear regression - stochastic gradient descent"
   ]
  },
  {
   "cell_type": "code",
   "execution_count": null,
   "metadata": {
    "collapsed": true
   },
   "outputs": [],
   "source": [
    "max_iters_SGD = 1000\n",
    "gamma_SGD = 1.0e-8\n",
    "method = 2\n",
    "\n",
    "loss_SGD, weights_SGD = least_squares_SGD(y, tX_stand, gamma_SGD, max_iters_SGD)\n",
    "print(\"\\nweights_SGD:\\n\",weights_SGD,\"\\n\")\n",
    "\n",
    "pred_SGD = prediction(y, tX_stand, gamma_SGD, 0, max_iters_SGD, method)\n",
    "print(\"pred_SGD = \", pred_SGD)"
   ]
  },
  {
   "cell_type": "markdown",
   "metadata": {},
   "source": [
    "### Least squares"
   ]
  },
  {
   "cell_type": "code",
   "execution_count": null,
   "metadata": {
    "collapsed": true
   },
   "outputs": [],
   "source": [
    "method = 3\n",
    "\n",
    "tX_cleaned_TEST = tX_cleaned.copy()\n",
    "w0 = np.ones([1,tX_cleaned_TEST.shape[0]])\n",
    "tX_cleaned_TEST = np.insert(tX_cleaned_TEST, 0, w0, axis=1)\n",
    "\n",
    "loss_LeastS, weights_LeastS = least_squares(y, tX_cleaned_TEST)\n",
    "print(\"\\nweights_LeastS:\\n\",weights_LeastS,\"\\n\")\n",
    "\n",
    "pred_LeastS = prediction(y, tX_cleaned_TEST, 0, 0, 0, method)\n",
    "print(\"pred_LeastS = \", pred_LeastS)"
   ]
  },
  {
   "cell_type": "markdown",
   "metadata": {},
   "source": [
    "### Ridge regression"
   ]
  },
  {
   "cell_type": "code",
   "execution_count": 27,
   "metadata": {
    "collapsed": false
   },
   "outputs": [
    {
     "name": "stdout",
     "output_type": "stream",
     "text": [
      "pred_RR =  0.619521355228\n"
     ]
    }
   ],
   "source": [
    "lambda_RR = 5\n",
    "method = 4\n",
    "\n",
    "degree_RR = 12\n",
    "\n",
    "tX_cleaned_TEST = tX_cleaned.copy()\n",
    "w0 = np.ones([1,tX_cleaned_TEST.shape[0]])\n",
    "tX_cleaned_TEST = np.insert(tX_cleaned_TEST, 0, w0, axis=1)\n",
    "\n",
    "tX_poly_TEST = build_poly(tX_cleaned_TEST, degree_RR)\n",
    "\n",
    "loss_RR, weights_RR = ridge_regression(y, tX_poly_TEST, lambda_RR)\n",
    "# print(\"\\nweights_RR:\\n\", weights_RR,\"\\n\")\n",
    "\n",
    "pred_RR = prediction(y, tX_poly_TEST, 0, lambda_RR, 0, method)\n",
    "print(\"pred_RR = \", pred_RR)"
   ]
  },
  {
   "cell_type": "markdown",
   "metadata": {},
   "source": [
    "### Logistic regression"
   ]
  },
  {
   "cell_type": "code",
   "execution_count": null,
   "metadata": {
    "collapsed": true
   },
   "outputs": [],
   "source": [
    "max_iters_LogR = 1000\n",
    "gamma_LogR = 1.0e-6\n",
    "method = 5\n",
    "\n",
    "loss_LogR, weights_LogR = logistic_regression(y, tX_stand, gamma_LogR, max_iters_LogR)\n",
    "print(\"\\nweights_LogR:\\n\",weights_LogR,\"\\n\")\n",
    "\n",
    "pred_LogR = prediction(y, tX_stand, gamma_LogR, 0, max_iters_LogR, method)\n",
    "print(\"pred_LogR = \", pred_LogR)"
   ]
  },
  {
   "cell_type": "markdown",
   "metadata": {},
   "source": [
    "### Regularized logistic regression"
   ]
  },
  {
   "cell_type": "code",
   "execution_count": null,
   "metadata": {
    "collapsed": true
   },
   "outputs": [],
   "source": [
    "max_iters_RLogR = 1000\n",
    "lambda_RLogR = 2\n",
    "gamma_RLogR = 1.0e-8\n",
    "method = 5\n",
    "\n",
    "loss_RLogR, weights_RLogR = reg_logistic_regression(y, tX_stand, gamma_RLogR, lambda_RLogR, max_iters_RLogR)\n",
    "print(\"\\nweights_RLogR:\\n\",weights_RLogR,\"\\n\")\n",
    "\n",
    "pred_RLogR = prediction(y, tX_stand, gamma_RLogR, lambda_RLogR, max_iters_RLogR, 6)\n",
    "print(\"pred_RLogR = \", pred_RLogR)"
   ]
  },
  {
   "cell_type": "markdown",
   "metadata": {},
   "source": [
    "# Serparating the data by JET values"
   ]
  },
  {
   "cell_type": "markdown",
   "metadata": {},
   "source": [
    "## Entire set"
   ]
  },
  {
   "cell_type": "code",
   "execution_count": 266,
   "metadata": {
    "collapsed": true
   },
   "outputs": [],
   "source": [
    "def separating_by_jet(tX):\n",
    "    \n",
    "    # JET 1\n",
    "    tX0_index = tX[:, 22] == 0.0\n",
    "    tX0 = tX[tX0_index]\n",
    "    \n",
    "    # JET 2\n",
    "    tX1_index = tX[:, 22] == 1.0\n",
    "    tX1 = tX[tX1_index]\n",
    "    \n",
    "    # JET 3\n",
    "    tX2_index = tX[:, 22] == 2.0\n",
    "    tX2 = tX[tX2_index]\n",
    "    \n",
    "    # JET 4\n",
    "    tX3_index = tX[:, 22] == 3.0\n",
    "    tX3 = tX[tX3_index]\n",
    "    \n",
    "    return tX0, tX0_index, tX1, tX1_index, tX2, tX2_index, tX3, tX3_index"
   ]
  },
  {
   "cell_type": "code",
   "execution_count": 358,
   "metadata": {
    "collapsed": true
   },
   "outputs": [],
   "source": [
    "def clean_data_jet(tX) :\n",
    "    \n",
    "    (nbrRows, nbrColumn) = tX.shape\n",
    "    \n",
    "    tX_cleaned, _ = clean_data(tX)\n",
    "    tX_reformed = tX_cleaned.copy()\n",
    "    nbrOfDelete = 0\n",
    "    \n",
    "    for iColumn in range(0, nbrColumn) :\n",
    "        if np.isnan(tX_cleaned[:, iColumn]).all():\n",
    "            tX_reformed = np.delete(tX_reformed, iColumn - nbrOfDelete, 1)\n",
    "            nbrOfDelete = nbrOfDelete + 1\n",
    "        \n",
    "    return tX_reformed"
   ]
  },
  {
   "cell_type": "code",
   "execution_count": 458,
   "metadata": {
    "collapsed": false,
    "scrolled": false
   },
   "outputs": [
    {
     "name": "stderr",
     "output_type": "stream",
     "text": [
      "/Users/davidrivollet/anaconda/lib/python3.5/site-packages/numpy/core/_methods.py:59: RuntimeWarning: Mean of empty slice.\n",
      "  warnings.warn(\"Mean of empty slice.\", RuntimeWarning)\n"
     ]
    }
   ],
   "source": [
    "tX_jet0, indexes_jet0, tX_jet1, indexes_jet1, tX_jet2, indexes_jet2, tX_jet3, indexes_jet3 = separating_by_jet(tX)\n",
    "y_jet0 = y[indexes_jet0]\n",
    "y_jet1 = y[indexes_jet1]\n",
    "y_jet2 = y[indexes_jet2]\n",
    "y_jet3 = y[indexes_jet3]\n",
    "tX_cleaned_jet0 = clean_data_jet(tX_jet0)\n",
    "tX_cleaned_jet1 = clean_data_jet(tX_jet1)\n",
    "tX_cleaned_jet2 = clean_data_jet(tX_jet2)\n",
    "tX_cleaned_jet3 = clean_data_jet(tX_jet3)"
   ]
  },
  {
   "cell_type": "code",
   "execution_count": 460,
   "metadata": {
    "collapsed": false
   },
   "outputs": [
    {
     "name": "stderr",
     "output_type": "stream",
     "text": [
      "/Users/davidrivollet/anaconda/lib/python3.5/site-packages/numpy/core/_methods.py:59: RuntimeWarning: Mean of empty slice.\n",
      "  warnings.warn(\"Mean of empty slice.\", RuntimeWarning)\n"
     ]
    }
   ],
   "source": [
    "tX_cleaned_jet0_TEST = md.clean_data(tX_jet0)"
   ]
  },
  {
   "cell_type": "code",
   "execution_count": 461,
   "metadata": {
    "collapsed": false
   },
   "outputs": [
    {
     "data": {
      "text/html": [
       "<div>\n",
       "<table border=\"1\" class=\"dataframe\">\n",
       "  <thead>\n",
       "    <tr style=\"text-align: right;\">\n",
       "      <th></th>\n",
       "      <th>labels</th>\n",
       "      <th>0</th>\n",
       "      <th>1</th>\n",
       "      <th>2</th>\n",
       "      <th>3</th>\n",
       "      <th>4</th>\n",
       "      <th>5</th>\n",
       "      <th>6</th>\n",
       "      <th>7</th>\n",
       "      <th>8</th>\n",
       "      <th>...</th>\n",
       "      <th>10</th>\n",
       "      <th>11</th>\n",
       "      <th>12</th>\n",
       "      <th>13</th>\n",
       "      <th>14</th>\n",
       "      <th>15</th>\n",
       "      <th>16</th>\n",
       "      <th>17</th>\n",
       "      <th>18</th>\n",
       "      <th>19</th>\n",
       "    </tr>\n",
       "  </thead>\n",
       "  <tbody>\n",
       "    <tr>\n",
       "      <th>0</th>\n",
       "      <td>-1.0</td>\n",
       "      <td>143.905</td>\n",
       "      <td>81.417</td>\n",
       "      <td>80.943</td>\n",
       "      <td>0.414</td>\n",
       "      <td>3.310</td>\n",
       "      <td>0.414</td>\n",
       "      <td>75.968</td>\n",
       "      <td>2.354</td>\n",
       "      <td>-1.285</td>\n",
       "      <td>...</td>\n",
       "      <td>-1.655</td>\n",
       "      <td>0.010</td>\n",
       "      <td>53.321</td>\n",
       "      <td>-0.522</td>\n",
       "      <td>-3.100</td>\n",
       "      <td>31.082</td>\n",
       "      <td>0.060</td>\n",
       "      <td>86.062</td>\n",
       "      <td>0.0</td>\n",
       "      <td>0.0</td>\n",
       "    </tr>\n",
       "    <tr>\n",
       "      <th>1</th>\n",
       "      <td>-1.0</td>\n",
       "      <td>175.864</td>\n",
       "      <td>16.915</td>\n",
       "      <td>134.805</td>\n",
       "      <td>16.405</td>\n",
       "      <td>3.891</td>\n",
       "      <td>16.405</td>\n",
       "      <td>57.983</td>\n",
       "      <td>1.056</td>\n",
       "      <td>-1.385</td>\n",
       "      <td>...</td>\n",
       "      <td>-2.197</td>\n",
       "      <td>-2.231</td>\n",
       "      <td>29.774</td>\n",
       "      <td>0.798</td>\n",
       "      <td>1.569</td>\n",
       "      <td>2.723</td>\n",
       "      <td>-0.871</td>\n",
       "      <td>53.131</td>\n",
       "      <td>0.0</td>\n",
       "      <td>0.0</td>\n",
       "    </tr>\n",
       "    <tr>\n",
       "      <th>2</th>\n",
       "      <td>-1.0</td>\n",
       "      <td>105.594</td>\n",
       "      <td>50.559</td>\n",
       "      <td>100.989</td>\n",
       "      <td>4.288</td>\n",
       "      <td>2.904</td>\n",
       "      <td>4.288</td>\n",
       "      <td>65.333</td>\n",
       "      <td>0.675</td>\n",
       "      <td>-1.366</td>\n",
       "      <td>...</td>\n",
       "      <td>2.433</td>\n",
       "      <td>-2.532</td>\n",
       "      <td>26.325</td>\n",
       "      <td>0.210</td>\n",
       "      <td>1.884</td>\n",
       "      <td>37.791</td>\n",
       "      <td>0.024</td>\n",
       "      <td>129.804</td>\n",
       "      <td>0.0</td>\n",
       "      <td>0.0</td>\n",
       "    </tr>\n",
       "    <tr>\n",
       "      <th>3</th>\n",
       "      <td>-1.0</td>\n",
       "      <td>111.452</td>\n",
       "      <td>86.240</td>\n",
       "      <td>79.692</td>\n",
       "      <td>27.201</td>\n",
       "      <td>2.338</td>\n",
       "      <td>27.201</td>\n",
       "      <td>81.734</td>\n",
       "      <td>1.750</td>\n",
       "      <td>-1.412</td>\n",
       "      <td>...</td>\n",
       "      <td>-0.866</td>\n",
       "      <td>2.878</td>\n",
       "      <td>52.016</td>\n",
       "      <td>0.126</td>\n",
       "      <td>-1.288</td>\n",
       "      <td>51.276</td>\n",
       "      <td>0.688</td>\n",
       "      <td>250.178</td>\n",
       "      <td>0.0</td>\n",
       "      <td>0.0</td>\n",
       "    </tr>\n",
       "    <tr>\n",
       "      <th>4</th>\n",
       "      <td>-1.0</td>\n",
       "      <td>82.488</td>\n",
       "      <td>31.663</td>\n",
       "      <td>64.128</td>\n",
       "      <td>8.232</td>\n",
       "      <td>2.823</td>\n",
       "      <td>8.232</td>\n",
       "      <td>58.649</td>\n",
       "      <td>1.303</td>\n",
       "      <td>-1.414</td>\n",
       "      <td>...</td>\n",
       "      <td>-0.654</td>\n",
       "      <td>-2.990</td>\n",
       "      <td>33.179</td>\n",
       "      <td>-1.665</td>\n",
       "      <td>-0.354</td>\n",
       "      <td>12.439</td>\n",
       "      <td>1.433</td>\n",
       "      <td>163.420</td>\n",
       "      <td>0.0</td>\n",
       "      <td>0.0</td>\n",
       "    </tr>\n",
       "    <tr>\n",
       "      <th>5</th>\n",
       "      <td>-1.0</td>\n",
       "      <td>111.452</td>\n",
       "      <td>109.412</td>\n",
       "      <td>14.398</td>\n",
       "      <td>17.323</td>\n",
       "      <td>0.472</td>\n",
       "      <td>17.323</td>\n",
       "      <td>62.565</td>\n",
       "      <td>1.774</td>\n",
       "      <td>-0.272</td>\n",
       "      <td>...</td>\n",
       "      <td>1.389</td>\n",
       "      <td>1.340</td>\n",
       "      <td>40.013</td>\n",
       "      <td>1.856</td>\n",
       "      <td>1.412</td>\n",
       "      <td>75.197</td>\n",
       "      <td>-1.583</td>\n",
       "      <td>198.616</td>\n",
       "      <td>0.0</td>\n",
       "      <td>0.0</td>\n",
       "    </tr>\n",
       "    <tr>\n",
       "      <th>6</th>\n",
       "      <td>1.0</td>\n",
       "      <td>111.026</td>\n",
       "      <td>32.096</td>\n",
       "      <td>75.271</td>\n",
       "      <td>23.067</td>\n",
       "      <td>3.205</td>\n",
       "      <td>23.067</td>\n",
       "      <td>69.649</td>\n",
       "      <td>1.276</td>\n",
       "      <td>-1.414</td>\n",
       "      <td>...</td>\n",
       "      <td>-1.107</td>\n",
       "      <td>-1.903</td>\n",
       "      <td>39.043</td>\n",
       "      <td>-1.944</td>\n",
       "      <td>1.191</td>\n",
       "      <td>19.959</td>\n",
       "      <td>2.415</td>\n",
       "      <td>122.176</td>\n",
       "      <td>0.0</td>\n",
       "      <td>0.0</td>\n",
       "    </tr>\n",
       "    <tr>\n",
       "      <th>7</th>\n",
       "      <td>1.0</td>\n",
       "      <td>127.861</td>\n",
       "      <td>50.953</td>\n",
       "      <td>77.267</td>\n",
       "      <td>26.967</td>\n",
       "      <td>2.833</td>\n",
       "      <td>26.967</td>\n",
       "      <td>79.503</td>\n",
       "      <td>1.586</td>\n",
       "      <td>1.401</td>\n",
       "      <td>...</td>\n",
       "      <td>-0.635</td>\n",
       "      <td>2.603</td>\n",
       "      <td>48.764</td>\n",
       "      <td>-0.343</td>\n",
       "      <td>-0.862</td>\n",
       "      <td>17.557</td>\n",
       "      <td>-2.975</td>\n",
       "      <td>211.720</td>\n",
       "      <td>0.0</td>\n",
       "      <td>0.0</td>\n",
       "    </tr>\n",
       "  </tbody>\n",
       "</table>\n",
       "<p>8 rows × 21 columns</p>\n",
       "</div>"
      ],
      "text/plain": [
       "   labels        0        1        2       3      4       5       6      7  \\\n",
       "0    -1.0  143.905   81.417   80.943   0.414  3.310   0.414  75.968  2.354   \n",
       "1    -1.0  175.864   16.915  134.805  16.405  3.891  16.405  57.983  1.056   \n",
       "2    -1.0  105.594   50.559  100.989   4.288  2.904   4.288  65.333  0.675   \n",
       "3    -1.0  111.452   86.240   79.692  27.201  2.338  27.201  81.734  1.750   \n",
       "4    -1.0   82.488   31.663   64.128   8.232  2.823   8.232  58.649  1.303   \n",
       "5    -1.0  111.452  109.412   14.398  17.323  0.472  17.323  62.565  1.774   \n",
       "6     1.0  111.026   32.096   75.271  23.067  3.205  23.067  69.649  1.276   \n",
       "7     1.0  127.861   50.953   77.267  26.967  2.833  26.967  79.503  1.586   \n",
       "\n",
       "       8 ...      10     11      12     13     14      15     16       17  \\\n",
       "0 -1.285 ...  -1.655  0.010  53.321 -0.522 -3.100  31.082  0.060   86.062   \n",
       "1 -1.385 ...  -2.197 -2.231  29.774  0.798  1.569   2.723 -0.871   53.131   \n",
       "2 -1.366 ...   2.433 -2.532  26.325  0.210  1.884  37.791  0.024  129.804   \n",
       "3 -1.412 ...  -0.866  2.878  52.016  0.126 -1.288  51.276  0.688  250.178   \n",
       "4 -1.414 ...  -0.654 -2.990  33.179 -1.665 -0.354  12.439  1.433  163.420   \n",
       "5 -0.272 ...   1.389  1.340  40.013  1.856  1.412  75.197 -1.583  198.616   \n",
       "6 -1.414 ...  -1.107 -1.903  39.043 -1.944  1.191  19.959  2.415  122.176   \n",
       "7  1.401 ...  -0.635  2.603  48.764 -0.343 -0.862  17.557 -2.975  211.720   \n",
       "\n",
       "    18   19  \n",
       "0  0.0  0.0  \n",
       "1  0.0  0.0  \n",
       "2  0.0  0.0  \n",
       "3  0.0  0.0  \n",
       "4  0.0  0.0  \n",
       "5  0.0  0.0  \n",
       "6  0.0  0.0  \n",
       "7  0.0  0.0  \n",
       "\n",
       "[8 rows x 21 columns]"
      ]
     },
     "execution_count": 461,
     "metadata": {},
     "output_type": "execute_result"
    }
   ],
   "source": [
    "df_jet0 = pd.concat([pd.DataFrame({'labels': y_jet0}), pd.DataFrame(tX_cleaned_jet0)], axis=1)\n",
    "df_jet0.head(8)"
   ]
  },
  {
   "cell_type": "code",
   "execution_count": 462,
   "metadata": {
    "collapsed": false
   },
   "outputs": [
    {
     "data": {
      "text/html": [
       "<div>\n",
       "<table border=\"1\" class=\"dataframe\">\n",
       "  <thead>\n",
       "    <tr style=\"text-align: right;\">\n",
       "      <th></th>\n",
       "      <th>labels</th>\n",
       "      <th>0</th>\n",
       "      <th>1</th>\n",
       "      <th>2</th>\n",
       "      <th>3</th>\n",
       "      <th>4</th>\n",
       "      <th>5</th>\n",
       "      <th>6</th>\n",
       "      <th>7</th>\n",
       "      <th>8</th>\n",
       "      <th>...</th>\n",
       "      <th>10</th>\n",
       "      <th>11</th>\n",
       "      <th>12</th>\n",
       "      <th>13</th>\n",
       "      <th>14</th>\n",
       "      <th>15</th>\n",
       "      <th>16</th>\n",
       "      <th>17</th>\n",
       "      <th>18</th>\n",
       "      <th>19</th>\n",
       "    </tr>\n",
       "  </thead>\n",
       "  <tbody>\n",
       "    <tr>\n",
       "      <th>0</th>\n",
       "      <td>-1.0</td>\n",
       "      <td>143.905</td>\n",
       "      <td>81.417</td>\n",
       "      <td>80.943</td>\n",
       "      <td>0.414</td>\n",
       "      <td>3.310</td>\n",
       "      <td>0.414</td>\n",
       "      <td>75.968</td>\n",
       "      <td>2.354</td>\n",
       "      <td>-1.285</td>\n",
       "      <td>...</td>\n",
       "      <td>-1.655</td>\n",
       "      <td>0.010</td>\n",
       "      <td>53.321</td>\n",
       "      <td>-0.522</td>\n",
       "      <td>-3.100</td>\n",
       "      <td>31.082</td>\n",
       "      <td>0.060</td>\n",
       "      <td>86.062</td>\n",
       "      <td>0.0</td>\n",
       "      <td>0.0</td>\n",
       "    </tr>\n",
       "    <tr>\n",
       "      <th>1</th>\n",
       "      <td>-1.0</td>\n",
       "      <td>175.864</td>\n",
       "      <td>16.915</td>\n",
       "      <td>134.805</td>\n",
       "      <td>16.405</td>\n",
       "      <td>3.891</td>\n",
       "      <td>16.405</td>\n",
       "      <td>57.983</td>\n",
       "      <td>1.056</td>\n",
       "      <td>-1.385</td>\n",
       "      <td>...</td>\n",
       "      <td>-2.197</td>\n",
       "      <td>-2.231</td>\n",
       "      <td>29.774</td>\n",
       "      <td>0.798</td>\n",
       "      <td>1.569</td>\n",
       "      <td>2.723</td>\n",
       "      <td>-0.871</td>\n",
       "      <td>53.131</td>\n",
       "      <td>0.0</td>\n",
       "      <td>0.0</td>\n",
       "    </tr>\n",
       "    <tr>\n",
       "      <th>2</th>\n",
       "      <td>-1.0</td>\n",
       "      <td>105.594</td>\n",
       "      <td>50.559</td>\n",
       "      <td>100.989</td>\n",
       "      <td>4.288</td>\n",
       "      <td>2.904</td>\n",
       "      <td>4.288</td>\n",
       "      <td>65.333</td>\n",
       "      <td>0.675</td>\n",
       "      <td>-1.366</td>\n",
       "      <td>...</td>\n",
       "      <td>2.433</td>\n",
       "      <td>-2.532</td>\n",
       "      <td>26.325</td>\n",
       "      <td>0.210</td>\n",
       "      <td>1.884</td>\n",
       "      <td>37.791</td>\n",
       "      <td>0.024</td>\n",
       "      <td>129.804</td>\n",
       "      <td>0.0</td>\n",
       "      <td>0.0</td>\n",
       "    </tr>\n",
       "    <tr>\n",
       "      <th>3</th>\n",
       "      <td>-1.0</td>\n",
       "      <td>111.452</td>\n",
       "      <td>86.240</td>\n",
       "      <td>79.692</td>\n",
       "      <td>27.201</td>\n",
       "      <td>2.338</td>\n",
       "      <td>27.201</td>\n",
       "      <td>81.734</td>\n",
       "      <td>1.750</td>\n",
       "      <td>-1.412</td>\n",
       "      <td>...</td>\n",
       "      <td>-0.866</td>\n",
       "      <td>2.878</td>\n",
       "      <td>52.016</td>\n",
       "      <td>0.126</td>\n",
       "      <td>-1.288</td>\n",
       "      <td>51.276</td>\n",
       "      <td>0.688</td>\n",
       "      <td>250.178</td>\n",
       "      <td>0.0</td>\n",
       "      <td>0.0</td>\n",
       "    </tr>\n",
       "    <tr>\n",
       "      <th>4</th>\n",
       "      <td>-1.0</td>\n",
       "      <td>82.488</td>\n",
       "      <td>31.663</td>\n",
       "      <td>64.128</td>\n",
       "      <td>8.232</td>\n",
       "      <td>2.823</td>\n",
       "      <td>8.232</td>\n",
       "      <td>58.649</td>\n",
       "      <td>1.303</td>\n",
       "      <td>-1.414</td>\n",
       "      <td>...</td>\n",
       "      <td>-0.654</td>\n",
       "      <td>-2.990</td>\n",
       "      <td>33.179</td>\n",
       "      <td>-1.665</td>\n",
       "      <td>-0.354</td>\n",
       "      <td>12.439</td>\n",
       "      <td>1.433</td>\n",
       "      <td>163.420</td>\n",
       "      <td>0.0</td>\n",
       "      <td>0.0</td>\n",
       "    </tr>\n",
       "    <tr>\n",
       "      <th>5</th>\n",
       "      <td>-1.0</td>\n",
       "      <td>111.452</td>\n",
       "      <td>109.412</td>\n",
       "      <td>14.398</td>\n",
       "      <td>17.323</td>\n",
       "      <td>0.472</td>\n",
       "      <td>17.323</td>\n",
       "      <td>62.565</td>\n",
       "      <td>1.774</td>\n",
       "      <td>-0.272</td>\n",
       "      <td>...</td>\n",
       "      <td>1.389</td>\n",
       "      <td>1.340</td>\n",
       "      <td>40.013</td>\n",
       "      <td>1.856</td>\n",
       "      <td>1.412</td>\n",
       "      <td>75.197</td>\n",
       "      <td>-1.583</td>\n",
       "      <td>198.616</td>\n",
       "      <td>0.0</td>\n",
       "      <td>0.0</td>\n",
       "    </tr>\n",
       "    <tr>\n",
       "      <th>6</th>\n",
       "      <td>1.0</td>\n",
       "      <td>111.026</td>\n",
       "      <td>32.096</td>\n",
       "      <td>75.271</td>\n",
       "      <td>23.067</td>\n",
       "      <td>3.205</td>\n",
       "      <td>23.067</td>\n",
       "      <td>69.649</td>\n",
       "      <td>1.276</td>\n",
       "      <td>-1.414</td>\n",
       "      <td>...</td>\n",
       "      <td>-1.107</td>\n",
       "      <td>-1.903</td>\n",
       "      <td>39.043</td>\n",
       "      <td>-1.944</td>\n",
       "      <td>1.191</td>\n",
       "      <td>19.959</td>\n",
       "      <td>2.415</td>\n",
       "      <td>122.176</td>\n",
       "      <td>0.0</td>\n",
       "      <td>0.0</td>\n",
       "    </tr>\n",
       "    <tr>\n",
       "      <th>7</th>\n",
       "      <td>1.0</td>\n",
       "      <td>127.861</td>\n",
       "      <td>50.953</td>\n",
       "      <td>77.267</td>\n",
       "      <td>26.967</td>\n",
       "      <td>2.833</td>\n",
       "      <td>26.967</td>\n",
       "      <td>79.503</td>\n",
       "      <td>1.586</td>\n",
       "      <td>1.401</td>\n",
       "      <td>...</td>\n",
       "      <td>-0.635</td>\n",
       "      <td>2.603</td>\n",
       "      <td>48.764</td>\n",
       "      <td>-0.343</td>\n",
       "      <td>-0.862</td>\n",
       "      <td>17.557</td>\n",
       "      <td>-2.975</td>\n",
       "      <td>211.720</td>\n",
       "      <td>0.0</td>\n",
       "      <td>0.0</td>\n",
       "    </tr>\n",
       "  </tbody>\n",
       "</table>\n",
       "<p>8 rows × 21 columns</p>\n",
       "</div>"
      ],
      "text/plain": [
       "   labels        0        1        2       3      4       5       6      7  \\\n",
       "0    -1.0  143.905   81.417   80.943   0.414  3.310   0.414  75.968  2.354   \n",
       "1    -1.0  175.864   16.915  134.805  16.405  3.891  16.405  57.983  1.056   \n",
       "2    -1.0  105.594   50.559  100.989   4.288  2.904   4.288  65.333  0.675   \n",
       "3    -1.0  111.452   86.240   79.692  27.201  2.338  27.201  81.734  1.750   \n",
       "4    -1.0   82.488   31.663   64.128   8.232  2.823   8.232  58.649  1.303   \n",
       "5    -1.0  111.452  109.412   14.398  17.323  0.472  17.323  62.565  1.774   \n",
       "6     1.0  111.026   32.096   75.271  23.067  3.205  23.067  69.649  1.276   \n",
       "7     1.0  127.861   50.953   77.267  26.967  2.833  26.967  79.503  1.586   \n",
       "\n",
       "       8 ...      10     11      12     13     14      15     16       17  \\\n",
       "0 -1.285 ...  -1.655  0.010  53.321 -0.522 -3.100  31.082  0.060   86.062   \n",
       "1 -1.385 ...  -2.197 -2.231  29.774  0.798  1.569   2.723 -0.871   53.131   \n",
       "2 -1.366 ...   2.433 -2.532  26.325  0.210  1.884  37.791  0.024  129.804   \n",
       "3 -1.412 ...  -0.866  2.878  52.016  0.126 -1.288  51.276  0.688  250.178   \n",
       "4 -1.414 ...  -0.654 -2.990  33.179 -1.665 -0.354  12.439  1.433  163.420   \n",
       "5 -0.272 ...   1.389  1.340  40.013  1.856  1.412  75.197 -1.583  198.616   \n",
       "6 -1.414 ...  -1.107 -1.903  39.043 -1.944  1.191  19.959  2.415  122.176   \n",
       "7  1.401 ...  -0.635  2.603  48.764 -0.343 -0.862  17.557 -2.975  211.720   \n",
       "\n",
       "    18   19  \n",
       "0  0.0  0.0  \n",
       "1  0.0  0.0  \n",
       "2  0.0  0.0  \n",
       "3  0.0  0.0  \n",
       "4  0.0  0.0  \n",
       "5  0.0  0.0  \n",
       "6  0.0  0.0  \n",
       "7  0.0  0.0  \n",
       "\n",
       "[8 rows x 21 columns]"
      ]
     },
     "execution_count": 462,
     "metadata": {},
     "output_type": "execute_result"
    }
   ],
   "source": [
    "df_jet0 = pd.concat([pd.DataFrame({'labels': y_jet0}), pd.DataFrame(tX_cleaned_jet0_TEST)], axis=1)\n",
    "df_jet0.head(8)"
   ]
  },
  {
   "cell_type": "code",
   "execution_count": 333,
   "metadata": {
    "collapsed": false
   },
   "outputs": [
    {
     "name": "stderr",
     "output_type": "stream",
     "text": [
      "/Users/davidrivollet/anaconda/lib/python3.5/site-packages/numpy/core/_methods.py:59: RuntimeWarning: Mean of empty slice.\n",
      "  warnings.warn(\"Mean of empty slice.\", RuntimeWarning)\n"
     ]
    },
    {
     "data": {
      "text/html": [
       "<div>\n",
       "<table border=\"1\" class=\"dataframe\">\n",
       "  <thead>\n",
       "    <tr style=\"text-align: right;\">\n",
       "      <th></th>\n",
       "      <th>0</th>\n",
       "      <th>1</th>\n",
       "      <th>2</th>\n",
       "      <th>3</th>\n",
       "      <th>4</th>\n",
       "      <th>5</th>\n",
       "      <th>6</th>\n",
       "      <th>7</th>\n",
       "      <th>8</th>\n",
       "      <th>9</th>\n",
       "      <th>...</th>\n",
       "      <th>20</th>\n",
       "      <th>21</th>\n",
       "      <th>22</th>\n",
       "      <th>23</th>\n",
       "      <th>24</th>\n",
       "      <th>25</th>\n",
       "      <th>26</th>\n",
       "      <th>27</th>\n",
       "      <th>28</th>\n",
       "      <th>29</th>\n",
       "    </tr>\n",
       "  </thead>\n",
       "  <tbody>\n",
       "    <tr>\n",
       "      <th>0</th>\n",
       "      <td>143.905</td>\n",
       "      <td>81.417</td>\n",
       "      <td>80.943</td>\n",
       "      <td>0.414</td>\n",
       "      <td>NaN</td>\n",
       "      <td>NaN</td>\n",
       "      <td>NaN</td>\n",
       "      <td>3.310</td>\n",
       "      <td>0.414</td>\n",
       "      <td>75.968</td>\n",
       "      <td>...</td>\n",
       "      <td>0.060</td>\n",
       "      <td>86.062</td>\n",
       "      <td>0.0</td>\n",
       "      <td>NaN</td>\n",
       "      <td>NaN</td>\n",
       "      <td>NaN</td>\n",
       "      <td>NaN</td>\n",
       "      <td>NaN</td>\n",
       "      <td>NaN</td>\n",
       "      <td>0.0</td>\n",
       "    </tr>\n",
       "    <tr>\n",
       "      <th>1</th>\n",
       "      <td>175.864</td>\n",
       "      <td>16.915</td>\n",
       "      <td>134.805</td>\n",
       "      <td>16.405</td>\n",
       "      <td>NaN</td>\n",
       "      <td>NaN</td>\n",
       "      <td>NaN</td>\n",
       "      <td>3.891</td>\n",
       "      <td>16.405</td>\n",
       "      <td>57.983</td>\n",
       "      <td>...</td>\n",
       "      <td>-0.871</td>\n",
       "      <td>53.131</td>\n",
       "      <td>0.0</td>\n",
       "      <td>NaN</td>\n",
       "      <td>NaN</td>\n",
       "      <td>NaN</td>\n",
       "      <td>NaN</td>\n",
       "      <td>NaN</td>\n",
       "      <td>NaN</td>\n",
       "      <td>0.0</td>\n",
       "    </tr>\n",
       "    <tr>\n",
       "      <th>2</th>\n",
       "      <td>105.594</td>\n",
       "      <td>50.559</td>\n",
       "      <td>100.989</td>\n",
       "      <td>4.288</td>\n",
       "      <td>NaN</td>\n",
       "      <td>NaN</td>\n",
       "      <td>NaN</td>\n",
       "      <td>2.904</td>\n",
       "      <td>4.288</td>\n",
       "      <td>65.333</td>\n",
       "      <td>...</td>\n",
       "      <td>0.024</td>\n",
       "      <td>129.804</td>\n",
       "      <td>0.0</td>\n",
       "      <td>NaN</td>\n",
       "      <td>NaN</td>\n",
       "      <td>NaN</td>\n",
       "      <td>NaN</td>\n",
       "      <td>NaN</td>\n",
       "      <td>NaN</td>\n",
       "      <td>0.0</td>\n",
       "    </tr>\n",
       "    <tr>\n",
       "      <th>3</th>\n",
       "      <td>111.452</td>\n",
       "      <td>86.240</td>\n",
       "      <td>79.692</td>\n",
       "      <td>27.201</td>\n",
       "      <td>NaN</td>\n",
       "      <td>NaN</td>\n",
       "      <td>NaN</td>\n",
       "      <td>2.338</td>\n",
       "      <td>27.201</td>\n",
       "      <td>81.734</td>\n",
       "      <td>...</td>\n",
       "      <td>0.688</td>\n",
       "      <td>250.178</td>\n",
       "      <td>0.0</td>\n",
       "      <td>NaN</td>\n",
       "      <td>NaN</td>\n",
       "      <td>NaN</td>\n",
       "      <td>NaN</td>\n",
       "      <td>NaN</td>\n",
       "      <td>NaN</td>\n",
       "      <td>0.0</td>\n",
       "    </tr>\n",
       "    <tr>\n",
       "      <th>4</th>\n",
       "      <td>82.488</td>\n",
       "      <td>31.663</td>\n",
       "      <td>64.128</td>\n",
       "      <td>8.232</td>\n",
       "      <td>NaN</td>\n",
       "      <td>NaN</td>\n",
       "      <td>NaN</td>\n",
       "      <td>2.823</td>\n",
       "      <td>8.232</td>\n",
       "      <td>58.649</td>\n",
       "      <td>...</td>\n",
       "      <td>1.433</td>\n",
       "      <td>163.420</td>\n",
       "      <td>0.0</td>\n",
       "      <td>NaN</td>\n",
       "      <td>NaN</td>\n",
       "      <td>NaN</td>\n",
       "      <td>NaN</td>\n",
       "      <td>NaN</td>\n",
       "      <td>NaN</td>\n",
       "      <td>0.0</td>\n",
       "    </tr>\n",
       "    <tr>\n",
       "      <th>5</th>\n",
       "      <td>111.452</td>\n",
       "      <td>109.412</td>\n",
       "      <td>14.398</td>\n",
       "      <td>17.323</td>\n",
       "      <td>NaN</td>\n",
       "      <td>NaN</td>\n",
       "      <td>NaN</td>\n",
       "      <td>0.472</td>\n",
       "      <td>17.323</td>\n",
       "      <td>62.565</td>\n",
       "      <td>...</td>\n",
       "      <td>-1.583</td>\n",
       "      <td>198.616</td>\n",
       "      <td>0.0</td>\n",
       "      <td>NaN</td>\n",
       "      <td>NaN</td>\n",
       "      <td>NaN</td>\n",
       "      <td>NaN</td>\n",
       "      <td>NaN</td>\n",
       "      <td>NaN</td>\n",
       "      <td>0.0</td>\n",
       "    </tr>\n",
       "    <tr>\n",
       "      <th>6</th>\n",
       "      <td>111.026</td>\n",
       "      <td>32.096</td>\n",
       "      <td>75.271</td>\n",
       "      <td>23.067</td>\n",
       "      <td>NaN</td>\n",
       "      <td>NaN</td>\n",
       "      <td>NaN</td>\n",
       "      <td>3.205</td>\n",
       "      <td>23.067</td>\n",
       "      <td>69.649</td>\n",
       "      <td>...</td>\n",
       "      <td>2.415</td>\n",
       "      <td>122.176</td>\n",
       "      <td>0.0</td>\n",
       "      <td>NaN</td>\n",
       "      <td>NaN</td>\n",
       "      <td>NaN</td>\n",
       "      <td>NaN</td>\n",
       "      <td>NaN</td>\n",
       "      <td>NaN</td>\n",
       "      <td>0.0</td>\n",
       "    </tr>\n",
       "    <tr>\n",
       "      <th>7</th>\n",
       "      <td>127.861</td>\n",
       "      <td>50.953</td>\n",
       "      <td>77.267</td>\n",
       "      <td>26.967</td>\n",
       "      <td>NaN</td>\n",
       "      <td>NaN</td>\n",
       "      <td>NaN</td>\n",
       "      <td>2.833</td>\n",
       "      <td>26.967</td>\n",
       "      <td>79.503</td>\n",
       "      <td>...</td>\n",
       "      <td>-2.975</td>\n",
       "      <td>211.720</td>\n",
       "      <td>0.0</td>\n",
       "      <td>NaN</td>\n",
       "      <td>NaN</td>\n",
       "      <td>NaN</td>\n",
       "      <td>NaN</td>\n",
       "      <td>NaN</td>\n",
       "      <td>NaN</td>\n",
       "      <td>0.0</td>\n",
       "    </tr>\n",
       "  </tbody>\n",
       "</table>\n",
       "<p>8 rows × 30 columns</p>\n",
       "</div>"
      ],
      "text/plain": [
       "        0        1        2       3   4   5   6      7       8       9  ...   \\\n",
       "0  143.905   81.417   80.943   0.414 NaN NaN NaN  3.310   0.414  75.968 ...    \n",
       "1  175.864   16.915  134.805  16.405 NaN NaN NaN  3.891  16.405  57.983 ...    \n",
       "2  105.594   50.559  100.989   4.288 NaN NaN NaN  2.904   4.288  65.333 ...    \n",
       "3  111.452   86.240   79.692  27.201 NaN NaN NaN  2.338  27.201  81.734 ...    \n",
       "4   82.488   31.663   64.128   8.232 NaN NaN NaN  2.823   8.232  58.649 ...    \n",
       "5  111.452  109.412   14.398  17.323 NaN NaN NaN  0.472  17.323  62.565 ...    \n",
       "6  111.026   32.096   75.271  23.067 NaN NaN NaN  3.205  23.067  69.649 ...    \n",
       "7  127.861   50.953   77.267  26.967 NaN NaN NaN  2.833  26.967  79.503 ...    \n",
       "\n",
       "      20       21   22  23  24  25  26  27  28   29  \n",
       "0  0.060   86.062  0.0 NaN NaN NaN NaN NaN NaN  0.0  \n",
       "1 -0.871   53.131  0.0 NaN NaN NaN NaN NaN NaN  0.0  \n",
       "2  0.024  129.804  0.0 NaN NaN NaN NaN NaN NaN  0.0  \n",
       "3  0.688  250.178  0.0 NaN NaN NaN NaN NaN NaN  0.0  \n",
       "4  1.433  163.420  0.0 NaN NaN NaN NaN NaN NaN  0.0  \n",
       "5 -1.583  198.616  0.0 NaN NaN NaN NaN NaN NaN  0.0  \n",
       "6  2.415  122.176  0.0 NaN NaN NaN NaN NaN NaN  0.0  \n",
       "7 -2.975  211.720  0.0 NaN NaN NaN NaN NaN NaN  0.0  \n",
       "\n",
       "[8 rows x 30 columns]"
      ]
     },
     "execution_count": 333,
     "metadata": {},
     "output_type": "execute_result"
    }
   ],
   "source": [
    "test_values, _ = clean_data(tX_jet0)\n",
    "TEST = pd.DataFrame(test_values)\n",
    "TEST.head(8)"
   ]
  },
  {
   "cell_type": "code",
   "execution_count": 360,
   "metadata": {
    "collapsed": false
   },
   "outputs": [
    {
     "data": {
      "text/plain": [
       "(99913, 20)"
      ]
     },
     "execution_count": 360,
     "metadata": {},
     "output_type": "execute_result"
    }
   ],
   "source": [
    "tX_cleaned_jet0.shape"
   ]
  },
  {
   "cell_type": "code",
   "execution_count": 361,
   "metadata": {
    "collapsed": false,
    "scrolled": true
   },
   "outputs": [
    {
     "data": {
      "text/plain": [
       "(77544, 23)"
      ]
     },
     "execution_count": 361,
     "metadata": {},
     "output_type": "execute_result"
    }
   ],
   "source": [
    "tX_cleaned_jet1.shape"
   ]
  },
  {
   "cell_type": "code",
   "execution_count": 362,
   "metadata": {
    "collapsed": false,
    "scrolled": true
   },
   "outputs": [
    {
     "data": {
      "text/plain": [
       "(50379, 30)"
      ]
     },
     "execution_count": 362,
     "metadata": {},
     "output_type": "execute_result"
    }
   ],
   "source": [
    "tX_cleaned_jet2.shape"
   ]
  },
  {
   "cell_type": "code",
   "execution_count": 363,
   "metadata": {
    "collapsed": false
   },
   "outputs": [
    {
     "data": {
      "text/plain": [
       "(22164, 30)"
      ]
     },
     "execution_count": 363,
     "metadata": {},
     "output_type": "execute_result"
    }
   ],
   "source": [
    "tX_cleaned_jet3.shape"
   ]
  },
  {
   "cell_type": "markdown",
   "metadata": {},
   "source": [
    "## Half set"
   ]
  },
  {
   "cell_type": "code",
   "execution_count": 433,
   "metadata": {
    "collapsed": false
   },
   "outputs": [
    {
     "name": "stderr",
     "output_type": "stream",
     "text": [
      "/Users/davidrivollet/anaconda/lib/python3.5/site-packages/numpy/core/_methods.py:59: RuntimeWarning: Mean of empty slice.\n",
      "  warnings.warn(\"Mean of empty slice.\", RuntimeWarning)\n"
     ]
    }
   ],
   "source": [
    "tX1_jet0, indexes1_jet0, tX1_jet1, indexes1_jet1, tX1_jet2, indexes1_jet2, tX1_jet3, indexes1_jet3 = separating_by_jet(tX1)\n",
    "tX2_jet0, indexes2_jet0, tX2_jet1, indexes2_jet1, tX2_jet2, indexes2_jet2, tX2_jet3, indexes2_jet3 = separating_by_jet(tX2)\n",
    "\n",
    "y1_jet0 = y1[indexes1_jet0]\n",
    "y1_jet1 = y1[indexes1_jet1]\n",
    "y1_jet2 = y1[indexes1_jet2]\n",
    "y1_jet3 = y1[indexes1_jet3]\n",
    "\n",
    "y2_jet0 = y2[indexes2_jet0]\n",
    "y2_jet1 = y2[indexes2_jet1]\n",
    "y2_jet2 = y2[indexes2_jet2]\n",
    "y2_jet3 = y2[indexes2_jet3]\n",
    "\n",
    "tX1_cleaned_jet0 = clean_data_jet(tX1_jet0)\n",
    "tX1_cleaned_jet1 = clean_data_jet(tX1_jet1)\n",
    "tX1_cleaned_jet2 = clean_data_jet(tX1_jet2)\n",
    "tX1_cleaned_jet3 = clean_data_jet(tX1_jet3)\n",
    "\n",
    "tX2_cleaned_jet0 = clean_data_jet(tX2_jet0)\n",
    "tX2_cleaned_jet1 = clean_data_jet(tX2_jet1)\n",
    "tX2_cleaned_jet2 = clean_data_jet(tX2_jet2)\n",
    "tX2_cleaned_jet3 = clean_data_jet(tX2_jet3)"
   ]
  },
  {
   "cell_type": "markdown",
   "metadata": {},
   "source": [
    "## Training data for each JET"
   ]
  },
  {
   "cell_type": "code",
   "execution_count": 435,
   "metadata": {
    "collapsed": true
   },
   "outputs": [],
   "source": [
    "lambdas = [1e-10, 2e-10, 3e-10, 4e-10, 5e-10, 6e-10, 7e-10, 8e-10, 9e-10, 1e-9, 1e-8, 1e-7, 1e-6, 1e-5, 1e-3, 1e-2, 1e-1, 1, 10]\n",
    "degrees = range(0, 12)"
   ]
  },
  {
   "cell_type": "markdown",
   "metadata": {},
   "source": [
    "### JET == 0.0"
   ]
  },
  {
   "cell_type": "code",
   "execution_count": 439,
   "metadata": {
    "collapsed": false
   },
   "outputs": [
    {
     "name": "stdout",
     "output_type": "stream",
     "text": [
      "prediction jet1 =  0.814108133396  with lambda:  1e-10  degree:  1\n",
      "prediction jet1 =  0.814108133396  with lambda:  2e-10  degree:  1\n",
      "prediction jet1 =  0.814108133396  with lambda:  3e-10  degree:  1\n",
      "prediction jet1 =  0.814108133396  with lambda:  4e-10  degree:  1\n",
      "prediction jet1 =  0.814108133396  with lambda:  5e-10  degree:  1\n",
      "prediction jet1 =  0.814108133396  with lambda:  6e-10  degree:  1\n",
      "prediction jet1 =  0.814108133396  with lambda:  7e-10  degree:  1\n",
      "prediction jet1 =  0.814108133396  with lambda:  8e-10  degree:  1\n",
      "prediction jet1 =  0.814108133396  with lambda:  9e-10  degree:  1\n",
      "prediction jet1 =  0.814108133396  with lambda:  1e-09  degree:  1\n",
      "prediction jet1 =  0.814074717637  with lambda:  1e-08  degree:  1\n",
      "prediction jet1 =  0.814108133396  with lambda:  1e-07  degree:  1\n",
      "prediction jet1 =  0.814074717637  with lambda:  1e-06  degree:  1\n",
      "prediction jet1 =  0.814074717637  with lambda:  1e-05  degree:  1\n",
      "prediction jet1 =  0.814007886119  with lambda:  0.001  degree:  1\n",
      "prediction jet1 =  0.811535119963  with lambda:  0.01  degree:  1\n",
      "prediction jet1 =  0.806322261579  with lambda:  0.1  degree:  1\n",
      "prediction jet1 =  0.802780191138  with lambda:  1  degree:  1\n",
      "prediction jet1 =  0.802746775379  with lambda:  10  degree:  1\n",
      "prediction jet1 =  0.825135333823  with lambda:  1e-10  degree:  2\n",
      "prediction jet1 =  0.825135333823  with lambda:  2e-10  degree:  2\n",
      "prediction jet1 =  0.825135333823  with lambda:  3e-10  degree:  2\n",
      "prediction jet1 =  0.825135333823  with lambda:  4e-10  degree:  2\n",
      "prediction jet1 =  0.825135333823  with lambda:  5e-10  degree:  2\n",
      "prediction jet1 =  0.825135333823  with lambda:  6e-10  degree:  2\n",
      "prediction jet1 =  0.825135333823  with lambda:  7e-10  degree:  2\n",
      "prediction jet1 =  0.825135333823  with lambda:  8e-10  degree:  2\n",
      "prediction jet1 =  0.825135333823  with lambda:  9e-10  degree:  2\n",
      "prediction jet1 =  0.825135333823  with lambda:  1e-09  degree:  2\n",
      "prediction jet1 =  0.825135333823  with lambda:  1e-08  degree:  2\n",
      "prediction jet1 =  0.825168749582  with lambda:  1e-07  degree:  2\n",
      "prediction jet1 =  0.825135333823  with lambda:  1e-06  degree:  2\n",
      "prediction jet1 =  0.825135333823  with lambda:  1e-05  degree:  2\n",
      "prediction jet1 =  0.824366771369  with lambda:  0.001  degree:  2\n",
      "prediction jet1 =  0.824132861057  with lambda:  0.01  degree:  2\n",
      "prediction jet1 =  0.822996725256  with lambda:  0.1  degree:  2\n",
      "prediction jet1 =  0.817650203836  with lambda:  1  degree:  2\n",
      "prediction jet1 =  0.812403929693  with lambda:  10  degree:  2\n",
      "prediction jet1 =  0.830247944931  with lambda:  1e-10  degree:  3\n",
      "prediction jet1 =  0.83028136069  with lambda:  2e-10  degree:  3\n",
      "prediction jet1 =  0.83028136069  with lambda:  3e-10  degree:  3\n",
      "prediction jet1 =  0.830247944931  with lambda:  4e-10  degree:  3\n",
      "prediction jet1 =  0.83028136069  with lambda:  5e-10  degree:  3\n",
      "prediction jet1 =  0.830314776449  with lambda:  6e-10  degree:  3\n",
      "prediction jet1 =  0.830181113413  with lambda:  7e-10  degree:  3\n",
      "prediction jet1 =  0.830247944931  with lambda:  8e-10  degree:  3\n",
      "prediction jet1 =  0.830314776449  with lambda:  9e-10  degree:  3\n",
      "prediction jet1 =  0.83028136069  with lambda:  1e-09  degree:  3\n",
      "prediction jet1 =  0.830247944931  with lambda:  1e-08  degree:  3\n",
      "prediction jet1 =  0.830247944931  with lambda:  1e-07  degree:  3\n",
      "prediction jet1 =  0.83028136069  with lambda:  1e-06  degree:  3\n",
      "prediction jet1 =  0.830247944931  with lambda:  1e-05  degree:  3\n",
      "prediction jet1 =  0.82998061886  with lambda:  0.001  degree:  3\n",
      "prediction jet1 =  0.829512798236  with lambda:  0.01  degree:  3\n",
      "prediction jet1 =  0.824801176235  with lambda:  0.1  degree:  3\n",
      "prediction jet1 =  0.821559847624  with lambda:  1  degree:  3\n",
      "prediction jet1 =  0.815879168616  with lambda:  10  degree:  3\n",
      "prediction jet1 =  0.799572278286  with lambda:  1e-10  degree:  4\n",
      "prediction jet1 =  0.828811067299  with lambda:  6e-10  degree:  4\n",
      "prediction jet1 =  0.833756599612  with lambda:  1e-08  degree:  4\n",
      "prediction jet1 =  0.833389026265  with lambda:  1e-07  degree:  4\n",
      "prediction jet1 =  0.833389026265  with lambda:  1e-06  degree:  4\n",
      "prediction jet1 =  0.83382343113  with lambda:  1e-05  degree:  4\n",
      "prediction jet1 =  0.832921205641  with lambda:  0.001  degree:  4\n",
      "prediction jet1 =  0.831283833456  with lambda:  0.01  degree:  4\n",
      "prediction jet1 =  0.827407605427  with lambda:  0.1  degree:  4\n",
      "prediction jet1 =  0.823865534986  with lambda:  1  degree:  4\n",
      "prediction jet1 =  0.822896477979  with lambda:  10  degree:  4\n",
      "prediction jet1 =  0.837031343982  with lambda:  1e-10  degree:  5\n",
      "prediction jet1 =  0.820056138475  with lambda:  3e-10  degree:  5\n",
      "prediction jet1 =  0.813840807325  with lambda:  4e-10  degree:  5\n",
      "prediction jet1 =  0.833589520818  with lambda:  7e-10  degree:  5\n",
      "prediction jet1 =  0.819454654815  with lambda:  8e-10  degree:  5\n",
      "prediction jet1 =  0.836663770634  with lambda:  0.001  degree:  5\n",
      "prediction jet1 =  0.833288778988  with lambda:  0.01  degree:  5\n",
      "prediction jet1 =  0.830983091626  with lambda:  0.1  degree:  5\n",
      "prediction jet1 =  0.82967987703  with lambda:  1  degree:  5\n",
      "prediction jet1 =  0.829746708548  with lambda:  10  degree:  5\n",
      "prediction jet1 =  0.809196016842  with lambda:  0.1  degree:  6\n",
      "prediction jet1 =  0.835928623939  with lambda:  1  degree:  6\n",
      "prediction jet1 =  0.830080866136  with lambda:  10  degree:  6\n"
     ]
    },
    {
     "ename": "KeyboardInterrupt",
     "evalue": "",
     "output_type": "error",
     "traceback": [
      "\u001b[0;31m---------------------------------------------------------------------------\u001b[0m",
      "\u001b[0;31mKeyboardInterrupt\u001b[0m                         Traceback (most recent call last)",
      "\u001b[0;32m<ipython-input-439-6fd840cfa1e0>\u001b[0m in \u001b[0;36m<module>\u001b[0;34m()\u001b[0m\n\u001b[1;32m     11\u001b[0m     \u001b[0;32mfor\u001b[0m \u001b[0mlam\u001b[0m \u001b[0;32min\u001b[0m \u001b[0mlambdas\u001b[0m\u001b[0;34m:\u001b[0m\u001b[0;34m\u001b[0m\u001b[0m\n\u001b[1;32m     12\u001b[0m \u001b[0;34m\u001b[0m\u001b[0m\n\u001b[0;32m---> 13\u001b[0;31m         \u001b[0mtX_poly_jet0\u001b[0m \u001b[0;34m=\u001b[0m \u001b[0mbuild_poly\u001b[0m\u001b[0;34m(\u001b[0m\u001b[0mtX_reformed_jet0\u001b[0m\u001b[0;34m,\u001b[0m \u001b[0mdeg\u001b[0m\u001b[0;34m)\u001b[0m\u001b[0;34m\u001b[0m\u001b[0m\n\u001b[0m\u001b[1;32m     14\u001b[0m \u001b[0;34m\u001b[0m\u001b[0m\n\u001b[1;32m     15\u001b[0m         \u001b[0mloss_jet0\u001b[0m\u001b[0;34m,\u001b[0m \u001b[0mweights_jet0\u001b[0m \u001b[0;34m=\u001b[0m \u001b[0mridge_regression\u001b[0m\u001b[0;34m(\u001b[0m\u001b[0my_jet0\u001b[0m\u001b[0;34m,\u001b[0m \u001b[0mtX_poly_jet0\u001b[0m\u001b[0;34m,\u001b[0m \u001b[0mlam\u001b[0m\u001b[0;34m)\u001b[0m\u001b[0;34m\u001b[0m\u001b[0m\n",
      "\u001b[0;32m<ipython-input-100-394afe71e4f2>\u001b[0m in \u001b[0;36mbuild_poly\u001b[0;34m(x, degree)\u001b[0m\n\u001b[1;32m      3\u001b[0m \u001b[0;34m\u001b[0m\u001b[0m\n\u001b[1;32m      4\u001b[0m     \u001b[0;32mfor\u001b[0m \u001b[0mm\u001b[0m \u001b[0;32min\u001b[0m \u001b[0mrange\u001b[0m\u001b[0;34m(\u001b[0m\u001b[0;36m1\u001b[0m\u001b[0;34m,\u001b[0m \u001b[0mdegree\u001b[0m\u001b[0;34m+\u001b[0m\u001b[0;36m1\u001b[0m\u001b[0;34m)\u001b[0m\u001b[0;34m:\u001b[0m\u001b[0;34m\u001b[0m\u001b[0m\n\u001b[0;32m----> 5\u001b[0;31m         \u001b[0mpoly\u001b[0m \u001b[0;34m=\u001b[0m \u001b[0mnp\u001b[0m\u001b[0;34m.\u001b[0m\u001b[0mc_\u001b[0m\u001b[0;34m[\u001b[0m\u001b[0mpoly\u001b[0m\u001b[0;34m,\u001b[0m \u001b[0mnp\u001b[0m\u001b[0;34m.\u001b[0m\u001b[0mpower\u001b[0m\u001b[0;34m(\u001b[0m\u001b[0mx\u001b[0m\u001b[0;34m,\u001b[0m \u001b[0mm\u001b[0m\u001b[0;34m)\u001b[0m\u001b[0;34m]\u001b[0m\u001b[0;34m\u001b[0m\u001b[0m\n\u001b[0m\u001b[1;32m      6\u001b[0m \u001b[0;34m\u001b[0m\u001b[0m\n\u001b[1;32m      7\u001b[0m     \u001b[0;31m#poly = np.c_[poly, np.absolute(np.sqrt(x))]\u001b[0m\u001b[0;34m\u001b[0m\u001b[0;34m\u001b[0m\u001b[0m\n",
      "\u001b[0;32m/Users/davidrivollet/anaconda/lib/python3.5/site-packages/numpy/lib/index_tricks.py\u001b[0m in \u001b[0;36m__getitem__\u001b[0;34m(self, key)\u001b[0m\n\u001b[1;32m    336\u001b[0m                 \u001b[0mobjs\u001b[0m\u001b[0;34m[\u001b[0m\u001b[0mk\u001b[0m\u001b[0;34m]\u001b[0m \u001b[0;34m=\u001b[0m \u001b[0mobjs\u001b[0m\u001b[0;34m[\u001b[0m\u001b[0mk\u001b[0m\u001b[0;34m]\u001b[0m\u001b[0;34m.\u001b[0m\u001b[0mastype\u001b[0m\u001b[0;34m(\u001b[0m\u001b[0mfinal_dtype\u001b[0m\u001b[0;34m)\u001b[0m\u001b[0;34m\u001b[0m\u001b[0m\n\u001b[1;32m    337\u001b[0m \u001b[0;34m\u001b[0m\u001b[0m\n\u001b[0;32m--> 338\u001b[0;31m         \u001b[0mres\u001b[0m \u001b[0;34m=\u001b[0m \u001b[0m_nx\u001b[0m\u001b[0;34m.\u001b[0m\u001b[0mconcatenate\u001b[0m\u001b[0;34m(\u001b[0m\u001b[0mtuple\u001b[0m\u001b[0;34m(\u001b[0m\u001b[0mobjs\u001b[0m\u001b[0;34m)\u001b[0m\u001b[0;34m,\u001b[0m \u001b[0maxis\u001b[0m\u001b[0;34m=\u001b[0m\u001b[0mself\u001b[0m\u001b[0;34m.\u001b[0m\u001b[0maxis\u001b[0m\u001b[0;34m)\u001b[0m\u001b[0;34m\u001b[0m\u001b[0m\n\u001b[0m\u001b[1;32m    339\u001b[0m         \u001b[0;32mreturn\u001b[0m \u001b[0mself\u001b[0m\u001b[0;34m.\u001b[0m\u001b[0m_retval\u001b[0m\u001b[0;34m(\u001b[0m\u001b[0mres\u001b[0m\u001b[0;34m)\u001b[0m\u001b[0;34m\u001b[0m\u001b[0m\n\u001b[1;32m    340\u001b[0m \u001b[0;34m\u001b[0m\u001b[0m\n",
      "\u001b[0;31mKeyboardInterrupt\u001b[0m: "
     ]
    }
   ],
   "source": [
    "pred_jet0_VEC = np.zeros((len(lambdas)*len(degrees), 1))\n",
    "i = 0\n",
    "\n",
    "method = 4\n",
    "\n",
    "tX_reformed_jet0 = tX_cleaned_jet0.copy()\n",
    "w0 = np.ones([1,tX_reformed_jet0.shape[0]])\n",
    "tX_reformed_jet0 = np.insert(tX_reformed_jet0, 0, w0, axis=1)\n",
    "\n",
    "for deg in degrees:\n",
    "    for lam in lambdas:\n",
    "\n",
    "        tX_poly_jet0 = build_poly(tX_reformed_jet0, deg)\n",
    "\n",
    "        loss_jet0, weights_jet0 = ridge_regression(y_jet0, tX_poly_jet0, lam)\n",
    "        # print(\"\\nweights_RR:\\n\", weights_jet0,\"\\n\")\n",
    "\n",
    "        pred_jet0 = prediction(y_jet0, tX_poly_jet0, 0, lam, 0, method)\n",
    "        pred_jet0_VEC[i] = pred_jet0\n",
    "        i = i + 1\n",
    "        if pred_jet0 > 0.83 :\n",
    "            print(\"prediction jet1 = \", pred_jet0, \" with lambda: \", str(lam), \" degree: \", str(deg))"
   ]
  },
  {
   "cell_type": "code",
   "execution_count": 414,
   "metadata": {
    "collapsed": false
   },
   "outputs": [
    {
     "data": {
      "image/png": "[encoded data removed]",
      "text/plain": [
       "<matplotlib.figure.Figure at 0x133c8c780>"
      ]
     },
     "metadata": {},
     "output_type": "display_data"
    }
   ],
   "source": [
    "p = plt.plot(pred_jet0_VEC[:100])\n",
    "plt.show()"
   ]
  },
  {
   "cell_type": "code",
   "execution_count": 448,
   "metadata": {
    "collapsed": false
   },
   "outputs": [
    {
     "name": "stdout",
     "output_type": "stream",
     "text": [
      "pred_RR =  0.830314776449\n"
     ]
    }
   ],
   "source": [
    "lambda_jet0 = 6e-10\n",
    "method = 4\n",
    "\n",
    "degree_jet0 = 3\n",
    "\n",
    "tX_reformed_jet0 = tX_cleaned_jet0.copy()\n",
    "w0 = np.ones([1,tX_reformed_jet0.shape[0]])\n",
    "tX_reformed_jet0 = np.insert(tX_reformed_jet0, 0, w0, axis=1)\n",
    "\n",
    "tX_poly_jet0 = build_poly(tX_reformed_jet0, degree_jet0)\n",
    "\n",
    "loss_jet0, weights_jet0 = ridge_regression(y_jet0, tX_poly_jet0, lambda_jet0)\n",
    "# print(\"\\nweights_RR:\\n\", weights_jet0,\"\\n\")\n",
    "\n",
    "pred_jet0 = prediction(y_jet0, tX_poly_jet0, 0, lambda_jet0, 0, method)\n",
    "print(\"pred_RR = \", pred_jet0)"
   ]
  },
  {
   "cell_type": "markdown",
   "metadata": {},
   "source": [
    "### JET == 1.0"
   ]
  },
  {
   "cell_type": "code",
   "execution_count": 449,
   "metadata": {
    "collapsed": false
   },
   "outputs": [
    {
     "ename": "KeyboardInterrupt",
     "evalue": "",
     "output_type": "error",
     "traceback": [
      "\u001b[0;31m---------------------------------------------------------------------------\u001b[0m",
      "\u001b[0;31mKeyboardInterrupt\u001b[0m                         Traceback (most recent call last)",
      "\u001b[0;32m<ipython-input-449-42218be43fb5>\u001b[0m in \u001b[0;36m<module>\u001b[0;34m()\u001b[0m\n\u001b[1;32m     11\u001b[0m     \u001b[0;32mfor\u001b[0m \u001b[0mlam\u001b[0m \u001b[0;32min\u001b[0m \u001b[0mlambdas\u001b[0m\u001b[0;34m:\u001b[0m\u001b[0;34m\u001b[0m\u001b[0m\n\u001b[1;32m     12\u001b[0m \u001b[0;34m\u001b[0m\u001b[0m\n\u001b[0;32m---> 13\u001b[0;31m         \u001b[0mtX_poly_jet1\u001b[0m \u001b[0;34m=\u001b[0m \u001b[0mbuild_poly\u001b[0m\u001b[0;34m(\u001b[0m\u001b[0mtX_reformed_jet1\u001b[0m\u001b[0;34m,\u001b[0m \u001b[0mdeg\u001b[0m\u001b[0;34m)\u001b[0m\u001b[0;34m\u001b[0m\u001b[0m\n\u001b[0m\u001b[1;32m     14\u001b[0m \u001b[0;34m\u001b[0m\u001b[0m\n\u001b[1;32m     15\u001b[0m         \u001b[0mloss_jet1\u001b[0m\u001b[0;34m,\u001b[0m \u001b[0mweights_jet1\u001b[0m \u001b[0;34m=\u001b[0m \u001b[0mridge_regression\u001b[0m\u001b[0;34m(\u001b[0m\u001b[0my_jet1\u001b[0m\u001b[0;34m,\u001b[0m \u001b[0mtX_poly_jet1\u001b[0m\u001b[0;34m,\u001b[0m \u001b[0mlam\u001b[0m\u001b[0;34m)\u001b[0m\u001b[0;34m\u001b[0m\u001b[0m\n",
      "\u001b[0;32m<ipython-input-100-394afe71e4f2>\u001b[0m in \u001b[0;36mbuild_poly\u001b[0;34m(x, degree)\u001b[0m\n\u001b[1;32m      3\u001b[0m \u001b[0;34m\u001b[0m\u001b[0m\n\u001b[1;32m      4\u001b[0m     \u001b[0;32mfor\u001b[0m \u001b[0mm\u001b[0m \u001b[0;32min\u001b[0m \u001b[0mrange\u001b[0m\u001b[0;34m(\u001b[0m\u001b[0;36m1\u001b[0m\u001b[0;34m,\u001b[0m \u001b[0mdegree\u001b[0m\u001b[0;34m+\u001b[0m\u001b[0;36m1\u001b[0m\u001b[0;34m)\u001b[0m\u001b[0;34m:\u001b[0m\u001b[0;34m\u001b[0m\u001b[0m\n\u001b[0;32m----> 5\u001b[0;31m         \u001b[0mpoly\u001b[0m \u001b[0;34m=\u001b[0m \u001b[0mnp\u001b[0m\u001b[0;34m.\u001b[0m\u001b[0mc_\u001b[0m\u001b[0;34m[\u001b[0m\u001b[0mpoly\u001b[0m\u001b[0;34m,\u001b[0m \u001b[0mnp\u001b[0m\u001b[0;34m.\u001b[0m\u001b[0mpower\u001b[0m\u001b[0;34m(\u001b[0m\u001b[0mx\u001b[0m\u001b[0;34m,\u001b[0m \u001b[0mm\u001b[0m\u001b[0;34m)\u001b[0m\u001b[0;34m]\u001b[0m\u001b[0;34m\u001b[0m\u001b[0m\n\u001b[0m\u001b[1;32m      6\u001b[0m \u001b[0;34m\u001b[0m\u001b[0m\n\u001b[1;32m      7\u001b[0m     \u001b[0;31m#poly = np.c_[poly, np.absolute(np.sqrt(x))]\u001b[0m\u001b[0;34m\u001b[0m\u001b[0;34m\u001b[0m\u001b[0m\n",
      "\u001b[0;31mKeyboardInterrupt\u001b[0m: "
     ]
    }
   ],
   "source": [
    "pred_jet1_VEC = np.zeros((len(lambdas)*len(degrees), 1))\n",
    "i = 0\n",
    "\n",
    "method = 4\n",
    "\n",
    "tX_reformed_jet1 = tX_cleaned_jet1.copy()\n",
    "w0 = np.ones([1,tX_reformed_jet1.shape[0]])\n",
    "tX_reformed_jet1 = np.insert(tX_reformed_jet1, 0, w0, axis=1)\n",
    "\n",
    "for deg in degrees:\n",
    "    for lam in lambdas:\n",
    "\n",
    "        tX_poly_jet1 = build_poly(tX_reformed_jet1, deg)\n",
    "\n",
    "        loss_jet1, weights_jet1 = ridge_regression(y_jet1, tX_poly_jet1, lam)\n",
    "        # print(\"\\nweights_RR:\\n\", weights_jet0,\"\\n\")\n",
    "\n",
    "        pred_jet1 = prediction(y_jet1, tX_poly_jet1, 0, lam, 0, method)\n",
    "        pred_jet1_VEC[i] = pred_jet1\n",
    "        i = i + 1\n",
    "        if pred_jet1 > 0.799 :\n",
    "            print(\"prediction jet1 = \", pred_jet1, \" with lambda: \", str(lam), \" degree: \", str(deg))"
   ]
  },
  {
   "cell_type": "code",
   "execution_count": 447,
   "metadata": {
    "collapsed": false
   },
   "outputs": [
    {
     "data": {
      "image/png": "[encoded data removed]",
      "text/plain": [
       "<matplotlib.figure.Figure at 0x113553fd0>"
      ]
     },
     "metadata": {},
     "output_type": "display_data"
    }
   ],
   "source": [
    "p = plt.plot(pred_jet1_VEC[100:250])\n",
    "plt.show()"
   ]
  },
  {
   "cell_type": "code",
   "execution_count": 450,
   "metadata": {
    "collapsed": false
   },
   "outputs": [
    {
     "name": "stdout",
     "output_type": "stream",
     "text": [
      "pred_RR =  0.800585878603\n"
     ]
    }
   ],
   "source": [
    "lambda_jet1 = 3e-10\n",
    "method = 4\n",
    "\n",
    "degree_jet1 = 9\n",
    "\n",
    "tX_reformed_jet1 = tX_cleaned_jet1.copy()\n",
    "w0 = np.ones([1,tX_reformed_jet1.shape[0]])\n",
    "tX_reformed_jet1 = np.insert(tX_reformed_jet1, 0, w0, axis=1)\n",
    "\n",
    "tX_poly_jet1 = build_poly(tX_reformed_jet1, degree_jet1)\n",
    "\n",
    "loss_jet1, weights_jet1 = ridge_regression(y_jet1, tX_poly_jet1, lambda_jet1)\n",
    "# print(\"\\nweights_RR:\\n\", weights_jet1,\"\\n\")\n",
    "\n",
    "pred_jet1 = prediction(y_jet1, tX_poly_jet1, 0, lambda_jet1, 0, method)\n",
    "print(\"pred_RR = \", pred_jet1)"
   ]
  },
  {
   "cell_type": "markdown",
   "metadata": {},
   "source": [
    "### JET == 2.0"
   ]
  },
  {
   "cell_type": "code",
   "execution_count": 421,
   "metadata": {
    "collapsed": false
   },
   "outputs": [
    {
     "name": "stdout",
     "output_type": "stream",
     "text": [
      "prediction jet2 =  0.830403926511  with lambda:  1e-10  degree:  9\n",
      "prediction jet2 =  0.830536578895  with lambda:  2e-10  degree:  9\n",
      "prediction jet2 =  0.830470252703  with lambda:  3e-10  degree:  9\n",
      "prediction jet2 =  0.830403926511  with lambda:  4e-10  degree:  9\n",
      "prediction jet2 =  0.830602905087  with lambda:  5e-10  degree:  9\n",
      "prediction jet2 =  0.830602905087  with lambda:  6e-10  degree:  9\n",
      "prediction jet2 =  0.830735557472  with lambda:  7e-10  degree:  9\n",
      "prediction jet2 =  0.830735557472  with lambda:  8e-10  degree:  9\n",
      "prediction jet2 =  0.830735557472  with lambda:  9e-10  degree:  9\n",
      "prediction jet2 =  0.830735557472  with lambda:  1e-09  degree:  9\n",
      "prediction jet2 =  0.830536578895  with lambda:  1e-08  degree:  9\n",
      "prediction jet2 =  0.830337600318  with lambda:  1e-07  degree:  9\n",
      "prediction jet2 =  0.830138621742  with lambda:  1e-10  degree:  10\n",
      "prediction jet2 =  0.830005969357  with lambda:  2e-10  degree:  10\n",
      "prediction jet2 =  0.830403926511  with lambda:  3e-10  degree:  10\n",
      "prediction jet2 =  0.830005969357  with lambda:  4e-10  degree:  10\n",
      "prediction jet2 =  0.830403926511  with lambda:  5e-10  degree:  10\n",
      "prediction jet2 =  0.830470252703  with lambda:  6e-10  degree:  10\n",
      "prediction jet2 =  0.830204947934  with lambda:  7e-10  degree:  10\n",
      "prediction jet2 =  0.830204947934  with lambda:  8e-10  degree:  10\n",
      "prediction jet2 =  0.830005969357  with lambda:  9e-10  degree:  10\n",
      "prediction jet2 =  0.830271274126  with lambda:  1e-09  degree:  10\n",
      "prediction jet2 =  0.830337600318  with lambda:  1e-08  degree:  10\n",
      "prediction jet2 =  0.830337600318  with lambda:  1e-07  degree:  10\n",
      "prediction jet2 =  0.830204947934  with lambda:  1e-06  degree:  10\n",
      "prediction jet2 =  0.830204947934  with lambda:  1e-05  degree:  10\n"
     ]
    },
    {
     "ename": "LinAlgError",
     "evalue": "Singular matrix",
     "output_type": "error",
     "traceback": [
      "\u001b[0;31m---------------------------------------------------------------------------\u001b[0m",
      "\u001b[0;31mLinAlgError\u001b[0m                               Traceback (most recent call last)",
      "\u001b[0;32m<ipython-input-421-a236a9375a5f>\u001b[0m in \u001b[0;36m<module>\u001b[0;34m()\u001b[0m\n\u001b[1;32m     14\u001b[0m         \u001b[0mtX_poly_jet2\u001b[0m \u001b[0;34m=\u001b[0m \u001b[0mbuild_poly\u001b[0m\u001b[0;34m(\u001b[0m\u001b[0mtX_reformed_jet2\u001b[0m\u001b[0;34m,\u001b[0m \u001b[0mdeg\u001b[0m\u001b[0;34m)\u001b[0m\u001b[0;34m\u001b[0m\u001b[0m\n\u001b[1;32m     15\u001b[0m \u001b[0;34m\u001b[0m\u001b[0m\n\u001b[0;32m---> 16\u001b[0;31m         \u001b[0mloss_jet2\u001b[0m\u001b[0;34m,\u001b[0m \u001b[0mweights_jet2\u001b[0m \u001b[0;34m=\u001b[0m \u001b[0mridge_regression\u001b[0m\u001b[0;34m(\u001b[0m\u001b[0my_jet2\u001b[0m\u001b[0;34m,\u001b[0m \u001b[0mtX_poly_jet2\u001b[0m\u001b[0;34m,\u001b[0m \u001b[0mlam\u001b[0m\u001b[0;34m)\u001b[0m\u001b[0;34m\u001b[0m\u001b[0m\n\u001b[0m\u001b[1;32m     17\u001b[0m         \u001b[0;31m# print(\"\\nweights_RR:\\n\", weights_jet0,\"\\n\")\u001b[0m\u001b[0;34m\u001b[0m\u001b[0;34m\u001b[0m\u001b[0m\n\u001b[1;32m     18\u001b[0m \u001b[0;34m\u001b[0m\u001b[0m\n",
      "\u001b[0;32m<ipython-input-101-2286a54bcf0f>\u001b[0m in \u001b[0;36mridge_regression\u001b[0;34m(y, tX_poly, lambda_)\u001b[0m\n\u001b[1;32m      7\u001b[0m     \u001b[0mA\u001b[0m \u001b[0;34m=\u001b[0m \u001b[0mnp\u001b[0m\u001b[0;34m.\u001b[0m\u001b[0mdot\u001b[0m\u001b[0;34m(\u001b[0m\u001b[0mnp\u001b[0m\u001b[0;34m.\u001b[0m\u001b[0mtranspose\u001b[0m\u001b[0;34m(\u001b[0m\u001b[0mtX_poly\u001b[0m\u001b[0;34m)\u001b[0m\u001b[0;34m,\u001b[0m \u001b[0mtX_poly\u001b[0m\u001b[0;34m)\u001b[0m \u001b[0;34m+\u001b[0m \u001b[0mlamb_\u001b[0m\u001b[0;34m*\u001b[0m\u001b[0mnp\u001b[0m\u001b[0;34m.\u001b[0m\u001b[0meye\u001b[0m\u001b[0;34m(\u001b[0m\u001b[0mtX_poly\u001b[0m\u001b[0;34m.\u001b[0m\u001b[0mshape\u001b[0m\u001b[0;34m[\u001b[0m\u001b[0;36m1\u001b[0m\u001b[0;34m]\u001b[0m\u001b[0;34m)\u001b[0m\u001b[0;34m\u001b[0m\u001b[0m\n\u001b[1;32m      8\u001b[0m     \u001b[0mb\u001b[0m \u001b[0;34m=\u001b[0m \u001b[0mnp\u001b[0m\u001b[0;34m.\u001b[0m\u001b[0mtranspose\u001b[0m\u001b[0;34m(\u001b[0m\u001b[0mtX_poly\u001b[0m\u001b[0;34m)\u001b[0m\u001b[0;34m.\u001b[0m\u001b[0mdot\u001b[0m\u001b[0;34m(\u001b[0m\u001b[0my\u001b[0m\u001b[0;34m)\u001b[0m\u001b[0;34m\u001b[0m\u001b[0m\n\u001b[0;32m----> 9\u001b[0;31m     \u001b[0mw_opt\u001b[0m \u001b[0;34m=\u001b[0m \u001b[0mnp\u001b[0m\u001b[0;34m.\u001b[0m\u001b[0mlinalg\u001b[0m\u001b[0;34m.\u001b[0m\u001b[0msolve\u001b[0m\u001b[0;34m(\u001b[0m\u001b[0mA\u001b[0m\u001b[0;34m,\u001b[0m\u001b[0mb\u001b[0m\u001b[0;34m)\u001b[0m\u001b[0;34m\u001b[0m\u001b[0m\n\u001b[0m\u001b[1;32m     10\u001b[0m \u001b[0;34m\u001b[0m\u001b[0m\n\u001b[1;32m     11\u001b[0m     \u001b[0;31m# Compute loss\u001b[0m\u001b[0;34m\u001b[0m\u001b[0;34m\u001b[0m\u001b[0m\n",
      "\u001b[0;32m/Users/davidrivollet/anaconda/lib/python3.5/site-packages/numpy/linalg/linalg.py\u001b[0m in \u001b[0;36msolve\u001b[0;34m(a, b)\u001b[0m\n\u001b[1;32m    382\u001b[0m     \u001b[0msignature\u001b[0m \u001b[0;34m=\u001b[0m \u001b[0;34m'DD->D'\u001b[0m \u001b[0;32mif\u001b[0m \u001b[0misComplexType\u001b[0m\u001b[0;34m(\u001b[0m\u001b[0mt\u001b[0m\u001b[0;34m)\u001b[0m \u001b[0;32melse\u001b[0m \u001b[0;34m'dd->d'\u001b[0m\u001b[0;34m\u001b[0m\u001b[0m\n\u001b[1;32m    383\u001b[0m     \u001b[0mextobj\u001b[0m \u001b[0;34m=\u001b[0m \u001b[0mget_linalg_error_extobj\u001b[0m\u001b[0;34m(\u001b[0m\u001b[0m_raise_linalgerror_singular\u001b[0m\u001b[0;34m)\u001b[0m\u001b[0;34m\u001b[0m\u001b[0m\n\u001b[0;32m--> 384\u001b[0;31m     \u001b[0mr\u001b[0m \u001b[0;34m=\u001b[0m \u001b[0mgufunc\u001b[0m\u001b[0;34m(\u001b[0m\u001b[0ma\u001b[0m\u001b[0;34m,\u001b[0m \u001b[0mb\u001b[0m\u001b[0;34m,\u001b[0m \u001b[0msignature\u001b[0m\u001b[0;34m=\u001b[0m\u001b[0msignature\u001b[0m\u001b[0;34m,\u001b[0m \u001b[0mextobj\u001b[0m\u001b[0;34m=\u001b[0m\u001b[0mextobj\u001b[0m\u001b[0;34m)\u001b[0m\u001b[0;34m\u001b[0m\u001b[0m\n\u001b[0m\u001b[1;32m    385\u001b[0m \u001b[0;34m\u001b[0m\u001b[0m\n\u001b[1;32m    386\u001b[0m     \u001b[0;32mreturn\u001b[0m \u001b[0mwrap\u001b[0m\u001b[0;34m(\u001b[0m\u001b[0mr\u001b[0m\u001b[0;34m.\u001b[0m\u001b[0mastype\u001b[0m\u001b[0;34m(\u001b[0m\u001b[0mresult_t\u001b[0m\u001b[0;34m,\u001b[0m \u001b[0mcopy\u001b[0m\u001b[0;34m=\u001b[0m\u001b[0;32mFalse\u001b[0m\u001b[0;34m)\u001b[0m\u001b[0;34m)\u001b[0m\u001b[0;34m\u001b[0m\u001b[0m\n",
      "\u001b[0;32m/Users/davidrivollet/anaconda/lib/python3.5/site-packages/numpy/linalg/linalg.py\u001b[0m in \u001b[0;36m_raise_linalgerror_singular\u001b[0;34m(err, flag)\u001b[0m\n\u001b[1;32m     88\u001b[0m \u001b[0;34m\u001b[0m\u001b[0m\n\u001b[1;32m     89\u001b[0m \u001b[0;32mdef\u001b[0m \u001b[0m_raise_linalgerror_singular\u001b[0m\u001b[0;34m(\u001b[0m\u001b[0merr\u001b[0m\u001b[0;34m,\u001b[0m \u001b[0mflag\u001b[0m\u001b[0;34m)\u001b[0m\u001b[0;34m:\u001b[0m\u001b[0;34m\u001b[0m\u001b[0m\n\u001b[0;32m---> 90\u001b[0;31m     \u001b[0;32mraise\u001b[0m \u001b[0mLinAlgError\u001b[0m\u001b[0;34m(\u001b[0m\u001b[0;34m\"Singular matrix\"\u001b[0m\u001b[0;34m)\u001b[0m\u001b[0;34m\u001b[0m\u001b[0m\n\u001b[0m\u001b[1;32m     91\u001b[0m \u001b[0;34m\u001b[0m\u001b[0m\n\u001b[1;32m     92\u001b[0m \u001b[0;32mdef\u001b[0m \u001b[0m_raise_linalgerror_nonposdef\u001b[0m\u001b[0;34m(\u001b[0m\u001b[0merr\u001b[0m\u001b[0;34m,\u001b[0m \u001b[0mflag\u001b[0m\u001b[0;34m)\u001b[0m\u001b[0;34m:\u001b[0m\u001b[0;34m\u001b[0m\u001b[0m\n",
      "\u001b[0;31mLinAlgError\u001b[0m: Singular matrix"
     ]
    }
   ],
   "source": [
    "pred_jet2_VEC = np.zeros((len(lambdas)*len(degrees), 1))\n",
    "i = 0\n",
    "\n",
    "method = 4\n",
    "\n",
    "tX_reformed_jet2 = tX_cleaned_jet2.copy()\n",
    "w0 = np.ones([1,tX_reformed_jet2.shape[0]])\n",
    "tX_reformed_jet2 = np.insert(tX_reformed_jet2, 0, w0, axis=1)\n",
    "\n",
    "\n",
    "for deg in degrees:\n",
    "    for lam in lambdas:\n",
    "\n",
    "        tX_poly_jet2 = build_poly(tX_reformed_jet2, deg)\n",
    "\n",
    "        loss_jet2, weights_jet2 = ridge_regression(y_jet2, tX_poly_jet2, lam)\n",
    "        # print(\"\\nweights_RR:\\n\", weights_jet0,\"\\n\")\n",
    "\n",
    "        pred_jet2 = prediction(y_jet2, tX_poly_jet2, 0, lam, 0, method)\n",
    "        pred_jet2_VEC[i] = pred_jet2\n",
    "        i = i + 1\n",
    "\n",
    "        if pred_jet2 > 0.83 :\n",
    "            print(\"prediction jet2 = \", pred_jet2, \" with lambda: \", str(lam), \" degree: \", str(deg))"
   ]
  },
  {
   "cell_type": "code",
   "execution_count": 424,
   "metadata": {
    "collapsed": false
   },
   "outputs": [
    {
     "data": {
      "image/png": "[encoded data removed]",
      "text/plain": [
       "<matplotlib.figure.Figure at 0x17aaadf28>"
      ]
     },
     "metadata": {},
     "output_type": "display_data"
    }
   ],
   "source": [
    "p = plt.plot(pred_jet2_VEC)\n",
    "plt.show()"
   ]
  },
  {
   "cell_type": "code",
   "execution_count": 451,
   "metadata": {
    "collapsed": false
   },
   "outputs": [
    {
     "name": "stdout",
     "output_type": "stream",
     "text": [
      "pred_RR =  0.830735557472\n"
     ]
    }
   ],
   "source": [
    "lambda_jet2 = 8e-10\n",
    "method = 4\n",
    "\n",
    "degree_jet2 = 9\n",
    "\n",
    "tX_reformed_jet2 = tX_cleaned_jet2.copy()\n",
    "w0 = np.ones([1,tX_reformed_jet2.shape[0]])\n",
    "tX_reformed_jet2 = np.insert(tX_reformed_jet2, 0, w0, axis=1)\n",
    "\n",
    "tX_poly_jet2 = build_poly(tX_reformed_jet2, degree_jet2)\n",
    "\n",
    "loss_jet2, weights_jet2 = ridge_regression(y_jet2, tX_poly_jet2, lambda_jet2)\n",
    "# print(\"\\nweights_RR:\\n\", weights_jet2,\"\\n\")\n",
    "\n",
    "pred_jet2 = prediction(y_jet2, tX_poly_jet2, 0, lambda_jet2, 0, method)\n",
    "\n",
    "print(\"pred_RR = \", pred_jet2)"
   ]
  },
  {
   "cell_type": "markdown",
   "metadata": {},
   "source": [
    "### JET == 3.0"
   ]
  },
  {
   "cell_type": "code",
   "execution_count": 440,
   "metadata": {
    "collapsed": false
   },
   "outputs": [
    {
     "name": "stdout",
     "output_type": "stream",
     "text": [
      "prediction jet3 =  0.823257202568  with lambda:  1e-10  degree:  8\n",
      "prediction jet3 =  0.823406478579  with lambda:  2e-10  degree:  8\n",
      "prediction jet3 =  0.822958650545  with lambda:  3e-10  degree:  8\n",
      "prediction jet3 =  0.823854306613  with lambda:  4e-10  degree:  8\n",
      "prediction jet3 =  0.823705030602  with lambda:  5e-10  degree:  8\n",
      "prediction jet3 =  0.823257202568  with lambda:  6e-10  degree:  8\n",
      "prediction jet3 =  0.823406478579  with lambda:  7e-10  degree:  8\n",
      "prediction jet3 =  0.824302134647  with lambda:  8e-10  degree:  8\n",
      "prediction jet3 =  0.824302134647  with lambda:  9e-10  degree:  8\n",
      "prediction jet3 =  0.824451410658  with lambda:  1e-09  degree:  8\n",
      "prediction jet3 =  0.823107926556  with lambda:  1e-08  degree:  8\n",
      "prediction jet3 =  0.823854306613  with lambda:  1e-07  degree:  8\n",
      "prediction jet3 =  0.824302134647  with lambda:  1e-06  degree:  8\n",
      "prediction jet3 =  0.824451410658  with lambda:  1e-05  degree:  8\n",
      "prediction jet3 =  0.821615166443  with lambda:  0.1  degree:  8\n",
      "prediction jet3 =  0.830422451112  with lambda:  1e-10  degree:  9\n",
      "prediction jet3 =  0.829825347067  with lambda:  2e-10  degree:  9\n",
      "prediction jet3 =  0.828481862965  with lambda:  3e-10  degree:  9\n",
      "prediction jet3 =  0.830123899089  with lambda:  4e-10  degree:  9\n",
      "prediction jet3 =  0.82907896701  with lambda:  5e-10  degree:  9\n",
      "prediction jet3 =  0.828631138976  with lambda:  7e-10  degree:  9\n",
      "prediction jet3 =  0.828929690999  with lambda:  8e-10  degree:  9\n",
      "prediction jet3 =  0.828034034931  with lambda:  9e-10  degree:  9\n",
      "prediction jet3 =  0.828481862965  with lambda:  1e-09  degree:  9\n",
      "prediction jet3 =  0.821615166443  with lambda:  1e-08  degree:  9\n",
      "prediction jet3 =  0.829377519033  with lambda:  1e-07  degree:  9\n",
      "prediction jet3 =  0.828631138976  with lambda:  1e-06  degree:  9\n",
      "prediction jet3 =  0.830273175101  with lambda:  1e-05  degree:  9\n",
      "prediction jet3 =  0.82907896701  with lambda:  0.001  degree:  9\n",
      "prediction jet3 =  0.828332586953  with lambda:  0.01  degree:  9\n",
      "prediction jet3 =  0.828183310942  with lambda:  1e-10  degree:  10\n",
      "prediction jet3 =  0.829377519033  with lambda:  2e-10  degree:  10\n",
      "prediction jet3 =  0.828780414987  with lambda:  3e-10  degree:  10\n",
      "prediction jet3 =  0.828631138976  with lambda:  4e-10  degree:  10\n",
      "prediction jet3 =  0.824152858636  with lambda:  5e-10  degree:  10\n",
      "prediction jet3 =  0.828631138976  with lambda:  8e-10  degree:  10\n",
      "prediction jet3 =  0.826690550828  with lambda:  9e-10  degree:  10\n",
      "prediction jet3 =  0.829228243021  with lambda:  1e-09  degree:  10\n",
      "prediction jet3 =  0.829974623078  with lambda:  1e-08  degree:  10\n",
      "prediction jet3 =  0.830571727123  with lambda:  1e-07  degree:  10\n",
      "prediction jet3 =  0.830571727123  with lambda:  1e-06  degree:  10\n",
      "prediction jet3 =  0.829228243021  with lambda:  1e-05  degree:  10\n",
      "prediction jet3 =  0.829377519033  with lambda:  0.001  degree:  10\n",
      "prediction jet3 =  0.826541274817  with lambda:  0.01  degree:  10\n",
      "prediction jet3 =  0.821018062397  with lambda:  0.1  degree:  10\n",
      "prediction jet3 =  0.822212270488  with lambda:  10  degree:  10\n",
      "prediction jet3 =  0.82683982684  with lambda:  5e-10  degree:  11\n",
      "prediction jet3 =  0.827436930885  with lambda:  8e-10  degree:  11\n",
      "prediction jet3 =  0.825496342738  with lambda:  1e-08  degree:  11\n",
      "prediction jet3 =  0.827138378863  with lambda:  1e-06  degree:  11\n",
      "prediction jet3 =  0.82579489476  with lambda:  1e-05  degree:  11\n",
      "prediction jet3 =  0.830571727123  with lambda:  0.001  degree:  11\n",
      "prediction jet3 =  0.828332586953  with lambda:  0.01  degree:  11\n",
      "prediction jet3 =  0.828183310942  with lambda:  0.1  degree:  11\n",
      "prediction jet3 =  0.826989102851  with lambda:  1  degree:  11\n",
      "prediction jet3 =  0.827586206897  with lambda:  10  degree:  11\n"
     ]
    }
   ],
   "source": [
    "pred_jet3_VEC = np.zeros((len(lambdas)*len(degrees), 1))\n",
    "i = 0\n",
    "\n",
    "method = 4\n",
    "\n",
    "tX_reformed_jet3 = tX_cleaned_jet3.copy()\n",
    "w0 = np.ones([1,tX_reformed_jet3.shape[0]])\n",
    "tX_reformed_jet3 = np.insert(tX_reformed_jet3, 0, w0, axis=1)\n",
    "\n",
    "for deg in degrees:\n",
    "    for lam in lambdas:\n",
    "\n",
    "        tX_poly_jet3 = build_poly(tX_reformed_jet3, deg)\n",
    "\n",
    "        loss_jet3, weights_jet3 = ridge_regression(y_jet3, tX_poly_jet3, lam)\n",
    "        # print(\"\\nweights_RR:\\n\", weights_jet0,\"\\n\")\n",
    "\n",
    "        pred_jet3 = prediction(y_jet3, tX_poly_jet3, 0, lam, 0, method)\n",
    "        pred_jet3_VEC[i] = pred_jet3\n",
    "        i = i + 1\n",
    "\n",
    "        if pred_jet3 > 0.82 :\n",
    "            print(\"prediction jet3 = \", pred_jet3, \" with lambda: \", str(lam), \" degree: \", str(deg))"
   ]
  },
  {
   "cell_type": "code",
   "execution_count": 441,
   "metadata": {
    "collapsed": false
   },
   "outputs": [
    {
     "data": {
      "image/png": "[encoded data removed]",
      "text/plain": [
       "<matplotlib.figure.Figure at 0x1c543a940>"
      ]
     },
     "metadata": {},
     "output_type": "display_data"
    }
   ],
   "source": [
    "p = plt.plot(pred_jet3_VEC)\n",
    "plt.show()"
   ]
  },
  {
   "cell_type": "code",
   "execution_count": 452,
   "metadata": {
    "collapsed": false
   },
   "outputs": [
    {
     "name": "stdout",
     "output_type": "stream",
     "text": [
      "pred_RR =  0.830571727123\n"
     ]
    }
   ],
   "source": [
    "lambda_jet3 = 1e-7\n",
    "method = 4\n",
    "\n",
    "degree_jet3 = 10\n",
    "\n",
    "tX_reformed_jet3 = tX_cleaned_jet3.copy()\n",
    "w0 = np.ones([1,tX_reformed_jet3.shape[0]])\n",
    "tX_reformed_jet3 = np.insert(tX_reformed_jet3, 0, w0, axis=1)\n",
    "\n",
    "tX_poly_jet3 = build_poly(tX_reformed_jet3, degree_jet3)\n",
    "\n",
    "loss_jet3, weights_jet3 = ridge_regression(y_jet3, tX_poly_jet3, lambda_jet3)\n",
    "# print(\"\\nweights_RR:\\n\", weights_jet3,\"\\n\")\n",
    "\n",
    "pred_jet3 = prediction(y_jet3, tX_poly_jet3, 0, lambda_jet3, 0, method)\n",
    "print(\"pred_RR = \", pred_jet3)"
   ]
  },
  {
   "cell_type": "markdown",
   "metadata": {},
   "source": [
    "### Testing set"
   ]
  },
  {
   "cell_type": "code",
   "execution_count": 382,
   "metadata": {
    "collapsed": false
   },
   "outputs": [
    {
     "data": {
      "text/plain": [
       "(568238, 30)"
      ]
     },
     "execution_count": 382,
     "metadata": {},
     "output_type": "execute_result"
    }
   ],
   "source": [
    "DATA_TEST_PATH = '../data/test.csv' \n",
    "_, tX_test, ids_test = load_csv_data(DATA_TEST_PATH)\n",
    "tX_test.shape"
   ]
  },
  {
   "cell_type": "code",
   "execution_count": 383,
   "metadata": {
    "collapsed": false
   },
   "outputs": [
    {
     "name": "stderr",
     "output_type": "stream",
     "text": [
      "/Users/davidrivollet/anaconda/lib/python3.5/site-packages/numpy/core/_methods.py:59: RuntimeWarning: Mean of empty slice.\n",
      "  warnings.warn(\"Mean of empty slice.\", RuntimeWarning)\n"
     ]
    }
   ],
   "source": [
    "tX_test_jet0, indexes_test_jet0, tX_test_jet1, indexes_test_jet1, tX_test_jet2, indexes_test_jet2, tX_test_jet3, indexes_test_jet3 = separating_by_jet(tX_test)\n",
    "\n",
    "tX_test_cleaned_jet0 = clean_data_jet(tX_test_jet0)\n",
    "tX_test_cleaned_jet1 = clean_data_jet(tX_test_jet1)\n",
    "tX_test_cleaned_jet2 = clean_data_jet(tX_test_jet2)\n",
    "tX_test_cleaned_jet3 = clean_data_jet(tX_test_jet3)"
   ]
  },
  {
   "cell_type": "code",
   "execution_count": 384,
   "metadata": {
    "collapsed": true
   },
   "outputs": [],
   "source": [
    "tX_test_reformed_jet0 = tX_test_cleaned_jet0.copy()\n",
    "w0 = np.ones([1,tX_test_reformed_jet0.shape[0]])\n",
    "tX_test_reformed_jet0 = np.insert(tX_test_reformed_jet0, 0, w0, axis=1)\n",
    "\n",
    "tX_test_reformed_jet1 = tX_test_cleaned_jet1.copy()\n",
    "w0 = np.ones([1,tX_test_reformed_jet1.shape[0]])\n",
    "tX_test_reformed_jet1 = np.insert(tX_test_reformed_jet1, 0, w0, axis=1)\n",
    "\n",
    "tX_test_reformed_jet2 = tX_test_cleaned_jet2.copy()\n",
    "w0 = np.ones([1,tX_test_reformed_jet2.shape[0]])\n",
    "tX_test_reformed_jet2 = np.insert(tX_test_reformed_jet2, 0, w0, axis=1)\n",
    "\n",
    "tX_test_reformed_jet3 = tX_test_cleaned_jet3.copy()\n",
    "w0 = np.ones([1,tX_test_reformed_jet3.shape[0]])\n",
    "tX_test_reformed_jet3 = np.insert(tX_test_reformed_jet3, 0, w0, axis=1)"
   ]
  },
  {
   "cell_type": "code",
   "execution_count": 385,
   "metadata": {
    "collapsed": true
   },
   "outputs": [],
   "source": [
    "tX_test_poly_jet0 = build_poly(tX_test_reformed_jet0, degree_jet0)\n",
    "tX_test_poly_jet1 = build_poly(tX_test_reformed_jet1, degree_jet1)\n",
    "tX_test_poly_jet2 = build_poly(tX_test_reformed_jet2, degree_jet2)\n",
    "tX_test_poly_jet3 = build_poly(tX_test_reformed_jet3, degree_jet3)"
   ]
  },
  {
   "cell_type": "code",
   "execution_count": 386,
   "metadata": {
    "collapsed": true
   },
   "outputs": [],
   "source": [
    "y_pred_jet0 = predict_labels(weights_jet0, tX_test_poly_jet0)\n",
    "y_pred_jet1 = predict_labels(weights_jet1, tX_test_poly_jet1)\n",
    "y_pred_jet2 = predict_labels(weights_jet2, tX_test_poly_jet2)\n",
    "y_pred_jet3 = predict_labels(weights_jet3, tX_test_poly_jet3)"
   ]
  },
  {
   "cell_type": "code",
   "execution_count": 387,
   "metadata": {
    "collapsed": false
   },
   "outputs": [],
   "source": [
    "y_pred_final = np.ones((tX_test.shape[0], 1))\n",
    "a = 0\n",
    "b = 0\n",
    "c = 0\n",
    "d = 0\n",
    "for i in range(0, y_pred_final.shape[0]):\n",
    "    if indexes_test_jet0[i] == True:\n",
    "        y_pred_final[i] = y_pred_jet0[a]\n",
    "        a = a + 1\n",
    "    if indexes_test_jet1[i] == True:\n",
    "        y_pred_final[i] = y_pred_jet1[b]\n",
    "        b = b + 1\n",
    "    if indexes_test_jet2[i] == True:\n",
    "        y_pred_final[i] = y_pred_jet2[c]\n",
    "        c = c + 1\n",
    "    if indexes_test_jet3[i] == True:\n",
    "        y_pred_final[i] = y_pred_jet3[d]\n",
    "        d = d + 1"
   ]
  },
  {
   "cell_type": "code",
   "execution_count": 388,
   "metadata": {
    "collapsed": false
   },
   "outputs": [
    {
     "data": {
      "text/plain": [
       "(568238, 1)"
      ]
     },
     "execution_count": 388,
     "metadata": {},
     "output_type": "execute_result"
    }
   ],
   "source": [
    "y_pred_final.shape"
   ]
  },
  {
   "cell_type": "code",
   "execution_count": 389,
   "metadata": {
    "collapsed": true
   },
   "outputs": [],
   "source": [
    "OUTPUT_PATH = '../data/dataSubmission_RR.csv' \n",
    "create_csv_submission(ids_test, y_pred_final, OUTPUT_PATH)"
   ]
  },
  {
   "cell_type": "markdown",
   "metadata": {},
   "source": [
    "# Generate predictions and save ouput in csv format for submission:"
   ]
  },
  {
   "cell_type": "code",
   "execution_count": 28,
   "metadata": {
    "collapsed": false
   },
   "outputs": [
    {
     "data": {
      "text/plain": [
       "(568238, 30)"
      ]
     },
     "execution_count": 28,
     "metadata": {},
     "output_type": "execute_result"
    }
   ],
   "source": [
    "DATA_TEST_PATH = '../data/test.csv' \n",
    "_, tX_test, ids_test = load_csv_data(DATA_TEST_PATH)\n",
    "tX_test.shape"
   ]
  },
  {
   "cell_type": "code",
   "execution_count": 29,
   "metadata": {
    "collapsed": false,
    "scrolled": true
   },
   "outputs": [],
   "source": [
    "tX_test_cleaned, _ = clean_data(tX_test)"
   ]
  },
  {
   "cell_type": "code",
   "execution_count": 30,
   "metadata": {
    "collapsed": true
   },
   "outputs": [],
   "source": [
    "tX_test_cleaned_TEST = tX_test_cleaned.copy()\n",
    "w0 = np.ones([1,tX_test_cleaned.shape[0]])\n",
    "tX_test_cleaned_TEST = np.insert(tX_test_cleaned_TEST, 0, w0, axis=1)"
   ]
  },
  {
   "cell_type": "code",
   "execution_count": 31,
   "metadata": {
    "collapsed": false
   },
   "outputs": [],
   "source": [
    "tX_test_stand, mean_test, std_test = standardize(tX_test, mean_training, std_training)"
   ]
  },
  {
   "cell_type": "code",
   "execution_count": null,
   "metadata": {
    "collapsed": false
   },
   "outputs": [],
   "source": [
    "OUTPUT_PATH = '../data/dataSubmission_RR.csv' \n",
    "y_pred_RR = predict_labels(weights_RR, tX_test_stand)\n",
    "create_csv_submission(ids_test, y_pred_RR, OUTPUT_PATH)"
   ]
  },
  {
   "cell_type": "code",
   "execution_count": null,
   "metadata": {
    "collapsed": true
   },
   "outputs": [],
   "source": []
  },
  {
   "cell_type": "code",
   "execution_count": null,
   "metadata": {
    "collapsed": false
   },
   "outputs": [],
   "source": [
    "OUTPUT_PATH = '../data/dataSubmission_LogR.csv' \n",
    "y_pred_LogR = predict_labels(weights_LogR, tX_test_stand)\n",
    "create_csv_submission(ids_test, y_pred_LogR, OUTPUT_PATH)"
   ]
  },
  {
   "cell_type": "code",
   "execution_count": null,
   "metadata": {
    "collapsed": true
   },
   "outputs": [],
   "source": [
    "OUTPUT_PATH = '../data/dataSubmission_RLogR.csv' \n",
    "y_pred_RLogR = predict_labels(weights_RLogR_RLogR, tX_test_stand)\n",
    "create_csv_submission(ids_test, y_pred, OUTPUT_PATH)"
   ]
  },
  {
   "cell_type": "code",
   "execution_count": null,
   "metadata": {
    "collapsed": true
   },
   "outputs": [],
   "source": []
  },
  {
   "cell_type": "code",
   "execution_count": null,
   "metadata": {
    "collapsed": false
   },
   "outputs": [],
   "source": [
    "OUTPUT_PATH = '../data/dataSubmission_LS.csv' \n",
    "y_pred_LS = predict_labels(weights_LeastS, tX_test_cleaned_TEST)\n",
    "create_csv_submission(ids_test, y_pred_LS, OUTPUT_PATH)"
   ]
  },
  {
   "cell_type": "code",
   "execution_count": 32,
   "metadata": {
    "collapsed": false
   },
   "outputs": [],
   "source": [
    "tX_test_poly_TEST = build_poly(tX_test_cleaned_TEST, degree_RR)\n",
    "\n",
    "OUTPUT_PATH = '../data/dataSubmission_RR.csv' \n",
    "y_pred_RR = predict_labels(weights_RR, tX_test_poly_TEST)\n",
    "create_csv_submission(ids_test, y_pred_RR, OUTPUT_PATH)"
   ]
  },
  {
   "cell_type": "code",
   "execution_count": null,
   "metadata": {
    "collapsed": true
   },
   "outputs": [],
   "source": []
  }
 ],
 "metadata": {
  "anaconda-cloud": {},
  "kernelspec": {
   "display_name": "Python [Root]",
   "language": "python",
   "name": "Python [Root]"
  },
  "language_info": {
   "codemirror_mode": {
    "name": "ipython",
    "version": 3
   },
   "file_extension": ".py",
   "mimetype": "text/x-python",
   "name": "python",
   "nbconvert_exporter": "python",
   "pygments_lexer": "ipython3",
   "version": "3.5.2"
  }
 },
 "nbformat": 4,
 "nbformat_minor": 0
}
