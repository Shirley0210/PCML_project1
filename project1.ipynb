{
 "cells": [
  {
   "cell_type": "code",
   "execution_count": 3,
   "metadata": {
    "collapsed": true
   },
   "outputs": [],
   "source": [
    "# Useful starting lines\n",
    "%matplotlib inline\n",
    "import numpy as np\n",
    "import matplotlib.pyplot as plt\n",
    "%load_ext autoreload\n",
    "%autoreload 2"
   ]
  },
  {
   "cell_type": "markdown",
   "metadata": {},
   "source": [
    "## Load the training data into feature matrix, class labels, and event ids:"
   ]
  },
  {
   "cell_type": "code",
   "execution_count": 4,
   "metadata": {
    "collapsed": false
   },
   "outputs": [],
   "source": [
    "from proj1_helpers import *\n",
    "DATA_TRAIN_PATH = '../data/train.csv'\n",
    "y, tX, ids = load_csv_data(DATA_TRAIN_PATH)"
   ]
  },
  {
   "cell_type": "markdown",
   "metadata": {},
   "source": [
    "## Standardize training data"
   ]
  },
  {
   "cell_type": "code",
   "execution_count": 5,
   "metadata": {
    "collapsed": false
   },
   "outputs": [],
   "source": [
    "from helpers import standardize\n",
    "\n",
    "tX_norm, mean_, std_ = standardize(tX)"
   ]
  },
  {
   "cell_type": "markdown",
   "metadata": {},
   "source": [
    "## Implementation of ML methods"
   ]
  },
  {
   "cell_type": "markdown",
   "metadata": {},
   "source": [
    "### Linear regression - gradient descent"
   ]
  },
  {
   "cell_type": "code",
   "execution_count": 6,
   "metadata": {
    "collapsed": true
   },
   "outputs": [],
   "source": [
    "def compute_gradient(y, tx, w):\n",
    "    # error\n",
    "    e = y - tx.dot(w)\n",
    "    # gradient\n",
    "    gradient=-np.mean(tx.dot(e))\n",
    "    \n",
    "    return gradient\n",
    "\n",
    "\n",
    "def least_squares_GD(y, tx, gamma, max_iters): \n",
    "    # Define parameters to store w and loss\n",
    "    w_temp = 0 # initialization of the weight\n",
    "    ws = []\n",
    "    losses = []\n",
    "    \n",
    "    for n_iter in range(max_iters):\n",
    "        # compute gradient and loss    \n",
    "        grad = compute_gradient(y, tx, w_temp)\n",
    "        loss = compute_loss(y, tx, w_temp)\n",
    "        \n",
    "        # update w by gradient\n",
    "        w_temp = w_temp - gamma*grad\n",
    "        \n",
    "        # store w and loss\n",
    "        ws.append(np.copy(w))\n",
    "        losses.append(loss)\n",
    "\n",
    "    return losses, ws"
   ]
  },
  {
   "cell_type": "markdown",
   "metadata": {},
   "source": [
    "### Linear regression - stochastic gradient descent"
   ]
  },
  {
   "cell_type": "code",
   "execution_count": 7,
   "metadata": {
    "collapsed": true
   },
   "outputs": [],
   "source": [
    "def compute_stoch_gradient(y, tx, w):\n",
    "    B = 32 # size of the batch\n",
    "    sum = 0\n",
    "    for minibatch_y, minibatch_tx in batch_iter(y, tx, B):\n",
    "        sum += compute_gradient(minibatch_y, minibatch_tx, w)\n",
    "\n",
    "    return sum / B\n",
    "\n",
    "\n",
    "def least_squares_SGD(y, tx, initial_w, gamma, max_iters):\n",
    "    # Define parameters to store w and loss\n",
    "    w_temp = 0 # initialization of the weight\n",
    "    ws = []\n",
    "    losses = []\n",
    "\n",
    "    for n_iter in range(max_iters):\n",
    "        # compute gradient and loss\n",
    "        grad = compute_stoch_gradient(y, tx, w_temp)\n",
    "        loss = compute_loss(y, tx, w_temp)\n",
    "\n",
    "        # update w by gradient\n",
    "        w_temp = w_temp - gamma*grad\n",
    "        \n",
    "        # store w and loss\n",
    "        ws.append(np.copy(w_temp))\n",
    "        losses.append(loss)\n",
    "        \n",
    "    return losses, ws"
   ]
  },
  {
   "cell_type": "markdown",
   "metadata": {},
   "source": [
    "### Least squares"
   ]
  },
  {
   "cell_type": "code",
   "execution_count": 4,
   "metadata": {
    "collapsed": true
   },
   "outputs": [],
   "source": [
    "def least_squares(y, tx):\n",
    "    # Initiation variables\n",
    "    loss = 0 # loss\n",
    "    w_opt = [] # optimal weight\n",
    "\n",
    "    # Compute optimum weight\n",
    "    tx_transpose = np.transpose(tx)\n",
    "    invert = np.linalg.inv(tx_transpose.dot(tx))\n",
    "    w_opt = np.dot(invert.dot(tx_transpose),y)\n",
    "    \n",
    "    # Compute loss\n",
    "    loss = compute_loss(y, tx, w_opt)\n",
    "    \n",
    "    return loss, wopt # returns loss, and optimal weights"
   ]
  },
  {
   "cell_type": "markdown",
   "metadata": {},
   "source": [
    "### Ridge regression"
   ]
  },
  {
   "cell_type": "code",
   "execution_count": 6,
   "metadata": {
    "collapsed": true
   },
   "outputs": [],
   "source": [
    "def ridge_regression(y, tx, lambda_):\n",
    "    # Initiation variables\n",
    "    lamb_ = 2*N*lambda_ \n",
    "\n",
    "    # Compute optimum weight\n",
    "    tx_transpose = np.transpose(tx)\n",
    "    inverse = np.linalg.inv(tx_transpose.dot(tx) + lambda_*np.eye(tx.shape[1]))\n",
    "    w_opt = np.dot(inverse.dot(tx_transpose),y)\n",
    "    \n",
    "    # Compute loss\n",
    "    loss = compute_loss(y, tx, w_opt)\n",
    "    \n",
    "    return loss, w_opt # returns mse, and optimal weights"
   ]
  },
  {
   "cell_type": "markdown",
   "metadata": {},
   "source": [
    "### Logistic regression"
   ]
  },
  {
   "cell_type": "code",
   "execution_count": null,
   "metadata": {
    "collapsed": true
   },
   "outputs": [],
   "source": []
  },
  {
   "cell_type": "markdown",
   "metadata": {},
   "source": [
    "### Regularized logistic regression"
   ]
  },
  {
   "cell_type": "code",
   "execution_count": null,
   "metadata": {
    "collapsed": true
   },
   "outputs": [],
   "source": []
  },
  {
   "cell_type": "markdown",
   "metadata": {},
   "source": [
    "## Generate predictions and save ouput in csv format for submission:"
   ]
  },
  {
   "cell_type": "code",
   "execution_count": 10,
   "metadata": {
    "collapsed": false
   },
   "outputs": [],
   "source": [
    "DATA_TEST_PATH = '../data/test.csv' # TODO: download train data and supply path here \n",
    "_, tX_test, ids_test = load_csv_data(DATA_TEST_PATH)"
   ]
  },
  {
   "cell_type": "code",
   "execution_count": 31,
   "metadata": {
    "collapsed": false
   },
   "outputs": [],
   "source": [
    "OUTPUT_PATH = '../data/dataSubmission.csv' # TODO: fill in desired name of output file for submission\n",
    "y_pred = predict_labels(weights, tX_test)\n",
    "create_csv_submission(ids_test, y_pred, OUTPUT_PATH)"
   ]
  },
  {
   "cell_type": "code",
   "execution_count": null,
   "metadata": {
    "collapsed": true
   },
   "outputs": [],
   "source": []
  }
 ],
 "metadata": {
  "anaconda-cloud": {},
  "kernelspec": {
   "display_name": "Python [Root]",
   "language": "python",
   "name": "Python [Root]"
  },
  "language_info": {
   "codemirror_mode": {
    "name": "ipython",
    "version": 3
   },
   "file_extension": ".py",
   "mimetype": "text/x-python",
   "name": "python",
   "nbconvert_exporter": "python",
   "pygments_lexer": "ipython3",
   "version": "3.5.2"
  }
 },
 "nbformat": 4,
 "nbformat_minor": 0
}
