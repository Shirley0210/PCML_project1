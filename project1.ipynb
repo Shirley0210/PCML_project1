{
 "cells": [
  {
   "cell_type": "code",
   "execution_count": 1,
   "metadata": {
    "collapsed": false
   },
   "outputs": [],
   "source": [
    "# Useful starting lines\n",
    "%matplotlib inline\n",
    "import numpy as np\n",
    "import matplotlib.pyplot as plt\n",
    "%load_ext autoreload\n",
    "%autoreload 2"
   ]
  },
  {
   "cell_type": "markdown",
   "metadata": {},
   "source": [
    "# Load the training data into feature matrix, class labels, and event ids:"
   ]
  },
  {
   "cell_type": "code",
   "execution_count": 2,
   "metadata": {
    "collapsed": false
   },
   "outputs": [],
   "source": [
    "from proj1_helpers import *\n",
    "DATA_TRAIN_PATH = '../data/train.csv'\n",
    "y, tX, ids = load_csv_data(DATA_TRAIN_PATH)"
   ]
  },
  {
   "cell_type": "code",
   "execution_count": 3,
   "metadata": {
    "collapsed": false
   },
   "outputs": [
    {
     "data": {
      "text/plain": [
       "(250000, 30)"
      ]
     },
     "execution_count": 3,
     "metadata": {},
     "output_type": "execute_result"
    }
   ],
   "source": [
    "tX.shape"
   ]
  },
  {
   "cell_type": "markdown",
   "metadata": {},
   "source": [
    "## Cleaning data set"
   ]
  },
  {
   "cell_type": "code",
   "execution_count": 4,
   "metadata": {
    "collapsed": false
   },
   "outputs": [],
   "source": [
    "from helpers import *\n",
    "\n",
    "def clean_data(tx):\n",
    "    nbrRows = tx.shape[0]\n",
    "    nbrColunms = tx.shape[1]\n",
    "    tx_temp = np.zeros((nbrRows,nbrColunms))\n",
    "    \n",
    "    for columnID in range(nbrColunms):\n",
    "        currentColumn = tx[:,columnID]\n",
    "\n",
    "        # extract indices with -999 values\n",
    "        nanIndices = np.where(currentColumn == -999)\n",
    "        tempColumm = np.delete(currentColumn, nanIndices, axis=0)\n",
    "\n",
    "        # replace -999 values with median\n",
    "        median = np.median(tempColumm)\n",
    "        currentColumn[nanIndices] = median\n",
    "        \n",
    "        tx_temp[:,columnID] = currentColumn\n",
    "        \n",
    "    return tx_temp"
   ]
  },
  {
   "cell_type": "code",
   "execution_count": 5,
   "metadata": {
    "collapsed": false
   },
   "outputs": [
    {
     "data": {
      "text/plain": [
       "(250000, 31)"
      ]
     },
     "execution_count": 5,
     "metadata": {},
     "output_type": "execute_result"
    }
   ],
   "source": [
    "tX_cleaned = clean_data(tX)\n",
    "\n",
    "# normalized data set\n",
    "tx_stand, mean_training, std_training = standardize(tX_cleaned)\n",
    "\n",
    "tx_stand.shape"
   ]
  },
  {
   "cell_type": "markdown",
   "metadata": {},
   "source": [
    "# Implementation of ML methods"
   ]
  },
  {
   "cell_type": "markdown",
   "metadata": {},
   "source": [
    "## Linear regression - gradient descent"
   ]
  },
  {
   "cell_type": "code",
   "execution_count": 12,
   "metadata": {
    "collapsed": true
   },
   "outputs": [],
   "source": [
    "from costs import *\n",
    "\n",
    "def compute_gradient(y, tx, w):\n",
    "    # error\n",
    "    e = y - tx.dot(w)\n",
    "    \n",
    "    # gradient \n",
    "    N=y.shape[0]\n",
    "    gradient = - np.transpose(tx).dot(e)/N\n",
    "    \n",
    "    return gradient"
   ]
  },
  {
   "cell_type": "code",
   "execution_count": 7,
   "metadata": {
    "collapsed": true
   },
   "outputs": [],
   "source": [
    "def least_squares_GD(y, tx, w_init, max_iters, gamma):\n",
    "    # init parameters\n",
    "    threshold = 1e-8\n",
    "    ws = [w_init]\n",
    "    w_temp = w_init\n",
    "    losses = []\n",
    "    \n",
    "    for n_iter in range(max_iters):\n",
    "        # compute gradient and loss\n",
    "        grad = compute_gradient(y, tx, w_temp)\n",
    "        loss = compute_loss(y, tx, w_temp)\n",
    "        \n",
    "        # update w by gradient\n",
    "        w_temp -= gamma*grad\n",
    "        \n",
    "        # store w and loss\n",
    "        ws.append(np.copy(w_temp))\n",
    "        losses.append(loss)\n",
    "        \n",
    "        # converge criteria\n",
    "        if len(losses) > 1 and np.abs(losses[-1] - losses[-2]) < threshold:\n",
    "            break\n",
    "\n",
    "    return ws[-1], losses[-1]"
   ]
  },
  {
   "cell_type": "markdown",
   "metadata": {},
   "source": [
    "### Training"
   ]
  },
  {
   "cell_type": "code",
   "execution_count": 8,
   "metadata": {
    "collapsed": false
   },
   "outputs": [],
   "source": [
    "w_init_GD = np.zeros(tx.shape[1])\n",
    "max_iters_GD = 5000\n",
    "gamma_GD = 1.0e-4\n",
    "\n",
    "weights_GD, loss_GD = least_squares_GD(y, tx_stand, w_init_GD, max_iters_GD, gamma_GD)"
   ]
  },
  {
   "cell_type": "markdown",
   "metadata": {},
   "source": [
    "## Linear regression - stochastic gradient descent"
   ]
  },
  {
   "cell_type": "code",
   "execution_count": 9,
   "metadata": {
    "collapsed": true
   },
   "outputs": [],
   "source": [
    "def compute_stoch_gradient(y, tx, w):\n",
    "    B = 2500 # size of the batch\n",
    "    sum = 0\n",
    "    for minibatch_y, minibatch_tx in batch_iter(y, tx, B):\n",
    "        sum += compute_gradient(minibatch_y, minibatch_tx, w)\n",
    "\n",
    "    return sum / B"
   ]
  },
  {
   "cell_type": "code",
   "execution_count": 10,
   "metadata": {
    "collapsed": true
   },
   "outputs": [],
   "source": [
    "def least_squares_SGD(y, tx, w_init, max_iters, gamma):    \n",
    "    # init parameters\n",
    "    threshold = 1e-8\n",
    "    ws = [w_init]\n",
    "    w_temp = w_init\n",
    "    losses = []\n",
    "\n",
    "    for n_iter in range(max_iters):\n",
    "        # compute gradient and loss\n",
    "        grad = compute_stoch_gradient(y, tx, w_temp)\n",
    "        loss = compute_loss(y, tx, w_temp)\n",
    "\n",
    "        # update w by gradient\n",
    "        w_temp -= gamma*grad\n",
    "        \n",
    "        # store w and loss\n",
    "        ws.append(np.copy(w_temp))\n",
    "        losses.append(loss)\n",
    "        \n",
    "    # converge criteria\n",
    "        if len(losses) > 1 and np.abs(losses[-1] - losses[-2]) < threshold:\n",
    "            break\n",
    "        \n",
    "    return ws[-1], losses[-1]"
   ]
  },
  {
   "cell_type": "markdown",
   "metadata": {},
   "source": [
    "### Training"
   ]
  },
  {
   "cell_type": "code",
   "execution_count": 11,
   "metadata": {
    "collapsed": false
   },
   "outputs": [
    {
     "name": "stdout",
     "output_type": "stream",
     "text": [
      "\n",
      "weights_SGD:\n",
      " [ -1.25614455e-03   9.97150823e-05  -1.32815288e-03  -5.27928916e-05\n",
      "   7.22658605e-04   7.66857221e-04   7.99408456e-04  -6.91391788e-04\n",
      "   5.06184197e-05  -6.05347686e-05   5.73463931e-04  -7.38693028e-04\n",
      "   1.02477617e-03   6.60875202e-04   8.87155547e-04  -3.60393141e-06\n",
      "  -1.67007998e-05  -1.21742592e-04   5.65540330e-06   1.56312950e-05\n",
      "   8.12748175e-05   2.82100202e-05   5.06601596e-04   5.00013130e-04\n",
      "   4.31305971e-04   2.69747806e-07   3.38680916e-06   8.25647673e-05\n",
      "   2.18994847e-06  -1.32808328e-05   5.01517082e-04] \n",
      "\n"
     ]
    }
   ],
   "source": [
    "w_init_SGD = np.zeros(tx.shape[1])\n",
    "max_iters_SGD = 1000\n",
    "gamma_SGD = 1.0e-4\n",
    "\n",
    "weights_SGD, loss_SGD = least_squares_SGD(y, tx_stand, w_init_SGD, max_iters_SGD, gamma_SGD)\n",
    "print(\"\\nweights_SGD:\\n\",weights_SGD,\"\\n\")"
   ]
  },
  {
   "cell_type": "markdown",
   "metadata": {},
   "source": [
    "## Least squares"
   ]
  },
  {
   "cell_type": "code",
   "execution_count": 12,
   "metadata": {
    "collapsed": true
   },
   "outputs": [],
   "source": [
    "def least_squares(y, tx):\n",
    "    # Compute optimum weight\n",
    "    tx_transpose = np.transpose(tx)\n",
    "    A = tx_transpose.dot(tx)\n",
    "    b = tx_transpose.dot(y)\n",
    "    w_opt = np.linalg.solve(A,b)\n",
    "    \n",
    "    # Compute loss\n",
    "    loss = compute_loss(y, tx, w_opt)\n",
    "        \n",
    "    return w_opt, loss # returns loss, and optimal weights"
   ]
  },
  {
   "cell_type": "markdown",
   "metadata": {},
   "source": [
    "### Training"
   ]
  },
  {
   "cell_type": "code",
   "execution_count": 13,
   "metadata": {
    "collapsed": false
   },
   "outputs": [
    {
     "name": "stdout",
     "output_type": "stream",
     "text": [
      "\n",
      "weights_LeastS:\n",
      " [ -3.14664000e-01   1.22272262e-02  -2.53066586e-01  -2.63456197e-01\n",
      "   1.29243443e-02   1.92805216e-02   1.04114629e-01   7.14391075e-03\n",
      "   2.80223055e-01  -2.77613512e-02  -3.20624220e+02  -1.87675501e-01\n",
      "   1.20153160e-01   7.45926202e-02   6.22887642e+01  -8.00284516e-04\n",
      "  -8.11540969e-04   6.14298446e+01  -6.52146078e-04   2.55788779e-03\n",
      "   1.00389486e-01   9.43326693e-04  -4.78438667e-02   5.46733536e-02\n",
      "  -3.73249556e-02   5.84626551e-04   2.49121190e-04  -1.82119811e-02\n",
      "   1.51617614e-03  -1.61520956e-03   2.71558175e+02] \n",
      "\n"
     ]
    }
   ],
   "source": [
    "weights_LeastS, loss_LeastS = least_squares(y, tx_stand)\n",
    "\n",
    "print(\"\\nweights_LeastS:\\n\",weights_LeastS,\"\\n\")"
   ]
  },
  {
   "cell_type": "markdown",
   "metadata": {},
   "source": [
    "## Ridge regression"
   ]
  },
  {
   "cell_type": "code",
   "execution_count": 91,
   "metadata": {
    "collapsed": false
   },
   "outputs": [],
   "source": [
    "def build_poly(x, degree):\n",
    "    x_poly = np.ones(np.shape(x))\n",
    "    for i in range(1,degree+1):\n",
    "        x_poly = np.c_[x_poly,np.power(x,i)]\n",
    "\n",
    "    return x_poly;\n",
    "\n",
    "\"\"\"def build_poly(x, degree):\n",
    "    # Initialization variables\n",
    "    poly = np.zeros(shape=(len(x),degree+1))\n",
    "    \n",
    "    # for set of date\n",
    "    for m in range(0,len(x)):\n",
    "        for j in range(0,degree+1):\n",
    "            poly[m,j] = np.power(x[m],j)\n",
    "    \n",
    "    return poly\"\"\"\n",
    "\n",
    "def powerize(x, degree):\n",
    "    \"\"\"Returns x concatenated with x ** 2, ..., x ** degree\"\"\"\n",
    "    return x if degree == 1 else np.append(powerize(x, degree - 1), x ** degree, axis = 1)\n"
   ]
  },
  {
   "cell_type": "code",
   "execution_count": 97,
   "metadata": {
    "collapsed": false
   },
   "outputs": [
    {
     "name": "stdout",
     "output_type": "stream",
     "text": [
      "[[ 1.  1.  1.  1.  2.  3.]\n",
      " [ 1.  1.  1.  1.  2.  3.]]\n",
      "(2, 6)\n",
      "[ 1.  1.  1.  1.  2.  3.]\n"
     ]
    }
   ],
   "source": [
    "test_poly1 = [[1,2,3],[1,2,3]]\n",
    "degree = 1\n",
    "t1 = build_poly(test_poly1,degree)\n",
    "print(t1)\n",
    "print(t1.shape)\n",
    "print(t1[1])"
   ]
  },
  {
   "cell_type": "code",
   "execution_count": 99,
   "metadata": {
    "collapsed": true
   },
   "outputs": [],
   "source": [
    "def ridge_regression(y, tx, lambda_):    \n",
    "    # Initiation variables\n",
    "    lamb_ = 2*len(y)*lambda_\n",
    "    degree = 1\n",
    "    tx = build_poly(tx, degree)\n",
    "    y = build_poly(y, degree)\n",
    "    # Compute optimum weight\n",
    "    tx_transpose = np.transpose(tx)\n",
    "    A = np.dot(tx_transpose,tx) + lamb_*np.eye(tx.shape[1])\n",
    "    b = tx_transpose.dot(y)\n",
    "    w_opt = np.linalg.solve(A,b)\n",
    "    \n",
    "    print(w_opt.shape)\n",
    "    # Compute loss\n",
    "    loss = compute_loss(y, tx, w_opt)\n",
    "    \n",
    "    return w_opt, loss # returns mse, and optimal weights"
   ]
  },
  {
   "cell_type": "markdown",
   "metadata": {},
   "source": [
    "### Training"
   ]
  },
  {
   "cell_type": "code",
   "execution_count": 100,
   "metadata": {
    "collapsed": false
   },
   "outputs": [
    {
     "name": "stdout",
     "output_type": "stream",
     "text": [
      "(62, 2)\n",
      "\n",
      "weights_RR:\n",
      " [[  2.38095238e-02  -7.49200000e-03]\n",
      " [  2.38095238e-02  -7.49200000e-03]\n",
      " [  2.38095238e-02  -7.49200000e-03]\n",
      " [  2.38095238e-02  -7.49200000e-03]\n",
      " [  2.38095238e-02  -7.49200000e-03]\n",
      " [  2.38095238e-02  -7.49200000e-03]\n",
      " [  2.38095238e-02  -7.49200000e-03]\n",
      " [  2.38095238e-02  -7.49200000e-03]\n",
      " [  2.38095238e-02  -7.49200000e-03]\n",
      " [  2.38095238e-02  -7.49200000e-03]\n",
      " [  2.38095238e-02  -7.49200000e-03]\n",
      " [  2.38095238e-02  -7.49200000e-03]\n",
      " [  2.38095238e-02  -7.49200000e-03]\n",
      " [  2.38095238e-02  -7.49200000e-03]\n",
      " [  2.38095238e-02  -7.49200000e-03]\n",
      " [  2.38095238e-02  -7.49200000e-03]\n",
      " [  2.38095238e-02  -7.49200000e-03]\n",
      " [  2.38095238e-02  -7.49200000e-03]\n",
      " [  2.38095238e-02  -7.49200000e-03]\n",
      " [  2.38095238e-02  -7.49200000e-03]\n",
      " [  2.38095238e-02  -7.49200000e-03]\n",
      " [  2.38095238e-02  -7.49200000e-03]\n",
      " [  2.38095238e-02  -7.49200000e-03]\n",
      " [  2.38095238e-02  -7.49200000e-03]\n",
      " [  2.38095238e-02  -7.49200000e-03]\n",
      " [  2.38095238e-02  -7.49200000e-03]\n",
      " [  2.38095238e-02  -7.49200000e-03]\n",
      " [  2.38095238e-02  -7.49200000e-03]\n",
      " [  2.38095238e-02  -7.49200000e-03]\n",
      " [  2.38095238e-02  -7.49200000e-03]\n",
      " [  2.38095238e-02  -7.49200000e-03]\n",
      " [  2.38095238e-02  -7.49200000e-03]\n",
      " [  2.01852391e-14   2.05467552e-03]\n",
      " [ -9.99650709e-16  -2.75106622e-02]\n",
      " [ -1.96289767e-15  -9.66912993e-04]\n",
      " [  4.70162202e-15   1.19539736e-02]\n",
      " [ -8.85170801e-14   1.41228947e-02]\n",
      " [  5.33573232e-14   1.39334134e-02]\n",
      " [  1.43172548e-14  -1.22809402e-02]\n",
      " [ -2.63833774e-15   3.98200141e-03]\n",
      " [  2.97272180e-15  -2.93503111e-03]\n",
      " [  6.88220036e-15   8.38095704e-03]\n",
      " [  3.12290919e-16  -1.51605539e-02]\n",
      " [  1.21337752e-15   1.98249957e-02]\n",
      " [  9.63494620e-14   1.27682356e-02]\n",
      " [  1.25402882e-15   1.72221751e-02]\n",
      " [ -2.03583851e-17  -1.02888596e-04]\n",
      " [  4.80275892e-17  -3.83681352e-04]\n",
      " [  1.82794386e-15  -2.67760423e-03]\n",
      " [ -2.87251312e-17   6.64437537e-05]\n",
      " [ -9.33485412e-18   3.47861982e-04]\n",
      " [  3.74987951e-15  -4.23574141e-04]\n",
      " [  2.53638935e-17   5.51436902e-04]\n",
      " [  5.89698891e-15   6.97779173e-03]\n",
      " [  2.52410136e-15   7.31959505e-03]\n",
      " [ -6.27506711e-14   5.79187103e-03]\n",
      " [  5.69235596e-18   5.47948931e-06]\n",
      " [  5.02611088e-16   5.45919613e-05]\n",
      " [ -1.06970075e-13  -7.29147307e-04]\n",
      " [  1.55074737e-16   6.83825137e-05]\n",
      " [ -2.10096725e-16  -2.48508145e-04]\n",
      " [  7.43084303e-15   6.55838523e-03]] \n",
      "\n"
     ]
    }
   ],
   "source": [
    "lambda_RR = 5\n",
    "\n",
    "weights_RR, loss_RR = ridge_regression(y, tx_stand, lambda_RR)\n",
    "print(\"\\nweights_RR:\\n\",weights_RR,\"\\n\")"
   ]
  },
  {
   "cell_type": "markdown",
   "metadata": {},
   "source": [
    "## Logistic regression"
   ]
  },
  {
   "cell_type": "code",
   "execution_count": 7,
   "metadata": {
    "collapsed": true
   },
   "outputs": [],
   "source": [
    "def sigmoid(t):\n",
    "    temp = 1+np.exp(-t)\n",
    "    return 1/(temp)"
   ]
  },
  {
   "cell_type": "code",
   "execution_count": 8,
   "metadata": {
    "collapsed": false
   },
   "outputs": [],
   "source": [
    "def learning_by_gradient_descent(y, tx, w, gamma, lambda_):\n",
    "    # compute the loss\n",
    "    N = tx.shape[0]\n",
    "    l1 = tx.dot(w) + np.log(np.ones((N)) + np.exp(-tx.dot(w)))\n",
    "    l2 = y*(tx.dot(w))\n",
    "    penalization = lambda_*np.sum(np.power(w,2))\n",
    "    loss = np.sum(l1-l2) + penalization\n",
    "    \n",
    "    # compute the gradient\n",
    "    grad = np.transpose(tx).dot(sigmoid(tx.dot(w))-y) + 2*lambda_*w\n",
    "    \n",
    "    # update w\n",
    "    w -= gamma*grad\n",
    "\n",
    "    return loss, w"
   ]
  },
  {
   "cell_type": "code",
   "execution_count": 9,
   "metadata": {
    "collapsed": false
   },
   "outputs": [],
   "source": [
    "def logistic_regression(y, tx, w_init, max_iters, gamma):\n",
    "    # init parameters\n",
    "    threshold = 1e-8\n",
    "    w_temp = w_init\n",
    "    ws = [w_temp]\n",
    "    losses = []\n",
    "    \n",
    "    B = 2500 # size of the batch\n",
    "    for iter in range(max_iters):\n",
    "        for minibatch_y, minibatch_tx in batch_iter(y, tx, B):\n",
    "            # get loss and update w.\n",
    "            loss, w_temp = learning_by_gradient_descent(minibatch_y, minibatch_tx, w_temp, gamma, 0)\n",
    "        \n",
    "            # store w and loss\n",
    "            ws.append(np.copy(w_temp))\n",
    "            losses.append(loss)\n",
    "        \n",
    "        # converge criteria\n",
    "        if len(losses) > 1 and np.abs(losses[-1] - losses[-2]) < threshold:\n",
    "            break\n",
    "    \n",
    "    return ws[-1], losses[-1] "
   ]
  },
  {
   "cell_type": "markdown",
   "metadata": {},
   "source": [
    "### Training"
   ]
  },
  {
   "cell_type": "code",
   "execution_count": 10,
   "metadata": {
    "collapsed": false,
    "scrolled": false
   },
   "outputs": [
    {
     "name": "stdout",
     "output_type": "stream",
     "text": [
      "\n",
      "weights_LogR:\n",
      " [ -5.71203383e+01   3.60089409e-01  -2.61930983e+01  -1.52607609e+00\n",
      "   7.05848950e+00   4.49822622e+00   4.92873370e+00  -3.48625645e+00\n",
      "   9.27213274e+00  -2.59156871e+00   2.51904510e+00  -1.20089815e+01\n",
      "   1.55182076e+01   5.55970340e+00   9.97406999e+00  -1.06822036e-01\n",
      "  -3.08794326e-01  -1.62030238e+00   3.21303217e-02   1.60721047e-01\n",
      "  -3.76264205e+00   2.93163991e-01   1.65820287e+00   2.05389627e+00\n",
      "   1.01793765e+00  -2.71988340e-03   5.84716972e-02  -2.34544664e+00\n",
      "   7.16842755e-02  -1.06352458e-01   1.05780219e+00] \n",
      "\n"
     ]
    }
   ],
   "source": [
    "w_init_LogR = np.zeros(tx.shape[1])\n",
    "max_iters_LogR = 500\n",
    "gamma_LogR = 1.0e-6\n",
    "method = 5\n",
    "\n",
    "weights_LogR, loss_LogR = logistic_regression(y, tx_stand, w_init_LogR, max_iters_LogR, gamma_LogR)\n",
    "print(\"\\nweights_LogR:\\n\",weights_LogR,\"\\n\")"
   ]
  },
  {
   "cell_type": "markdown",
   "metadata": {},
   "source": [
    "## Regularized logistic regression"
   ]
  },
  {
   "cell_type": "code",
   "execution_count": 11,
   "metadata": {
    "collapsed": true
   },
   "outputs": [],
   "source": [
    "def reg_logistic_regression(y, tx, lambda_, w_init, max_iters, gamma):\n",
    "    # init parameters\n",
    "    threshold = 1e-8\n",
    "    w_temp = w_init\n",
    "    ws = [w_temp]\n",
    "    losses = []\n",
    "\n",
    "    # start the logistic regression\n",
    "    for iter in range(max_iters):        \n",
    "        # get loss and update w.\n",
    "        loss, w_temp = learning_by_gradient_descent(y, tx, w_temp, gamma, lambda_)\n",
    "        \n",
    "        # store w and loss\n",
    "        ws.append(np.copy(w_temp))\n",
    "        losses.append(loss)\n",
    "        \n",
    "        # converge criteria\n",
    "        if len(losses) > 1 and np.abs(losses[-1] - losses[-2]) < threshold:\n",
    "            break\n",
    "    \n",
    "    return ws[-1], losses[-1]"
   ]
  },
  {
   "cell_type": "markdown",
   "metadata": {},
   "source": [
    "### Training"
   ]
  },
  {
   "cell_type": "code",
   "execution_count": 12,
   "metadata": {
    "collapsed": false
   },
   "outputs": [
    {
     "name": "stdout",
     "output_type": "stream",
     "text": [
      "\n",
      "weights_RLogR:\n",
      " [ -8.87363844e-01   2.33289146e-02  -3.23104890e-01  -1.08212377e-02\n",
      "   1.24384373e-01   1.54545187e-01   1.51458461e-01  -1.32593818e-01\n",
      "   6.21212881e-02  -4.28607043e-02   7.96062498e-02  -1.78485966e-01\n",
      "   2.23050317e-01   1.42699610e-01   1.96549318e-01  -1.35876693e-03\n",
      "  -4.65627158e-03  -3.41985829e-02   5.75460347e-04   4.12388662e-03\n",
      "  -1.71403322e-02   6.26476528e-03   6.36197412e-02   6.83834733e-02\n",
      "   5.23010331e-02   8.47420324e-06   5.95999971e-04  -2.01911815e-02\n",
      "   9.29715304e-04  -2.74421555e-03   5.67301324e-02] \n",
      "\n"
     ]
    }
   ],
   "source": [
    "w_init_RLogR = np.zeros(tx.shape[1])\n",
    "lambda_RLogR = 2\n",
    "max_iters_RLogR = 500\n",
    "gamma_RLogR = 1.0e-8\n",
    "\n",
    "weights_RLogR, loss_RLogR = reg_logistic_regression(y, tx_stand, lambda_RLogR, w_init_RLogR, max_iters_RLogR, gamma_RLogR)\n",
    "print(\"\\nweights_RLogR:\\n\",weights_RLogR,\"\\n\")"
   ]
  },
  {
   "cell_type": "markdown",
   "metadata": {},
   "source": [
    "# Generate predictions and save ouput in csv format for submission:"
   ]
  },
  {
   "cell_type": "code",
   "execution_count": null,
   "metadata": {
    "collapsed": false
   },
   "outputs": [],
   "source": [
    "DATA_TEST_PATH = '../data/test.csv' \n",
    "_, tX_test, ids_test = load_csv_data(DATA_TEST_PATH)"
   ]
  },
  {
   "cell_type": "code",
   "execution_count": null,
   "metadata": {
    "collapsed": false
   },
   "outputs": [],
   "source": [
    "tx_test_stand, mean_test, std_test = standardize(tX_test, mean_training, std_training)"
   ]
  },
  {
   "cell_type": "code",
   "execution_count": null,
   "metadata": {
    "collapsed": false
   },
   "outputs": [],
   "source": [
    "print(tx_test_stand.shape)"
   ]
  },
  {
   "cell_type": "code",
   "execution_count": null,
   "metadata": {
    "collapsed": false
   },
   "outputs": [],
   "source": [
    "OUTPUT_PATH = '../data/dataSubmission_GD.csv' \n",
    "y_pred_GD = predict_labels(weights_GD, tx_test_stand)\n",
    "create_csv_submission(ids_test, y_pred_GD, OUTPUT_PATH)"
   ]
  },
  {
   "cell_type": "code",
   "execution_count": null,
   "metadata": {
    "collapsed": false
   },
   "outputs": [],
   "source": [
    "OUTPUT_PATH = '../data/dataSubmission_SGD.csv' \n",
    "y_pred_SGD = predict_labels(weights_SGD, tx_test_stand)\n",
    "create_csv_submission(ids_test, y_pred_SGD, OUTPUT_PATH)"
   ]
  },
  {
   "cell_type": "code",
   "execution_count": null,
   "metadata": {
    "collapsed": true
   },
   "outputs": [],
   "source": [
    "OUTPUT_PATH = '../data/dataSubmission_LS.csv' \n",
    "y_pred_LS = predict_labels(weights_LeastS, tx_test_stand)\n",
    "create_csv_submission(ids_test, y_pred_LS, OUTPUT_PATH)"
   ]
  },
  {
   "cell_type": "code",
   "execution_count": null,
   "metadata": {
    "collapsed": false
   },
   "outputs": [],
   "source": [
    "OUTPUT_PATH = '../data/dataSubmission_RR.csv' \n",
    "y_pred_RR = predict_labels(weights_RR, tx_test_stand)\n",
    "create_csv_submission(ids_test, y_pred_RR, OUTPUT_PATH)"
   ]
  },
  {
   "cell_type": "code",
   "execution_count": null,
   "metadata": {
    "collapsed": true
   },
   "outputs": [],
   "source": []
  },
  {
   "cell_type": "code",
   "execution_count": null,
   "metadata": {
    "collapsed": false
   },
   "outputs": [],
   "source": [
    "OUTPUT_PATH = '../data/dataSubmission_LogR.csv' \n",
    "y_pred_LogR = predict_labels(weights_LogR, tx_test_stand)\n",
    "create_csv_submission(ids_test, y_pred_LogR, OUTPUT_PATH)"
   ]
  },
  {
   "cell_type": "code",
   "execution_count": null,
   "metadata": {
    "collapsed": true
   },
   "outputs": [],
   "source": [
    "OUTPUT_PATH = '../data/dataSubmission_RLogR.csv' \n",
    "y_pred_RLogR = predict_labels(weights_RLogR_RLogR, tx_test_stand)\n",
    "create_csv_submission(ids_test, y_pred, OUTPUT_PATH)"
   ]
  }
 ],
 "metadata": {
  "anaconda-cloud": {},
  "kernelspec": {
   "display_name": "Python [Root]",
   "language": "python",
   "name": "Python [Root]"
  },
  "language_info": {
   "codemirror_mode": {
    "name": "ipython",
    "version": 3
   },
   "file_extension": ".py",
   "mimetype": "text/x-python",
   "name": "python",
   "nbconvert_exporter": "python",
   "pygments_lexer": "ipython3",
   "version": "3.5.2"
  }
 },
 "nbformat": 4,
 "nbformat_minor": 0
}
